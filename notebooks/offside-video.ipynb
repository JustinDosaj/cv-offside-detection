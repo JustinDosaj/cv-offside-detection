{
 "cells": [
  {
   "cell_type": "markdown",
   "metadata": {},
   "source": [
    "# Offside Detection Video Output"
   ]
  },
  {
   "cell_type": "code",
   "execution_count": 26,
   "metadata": {},
   "outputs": [
    {
     "name": "stdout",
     "output_type": "stream",
     "text": [
      "Mon Nov 25 12:02:49 2024       \n",
      "+-----------------------------------------------------------------------------------------+\n",
      "| NVIDIA-SMI 560.94                 Driver Version: 560.94         CUDA Version: 12.6     |\n",
      "|-----------------------------------------+------------------------+----------------------+\n",
      "| GPU  Name                  Driver-Model | Bus-Id          Disp.A | Volatile Uncorr. ECC |\n",
      "| Fan  Temp   Perf          Pwr:Usage/Cap |           Memory-Usage | GPU-Util  Compute M. |\n",
      "|                                         |                        |               MIG M. |\n",
      "|=========================================+========================+======================|\n",
      "|   0  NVIDIA GeForce RTX 3060      WDDM  |   00000000:01:00.0  On |                  N/A |\n",
      "|  0%   47C    P3             33W /  170W |    3207MiB /  12288MiB |      7%      Default |\n",
      "|                                         |                        |                  N/A |\n",
      "+-----------------------------------------+------------------------+----------------------+\n",
      "                                                                                         \n",
      "+-----------------------------------------------------------------------------------------+\n",
      "| Processes:                                                                              |\n",
      "|  GPU   GI   CI        PID   Type   Process name                              GPU Memory |\n",
      "|        ID   ID                                                               Usage      |\n",
      "|=========================================================================================|\n",
      "|    0   N/A  N/A      1948    C+G   ...Uploader\\Warcraft Logs Uploader.exe      N/A      |\n",
      "|    0   N/A  N/A      2592    C+G   ...oogle\\Chrome\\Application\\chrome.exe      N/A      |\n",
      "|    0   N/A  N/A      5012    C+G   ...B\\system_tray\\lghub_system_tray.exe      N/A      |\n",
      "|    0   N/A  N/A      7064    C+G   ...les (x86)\\Battle.net\\Battle.net.exe      N/A      |\n",
      "|    0   N/A  N/A      7520    C+G   ....Search_cw5n1h2txyewy\\SearchApp.exe      N/A      |\n",
      "|    0   N/A  N/A      8012    C+G   ...oogle\\Chrome\\Application\\chrome.exe      N/A      |\n",
      "|    0   N/A  N/A      8748    C+G   ...cal\\Microsoft\\OneDrive\\OneDrive.exe      N/A      |\n",
      "|    0   N/A  N/A     12060      C   ....0_x64__qbz5n2kfra8p0\\python3.9.exe      N/A      |\n",
      "|    0   N/A  N/A     12964    C+G   ....Search_cw5n1h2txyewy\\SearchApp.exe      N/A      |\n",
      "|    0   N/A  N/A     14448    C+G   ...45.0_x64__zpdnekdrzrea0\\Spotify.exe      N/A      |\n",
      "|    0   N/A  N/A     14936    C+G   ...Programs\\Microsoft VS Code\\Code.exe      N/A      |\n",
      "|    0   N/A  N/A     17672    C+G   ...\\cef\\cef.win7x64\\steamwebhelper.exe      N/A      |\n",
      "|    0   N/A  N/A     20376      C   ....0_x64__qbz5n2kfra8p0\\python3.9.exe      N/A      |\n",
      "|    0   N/A  N/A     20776    C+G   ...ekyb3d8bbwe\\PhoneExperienceHost.exe      N/A      |\n",
      "|    0   N/A  N/A     20800    C+G   C:\\Windows\\explorer.exe                     N/A      |\n",
      "|    0   N/A  N/A     24516    C+G   ...t.LockApp_cw5n1h2txyewy\\LockApp.exe      N/A      |\n",
      "|    0   N/A  N/A     25088    C+G   ...b3d8bbwe\\Microsoft.Media.Player.exe      N/A      |\n",
      "|    0   N/A  N/A     25664    C+G   ...on\\131.0.2903.63\\msedgewebview2.exe      N/A      |\n",
      "|    0   N/A  N/A     28028    C+G   ...CBS_cw5n1h2txyewy\\TextInputHost.exe      N/A      |\n",
      "+-----------------------------------------------------------------------------------------+\n"
     ]
    }
   ],
   "source": [
    "# Check if GPU is being used\n",
    "!nvidia-smi"
   ]
  },
  {
   "cell_type": "code",
   "execution_count": 27,
   "metadata": {},
   "outputs": [],
   "source": [
    "import os\n",
    "import sys\n",
    "\n",
    "# Run on GPU\n",
    "os.environ[\"ONNXRUNTIME_EXECUTION_PROVIDER\"] = \"CUDAExecutionProvider\"\n",
    "project_root = os.path.abspath('..')\n",
    "sys.path.append(project_root)"
   ]
  },
  {
   "cell_type": "code",
   "execution_count": 28,
   "metadata": {},
   "outputs": [],
   "source": [
    "import supervision as sv\n",
    "from common.team import TeamClassifier\n",
    "from tqdm import tqdm\n",
    "import numpy as np\n",
    "from inference import get_model\n",
    "from dotenv import load_dotenv\n",
    "import torch\n",
    "import cv2\n",
    "from sports.annotators.soccer import draw_pitch, draw_points_on_pitch, draw_pitch_voronoi_diagram\n",
    "from sports.configs.soccer import SoccerPitchConfiguration"
   ]
  },
  {
   "cell_type": "code",
   "execution_count": null,
   "metadata": {},
   "outputs": [],
   "source": [
    "# Setup paths for source & target videos\n",
    "# Change to dynamic inputs for cloud deployment\n",
    "# SOURCE_VIDEO_PATH = \"../videos/08fd33_4.mp4\"\n",
    "SOURCE_VIDEO_PATH = \"../videos/soccer_video_offside_3.mp4\"\n",
    "TARGET_VIDEO_PATH = \"08fd33_4_result_1.mp4\"\n",
    "DEVICE = 'cuda'\n",
    "BALL_ID = 0\n",
    "GOALKEEPER_ID = 1\n",
    "PLAYER_ID = 2\n",
    "REFEREE_ID = 3\n",
    "OFFSIDE_ID = 4\n",
    "STRIDE = 30\n",
    "\n",
    "CONFIG = SoccerPitchConfiguration()"
   ]
  },
  {
   "cell_type": "code",
   "execution_count": 30,
   "metadata": {},
   "outputs": [
    {
     "name": "stderr",
     "output_type": "stream",
     "text": [
      "UserWarning: Specified provider 'OpenVINOExecutionProvider' is not in available provider names.Available providers: 'TensorrtExecutionProvider, CUDAExecutionProvider, CPUExecutionProvider'\n",
      "UserWarning: Specified provider 'CoreMLExecutionProvider' is not in available provider names.Available providers: 'TensorrtExecutionProvider, CUDAExecutionProvider, CPUExecutionProvider'\n"
     ]
    }
   ],
   "source": [
    "# Load env variables\n",
    "load_dotenv()\n",
    "ROBOFLOW_API_KEY = os.getenv(\"ROBOFLOW_API_KEY\")\n",
    "\n",
    "# ID for roboflow detection model created\n",
    "PLAYER_DETECTION_MODEL_ID = \"football-players-detection-3zvbc/12\"\n",
    "\n",
    "# Load Player/Ball model\n",
    "PLAYER_DETECTION_MODEL = get_model(\n",
    "    model_id=PLAYER_DETECTION_MODEL_ID,\n",
    "    api_key=ROBOFLOW_API_KEY\n",
    ")\n",
    "\n",
    "# Not enough epochs on own model -- grab model better trained model from Roboflow\n",
    "# https://universe.roboflow.com/roboflow-jvuqo/football-field-detection-f07vi/model/15\n",
    "\n",
    "# Load Pitch Detection Model\n",
    "PITCH_DETECTION_MODEL_ID =\"football-field-detection-f07vi/15\"\n",
    "PITCH_DETECTION_MODEL = get_model(\n",
    "    model_id=PITCH_DETECTION_MODEL_ID, \n",
    "    api_key=ROBOFLOW_API_KEY\n",
    ")"
   ]
  },
  {
   "cell_type": "code",
   "execution_count": 31,
   "metadata": {},
   "outputs": [],
   "source": [
    "# Setup class for displaying Ellipse around players\n",
    "ellipse_annotator = sv.EllipseAnnotator(\n",
    "    color=sv.ColorPalette.from_hex(['#00BFFF', '#FF1493', '#FFD700']),\n",
    "    thickness=2\n",
    ")\n",
    "\n",
    "# Setup class for displaying triangle over ball\n",
    "triangle_annotator = sv.TriangleAnnotator(\n",
    "    color=sv.Color.from_hex('#FF1493'),\n",
    "    base=20,\n",
    "    height=17,\n",
    ")\n",
    "\n",
    "# Setup class for labeling box annotations\n",
    "label_annotator = sv.LabelAnnotator(\n",
    "    color=sv.ColorPalette.from_hex(['#00BFFF', '#FF1493', '#FFD700']),\n",
    "    text_color=sv.Color.from_hex('#000000'),\n",
    "    text_position=sv.Position.BOTTOM_CENTER,\n",
    ")\n",
    "\n",
    "# Create Vertext Annotator for pitch detection\n",
    "vertex_annotator = sv.VertexAnnotator(\n",
    "    color=sv.Color.from_hex('#FF1493'),\n",
    "    radius=8\n",
    ")\n",
    "\n",
    "# Create edge annotations using SoccerPitchConfiguration\n",
    "edge_annotator = sv.EdgeAnnotator(\n",
    "    color=sv.Color.from_hex('00BFFF'),\n",
    "    thickness=2,\n",
    "    edges=CONFIG.edges\n",
    ")"
   ]
  },
  {
   "cell_type": "code",
   "execution_count": 32,
   "metadata": {},
   "outputs": [],
   "source": [
    "# Function to extract cropped images from video to identify player teams\n",
    "# @Params: video_path<str>\n",
    "# @Return: crops<arr>\n",
    "def extract_crops(source_video_path: str):\n",
    "\n",
    "    # Generate frames from source video\n",
    "    # Stride: Only use every nth frame\n",
    "    frame_generator = sv.get_video_frames_generator(source_path=SOURCE_VIDEO_PATH, stride=STRIDE)\n",
    "\n",
    "    crops = []\n",
    "\n",
    "    # Loop through each frame generated\n",
    "    for  frame in tqdm(frame_generator, desc=\"collection crops\"):\n",
    "\n",
    "        # Infer object type (ie. person) with minimum confidence\n",
    "        # Covert to standard format\n",
    "        # Remove overlapping detections\n",
    "        # Filter detections by class --> only keep players\n",
    "        result = PLAYER_DETECTION_MODEL.infer(frame, confidence=0.3)[0]\n",
    "        detections = sv.Detections.from_inference(result)\n",
    "        detections = detections.with_nmm(threshold=0.5, class_agnostic=True)\n",
    "        detections = detections[detections.class_id == PLAYER_ID]\n",
    "        crops += [\n",
    "            # Out of the box feature that crops out based on the box coordinates (xyxy)\n",
    "            sv.crop_image(frame, xyxy)\n",
    "            for xyxy\n",
    "            in detections.xyxy\n",
    "        ]\n",
    "    \n",
    "    return crops"
   ]
  },
  {
   "cell_type": "code",
   "execution_count": 33,
   "metadata": {},
   "outputs": [],
   "source": [
    "def resolve_goalkeepers_team_id(players_detections: sv.Detections, goalkeepers_detections: sv.Detections) -> np.ndarray:\n",
    "    \n",
    "    # Players will have 0 or 1 depending on the team they belong to --> from TeamClassifier\n",
    "    # Get the coordinates of goalkeeper and player detections from the lower center of bounding box\n",
    "    goalkeepers_xy = goalkeepers_detections.get_anchors_coordinates(sv.Position.BOTTOM_CENTER)\n",
    "    players_xy = players_detections.get_anchors_coordinates(sv.Position.BOTTOM_CENTER)\n",
    "\n",
    "    # Filter out players based on class id (which team they are on)\n",
    "    # Find the average position of players in each team\n",
    "    # This can also be used to determine the direction of attack for each team\n",
    "    team_0_centroid = players_xy[players_detections.class_id == 0].mean(axis=0)\n",
    "    team_1_centroid = players_xy[players_detections.class_id == 1].mean(axis=0)\n",
    "\n",
    "    # Loop over goalkeepers\n",
    "    # Find distance of each goalkeeper from each team centroid\n",
    "    # Goal keeper will belong to team they are closest to on average\n",
    "    goalkeepers_team_ids = []\n",
    "    for goalkeeper_xy in goalkeepers_xy:\n",
    "        dist_0 = np.linalg.norm(goalkeeper_xy - team_0_centroid)\n",
    "        dist_1 = np.linalg.norm(goalkeeper_xy - team_1_centroid)\n",
    "        goalkeepers_team_ids.append(0 if dist_0 < dist_1 else 1)\n",
    "\n",
    "    return np.array(goalkeepers_team_ids)"
   ]
  },
  {
   "cell_type": "code",
   "execution_count": null,
   "metadata": {},
   "outputs": [],
   "source": [
    "def resolve_offside_player(players_detections: sv.Detections, pitch_players_xy: np.ndarray) -> np.ndarray:\n",
    "    \n",
    "    # Get average center positions on the x-axis for each team\n",
    "    # Lower number defends the left side of the field while attacking the right\n",
    "    # Higher number defends the right side of the field while attacking the left\n",
    "    team_0_center = pitch_players_xy[players_detections.class_id == 0][0].mean(axis=0) # Defending\n",
    "    team_1_center = pitch_players_xy[players_detections.class_id == 1][0].mean(axis=0) # Attacking\n",
    "\n",
    "    # Ensure team 0 is defending left side --> swap class ids & centers if not\n",
    "    if team_0_center > team_1_center:\n",
    "        temp = team_1_center\n",
    "        team_0_center = team_1_center\n",
    "        team_1_center = temp\n",
    "\n",
    "        for i in players_detections.class_id:\n",
    "\n",
    "            j = 0\n",
    "\n",
    "            if i == 0:\n",
    "                j = 1\n",
    "            if i == 1:\n",
    "                j = 0\n",
    "\n",
    "            players_detections.class_id[i] = j\n",
    "\n",
    "    longest_x = 0 # Initialize to min distance\n",
    "    shortest_x = 12000 # Initialize to max distance\n",
    "    longest_x_id = 0\n",
    "    shortest_x_id = 0\n",
    "\n",
    "    # Find the player furthest to the right and their id\n",
    "    for i in range(len(pitch_players_xy)):\n",
    "        if pitch_players_xy[i][0] > longest_x:\n",
    "            longest_x = pitch_players_xy[i][0]\n",
    "            longest_x_id = i\n",
    "\n",
    "    # Find the player furthest to the left and their id\n",
    "    for j in range(len(pitch_players_xy)):\n",
    "        if pitch_players_xy[j][0] < shortest_x:\n",
    "            shortest_x = pitch_players_xy[j][0]\n",
    "            shortest_x_id = j\n",
    "    \n",
    "    offside_ids = []\n",
    "\n",
    "    # Get furthest left and right for each team\n",
    "    # Since team 0 is always left --> if team 0 isnt furthest left then team 1 is offsides\n",
    "    # Since team 1 is always right --> if team 1 isnt furthest right then team 0 is offsides\n",
    "    if players_detections.class_id[shortest_x_id] != 0:\n",
    "        offside_ids.append(shortest_x_id)\n",
    "    \n",
    "    if players_detections.class_id[longest_x_id] != 1:\n",
    "        offside_ids.append(longest_x_id)\n",
    "\n",
    "    new_class_ids = players_detections.class_id\n",
    "\n",
    "    # Loop through all offside ids and set to OFFSIDE_ID\n",
    "    for i in offside_ids:\n",
    "        new_class_ids[i] = OFFSIDE_ID\n",
    "\n",
    "    # Return new list of class ids including the offside players\n",
    "    return new_class_ids"
   ]
  },
  {
   "cell_type": "code",
   "execution_count": 35,
   "metadata": {},
   "outputs": [],
   "source": [
    "# Transform perspective of pitch to 2D plane\n",
    "class ViewTransformer:\n",
    "\n",
    "    # Initialize points in float32 format\n",
    "    # Calculate homography matrix for 2D perspective transformation\n",
    "    # @Params: source<np.ndarray>, target<np.ndarray>\n",
    "    # @Return: None\n",
    "    def __init__(self, source: np.ndarray, target: np.ndarray):\n",
    "        source = source.astype(np.float32)\n",
    "        target = target.astype(np.float32)\n",
    "        self.m, _ = cv2.findHomography(source, target)\n",
    "\n",
    "    # Points exist in 2 dimensions\n",
    "    # Expand points to 3 dimensions to match homography matrix\n",
    "    # Remove extra dimension once completed\n",
    "    # @Params: source<np.ndarray>, target<np.ndarray>\n",
    "    # @Return: np.ndarray\n",
    "    def transform_points(self, points: np.ndarray) -> np.ndarray:\n",
    "\n",
    "        if points.size == 0:\n",
    "            return points\n",
    "        \n",
    "        if points.shape[1] != 2:\n",
    "            raise ValueError(\"Points must have shape (n, 2)\")\n",
    "        \n",
    "        \n",
    "        points = points.reshape(-1, 1, 2).astype(np.float32)\n",
    "        points = cv2.perspectiveTransform(points, self.m)\n",
    "        return points.reshape(-1, 2).astype(np.float32)"
   ]
  },
  {
   "cell_type": "code",
   "execution_count": 36,
   "metadata": {},
   "outputs": [
    {
     "name": "stderr",
     "output_type": "stream",
     "text": [
      "collection crops: 18it [00:03,  5.27it/s]\n",
      "Embedding extraction: 11it [00:37,  3.43s/it]\n",
      "Embedding extraction: 1it [00:02,  2.09s/it]\n"
     ]
    },
    {
     "name": "stdout",
     "output_type": "stream",
     "text": [
      "[[3970.4976 6403.346 ]\n",
      " [4995.2417 6860.88  ]\n",
      " [3856.0762 4196.644 ]\n",
      " [4870.521  4651.581 ]\n",
      " [6179.0156 4542.7134]\n",
      " [4810.893  3068.1885]\n",
      " [3810.7441 1224.2502]\n",
      " [6801.3345 3616.7004]\n",
      " [6765.1997 4780.9077]\n",
      " [2784.6294 4610.7446]\n",
      " [6695.631   271.0819]]\n",
      "Offside IDS:  []\n"
     ]
    },
    {
     "name": "stderr",
     "output_type": "stream",
     "text": [
      "Embedding extraction: 1it [00:02,  2.18s/it]\n"
     ]
    },
    {
     "name": "stdout",
     "output_type": "stream",
     "text": [
      "[[3975.266  6413.7866]\n",
      " [4994.3086 6866.523 ]\n",
      " [4869.969  4652.5215]\n",
      " [3859.411  4199.063 ]\n",
      " [6173.5337 4542.2363]\n",
      " [4813.3354 3070.153 ]\n",
      " [2797.1208 4613.64  ]\n",
      " [6769.8823 4762.026 ]\n",
      " [6799.684  3616.3423]\n",
      " [3825.6904 1267.1986]\n",
      " [6696.4736  272.2872]]\n",
      "Offside IDS:  []\n"
     ]
    },
    {
     "name": "stderr",
     "output_type": "stream",
     "text": [
      "Embedding extraction: 1it [00:02,  2.34s/it]\n"
     ]
    },
    {
     "name": "stdout",
     "output_type": "stream",
     "text": [
      "[[3975.518  6413.5015]\n",
      " [4866.9526 4652.9453]\n",
      " [6163.828  4543.05  ]\n",
      " [4989.7983 6874.76  ]\n",
      " [3859.919  4199.4097]\n",
      " [4805.474  3070.958 ]\n",
      " [6768.908  4761.9175]\n",
      " [2807.7842 4613.251 ]\n",
      " [6793.0513 3616.9612]\n",
      " [3823.6902 1267.2783]\n",
      " [6686.787   272.3455]]\n",
      "Offside IDS:  []\n"
     ]
    },
    {
     "name": "stderr",
     "output_type": "stream",
     "text": [
      "Embedding extraction: 1it [00:02,  2.23s/it]\n"
     ]
    },
    {
     "name": "stdout",
     "output_type": "stream",
     "text": [
      "[[3971.9202  6410.616  ]\n",
      " [4869.6104  4646.715  ]\n",
      " [6161.6353  4554.9873 ]\n",
      " [4988.5254  6873.033  ]\n",
      " [3862.0364  4192.994  ]\n",
      " [4805.536   3065.2036 ]\n",
      " [6770.694   4772.128  ]\n",
      " [2816.9458  4606.348  ]\n",
      " [6793.875   3610.8567 ]\n",
      " [3824.469   1264.9127 ]\n",
      " [6676.6465   319.75723]]\n",
      "Offside IDS:  []\n"
     ]
    },
    {
     "name": "stderr",
     "output_type": "stream",
     "text": [
      "Embedding extraction: 1it [00:02,  2.21s/it]\n"
     ]
    },
    {
     "name": "stdout",
     "output_type": "stream",
     "text": [
      "[[3968.1875  6406.349  ]\n",
      " [4862.527   4648.9844 ]\n",
      " [4980.6084  6870.9033 ]\n",
      " [4794.3174  3062.6257 ]\n",
      " [6154.104   4558.9766 ]\n",
      " [6773.755   4777.0254 ]\n",
      " [3857.2622  4193.8237 ]\n",
      " [2827.893   4605.0625 ]\n",
      " [6797.531   3609.79   ]\n",
      " [3818.813   1251.5055 ]\n",
      " [6686.423    280.10815]]\n",
      "Offside IDS:  []\n"
     ]
    },
    {
     "name": "stderr",
     "output_type": "stream",
     "text": [
      "Embedding extraction: 1it [00:02,  2.24s/it]\n"
     ]
    },
    {
     "name": "stdout",
     "output_type": "stream",
     "text": [
      "[[3969.6052  6401.4224 ]\n",
      " [4868.341   4643.5283 ]\n",
      " [6147.3306  4550.9087 ]\n",
      " [4797.4346  3088.5603 ]\n",
      " [4982.983   6874.7197 ]\n",
      " [3863.9905  4190.4644 ]\n",
      " [6777.11    4765.54   ]\n",
      " [2827.8093  4584.943  ]\n",
      " [3831.2417  1262.0519 ]\n",
      " [6790.043   3604.2234 ]\n",
      " [6665.9336   315.60422]]\n",
      "Offside IDS:  []\n"
     ]
    },
    {
     "name": "stderr",
     "output_type": "stream",
     "text": [
      "Embedding extraction: 1it [00:02,  2.27s/it]\n"
     ]
    },
    {
     "name": "stdout",
     "output_type": "stream",
     "text": [
      "[[3969.6052  6401.4224 ]\n",
      " [4868.341   4643.5283 ]\n",
      " [6147.3306  4550.9087 ]\n",
      " [4797.4346  3088.5603 ]\n",
      " [4982.983   6874.7197 ]\n",
      " [3863.9905  4190.4644 ]\n",
      " [6777.11    4765.54   ]\n",
      " [2827.8093  4584.943  ]\n",
      " [3831.2417  1262.0519 ]\n",
      " [6790.043   3604.2234 ]\n",
      " [6665.9336   315.60422]]\n",
      "Offside IDS:  []\n"
     ]
    },
    {
     "name": "stderr",
     "output_type": "stream",
     "text": [
      "Embedding extraction: 1it [00:02,  2.26s/it]\n"
     ]
    },
    {
     "name": "stdout",
     "output_type": "stream",
     "text": [
      "[[3970.585   6394.0283 ]\n",
      " [4864.604   4642.1807 ]\n",
      " [6142.6523  4588.218  ]\n",
      " [4793.519   3082.8599 ]\n",
      " [4975.7036  6872.404  ]\n",
      " [3861.994   4186.5547 ]\n",
      " [6783.8906  4769.2085 ]\n",
      " [2829.0054  4578.7397 ]\n",
      " [6801.9224  3601.393  ]\n",
      " [6676.178    280.98145]]\n",
      "Offside IDS:  []\n"
     ]
    },
    {
     "name": "stderr",
     "output_type": "stream",
     "text": [
      "Embedding extraction: 1it [00:02,  2.23s/it]\n"
     ]
    },
    {
     "name": "stdout",
     "output_type": "stream",
     "text": [
      "[[3981.4155 6387.0405]\n",
      " [4871.49   4644.574 ]\n",
      " [4984.644  6873.552 ]\n",
      " [4792.67   3085.095 ]\n",
      " [6137.2954 4624.2324]\n",
      " [3867.0254 4190.684 ]\n",
      " [6785.86   4768.161 ]\n",
      " [6797.432  3623.707 ]\n",
      " [3823.8535 1248.968 ]\n",
      " [2832.7356 4564.872 ]\n",
      " [6671.7266  278.7816]]\n",
      "Offside IDS:  []\n"
     ]
    },
    {
     "name": "stderr",
     "output_type": "stream",
     "text": [
      "Embedding extraction: 1it [00:02,  2.22s/it]\n"
     ]
    },
    {
     "name": "stdout",
     "output_type": "stream",
     "text": [
      "[[6260.2227  6217.507  ]\n",
      " [4977.7686  6862.0703 ]\n",
      " [3980.3232  6380.7275 ]\n",
      " [4862.863   4639.399  ]\n",
      " [4787.4727  3107.4236 ]\n",
      " [6126.7695  4620.892  ]\n",
      " [3862.7087  4184.0503 ]\n",
      " [6784.333   4765.053  ]\n",
      " [6795.885   3620.0806 ]\n",
      " [3823.5642  1246.7451 ]\n",
      " [2818.8809  4537.3154 ]\n",
      " [6665.989    279.03558]]\n",
      "Offside IDS:  []\n"
     ]
    },
    {
     "name": "stderr",
     "output_type": "stream",
     "text": [
      "Embedding extraction: 1it [00:02,  2.25s/it]\n"
     ]
    },
    {
     "name": "stdout",
     "output_type": "stream",
     "text": [
      "[[4303.0557  5406.752  ]\n",
      " [4879.6133  4642.887  ]\n",
      " [3998.9207  6373.219  ]\n",
      " [4796.085   3136.7947 ]\n",
      " [3877.3105  4188.212  ]\n",
      " [6121.815   4624.6094 ]\n",
      " [6781.5073  4767.302  ]\n",
      " [6794.173   3623.776  ]\n",
      " [2843.339   4562.4404 ]\n",
      " [3843.0515  1279.7837 ]\n",
      " [6660.7944   320.72012]]\n",
      "Offside IDS:  []\n"
     ]
    },
    {
     "name": "stderr",
     "output_type": "stream",
     "text": [
      "Embedding extraction: 1it [00:02,  2.31s/it]\n"
     ]
    },
    {
     "name": "stdout",
     "output_type": "stream",
     "text": [
      "[[4985.6626 6863.3354]\n",
      " [3881.068  4194.5444]\n",
      " [4884.867  4631.888 ]\n",
      " [3993.1292 6368.8857]\n",
      " [4792.652  3123.1716]\n",
      " [6791.924  4761.975 ]\n",
      " [6124.053  4617.5464]\n",
      " [6796.6074 3638.7485]\n",
      " [3842.9297 1264.6078]\n",
      " [2825.7136 4546.8154]\n",
      " [6668.3643  317.8951]]\n",
      "Offside IDS:  []\n"
     ]
    },
    {
     "name": "stderr",
     "output_type": "stream",
     "text": [
      "Embedding extraction: 1it [00:02,  2.32s/it]\n"
     ]
    },
    {
     "name": "stdout",
     "output_type": "stream",
     "text": [
      "[[4985.9443  6862.66   ]\n",
      " [3881.3271  4194.5166 ]\n",
      " [4884.902   4631.9946 ]\n",
      " [3993.7834  6368.056  ]\n",
      " [4792.503   3123.3716 ]\n",
      " [6791.877   4762.542  ]\n",
      " [6123.959   4617.955  ]\n",
      " [6796.5913  3639.2498 ]\n",
      " [3842.5793  1264.5121 ]\n",
      " [2826.5752  4546.4546 ]\n",
      " [6668.3755   317.02225]]\n",
      "Offside IDS:  []\n"
     ]
    },
    {
     "name": "stderr",
     "output_type": "stream",
     "text": [
      "Embedding extraction: 1it [00:02,  2.29s/it]\n"
     ]
    },
    {
     "name": "stdout",
     "output_type": "stream",
     "text": [
      "[[4987.455   6850.5986 ]\n",
      " [3881.439   4190.285  ]\n",
      " [6796.4995  4763.5225 ]\n",
      " [4789.715   3121.7354 ]\n",
      " [6117.889   4618.3486 ]\n",
      " [3993.5635  6351.086  ]\n",
      " [4892.1855  4647.005  ]\n",
      " [3851.2192  1304.4634 ]\n",
      " [6799.0894  3640.1682 ]\n",
      " [2821.912   4540.2256 ]\n",
      " [6667.2314   318.22107]]\n",
      "Offside IDS:  []\n"
     ]
    },
    {
     "name": "stderr",
     "output_type": "stream",
     "text": [
      "Embedding extraction: 1it [00:02,  2.26s/it]\n"
     ]
    },
    {
     "name": "stdout",
     "output_type": "stream",
     "text": [
      "[[4334.497   5399.868  ]\n",
      " [5032.463   6835.372  ]\n",
      " [3921.9954  4204.6245 ]\n",
      " [4806.6714  3134.5308 ]\n",
      " [3856.8386  1263.8376 ]\n",
      " [4922.394   4657.496  ]\n",
      " [4058.4958  6366.5    ]\n",
      " [6122.272   4627.528  ]\n",
      " [6798.956   3649.559  ]\n",
      " [2874.673   4555.566  ]\n",
      " [6656.9937   341.07523]]\n",
      "Offside IDS:  []\n"
     ]
    },
    {
     "name": "stderr",
     "output_type": "stream",
     "text": [
      "Embedding extraction: 1it [00:02,  2.23s/it]\n"
     ]
    },
    {
     "name": "stdout",
     "output_type": "stream",
     "text": [
      "[[3768.0864 4521.34  ]\n",
      " [5050.2505 6826.7607]\n",
      " [3939.0366 4201.682 ]\n",
      " [4084.6914 6359.593 ]\n",
      " [4936.3765 4655.175 ]\n",
      " [4809.574  3135.7495]\n",
      " [6799.1055 3653.7808]\n",
      " [3868.4434 1261.4171]\n",
      " [6119.0635 4629.7944]\n",
      " [2894.3635 4548.7246]\n",
      " [6663.51    280.7021]]\n",
      "Offside IDS:  []\n"
     ]
    },
    {
     "name": "stderr",
     "output_type": "stream",
     "text": [
      "Embedding extraction: 1it [00:02,  2.26s/it]\n"
     ]
    },
    {
     "name": "stdout",
     "output_type": "stream",
     "text": [
      "[[6803.844  4758.911 ]\n",
      " [5059.8096 6826.9756]\n",
      " [3957.2058 4226.928 ]\n",
      " [4946.599  4677.2163]\n",
      " [4811.258  3138.3638]\n",
      " [4103.8647 6374.124 ]\n",
      " [6805.599  3634.3848]\n",
      " [3887.092  1294.9624]\n",
      " [6116.371  4633.1665]\n",
      " [2901.9565 4555.0615]\n",
      " [6658.497   277.098 ]]\n",
      "Offside IDS:  []\n"
     ]
    },
    {
     "name": "stderr",
     "output_type": "stream",
     "text": [
      "Embedding extraction: 1it [00:02,  2.27s/it]\n"
     ]
    },
    {
     "name": "stdout",
     "output_type": "stream",
     "text": [
      "[[6812.087  4765.183 ]\n",
      " [5063.0625 6817.44  ]\n",
      " [4956.3896 4697.3467]\n",
      " [4108.704  6371.3774]\n",
      " [3966.5269 4248.9883]\n",
      " [4820.0195 3141.8723]\n",
      " [6816.611  3663.4316]\n",
      " [6117.8193 4638.6045]\n",
      " [3889.9434 1255.8635]\n",
      " [2895.0178 4554.6216]\n",
      " [6674.823   280.5157]]\n",
      "Offside IDS:  []\n"
     ]
    },
    {
     "name": "stderr",
     "output_type": "stream",
     "text": [
      "Embedding extraction: 1it [00:02,  2.40s/it]\n"
     ]
    },
    {
     "name": "stdout",
     "output_type": "stream",
     "text": [
      "[[6812.087  4765.183 ]\n",
      " [5063.0625 6817.44  ]\n",
      " [4956.3896 4697.3467]\n",
      " [4108.704  6371.3774]\n",
      " [3966.5269 4248.9883]\n",
      " [4820.0195 3141.8723]\n",
      " [6816.611  3663.4316]\n",
      " [6117.8193 4638.6045]\n",
      " [3889.9434 1255.8635]\n",
      " [2895.0178 4554.6216]\n",
      " [6674.823   280.5157]]\n",
      "Offside IDS:  []\n"
     ]
    },
    {
     "name": "stderr",
     "output_type": "stream",
     "text": [
      "Embedding extraction: 1it [00:02,  2.53s/it]\n"
     ]
    },
    {
     "name": "stdout",
     "output_type": "stream",
     "text": [
      "[[4961.077   4684.6885 ]\n",
      " [6820.5435  4759.0586 ]\n",
      " [4115.914   6370.4824 ]\n",
      " [5069.023   6811.9956 ]\n",
      " [3963.2104  4233.0376 ]\n",
      " [4822.1387  3129.479  ]\n",
      " [6826.164   3634.4797 ]\n",
      " [6116.6816  4630.536  ]\n",
      " [3900.463   1288.6764 ]\n",
      " [2865.4602  4496.2954 ]\n",
      " [6675.583    287.78363]]\n",
      "Offside IDS:  []\n"
     ]
    },
    {
     "name": "stderr",
     "output_type": "stream",
     "text": [
      "Embedding extraction: 1it [00:02,  2.33s/it]\n"
     ]
    },
    {
     "name": "stdout",
     "output_type": "stream",
     "text": [
      "[[4124.421  6348.7554]\n",
      " [5070.8506 6788.0483]\n",
      " [4962.0186 4680.849 ]\n",
      " [4818.1987 3123.8508]\n",
      " [6813.2803 4779.174 ]\n",
      " [3975.1907 4239.074 ]\n",
      " [6827.8228 3648.1755]\n",
      " [6099.5596 4659.2524]\n",
      " [3912.8867 1315.6566]\n",
      " [6666.9355  318.6072]\n",
      " [2871.2056 4448.6655]]\n",
      "Offside IDS:  []\n"
     ]
    },
    {
     "name": "stderr",
     "output_type": "stream",
     "text": [
      "Embedding extraction: 1it [00:02,  2.30s/it]\n"
     ]
    },
    {
     "name": "stdout",
     "output_type": "stream",
     "text": [
      "[[4127.5444 6345.142 ]\n",
      " [6820.275  4770.684 ]\n",
      " [5080.2246 6777.4937]\n",
      " [4964.573  4665.95  ]\n",
      " [6827.346  3679.112 ]\n",
      " [3977.6404 4240.2   ]\n",
      " [4823.4443 3127.7412]\n",
      " [6094.8726 4683.094 ]\n",
      " [2872.4448 4446.7383]\n",
      " [3914.0664 1317.8918]\n",
      " [6678.0176  273.1493]]\n",
      "Offside IDS:  []\n"
     ]
    },
    {
     "name": "stderr",
     "output_type": "stream",
     "text": [
      "Embedding extraction: 1it [00:02,  2.29s/it]\n"
     ]
    },
    {
     "name": "stdout",
     "output_type": "stream",
     "text": [
      "[[3836.7969  4541.085  ]\n",
      " [6833.287   4772.708  ]\n",
      " [5087.2676  6762.0767 ]\n",
      " [4971.27    4679.4795 ]\n",
      " [6843.07    3680.953  ]\n",
      " [4828.1953  3152.2388 ]\n",
      " [3975.303   4212.935  ]\n",
      " [6096.097   4700.281  ]\n",
      " [3923.7454  1316.6232 ]\n",
      " [2865.5845  4436.6167 ]\n",
      " [6693.295    273.81866]]\n",
      "Offside IDS:  []\n"
     ]
    },
    {
     "name": "stderr",
     "output_type": "stream",
     "text": [
      "Embedding extraction: 1it [00:02,  2.28s/it]\n"
     ]
    },
    {
     "name": "stdout",
     "output_type": "stream",
     "text": [
      "[[6983.3076  5027.903  ]\n",
      " [5091.7085  6762.9653 ]\n",
      " [4128.7646  6325.631  ]\n",
      " [4971.6445  4679.262  ]\n",
      " [6837.7256  4755.0864 ]\n",
      " [3987.9653  4233.1377 ]\n",
      " [6840.3687  3680.1343 ]\n",
      " [3935.108   1316.5398 ]\n",
      " [6093.1177  4682.651  ]\n",
      " [4838.674   3178.2778 ]\n",
      " [6687.438    323.10373]\n",
      " [2865.7817  4437.0615 ]]\n",
      "Offside IDS:  [1]\n",
      "Player 1 is offside\n"
     ]
    },
    {
     "name": "stderr",
     "output_type": "stream",
     "text": [
      "Embedding extraction: 1it [00:02,  2.25s/it]\n"
     ]
    },
    {
     "name": "stdout",
     "output_type": "stream",
     "text": [
      "[[6985.1924  5028.9814 ]\n",
      " [5093.5347  6761.5225 ]\n",
      " [4130.862   6323.856  ]\n",
      " [4972.7637  4679.374  ]\n",
      " [6839.4985  4756.124  ]\n",
      " [3989.057   4233.011  ]\n",
      " [6842.0947  3681.095  ]\n",
      " [3934.6597  1316.4235 ]\n",
      " [6094.464   4683.3228 ]\n",
      " [4839.225   3178.6567 ]\n",
      " [6688.796    321.36844]\n",
      " [2867.6333  4436.32   ]]\n",
      "Offside IDS:  [1]\n",
      "Player 1 is offside\n"
     ]
    },
    {
     "name": "stderr",
     "output_type": "stream",
     "text": [
      "Embedding extraction: 1it [00:02,  2.23s/it]\n"
     ]
    },
    {
     "name": "stdout",
     "output_type": "stream",
     "text": [
      "[[5104.8413  6754.6787 ]\n",
      " [4148.142   6316.7886 ]\n",
      " [4990.6436  4678.1074 ]\n",
      " [6843.8403  4754.881  ]\n",
      " [6099.072   4682.559  ]\n",
      " [4004.531   4230.545  ]\n",
      " [6847.294   3682.1191 ]\n",
      " [3961.4607  1345.8411 ]\n",
      " [4850.643   3175.504  ]\n",
      " [2866.8381  4434.636  ]\n",
      " [6694.082    329.02063]]\n",
      "Offside IDS:  []\n"
     ]
    },
    {
     "name": "stderr",
     "output_type": "stream",
     "text": [
      "Embedding extraction: 1it [00:02,  2.21s/it]\n"
     ]
    },
    {
     "name": "stdout",
     "output_type": "stream",
     "text": [
      "[[4168.111   6317.867  ]\n",
      " [5121.6333  6757.121  ]\n",
      " [4999.831   4679.3037 ]\n",
      " [4860.4673  3175.586  ]\n",
      " [6855.1465  3683.2322 ]\n",
      " [6107.152   4667.1313 ]\n",
      " [6852.135   4740.7075 ]\n",
      " [4013.906   4231.0083 ]\n",
      " [3968.44    1345.1162 ]\n",
      " [2859.9485  4435.6157 ]\n",
      " [6697.8647   327.19025]]\n",
      "Offside IDS:  []\n"
     ]
    },
    {
     "name": "stderr",
     "output_type": "stream",
     "text": [
      "Embedding extraction: 1it [00:02,  2.17s/it]\n"
     ]
    },
    {
     "name": "stdout",
     "output_type": "stream",
     "text": [
      "[[4182.836  6317.307 ]\n",
      " [5126.722  6757.428 ]\n",
      " [5004.7827 4696.71  ]\n",
      " [6843.7847 3705.7107]\n",
      " [4856.327  3175.4387]\n",
      " [6098.7915 4684.661 ]\n",
      " [4012.7087 4230.935 ]\n",
      " [6841.9487 4741.063 ]\n",
      " [3969.237  1345.051 ]\n",
      " [2848.2327 4436.236 ]\n",
      " [6688.7817  327.5868]]\n",
      "Offside IDS:  []\n"
     ]
    },
    {
     "name": "stderr",
     "output_type": "stream",
     "text": [
      "Embedding extraction: 1it [00:02,  2.22s/it]\n"
     ]
    },
    {
     "name": "stdout",
     "output_type": "stream",
     "text": [
      "[[5141.444   6739.2085 ]\n",
      " [5019.5913  4695.7305 ]\n",
      " [6847.402   3705.8982 ]\n",
      " [4202.53    6315.1475 ]\n",
      " [6100.597   4684.8774 ]\n",
      " [4858.0884  3175.1897 ]\n",
      " [6843.5093  4741.6196 ]\n",
      " [4021.3604  4230.044  ]\n",
      " [3985.8074  1385.2792 ]\n",
      " [2844.7842  4435.5513 ]\n",
      " [6687.872    326.99948]]\n",
      "Offside IDS:  []\n"
     ]
    },
    {
     "name": "stderr",
     "output_type": "stream",
     "text": [
      "Embedding extraction: 1it [00:02,  2.30s/it]\n"
     ]
    },
    {
     "name": "stdout",
     "output_type": "stream",
     "text": [
      "[[6396.1494  6194.7593 ]\n",
      " [5198.9805  6655.6807 ]\n",
      " [5043.5005  4670.908  ]\n",
      " [4267.451   6213.725  ]\n",
      " [6878.7974  3726.829  ]\n",
      " [4852.681   3164.345  ]\n",
      " [4048.7148  4191.7627 ]\n",
      " [6871.221   4779.6885 ]\n",
      " [3935.8967  1279.3265 ]\n",
      " [6120.1177  4687.7266 ]\n",
      " [2891.625   4366.7173 ]\n",
      " [6702.5967   305.41248]]\n",
      "Offside IDS:  []\n"
     ]
    },
    {
     "name": "stderr",
     "output_type": "stream",
     "text": [
      "Embedding extraction: 1it [00:02,  2.19s/it]\n"
     ]
    },
    {
     "name": "stdout",
     "output_type": "stream",
     "text": [
      "[[6396.1494  6194.7593 ]\n",
      " [5198.9805  6655.6807 ]\n",
      " [5043.5005  4670.908  ]\n",
      " [4267.451   6213.725  ]\n",
      " [6878.7974  3726.829  ]\n",
      " [4852.681   3164.345  ]\n",
      " [4048.7148  4191.7627 ]\n",
      " [6871.221   4779.6885 ]\n",
      " [3935.8967  1279.3265 ]\n",
      " [6120.1177  4687.7266 ]\n",
      " [2891.625   4366.7173 ]\n",
      " [6702.5967   305.41248]]\n",
      "Offside IDS:  []\n"
     ]
    },
    {
     "name": "stderr",
     "output_type": "stream",
     "text": [
      "Embedding extraction: 1it [00:02,  2.19s/it]\n"
     ]
    },
    {
     "name": "stdout",
     "output_type": "stream",
     "text": [
      "[[6412.8496  6185.2065 ]\n",
      " [4285.479   6208.3154 ]\n",
      " [4066.2412  4187.836  ]\n",
      " [5072.23    4664.8765 ]\n",
      " [5232.503   6647.4575 ]\n",
      " [4874.633   3160.6035 ]\n",
      " [6894.17    3720.366  ]\n",
      " [6883.0063  4771.4443 ]\n",
      " [6134.852   4697.571  ]\n",
      " [3978.2559  1360.8121 ]\n",
      " [2897.6125  4364.466  ]\n",
      " [6710.492    307.31537]]\n",
      "Offside IDS:  []\n"
     ]
    },
    {
     "name": "stderr",
     "output_type": "stream",
     "text": [
      "Embedding extraction: 1it [00:02,  2.22s/it]\n"
     ]
    },
    {
     "name": "stdout",
     "output_type": "stream",
     "text": [
      "[[4058.095   4169.873  ]\n",
      " [4275.4297  6182.922  ]\n",
      " [5075.5327  4655.2173 ]\n",
      " [5238.25    6643.516  ]\n",
      " [6899.1685  4778.151  ]\n",
      " [6907.1343  3746.6711 ]\n",
      " [6139.1743  4697.508  ]\n",
      " [4873.8916  3176.3223 ]\n",
      " [3983.1768  1390.2383 ]\n",
      " [2864.506   4317.3315 ]\n",
      " [6724.191    260.68533]]\n",
      "Offside IDS:  []\n"
     ]
    },
    {
     "name": "stderr",
     "output_type": "stream",
     "text": [
      "Embedding extraction: 1it [00:02,  2.08s/it]\n"
     ]
    },
    {
     "name": "stdout",
     "output_type": "stream",
     "text": [
      "[[4472.258   5309.263  ]\n",
      " [5247.4336  6649.631  ]\n",
      " [5084.3003  4660.4937 ]\n",
      " [4289.9155  6195.5547 ]\n",
      " [4886.367   3178.529  ]\n",
      " [6894.452   3769.7878 ]\n",
      " [4075.0388  4176.644  ]\n",
      " [6882.982   4776.942  ]\n",
      " [6138.691   4682.056  ]\n",
      " [4001.45    1382.9366 ]\n",
      " [6724.666    263.69705]]\n",
      "Offside IDS:  [16]\n",
      "Player 16 is offside\n"
     ]
    },
    {
     "name": "stderr",
     "output_type": "stream",
     "text": [
      "Embedding extraction: 1it [00:02,  2.05s/it]\n"
     ]
    },
    {
     "name": "stdout",
     "output_type": "stream",
     "text": [
      "[[6427.596   6202.0254 ]\n",
      " [5263.418   6633.0967 ]\n",
      " [4296.505   6161.971  ]\n",
      " [6914.9087  3766.958  ]\n",
      " [5094.2285  4670.5513 ]\n",
      " [6149.316   4697.4897 ]\n",
      " [4892.6987  3190.0237 ]\n",
      " [4088.5742  4203.66   ]\n",
      " [6888.4214  4796.2607 ]\n",
      " [4012.1934  1429.1565 ]\n",
      " [2869.643   4329.0674 ]\n",
      " [6736.5513   264.51028]]\n",
      "Offside IDS:  []\n"
     ]
    },
    {
     "name": "stderr",
     "output_type": "stream",
     "text": [
      "Embedding extraction: 1it [00:02,  2.07s/it]\n"
     ]
    },
    {
     "name": "stdout",
     "output_type": "stream",
     "text": [
      "[[5267.0015 6605.5786]\n",
      " [4297.8813 6156.921 ]\n",
      " [6925.3633 3789.0354]\n",
      " [5099.6006 4672.393 ]\n",
      " [6146.022  4698.9956]\n",
      " [4093.8528 4205.354 ]\n",
      " [4898.0796 3190.2695]\n",
      " [6890.7886 4780.999 ]\n",
      " [4024.0686 1428.7367]\n",
      " [6730.6084  314.082 ]]\n",
      "Offside IDS:  [18]\n",
      "Player 18 is offside\n"
     ]
    },
    {
     "name": "stderr",
     "output_type": "stream",
     "text": [
      "Embedding extraction: 1it [00:02,  2.12s/it]\n"
     ]
    },
    {
     "name": "stdout",
     "output_type": "stream",
     "text": [
      "[[5266.723   6607.364  ]\n",
      " [4292.2646  6159.3086 ]\n",
      " [6923.171   3788.547  ]\n",
      " [5101.491   4668.354  ]\n",
      " [6148.051   4694.1846 ]\n",
      " [4093.5396  4201.768  ]\n",
      " [4902.4297  3190.7175 ]\n",
      " [6890.689   4775.3696 ]\n",
      " [4033.6426  1440.9268 ]\n",
      " [6724.1206   360.15494]]\n",
      "Offside IDS:  [18]\n",
      "Player 18 is offside\n"
     ]
    },
    {
     "name": "stderr",
     "output_type": "stream",
     "text": [
      "Embedding extraction: 1it [00:02,  2.22s/it]\n"
     ]
    },
    {
     "name": "stdout",
     "output_type": "stream",
     "text": [
      "[[5106.7485  4670.937  ]\n",
      " [6936.593   3753.027  ]\n",
      " [5276.1787  6586.4375 ]\n",
      " [6146.623   4699.6777 ]\n",
      " [4304.763   6153.8574 ]\n",
      " [4909.361   3222.093  ]\n",
      " [4027.3484  1405.3066 ]\n",
      " [4109.612   4202.7886 ]\n",
      " [6725.744    317.51764]]\n",
      "Offside IDS:  [17]\n",
      "Player 17 is offside\n"
     ]
    },
    {
     "name": "stderr",
     "output_type": "stream",
     "text": [
      "Embedding extraction: 1it [00:02,  2.07s/it]\n"
     ]
    },
    {
     "name": "stdout",
     "output_type": "stream",
     "text": [
      "[[5112.1006 4661.5   ]\n",
      " [6958.9775 3746.3833]\n",
      " [4318.821  6152.741 ]\n",
      " [5291.418  6573.0557]\n",
      " [6150.9756 4695.785 ]\n",
      " [4909.711  3176.9531]\n",
      " [4035.4868 1408.3424]\n",
      " [4116.121  4186.5054]\n",
      " [6736.3486  268.5019]]\n",
      "Offside IDS:  [17]\n",
      "Player 17 is offside\n"
     ]
    },
    {
     "name": "stderr",
     "output_type": "stream",
     "text": [
      "Embedding extraction: 1it [00:02,  2.10s/it]\n"
     ]
    },
    {
     "name": "stdout",
     "output_type": "stream",
     "text": [
      "[[4336.119   6150.7437 ]\n",
      " [6152.793   4711.074  ]\n",
      " [5129.586   4662.286  ]\n",
      " [5314.3906  6577.5713 ]\n",
      " [6957.64    3770.8496 ]\n",
      " [4927.247   3208.712  ]\n",
      " [4051.5269  1423.9423 ]\n",
      " [4144.201   4209.485  ]\n",
      " [2796.4937  4249.846  ]\n",
      " [6725.6177   317.57822]]\n",
      "Offside IDS:  []\n"
     ]
    },
    {
     "name": "stderr",
     "output_type": "stream",
     "text": [
      "Embedding extraction: 1it [00:02,  2.19s/it]\n"
     ]
    },
    {
     "name": "stdout",
     "output_type": "stream",
     "text": [
      "[[5821.6357  4928.4067 ]\n",
      " [5324.45    6573.6313 ]\n",
      " [4343.1113  6143.971  ]\n",
      " [4929.1133  3210.3328 ]\n",
      " [4141.7534  4188.619  ]\n",
      " [5140.9644  4660.0225 ]\n",
      " [4055.9392  1436.9723 ]\n",
      " [6879.3115  4661.7793 ]\n",
      " [6973.437   3745.8328 ]\n",
      " [6716.6655   364.53735]]\n",
      "Offside IDS:  [13]\n",
      "Player 13 is offside\n"
     ]
    },
    {
     "name": "stderr",
     "output_type": "stream",
     "text": [
      "Embedding extraction: 1it [00:02,  2.18s/it]\n"
     ]
    },
    {
     "name": "stdout",
     "output_type": "stream",
     "text": [
      "[[5333.6255  6565.567  ]\n",
      " [4143.7197  4168.114  ]\n",
      " [6152.311   4700.952  ]\n",
      " [4350.968   6133.0474 ]\n",
      " [5155.9316  4664.1846 ]\n",
      " [4061.8904  1426.3026 ]\n",
      " [4932.257   3186.0757 ]\n",
      " [6862.3228  4673.4126 ]\n",
      " [2785.5945  4243.701  ]\n",
      " [6973.795   3781.2168 ]\n",
      " [6714.732    368.14774]]\n",
      "Offside IDS:  []\n"
     ]
    },
    {
     "name": "stderr",
     "output_type": "stream",
     "text": [
      "Embedding extraction: 1it [00:02,  2.23s/it]\n"
     ]
    },
    {
     "name": "stdout",
     "output_type": "stream",
     "text": [
      "[[5333.6255  6565.567  ]\n",
      " [4143.7197  4168.114  ]\n",
      " [6152.311   4700.952  ]\n",
      " [4350.968   6133.0474 ]\n",
      " [5155.9316  4664.1846 ]\n",
      " [4061.8904  1426.3026 ]\n",
      " [4932.257   3186.0757 ]\n",
      " [6862.3228  4673.4126 ]\n",
      " [2785.5945  4243.701  ]\n",
      " [6973.795   3781.2168 ]\n",
      " [6714.732    368.14774]]\n",
      "Offside IDS:  []\n"
     ]
    },
    {
     "name": "stderr",
     "output_type": "stream",
     "text": [
      "Embedding extraction: 1it [00:02,  2.27s/it]\n"
     ]
    },
    {
     "name": "stdout",
     "output_type": "stream",
     "text": [
      "[[4155.6226  4188.916  ]\n",
      " [6153.8804  4717.569  ]\n",
      " [4358.407   6123.415  ]\n",
      " [4945.5366  3212.5684 ]\n",
      " [5343.3574  6557.202  ]\n",
      " [5171.385   4664.159  ]\n",
      " [4078.6921  1466.3755 ]\n",
      " [6856.886   4672.8906 ]\n",
      " [2761.8071  4224.733  ]\n",
      " [6983.736   3780.6162 ]\n",
      " [6714.4194   368.54422]]\n",
      "Offside IDS:  []\n"
     ]
    },
    {
     "name": "stderr",
     "output_type": "stream",
     "text": [
      "Embedding extraction: 1it [00:02,  2.21s/it]\n"
     ]
    },
    {
     "name": "stdout",
     "output_type": "stream",
     "text": [
      "[[4160.794   4200.898  ]\n",
      " [4947.3613  3212.053  ]\n",
      " [4358.7944  6100.697  ]\n",
      " [5355.4375  6536.0425 ]\n",
      " [5171.831   4644.73   ]\n",
      " [6162.3936  4705.9487 ]\n",
      " [4092.6418  1506.1445 ]\n",
      " [7007.176   3814.0942 ]\n",
      " [6862.815   4683.5547 ]\n",
      " [6724.238    379.15866]]\n",
      "Offside IDS:  [18]\n",
      "Player 18 is offside\n"
     ]
    },
    {
     "name": "stderr",
     "output_type": "stream",
     "text": [
      "Embedding extraction: 1it [00:02,  2.20s/it]\n"
     ]
    },
    {
     "name": "stdout",
     "output_type": "stream",
     "text": [
      "[[4365.3506  6067.6177 ]\n",
      " [5374.8135  6500.1875 ]\n",
      " [5183.636   4644.6367 ]\n",
      " [4169.409   4180.378  ]\n",
      " [7027.5923  3814.9712 ]\n",
      " [4959.597   3212.3074 ]\n",
      " [4111.7905  1545.3893 ]\n",
      " [6874.977   4667.3096 ]\n",
      " [6733.0176   329.71198]]\n",
      "Offside IDS:  [20]\n",
      "Player 20 is offside\n"
     ]
    },
    {
     "name": "stderr",
     "output_type": "stream",
     "text": [
      "Embedding extraction: 1it [00:02,  2.26s/it]\n"
     ]
    },
    {
     "name": "stdout",
     "output_type": "stream",
     "text": [
      "[[4376.1616  6052.419  ]\n",
      " [6186.0894  4697.5796 ]\n",
      " [5391.032   6502.523  ]\n",
      " [5196.5596  4635.1167 ]\n",
      " [7031.6694  3804.1104 ]\n",
      " [4970.553   3219.234  ]\n",
      " [4126.3755  1542.3276 ]\n",
      " [4186.8535  4187.464  ]\n",
      " [6863.908   4675.9907 ]\n",
      " [6738.2617   335.00836]]\n",
      "Offside IDS:  [18]\n",
      "Player 18 is offside\n"
     ]
    },
    {
     "name": "stderr",
     "output_type": "stream",
     "text": [
      "Embedding extraction: 1it [00:02,  2.19s/it]\n"
     ]
    },
    {
     "name": "stdout",
     "output_type": "stream",
     "text": [
      "[[4388.934   6064.1    ]\n",
      " [5204.6426  4635.7197 ]\n",
      " [6192.4277  4694.974  ]\n",
      " [5417.113   6503.1006 ]\n",
      " [4982.408   3255.1978 ]\n",
      " [7044.807   3757.0046 ]\n",
      " [6863.4893  4654.4033 ]\n",
      " [4199.788   4193.5234 ]\n",
      " [4122.2563  1538.8766 ]\n",
      " [6718.3394   323.10355]]\n",
      "Offside IDS:  [18]\n",
      "Player 18 is offside\n"
     ]
    },
    {
     "name": "stderr",
     "output_type": "stream",
     "text": [
      "Embedding extraction: 1it [00:02,  2.21s/it]\n"
     ]
    },
    {
     "name": "stdout",
     "output_type": "stream",
     "text": [
      "[[4388.934   6064.1    ]\n",
      " [5204.6426  4635.7197 ]\n",
      " [6192.4277  4694.974  ]\n",
      " [5417.113   6503.1006 ]\n",
      " [4982.408   3255.1978 ]\n",
      " [7044.807   3757.0046 ]\n",
      " [6863.4893  4654.4033 ]\n",
      " [4199.788   4193.5234 ]\n",
      " [4122.2563  1538.8766 ]\n",
      " [6718.3394   323.10355]]\n",
      "Offside IDS:  [18]\n",
      "Player 18 is offside\n"
     ]
    },
    {
     "name": "stderr",
     "output_type": "stream",
     "text": [
      "Embedding extraction: 1it [00:02,  2.22s/it]\n"
     ]
    },
    {
     "name": "stdout",
     "output_type": "stream",
     "text": [
      "[[5216.2236 4627.133 ]\n",
      " [4412.0293 6073.5796]\n",
      " [6201.865  4698.6147]\n",
      " [5447.4253 6505.306 ]\n",
      " [7048.286  3785.2   ]\n",
      " [4995.4756 3273.1265]\n",
      " [4124.122  1535.4578]\n",
      " [4212.7764 4209.0815]\n",
      " [6876.4053 4637.8657]\n",
      " [6709.464   321.9871]]\n",
      "Offside IDS:  [17]\n",
      "Player 17 is offside\n"
     ]
    },
    {
     "name": "stderr",
     "output_type": "stream",
     "text": [
      "Embedding extraction: 1it [00:02,  2.21s/it]\n"
     ]
    },
    {
     "name": "stdout",
     "output_type": "stream",
     "text": [
      "[[5224.163   4633.7617 ]\n",
      " [4432.234   6079.298  ]\n",
      " [7051.9497  3823.2075 ]\n",
      " [6208.6436  4710.3516 ]\n",
      " [5456.6143  6514.0757 ]\n",
      " [4998.9927  3254.9902 ]\n",
      " [4222.256   4191.7773 ]\n",
      " [6722.6943   323.09537]\n",
      " [6878.146   4636.2603 ]]\n",
      "Offside IDS:  [17]\n",
      "Player 17 is offside\n"
     ]
    },
    {
     "name": "stderr",
     "output_type": "stream",
     "text": [
      "Embedding extraction: 1it [00:02,  2.20s/it]\n"
     ]
    },
    {
     "name": "stdout",
     "output_type": "stream",
     "text": [
      "[[4443.9136  6074.46   ]\n",
      " [7065.6978  3816.6328 ]\n",
      " [5472.1196  6497.9634 ]\n",
      " [5242.5024  4628.389  ]\n",
      " [6218.68    4703.3975 ]\n",
      " [5001.417   3251.6494 ]\n",
      " [4225.159   4188.419  ]\n",
      " [4114.422   1499.7416 ]\n",
      " [6719.2656   325.15085]\n",
      " [6886.012   4628.378  ]]\n",
      "Offside IDS:  [17]\n",
      "Player 17 is offside\n"
     ]
    },
    {
     "name": "stderr",
     "output_type": "stream",
     "text": [
      "Embedding extraction: 1it [00:02,  2.10s/it]\n"
     ]
    },
    {
     "name": "stdout",
     "output_type": "stream",
     "text": [
      "[[7063.877  3843.1902]\n",
      " [4479.913  6098.6465]\n",
      " [5502.3955 6503.4463]\n",
      " [6230.0444 4710.4883]\n",
      " [5281.927  4665.296 ]\n",
      " [5033.9814 3282.6345]\n",
      " [4163.356  1586.4564]\n",
      " [4271.8945 4242.7827]\n",
      " [6717.541   320.9858]]\n",
      "Offside IDS:  [17]\n",
      "Player 17 is offside\n"
     ]
    },
    {
     "name": "stderr",
     "output_type": "stream",
     "text": [
      "Embedding extraction: 1it [00:02,  2.10s/it]\n"
     ]
    },
    {
     "name": "stdout",
     "output_type": "stream",
     "text": [
      "[[5520.5576  6459.097  ]\n",
      " [4489.729   6094.408  ]\n",
      " [6231.1646  4724.019  ]\n",
      " [5295.8623  4667.7373 ]\n",
      " [7076.5444  3840.0637 ]\n",
      " [5042.159   3293.8223 ]\n",
      " [4183.522   1616.4934 ]\n",
      " [4288.169   4232.6406 ]\n",
      " [6701.8228   361.53827]]\n",
      "Offside IDS:  [18]\n",
      "Player 18 is offside\n"
     ]
    },
    {
     "name": "stderr",
     "output_type": "stream",
     "text": [
      "Embedding extraction: 1it [00:02,  2.04s/it]\n"
     ]
    },
    {
     "name": "stdout",
     "output_type": "stream",
     "text": [
      "[[5520.5576  6459.097  ]\n",
      " [4489.729   6094.408  ]\n",
      " [6231.1646  4724.019  ]\n",
      " [5295.8623  4667.7373 ]\n",
      " [7076.5444  3840.0637 ]\n",
      " [5042.159   3293.8223 ]\n",
      " [4183.522   1616.4934 ]\n",
      " [4288.169   4232.6406 ]\n",
      " [6701.8228   361.53827]]\n",
      "Offside IDS:  [17]\n",
      "Player 17 is offside\n"
     ]
    },
    {
     "name": "stderr",
     "output_type": "stream",
     "text": [
      "Embedding extraction: 1it [00:02,  2.06s/it]\n"
     ]
    },
    {
     "name": "stdout",
     "output_type": "stream",
     "text": [
      "[[6244.7534  4688.8486 ]\n",
      " [5516.1484  6434.8354 ]\n",
      " [5282.7075  4622.776  ]\n",
      " [4445.9277  6067.476  ]\n",
      " [5032.6904  3259.3313 ]\n",
      " [4266.4897  4198.3345 ]\n",
      " [4192.1797  1684.888  ]\n",
      " [7132.426   3831.1836 ]\n",
      " [6680.1455   430.96423]\n",
      " [6917.5005  4540.0327 ]]\n",
      "Offside IDS:  [18]\n",
      "Player 18 is offside\n"
     ]
    },
    {
     "name": "stderr",
     "output_type": "stream",
     "text": [
      "Embedding extraction: 1it [00:02,  2.08s/it]\n"
     ]
    },
    {
     "name": "stdout",
     "output_type": "stream",
     "text": [
      "[[4565.167  6146.632 ]\n",
      " [6226.6406 4694.3643]\n",
      " [5348.7363 4688.9536]\n",
      " [5589.047  6458.0576]\n",
      " [4298.5166 1795.4028]\n",
      " [5101.282  3324.346 ]\n",
      " [4387.7104 4326.4336]\n",
      " [7015.2954 3794.4868]\n",
      " [6593.86    535.2332]\n",
      " [6834.7725 4542.118 ]]\n",
      "Offside IDS:  [18]\n",
      "Player 18 is offside\n"
     ]
    },
    {
     "name": "stderr",
     "output_type": "stream",
     "text": [
      "Embedding extraction: 1it [00:02,  2.06s/it]\n"
     ]
    },
    {
     "name": "stdout",
     "output_type": "stream",
     "text": [
      "[[6229.92   4696.2007]\n",
      " [4583.54   6135.594 ]\n",
      " [5365.0356 4695.0034]\n",
      " [5611.398  6450.074 ]\n",
      " [5111.8965 3325.3738]\n",
      " [7015.69   3802.474 ]\n",
      " [4315.428  1818.5437]\n",
      " [4419.326  4341.035 ]\n",
      " [6575.5933  570.1645]]\n",
      "Offside IDS:  [18]\n",
      "Player 18 is offside\n"
     ]
    },
    {
     "name": "stderr",
     "output_type": "stream",
     "text": [
      "Embedding extraction: 1it [00:02,  2.06s/it]\n"
     ]
    },
    {
     "name": "stdout",
     "output_type": "stream",
     "text": [
      "[[6241.949   4707.3506 ]\n",
      " [5382.2915  4692.8613 ]\n",
      " [5629.3135  6448.33   ]\n",
      " [7036.951   3832.015  ]\n",
      " [4604.3936  6140.781  ]\n",
      " [4337.7324  1880.2515 ]\n",
      " [5134.348   3371.033  ]\n",
      " [4435.676   4362.597  ]\n",
      " [6591.9253   571.43506]]\n",
      "Offside IDS:  [18]\n",
      "Player 18 is offside\n"
     ]
    },
    {
     "name": "stderr",
     "output_type": "stream",
     "text": [
      "Embedding extraction: 1it [00:02,  2.06s/it]\n"
     ]
    },
    {
     "name": "stdout",
     "output_type": "stream",
     "text": [
      "[[7015.5093 4595.863 ]\n",
      " [7045.082  3885.764 ]\n",
      " [6239.8755 4714.7334]\n",
      " [5385.761  4710.586 ]\n",
      " [4611.78   6146.0312]\n",
      " [4311.7676 1831.7963]\n",
      " [5134.6807 3369.712 ]\n",
      " [4431.677  4376.3984]\n",
      " [6591.4595  580.7761]]\n",
      "Offside IDS:  [17]\n",
      "Player 17 is offside\n"
     ]
    },
    {
     "name": "stderr",
     "output_type": "stream",
     "text": [
      "Embedding extraction: 1it [00:02,  2.07s/it]\n"
     ]
    },
    {
     "name": "stdout",
     "output_type": "stream",
     "text": [
      "[[7016.2383 4595.7554]\n",
      " [7045.5605 3885.7158]\n",
      " [6240.7554 4714.631 ]\n",
      " [5386.748  4710.502 ]\n",
      " [4613.4    6145.825 ]\n",
      " [4311.765  1831.8306]\n",
      " [5135.1963 3369.7163]\n",
      " [4432.6416 4376.358 ]\n",
      " [6590.833   580.8139]]\n",
      "Offside IDS:  [17]\n",
      "Player 17 is offside\n"
     ]
    },
    {
     "name": "stderr",
     "output_type": "stream",
     "text": [
      "Embedding extraction: 1it [00:02,  2.03s/it]\n"
     ]
    },
    {
     "name": "stdout",
     "output_type": "stream",
     "text": [
      "[[4727.889  5440.8916]\n",
      " [5640.7476 6431.3804]\n",
      " [7076.057  3888.9495]\n",
      " [6251.109  4711.062 ]\n",
      " [4605.8306 6128.1455]\n",
      " [4306.678  1811.065 ]\n",
      " [5141.2515 3354.5645]\n",
      " [5394.4897 4697.865 ]\n",
      " [4427.2983 4354.2715]\n",
      " [6609.1763  542.52  ]\n",
      " [6857.545  4516.5537]]\n",
      "Offside IDS:  [14]\n",
      "Player 14 is offside\n"
     ]
    },
    {
     "name": "stderr",
     "output_type": "stream",
     "text": [
      "Embedding extraction: 1it [00:02,  2.02s/it]\n"
     ]
    },
    {
     "name": "stdout",
     "output_type": "stream",
     "text": [
      "[[7040.687   4615.446  ]\n",
      " [5649.1694  6403.1523 ]\n",
      " [6254.717   4710.8506 ]\n",
      " [4610.803   6127.3564 ]\n",
      " [4319.306   1846.3827 ]\n",
      " [7082.582   3908.2993 ]\n",
      " [5144.9805  3354.3533 ]\n",
      " [4437.058   4353.4595 ]\n",
      " [5407.2456  4696.82   ]\n",
      " [6853.0566  4517.0586 ]\n",
      " [6613.6387   542.47186]]\n",
      "Offside IDS:  [18]\n",
      "Player 18 is offside\n"
     ]
    },
    {
     "name": "stderr",
     "output_type": "stream",
     "text": [
      "Embedding extraction: 1it [00:02,  2.15s/it]\n"
     ]
    },
    {
     "name": "stdout",
     "output_type": "stream",
     "text": [
      "[[7168.2393 4701.9844]\n",
      " [6277.994  4739.5044]\n",
      " [4529.5947 5936.0747]\n",
      " [5361.7646 4648.0386]\n",
      " [4250.9404 1876.0188]\n",
      " [5092.9404 3324.8196]\n",
      " [7233.3784 4026.3787]\n",
      " [4364.891  4254.084 ]\n",
      " [6936.923  4584.4355]\n",
      " [6681.587   599.9923]]\n",
      "Offside IDS:  [18]\n",
      "Player 18 is offside\n"
     ]
    },
    {
     "name": "stderr",
     "output_type": "stream",
     "text": [
      "Embedding extraction: 1it [00:02,  2.09s/it]\n"
     ]
    },
    {
     "name": "stdout",
     "output_type": "stream",
     "text": [
      "[[4660.0625  5291.403  ]\n",
      " [5369.974   4655.332  ]\n",
      " [6287.503   4747.764  ]\n",
      " [4253.4004  1883.4751 ]\n",
      " [4542.009   5934.5503 ]\n",
      " [5108.082   3382.131  ]\n",
      " [7242.8735  4038.1362 ]\n",
      " [4379.139   4261.519  ]\n",
      " [6933.9917  4577.388  ]\n",
      " [6682.654    558.76733]]\n",
      "Offside IDS:  [17]\n",
      "Player 17 is offside\n"
     ]
    },
    {
     "name": "stderr",
     "output_type": "stream",
     "text": [
      "Embedding extraction: 1it [00:02,  2.01s/it]\n"
     ]
    },
    {
     "name": "stdout",
     "output_type": "stream",
     "text": [
      "[[5385.1978 4655.088 ]\n",
      " [6307.3335 4748.376 ]\n",
      " [4565.625  5943.352 ]\n",
      " [5666.7866 6328.715 ]\n",
      " [5120.699  3382.027 ]\n",
      " [4266.162  1883.6505]\n",
      " [7258.0166 4039.3496]\n",
      " [4403.4233 4297.2017]\n",
      " [6926.122  4594.8315]\n",
      " [6680.18    558.4523]]\n",
      "Offside IDS:  [18]\n",
      "Player 18 is offside\n"
     ]
    },
    {
     "name": "stderr",
     "output_type": "stream",
     "text": [
      "Embedding extraction: 1it [00:02,  2.15s/it]\n"
     ]
    },
    {
     "name": "stdout",
     "output_type": "stream",
     "text": [
      "[[5385.1978 4655.088 ]\n",
      " [6307.3335 4748.376 ]\n",
      " [4565.625  5943.352 ]\n",
      " [5666.7866 6328.715 ]\n",
      " [5120.699  3382.027 ]\n",
      " [4266.162  1883.6505]\n",
      " [7258.0166 4039.3496]\n",
      " [4403.4233 4297.2017]\n",
      " [6926.122  4594.8315]\n",
      " [6680.18    558.4523]]\n",
      "Offside IDS:  [18]\n",
      "Player 18 is offside\n"
     ]
    },
    {
     "name": "stderr",
     "output_type": "stream",
     "text": [
      "Embedding extraction: 1it [00:02,  2.05s/it]\n"
     ]
    },
    {
     "name": "stdout",
     "output_type": "stream",
     "text": [
      "[[5392.636  4652.334 ]\n",
      " [4555.3003 5909.1675]\n",
      " [7284.785  4037.0151]\n",
      " [6329.0776 4744.819 ]\n",
      " [5124.957  3383.9314]\n",
      " [4263.789  1929.0957]\n",
      " [5690.838  6325.662 ]\n",
      " [6950.5234 4591.0957]\n",
      " [4397.0557 4277.8584]\n",
      " [6688.515   582.7249]]\n",
      "Offside IDS:  [19]\n",
      "Player 19 is offside\n"
     ]
    },
    {
     "name": "stderr",
     "output_type": "stream",
     "text": [
      "Embedding extraction: 1it [00:01,  1.98s/it]\n"
     ]
    },
    {
     "name": "stdout",
     "output_type": "stream",
     "text": [
      "[[4555.1685 5873.8647]\n",
      " [7283.5474 4040.8706]\n",
      " [5401.4956 4654.2393]\n",
      " [6337.163  4730.0015]\n",
      " [5704.1133 6318.9155]\n",
      " [4418.879  4300.1865]\n",
      " [4260.484  1909.5193]\n",
      " [5130.2207 3391.5972]\n",
      " [6955.8335 4592.453 ]\n",
      " [6671.5625  600.7692]]\n",
      "Offside IDS:  []\n"
     ]
    },
    {
     "name": "stderr",
     "output_type": "stream",
     "text": [
      "Embedding extraction: 1it [00:02,  2.02s/it]\n"
     ]
    },
    {
     "name": "stdout",
     "output_type": "stream",
     "text": [
      "[[7308.3037 4018.5242]\n",
      " [4569.5576 5869.8735]\n",
      " [5419.147  4641.083 ]\n",
      " [5722.911  6313.5146]\n",
      " [6350.9663 4729.0684]\n",
      " [4284.7656 1935.2289]\n",
      " [5146.1045 3400.7388]\n",
      " [4433.5693 4290.083 ]\n",
      " [6980.384  4589.3335]\n",
      " [6679.465   547.0758]]\n",
      "Offside IDS:  []\n"
     ]
    },
    {
     "name": "stderr",
     "output_type": "stream",
     "text": [
      "Embedding extraction: 1it [00:01,  1.98s/it]\n"
     ]
    },
    {
     "name": "stdout",
     "output_type": "stream",
     "text": [
      "[[5739.506  6297.894 ]\n",
      " [4593.2017 5872.245 ]\n",
      " [5443.221  4639.653 ]\n",
      " [7322.531  4083.3352]\n",
      " [4289.7144 1902.4512]\n",
      " [5159.2188 3378.5564]\n",
      " [6361.8203 4745.947 ]\n",
      " [4455.222  4304.2617]\n",
      " [6986.7983 4576.5796]\n",
      " [6691.3813  516.0194]]\n",
      "Offside IDS:  []\n"
     ]
    },
    {
     "name": "stderr",
     "output_type": "stream",
     "text": [
      "Embedding extraction: 1it [00:01,  1.93s/it]\n"
     ]
    },
    {
     "name": "stdout",
     "output_type": "stream",
     "text": [
      "[[5743.3604  6263.0776 ]\n",
      " [4599.371   5852.862  ]\n",
      " [5456.934   4626.876  ]\n",
      " [4304.6245  1893.7545 ]\n",
      " [4459.695   4264.8936 ]\n",
      " [7342.2793  4108.2485 ]\n",
      " [5168.3447  3367.0667 ]\n",
      " [7002.563   4561.4854 ]\n",
      " [6365.8364  4741.1987 ]\n",
      " [6689.0347   547.76166]]\n",
      "Offside IDS:  []\n"
     ]
    },
    {
     "name": "stderr",
     "output_type": "stream",
     "text": [
      "Embedding extraction: 1it [00:02,  2.10s/it]\n"
     ]
    },
    {
     "name": "stdout",
     "output_type": "stream",
     "text": [
      "[[5744.1465 6263.3716]\n",
      " [4601.7236 5853.6104]\n",
      " [5458.5254 4626.9683]\n",
      " [4308.5146 1893.862 ]\n",
      " [4462.6807 4265.2637]\n",
      " [7340.997  4107.6895]\n",
      " [5170.666  3367.1084]\n",
      " [7001.787  4561.019 ]\n",
      " [6366.0596 4740.9697]\n",
      " [6689.6025  547.9884]]\n",
      "Offside IDS:  []\n"
     ]
    },
    {
     "name": "stderr",
     "output_type": "stream",
     "text": [
      "Embedding extraction: 1it [00:01,  1.98s/it]\n"
     ]
    },
    {
     "name": "stdout",
     "output_type": "stream",
     "text": [
      "[[6763.3174 6143.5073]\n",
      " [5755.5464 6234.131 ]\n",
      " [5461.7837 4650.6006]\n",
      " [4616.3896 5869.649 ]\n",
      " [7358.3115 4089.6877]\n",
      " [6359.934  4743.7734]\n",
      " [5173.421  3402.7964]\n",
      " [4301.7544 1944.5591]\n",
      " [6922.058  4543.8467]\n",
      " [4474.297  4296.792 ]\n",
      " [6672.687   552.6277]]\n",
      "Offside IDS:  []\n"
     ]
    },
    {
     "name": "stderr",
     "output_type": "stream",
     "text": [
      "Embedding extraction: 1it [00:02,  2.03s/it]\n"
     ]
    },
    {
     "name": "stdout",
     "output_type": "stream",
     "text": [
      "[[4622.9375 5859.9727]\n",
      " [5473.348  4651.4814]\n",
      " [5779.955  6207.618 ]\n",
      " [6375.8765 4759.8516]\n",
      " [4303.797  1933.5857]\n",
      " [7400.8955 4106.1455]\n",
      " [5183.836  3399.6282]\n",
      " [6944.52   4543.403 ]\n",
      " [6684.894   516.5607]\n",
      " [4487.4297 4315.6675]\n",
      " [7043.4326 4494.6157]]\n",
      "Offside IDS:  []\n"
     ]
    },
    {
     "name": "stderr",
     "output_type": "stream",
     "text": [
      "Embedding extraction: 1it [00:02,  2.02s/it]\n"
     ]
    },
    {
     "name": "stdout",
     "output_type": "stream",
     "text": [
      "[[5481.014   4665.4937 ]\n",
      " [5796.9663  6226.774  ]\n",
      " [4625.3384  5869.4434 ]\n",
      " [7433.2344  4108.24   ]\n",
      " [6390.8184  4790.861  ]\n",
      " [4312.731   1985.6699 ]\n",
      " [5188.97    3394.1584 ]\n",
      " [4499.848   4328.6157 ]\n",
      " [6695.136    554.13556]\n",
      " [7037.869   4611.76   ]]\n",
      "Offside IDS:  []\n"
     ]
    },
    {
     "name": "stderr",
     "output_type": "stream",
     "text": [
      "Embedding extraction: 1it [00:01,  1.98s/it]\n"
     ]
    },
    {
     "name": "stdout",
     "output_type": "stream",
     "text": [
      "[[5526.956  4595.9575]\n",
      " [7365.5117 4185.0264]\n",
      " [4776.281  5710.1963]\n",
      " [4531.972  1936.5935]\n",
      " [5278.24   3355.2532]\n",
      " [6351.351  4834.9355]\n",
      " [4678.4946 4185.2407]\n",
      " [6941.946  4691.736 ]\n",
      " [6638.267   493.9656]]\n",
      "Offside IDS:  []\n"
     ]
    },
    {
     "name": "stderr",
     "output_type": "stream",
     "text": [
      "Embedding extraction: 1it [00:01,  1.93s/it]\n"
     ]
    },
    {
     "name": "stdout",
     "output_type": "stream",
     "text": [
      "[[4688.8906  4450.3345 ]\n",
      " [5831.244   6234.8945 ]\n",
      " [4788.766   5700.475  ]\n",
      " [5290.916   3372.9077 ]\n",
      " [7397.9795  4168.907  ]\n",
      " [6366.8306  4851.942  ]\n",
      " [4542.288   1946.2521 ]\n",
      " [6654.0796   507.83542]]\n",
      "Offside IDS:  []\n"
     ]
    },
    {
     "name": "stderr",
     "output_type": "stream",
     "text": [
      "Embedding extraction: 1it [00:02,  2.11s/it]\n"
     ]
    },
    {
     "name": "stdout",
     "output_type": "stream",
     "text": [
      "[[4688.8906  4450.3345 ]\n",
      " [5831.244   6234.8945 ]\n",
      " [4788.766   5700.475  ]\n",
      " [5290.916   3372.9077 ]\n",
      " [7397.9795  4168.907  ]\n",
      " [6366.8306  4851.942  ]\n",
      " [4542.288   1946.2521 ]\n",
      " [6654.0796   507.83542]]\n",
      "Offside IDS:  []\n"
     ]
    },
    {
     "name": "stderr",
     "output_type": "stream",
     "text": [
      "Embedding extraction: 1it [00:02,  2.01s/it]\n"
     ]
    },
    {
     "name": "stdout",
     "output_type": "stream",
     "text": [
      "[[4788.008  5674.836 ]\n",
      " [5544.9717 4616.3325]\n",
      " [5831.844  6224.885 ]\n",
      " [4546.3164 1957.729 ]\n",
      " [5286.9023 3366.3591]\n",
      " [4698.841  4206.957 ]\n",
      " [6366.9385 4840.251 ]\n",
      " [7393.104  4296.773 ]\n",
      " [6639.157   537.3762]]\n",
      "Offside IDS:  []\n"
     ]
    },
    {
     "name": "stderr",
     "output_type": "stream",
     "text": [
      "Embedding extraction: 1it [00:01,  1.98s/it]\n"
     ]
    },
    {
     "name": "stdout",
     "output_type": "stream",
     "text": [
      "[[4795.552  5653.4043]\n",
      " [5835.5674 6217.315 ]\n",
      " [7418.903  4280.3643]\n",
      " [5299.2393 3387.423 ]\n",
      " [4561.272  1967.3701]\n",
      " [5556.433  4609.711 ]\n",
      " [4718.4644 4233.576 ]\n",
      " [6896.785  4604.4653]\n",
      " [6624.7905  532.5375]\n",
      " [6371.3315 4835.024 ]]\n",
      "Offside IDS:  []\n"
     ]
    },
    {
     "name": "stderr",
     "output_type": "stream",
     "text": [
      "Embedding extraction: 1it [00:02,  2.02s/it]\n"
     ]
    },
    {
     "name": "stdout",
     "output_type": "stream",
     "text": [
      "[[5843.0015 6174.7593]\n",
      " [4817.9517 5645.302 ]\n",
      " [4579.4307 1972.8794]\n",
      " [5310.143  3384.6562]\n",
      " [5571.793  4600.4277]\n",
      " [7425.4644 4211.692 ]\n",
      " [4733.641  4219.283 ]\n",
      " [6604.565   583.2255]]\n",
      "Offside IDS:  []\n"
     ]
    },
    {
     "name": "stderr",
     "output_type": "stream",
     "text": [
      "Embedding extraction: 1it [00:02,  2.03s/it]\n"
     ]
    },
    {
     "name": "stdout",
     "output_type": "stream",
     "text": [
      "[[5855.0137 6139.1265]\n",
      " [5315.497  3385.1567]\n",
      " [4576.0234 1972.742 ]\n",
      " [4829.0444 5656.9194]\n",
      " [5577.025  4600.981 ]\n",
      " [4737.0454 4219.4185]\n",
      " [7453.438  4234.7554]\n",
      " [6895.2676 4605.032 ]\n",
      " [6611.3457  541.0448]]\n",
      "Offside IDS:  []\n"
     ]
    },
    {
     "name": "stderr",
     "output_type": "stream",
     "text": [
      "Embedding extraction: 1it [00:01,  1.96s/it]\n"
     ]
    },
    {
     "name": "stdout",
     "output_type": "stream",
     "text": [
      "[[5871.6826  6132.7373 ]\n",
      " [5584.7715  4617.998  ]\n",
      " [4827.4326  5647.4775 ]\n",
      " [4569.2427  1972.2528 ]\n",
      " [5324.09    3386.2402 ]\n",
      " [4744.6147  4254.4663 ]\n",
      " [7483.6196  4237.456  ]\n",
      " [6613.108    540.98773]]\n",
      "Offside IDS:  []\n"
     ]
    },
    {
     "name": "stderr",
     "output_type": "stream",
     "text": [
      "Embedding extraction: 1it [00:02,  2.08s/it]\n"
     ]
    },
    {
     "name": "stdout",
     "output_type": "stream",
     "text": [
      "[[5871.6084  6131.9463 ]\n",
      " [5584.045   4613.054  ]\n",
      " [4824.2876  5644.749  ]\n",
      " [4567.2485  1963.3037 ]\n",
      " [5323.0083  3379.111  ]\n",
      " [4741.86    4248.147  ]\n",
      " [7486.2666  4233.3325 ]\n",
      " [6613.3774   536.26855]]\n",
      "Offside IDS:  []\n"
     ]
    },
    {
     "name": "stderr",
     "output_type": "stream",
     "text": [
      "Embedding extraction: 1it [00:02,  2.03s/it]\n"
     ]
    },
    {
     "name": "stdout",
     "output_type": "stream",
     "text": [
      "[[5594.358  4615.7744]\n",
      " [4838.9453 5660.9487]\n",
      " [5332.0073 3387.1836]\n",
      " [5896.2734 6140.1226]\n",
      " [4579.9443 2041.9279]\n",
      " [4753.9863 4259.0825]\n",
      " [7482.548  4334.1943]\n",
      " [6606.5767  534.4815]]\n",
      "Offside IDS:  []\n"
     ]
    },
    {
     "name": "stderr",
     "output_type": "stream",
     "text": [
      "Embedding extraction: 1it [00:02,  2.04s/it]\n"
     ]
    },
    {
     "name": "stdout",
     "output_type": "stream",
     "text": [
      "[[4840.8096  5663.366  ]\n",
      " [5592.8267  4608.803  ]\n",
      " [5915.213   6144.7793 ]\n",
      " [5334.8125  3386.2126 ]\n",
      " [4570.2305  2020.3816 ]\n",
      " [7500.7686  4371.1445 ]\n",
      " [4754.426   4268.7925 ]\n",
      " [6588.748    529.60803]]\n",
      "Offside IDS:  []\n"
     ]
    },
    {
     "name": "stderr",
     "output_type": "stream",
     "text": [
      "Embedding extraction: 1it [00:02,  2.06s/it]\n"
     ]
    },
    {
     "name": "stdout",
     "output_type": "stream",
     "text": [
      "[[5609.42   4581.013 ]\n",
      " [4592.982  2040.3622]\n",
      " [5932.3384 6133.223 ]\n",
      " [5345.4985 3396.1665]\n",
      " [7522.3975 4405.8057]\n",
      " [6605.255   529.333 ]\n",
      " [6980.3086 4818.568 ]]\n",
      "Offside IDS:  []\n"
     ]
    },
    {
     "name": "stderr",
     "output_type": "stream",
     "text": [
      "Embedding extraction: 1it [00:02,  2.08s/it]\n"
     ]
    },
    {
     "name": "stdout",
     "output_type": "stream",
     "text": [
      "[[4762.5996 4445.244 ]\n",
      " [5616.637  4570.598 ]\n",
      " [5941.939  6135.881 ]\n",
      " [5352.521  3385.0146]\n",
      " [4598.998  2058.1606]\n",
      " [7552.2354 4402.0093]\n",
      " [6995.7583 4828.2944]\n",
      " [6610.324   525.8563]]\n",
      "Offside IDS:  []\n"
     ]
    },
    {
     "name": "stderr",
     "output_type": "stream",
     "text": [
      "Embedding extraction: 1it [00:01,  1.94s/it]\n"
     ]
    },
    {
     "name": "stdout",
     "output_type": "stream",
     "text": [
      "[[5640.2993  4587.3003 ]\n",
      " [4876.0337  5598.766  ]\n",
      " [5378.7656  3414.3599 ]\n",
      " [5959.176   6122.4473 ]\n",
      " [4623.2817  2047.7305 ]\n",
      " [7568.795   4405.844  ]\n",
      " [6621.96     567.99054]]\n",
      "Offside IDS:  []\n"
     ]
    },
    {
     "name": "stderr",
     "output_type": "stream",
     "text": [
      "Embedding extraction: 1it [00:01,  1.93s/it]\n"
     ]
    },
    {
     "name": "stdout",
     "output_type": "stream",
     "text": [
      "[[5640.2993  4587.3003 ]\n",
      " [4876.0337  5598.766  ]\n",
      " [5378.7656  3414.3599 ]\n",
      " [5959.176   6122.4473 ]\n",
      " [4623.2817  2047.7305 ]\n",
      " [7568.795   4405.844  ]\n",
      " [6621.96     567.99054]]\n",
      "Offside IDS:  []\n"
     ]
    },
    {
     "name": "stderr",
     "output_type": "stream",
     "text": [
      "Embedding extraction: 1it [00:02,  2.18s/it]\n"
     ]
    },
    {
     "name": "stdout",
     "output_type": "stream",
     "text": [
      "[[5980.1143  6083.2725 ]\n",
      " [4891.6743  5608.453  ]\n",
      " [5658.834   4580.346  ]\n",
      " [5381.67    3414.075  ]\n",
      " [4616.275   2064.8328 ]\n",
      " [7608.713   4367.3354 ]\n",
      " [4807.889   4290.833  ]\n",
      " [7010.9565  4806.567  ]\n",
      " [6601.088    597.24225]]\n",
      "Offside IDS:  []\n"
     ]
    },
    {
     "name": "stderr",
     "output_type": "stream",
     "text": [
      "Embedding extraction: 1it [00:02,  2.15s/it]\n"
     ]
    },
    {
     "name": "stdout",
     "output_type": "stream",
     "text": [
      "[[4915.093  5607.6616]\n",
      " [5996.709  6049.375 ]\n",
      " [5389.2935 3418.3025]\n",
      " [7619.957  4360.138 ]\n",
      " [5670.2285 4595.9863]\n",
      " [4622.0083 2076.8105]\n",
      " [7006.8555 4815.4634]\n",
      " [6588.1787  549.4961]\n",
      " [4815.8364 4294.732 ]]\n",
      "Offside IDS:  []\n"
     ]
    },
    {
     "name": "stderr",
     "output_type": "stream",
     "text": [
      "Embedding extraction: 1it [00:02,  2.13s/it]\n"
     ]
    },
    {
     "name": "stdout",
     "output_type": "stream",
     "text": [
      "[[4920.9463 5611.558 ]\n",
      " [6008.6367 6043.8745]\n",
      " [4609.7944 2073.885 ]\n",
      " [7631.281  4392.8516]\n",
      " [5390.2886 3414.0522]\n",
      " [5672.449  4590.3657]\n",
      " [7009.899  4810.1323]\n",
      " [4814.334  4304.6787]\n",
      " [6581.0527  550.5577]]\n",
      "Offside IDS:  []\n"
     ]
    },
    {
     "name": "stderr",
     "output_type": "stream",
     "text": [
      "Embedding extraction: 1it [00:02,  2.17s/it]\n"
     ]
    },
    {
     "name": "stdout",
     "output_type": "stream",
     "text": [
      "[[6495.431  4907.8765]\n",
      " [6023.533  6049.4395]\n",
      " [4927.501  5616.1284]\n",
      " [7639.978  4443.112 ]\n",
      " [5687.794  4600.95  ]\n",
      " [4617.4404 2122.8008]\n",
      " [5396.274  3428.9458]\n",
      " [6578.822   589.4906]\n",
      " [4824.3594 4314.4297]\n",
      " [7010.559  4804.6606]]\n",
      "Offside IDS:  []\n"
     ]
    },
    {
     "name": "stderr",
     "output_type": "stream",
     "text": [
      "Embedding extraction: 1it [00:02,  2.05s/it]\n"
     ]
    },
    {
     "name": "stdout",
     "output_type": "stream",
     "text": [
      "[[4936.4336  5630.504  ]\n",
      " [7670.9414  4447.0547 ]\n",
      " [5702.7554  4622.5186 ]\n",
      " [6041.4766  6050.7275 ]\n",
      " [5402.768   3416.103  ]\n",
      " [4625.644   2160.275  ]\n",
      " [7022.443   4822.6494 ]\n",
      " [6583.794    550.92645]\n",
      " [4834.9507  4338.637  ]]\n",
      "Offside IDS:  [4]\n",
      "Player 4 is offside\n"
     ]
    },
    {
     "name": "stderr",
     "output_type": "stream",
     "text": [
      "Embedding extraction: 1it [00:02,  2.05s/it]\n"
     ]
    },
    {
     "name": "stdout",
     "output_type": "stream",
     "text": [
      "[[4936.6567  5631.132  ]\n",
      " [7671.5186  4446.4585 ]\n",
      " [5703.3994  4622.725  ]\n",
      " [6041.8857  6050.706  ]\n",
      " [5403.575   3416.3713 ]\n",
      " [4626.3784  2160.524  ]\n",
      " [7023.085   4822.254  ]\n",
      " [6585.363    551.01514]\n",
      " [4835.3765  4339.184  ]]\n",
      "Offside IDS:  [4]\n",
      "Player 4 is offside\n"
     ]
    },
    {
     "name": "stderr",
     "output_type": "stream",
     "text": [
      "Embedding extraction: 1it [00:01,  1.89s/it]\n"
     ]
    },
    {
     "name": "stdout",
     "output_type": "stream",
     "text": [
      "[[4936.411  5609.6816]\n",
      " [5404.819  3436.145 ]\n",
      " [7685.3384 4462.3975]\n",
      " [6059.786  6051.674 ]\n",
      " [4625.9624 2168.066 ]\n",
      " [5711.5273 4631.1387]\n",
      " [7024.0903 4815.842 ]\n",
      " [6575.388   586.6303]\n",
      " [4840.929  4316.4727]]\n",
      "Offside IDS:  [8]\n",
      "Player 8 is offside\n"
     ]
    },
    {
     "name": "stderr",
     "output_type": "stream",
     "text": [
      "Embedding extraction: 1it [00:01,  1.93s/it]\n"
     ]
    },
    {
     "name": "stdout",
     "output_type": "stream",
     "text": [
      "[[4945.993  5593.336 ]\n",
      " [5405.6196 3441.0813]\n",
      " [6072.1875 6046.9683]\n",
      " [7686.4014 4500.206 ]\n",
      " [5721.7793 4630.1294]\n",
      " [4629.9917 2209.9836]\n",
      " [6560.258   625.9347]\n",
      " [7019.1387 4845.185 ]]\n",
      "Offside IDS:  [10]\n",
      "Player 10 is offside\n"
     ]
    },
    {
     "name": "stderr",
     "output_type": "stream",
     "text": [
      "Embedding extraction: 1it [00:01,  1.90s/it]\n"
     ]
    },
    {
     "name": "stdout",
     "output_type": "stream",
     "text": [
      "[[5102.9536  5265.7197 ]\n",
      " [5420.0425  3441.141  ]\n",
      " [6084.5625  6037.593  ]\n",
      " [4645.5645  2218.1174 ]\n",
      " [5732.548   4638.634  ]\n",
      " [7014.2524  4868.3755 ]\n",
      " [7694.25    4515.326  ]\n",
      " [6558.7114   660.05853]]\n",
      "Offside IDS:  [12]\n",
      "Player 12 is offside\n"
     ]
    },
    {
     "name": "stderr",
     "output_type": "stream",
     "text": [
      "Embedding extraction: 1it [00:01,  1.95s/it]\n"
     ]
    },
    {
     "name": "stdout",
     "output_type": "stream",
     "text": [
      "[[4966.791  5560.368 ]\n",
      " [5743.8237 4672.86  ]\n",
      " [5437.3896 3476.8147]\n",
      " [6097.4785 6047.939 ]\n",
      " [4887.023  4344.985 ]\n",
      " [4663.7407 2247.8745]\n",
      " [6558.0024  731.8017]\n",
      " [7702.2344 4528.6235]\n",
      " [7013.8525 4904.746 ]]\n",
      "Offside IDS:  [15]\n",
      "Player 15 is offside\n"
     ]
    },
    {
     "name": "stderr",
     "output_type": "stream",
     "text": [
      "Embedding extraction: 1it [00:02,  2.30s/it]\n"
     ]
    },
    {
     "name": "stdout",
     "output_type": "stream",
     "text": [
      "[[6114.0005 6038.123 ]\n",
      " [4977.5513 5553.739 ]\n",
      " [5448.9165 3486.1382]\n",
      " [5755.975  4661.547 ]\n",
      " [4904.224  4361.125 ]\n",
      " [4681.5757 2264.5598]\n",
      " [7016.679  4927.4185]\n",
      " [6567.0474  730.7272]\n",
      " [7721.538  4544.1978]]\n",
      "Offside IDS:  []\n"
     ]
    },
    {
     "name": "stderr",
     "output_type": "stream",
     "text": [
      "Embedding extraction: 1it [00:02,  2.29s/it]\n"
     ]
    },
    {
     "name": "stdout",
     "output_type": "stream",
     "text": [
      "[[6114.0005 6038.123 ]\n",
      " [4977.5513 5553.739 ]\n",
      " [5448.9165 3486.1382]\n",
      " [5755.975  4661.547 ]\n",
      " [4904.224  4361.125 ]\n",
      " [4681.5757 2264.5598]\n",
      " [7016.679  4927.4185]\n",
      " [6567.0474  730.7272]\n",
      " [7721.538  4544.1978]]\n",
      "Offside IDS:  []\n"
     ]
    },
    {
     "name": "stderr",
     "output_type": "stream",
     "text": [
      "Embedding extraction: 1it [00:02,  2.23s/it]\n"
     ]
    },
    {
     "name": "stdout",
     "output_type": "stream",
     "text": [
      "[[6124.688   6025.2695 ]\n",
      " [5454.9307  3476.6475 ]\n",
      " [4986.0356  5552.008  ]\n",
      " [7028.5757  4916.329  ]\n",
      " [5762.1724  4669.0337 ]\n",
      " [4676.2593  2221.5625 ]\n",
      " [6568.105    772.77014]\n",
      " [4906.6104  4346.805  ]]\n",
      "Offside IDS:  []\n"
     ]
    },
    {
     "name": "stderr",
     "output_type": "stream",
     "text": [
      "Embedding extraction: 1it [00:02,  2.13s/it]\n"
     ]
    },
    {
     "name": "stdout",
     "output_type": "stream",
     "text": [
      "[[6135.8633 6020.4595]\n",
      " [7034.405  4921.0205]\n",
      " [4681.159  2226.178 ]\n",
      " [4997.6143 5554.614 ]\n",
      " [5470.3    3471.0762]\n",
      " [5768.375  4669.853 ]\n",
      " [6579.2075  705.2932]\n",
      " [4909.789  4343.638 ]]\n",
      "Offside IDS:  []\n"
     ]
    },
    {
     "name": "stderr",
     "output_type": "stream",
     "text": [
      "Embedding extraction: 1it [00:02,  2.08s/it]\n"
     ]
    },
    {
     "name": "stdout",
     "output_type": "stream",
     "text": [
      "[[6152.47   5997.952 ]\n",
      " [7092.6665 4865.7773]\n",
      " [5457.6147 3484.1873]\n",
      " [4933.1523 5601.492 ]\n",
      " [5767.7524 4671.016 ]\n",
      " [4610.151  2318.4355]\n",
      " [6614.745   727.1084]\n",
      " [4844.2476 4403.1816]\n",
      " [7859.718  4509.5415]]\n",
      "Offside IDS:  [16]\n",
      "Player 16 is offside\n"
     ]
    },
    {
     "name": "stderr",
     "output_type": "stream",
     "text": [
      "Embedding extraction: 1it [00:02,  2.09s/it]\n"
     ]
    },
    {
     "name": "stdout",
     "output_type": "stream",
     "text": [
      "[[6357.3457 3919.3826]\n",
      " [4930.8677 5598.741 ]\n",
      " [6153.3027 6010.626 ]\n",
      " [5464.271  3491.1082]\n",
      " [7100.653  4889.6   ]\n",
      " [4616.8086 2354.5525]\n",
      " [6614.6787  720.6945]\n",
      " [5777.4414 4675.074 ]\n",
      " [4845.505  4403.2114]]\n",
      "Offside IDS:  []\n"
     ]
    },
    {
     "name": "stderr",
     "output_type": "stream",
     "text": [
      "Embedding extraction: 1it [00:01,  1.84s/it]\n"
     ]
    },
    {
     "name": "stdout",
     "output_type": "stream",
     "text": [
      "[[7039.5483 1824.8489]\n",
      " [4949.1953 5600.9136]\n",
      " [6158.917  6002.674 ]\n",
      " [5472.7656 3525.344 ]\n",
      " [4622.393  2368.8496]\n",
      " [5787.2563 4700.2104]\n",
      " [7104.7363 4930.402 ]\n",
      " [6613.6304  726.1288]]\n",
      "Offside IDS:  []\n"
     ]
    },
    {
     "name": "stderr",
     "output_type": "stream",
     "text": [
      "Embedding extraction: 1it [00:01,  1.86s/it]\n"
     ]
    },
    {
     "name": "stdout",
     "output_type": "stream",
     "text": [
      "[[7037.9595  1824.8209 ]\n",
      " [4949.843   5599.581  ]\n",
      " [6157.818   6002.7085 ]\n",
      " [5472.6895  3525.0269 ]\n",
      " [4623.936   2368.792  ]\n",
      " [5786.663   4699.8853 ]\n",
      " [7102.9985  4931.2305 ]\n",
      " [6612.3765   726.10486]]\n",
      "Offside IDS:  []\n"
     ]
    },
    {
     "name": "stderr",
     "output_type": "stream",
     "text": [
      "Embedding extraction: 1it [00:01,  1.88s/it]\n"
     ]
    },
    {
     "name": "stdout",
     "output_type": "stream",
     "text": [
      "[[5007.5693 5505.354 ]\n",
      " [6137.782  5994.444 ]\n",
      " [5510.2393 3486.149 ]\n",
      " [7046.5703 4989.446 ]\n",
      " [5797.6074 4691.6206]\n",
      " [4712.7793 2293.2566]\n",
      " [6619.3174  659.8653]\n",
      " [7807.9263 4685.349 ]]\n",
      "Offside IDS:  [16]\n",
      "Player 16 is offside\n"
     ]
    },
    {
     "name": "stderr",
     "output_type": "stream",
     "text": [
      "Embedding extraction: 1it [00:01,  1.88s/it]\n"
     ]
    },
    {
     "name": "stdout",
     "output_type": "stream",
     "text": [
      "[[5797.577  4699.299 ]\n",
      " [4709.828  2308.1125]\n",
      " [7051.0957 4992.6377]\n",
      " [6145.4604 5984.4453]\n",
      " [5517.8335 3488.4897]\n",
      " [6610.995   647.6279]]\n",
      "Offside IDS:  []\n"
     ]
    },
    {
     "name": "stderr",
     "output_type": "stream",
     "text": [
      "Embedding extraction: 1it [00:01,  1.91s/it]\n"
     ]
    },
    {
     "name": "stdout",
     "output_type": "stream",
     "text": [
      "[[5004.294  5460.9453]\n",
      " [5795.5522 4716.0454]\n",
      " [5518.543  3482.0176]\n",
      " [7048.2856 4986.2393]\n",
      " [6142.823  5964.4854]\n",
      " [4714.712  2309.5237]\n",
      " [6597.689   642.4666]\n",
      " [7809.5303 4670.7764]]\n",
      "Offside IDS:  [15]\n",
      "Player 15 is offside\n"
     ]
    },
    {
     "name": "stderr",
     "output_type": "stream",
     "text": [
      "Embedding extraction: 1it [00:01,  1.79s/it]\n"
     ]
    },
    {
     "name": "stdout",
     "output_type": "stream",
     "text": [
      "[[5012.5273  5478.743  ]\n",
      " [7047.9077  5013.751  ]\n",
      " [5803.9756  4749.655  ]\n",
      " [4709.516   2331.4446 ]\n",
      " [6151.502   5975.4316 ]\n",
      " [5520.5083  3504.261  ]\n",
      " [6592.4517   686.12616]\n",
      " [7816.1426  4700.5938 ]\n",
      " [4939.4556  4442.2666 ]]\n",
      "Offside IDS:  [14]\n",
      "Player 14 is offside\n"
     ]
    },
    {
     "name": "stderr",
     "output_type": "stream",
     "text": [
      "Embedding extraction: 1it [00:01,  1.85s/it]\n"
     ]
    },
    {
     "name": "stdout",
     "output_type": "stream",
     "text": [
      "[[5034.4614  5476.696  ]\n",
      " [6167.5293  5948.9385 ]\n",
      " [5826.1187  4745.9663 ]\n",
      " [7061.5454  5004.84   ]\n",
      " [5537.87    3502.3916 ]\n",
      " [4719.9194  2331.9006 ]\n",
      " [6606.18     649.09564]\n",
      " [7831.867   4706.7437 ]]\n",
      "Offside IDS:  [16]\n",
      "Player 16 is offside\n"
     ]
    },
    {
     "name": "stderr",
     "output_type": "stream",
     "text": [
      "Embedding extraction: 1it [00:01,  1.77s/it]\n"
     ]
    },
    {
     "name": "stdout",
     "output_type": "stream",
     "text": [
      "[[5033.3745 5477.789 ]\n",
      " [6166.699  5948.6646]\n",
      " [5826.175  4746.174 ]\n",
      " [7061.493  5003.8047]\n",
      " [5538.7954 3502.7383]\n",
      " [4721.055  2332.2383]\n",
      " [6609.8857  649.2072]\n",
      " [7831.683  4705.118 ]]\n",
      "Offside IDS:  [16]\n",
      "Player 16 is offside\n"
     ]
    },
    {
     "name": "stderr",
     "output_type": "stream",
     "text": [
      "Embedding extraction: 1it [00:01,  1.79s/it]\n"
     ]
    },
    {
     "name": "stdout",
     "output_type": "stream",
     "text": [
      "[[5046.264  5432.5806]\n",
      " [6171.1694 5931.4253]\n",
      " [7067.7905 4990.437 ]\n",
      " [5835.072  4737.085 ]\n",
      " [5551.865  3458.2283]\n",
      " [6608.807   641.083 ]\n",
      " [4746.581  2286.6472]\n",
      " [7840.0337 4733.4653]]\n",
      "Offside IDS:  [14]\n",
      "Player 14 is offside\n"
     ]
    },
    {
     "name": "stderr",
     "output_type": "stream",
     "text": [
      "Embedding extraction: 1it [00:01,  1.82s/it]\n"
     ]
    },
    {
     "name": "stdout",
     "output_type": "stream",
     "text": [
      "[[6175.3994  5909.204  ]\n",
      " [5049.1997  5437.1143 ]\n",
      " [7844.971   4750.0024 ]\n",
      " [5560.2124  3457.8367 ]\n",
      " [5839.6616  4760.5347 ]\n",
      " [4750.6943  2291.3884 ]\n",
      " [7068.007   5016.056  ]\n",
      " [6606.523    673.07965]]\n",
      "Offside IDS:  [7]\n",
      "Player 7 is offside\n"
     ]
    },
    {
     "name": "stderr",
     "output_type": "stream",
     "text": [
      "Embedding extraction: 1it [00:01,  1.81s/it]\n"
     ]
    },
    {
     "name": "stdout",
     "output_type": "stream",
     "text": [
      "[[6172.955  5912.875 ]\n",
      " [7064.71   5042.3716]\n",
      " [7839.256  4784.592 ]\n",
      " [5046.9336 5432.95  ]\n",
      " [4752.8374 2310.0713]\n",
      " [5565.4995 3460.2031]\n",
      " [5845.6875 4778.717 ]\n",
      " [6602.8604  679.342 ]]\n",
      "Offside IDS:  [7]\n",
      "Player 7 is offside\n"
     ]
    },
    {
     "name": "stderr",
     "output_type": "stream",
     "text": [
      "Embedding extraction: 1it [00:01,  1.79s/it]\n"
     ]
    },
    {
     "name": "stdout",
     "output_type": "stream",
     "text": [
      "[[6170.9663 5914.1396]\n",
      " [7056.319  5074.606 ]\n",
      " [5055.5684 5435.6147]\n",
      " [4767.3306 2335.9695]\n",
      " [7830.9766 4792.5303]\n",
      " [5573.6753 3465.2268]\n",
      " [5863.1743 4785.148 ]\n",
      " [6612.564   691.1266]]\n",
      "Offside IDS:  [12]\n",
      "Player 12 is offside\n"
     ]
    },
    {
     "name": "stderr",
     "output_type": "stream",
     "text": [
      "Embedding extraction: 1it [00:01,  1.88s/it]\n"
     ]
    },
    {
     "name": "stdout",
     "output_type": "stream",
     "text": [
      "[[5068.248   5419.4243 ]\n",
      " [6171.92    5919.0747 ]\n",
      " [7050.1797  5094.369  ]\n",
      " [7825.329   4809.766  ]\n",
      " [5588.1245  3461.4773 ]\n",
      " [6581.5723  4797.154  ]\n",
      " [5874.831   4793.356  ]\n",
      " [4785.6235  2353.3875 ]\n",
      " [6607.66     690.03656]]\n",
      "Offside IDS:  [7]\n",
      "Player 7 is offside\n"
     ]
    },
    {
     "name": "stderr",
     "output_type": "stream",
     "text": [
      "Embedding extraction: 1it [00:02,  2.11s/it]\n"
     ]
    },
    {
     "name": "stdout",
     "output_type": "stream",
     "text": [
      "[[5070.748  5421.847 ]\n",
      " [6171.5425 5918.807 ]\n",
      " [7049.772  5091.222 ]\n",
      " [7826.804  4803.514 ]\n",
      " [5588.421  3463.4717]\n",
      " [6580.7896 4795.1562]\n",
      " [5874.715  4793.789 ]\n",
      " [4788.7314 2361.2595]\n",
      " [6606.2583  683.3187]]\n",
      "Offside IDS:  [7]\n",
      "Player 7 is offside\n"
     ]
    },
    {
     "name": "stderr",
     "output_type": "stream",
     "text": [
      "Embedding extraction: 1it [00:01,  1.95s/it]\n"
     ]
    },
    {
     "name": "stdout",
     "output_type": "stream",
     "text": [
      "[[5077.745   5424.3784 ]\n",
      " [6174.637   5912.496  ]\n",
      " [7059.971   5102.6904 ]\n",
      " [5596.726   3482.669  ]\n",
      " [7839.15    4804.555  ]\n",
      " [5884.5137  4789.255  ]\n",
      " [4791.272   2342.047  ]\n",
      " [6584.9985  4791.4277 ]\n",
      " [6606.1494   714.66925]]\n",
      "Offside IDS:  [8]\n",
      "Player 8 is offside\n"
     ]
    },
    {
     "name": "stderr",
     "output_type": "stream",
     "text": [
      "Embedding extraction: 1it [00:01,  1.94s/it]\n"
     ]
    },
    {
     "name": "stdout",
     "output_type": "stream",
     "text": [
      "[[5605.9023 3484.648 ]\n",
      " [4798.919  2344.4736]\n",
      " [5091.0547 5426.933 ]\n",
      " [7826.5493 4813.2344]\n",
      " [5892.304  4775.9165]\n",
      " [7055.1255 5124.7974]\n",
      " [6584.012  4788.715 ]\n",
      " [6608.932   678.4006]]\n",
      "Offside IDS:  [6]\n",
      "Player 6 is offside\n"
     ]
    },
    {
     "name": "stderr",
     "output_type": "stream",
     "text": [
      "Embedding extraction: 1it [00:01,  1.86s/it]\n"
     ]
    },
    {
     "name": "stdout",
     "output_type": "stream",
     "text": [
      "[[6179.992   5909.2373 ]\n",
      " [5605.1816  3495.1921 ]\n",
      " [7058.24    5139.295  ]\n",
      " [5090.5366  5429.573  ]\n",
      " [4806.8716  2364.5227 ]\n",
      " [6585.338   4805.831  ]\n",
      " [6605.4365   715.69586]]\n",
      "Offside IDS:  []\n"
     ]
    },
    {
     "name": "stderr",
     "output_type": "stream",
     "text": [
      "Embedding extraction: 1it [00:01,  1.96s/it]\n"
     ]
    },
    {
     "name": "stdout",
     "output_type": "stream",
     "text": [
      "[[6502.6597 4033.6292]\n",
      " [5608.675  3514.9058]\n",
      " [5918.8857 4824.822 ]\n",
      " [6585.0537 4804.8276]\n",
      " [4809.4805 2365.2322]\n",
      " [7065.405  5152.1763]\n",
      " [5094.5273 5421.852 ]\n",
      " [6600.0776  715.3159]]\n",
      "Offside IDS:  []\n"
     ]
    },
    {
     "name": "stderr",
     "output_type": "stream",
     "text": [
      "Embedding extraction: 1it [00:01,  1.93s/it]\n"
     ]
    },
    {
     "name": "stdout",
     "output_type": "stream",
     "text": [
      "[[5617.463  3516.619 ]\n",
      " [7813.609  4867.4956]\n",
      " [4809.5674 2343.1543]\n",
      " [5109.0015 5420.309 ]\n",
      " [6593.066  4803.2593]\n",
      " [7071.74   5149.059 ]\n",
      " [5935.2656 4851.6616]\n",
      " [6605.773   716.1722]]\n",
      "Offside IDS:  [4]\n",
      "Player 4 is offside\n"
     ]
    },
    {
     "name": "stderr",
     "output_type": "stream",
     "text": [
      "Embedding extraction: 1it [00:01,  1.98s/it]\n"
     ]
    },
    {
     "name": "stdout",
     "output_type": "stream",
     "text": [
      "[[5617.463  3516.619 ]\n",
      " [7813.609  4867.4956]\n",
      " [4809.5674 2343.1543]\n",
      " [5109.0015 5420.309 ]\n",
      " [6593.066  4803.2593]\n",
      " [7071.74   5149.059 ]\n",
      " [5935.2656 4851.6616]\n",
      " [6605.773   716.1722]]\n",
      "Offside IDS:  [4]\n",
      "Player 4 is offside\n"
     ]
    },
    {
     "name": "stderr",
     "output_type": "stream",
     "text": [
      "Embedding extraction: 1it [00:01,  1.97s/it]\n"
     ]
    },
    {
     "name": "stdout",
     "output_type": "stream",
     "text": [
      "[[5123.656  5422.9604]\n",
      " [5631.914  3525.5024]\n",
      " [4822.2725 2388.7808]\n",
      " [7075.44   5140.7065]\n",
      " [6594.8535 4798.334 ]\n",
      " [7807.5537 4869.9683]\n",
      " [6596.999   744.2184]\n",
      " [5945.146  4877.5674]]\n",
      "Offside IDS:  []\n"
     ]
    },
    {
     "name": "stderr",
     "output_type": "stream",
     "text": [
      "Embedding extraction: 1it [00:01,  1.99s/it]\n"
     ]
    },
    {
     "name": "stdout",
     "output_type": "stream",
     "text": [
      "[[5789.2266 3236.3708]\n",
      " [5080.6646 5448.263 ]\n",
      " [7131.594  5059.584 ]\n",
      " [4773.4805 2405.6104]\n",
      " [5627.256  3531.7224]\n",
      " [6628.6904 4769.634 ]\n",
      " [7872.3843 4767.8975]\n",
      " [6615.5713  780.0935]\n",
      " [5958.577  4867.428 ]]\n",
      "Offside IDS:  []\n"
     ]
    },
    {
     "name": "stderr",
     "output_type": "stream",
     "text": [
      "Embedding extraction: 1it [00:02,  2.02s/it]\n"
     ]
    },
    {
     "name": "stdout",
     "output_type": "stream",
     "text": [
      "[[4767.5674  2415.6228 ]\n",
      " [6190.986   5910.23   ]\n",
      " [5078.026   5466.1226 ]\n",
      " [7129.749   5098.096  ]\n",
      " [6632.548   4783.0996 ]\n",
      " [5627.715   3564.2056 ]\n",
      " [7876.4863  4783.8623 ]\n",
      " [6624.731    758.76746]\n",
      " [5968.077   4893.074  ]]\n",
      "Offside IDS:  []\n"
     ]
    },
    {
     "name": "stderr",
     "output_type": "stream",
     "text": [
      "Embedding extraction: 1it [00:02,  2.11s/it]\n"
     ]
    },
    {
     "name": "stdout",
     "output_type": "stream",
     "text": [
      "[[5360.523  5306.2744]\n",
      " [5082.332  5461.8037]\n",
      " [5631.6123 3563.086 ]\n",
      " [4770.5674 2409.417 ]\n",
      " [7878.47   4789.966 ]\n",
      " [6639.485  4784.97  ]\n",
      " [7129.4546 5125.9043]\n",
      " [6623.6924  764.9759]\n",
      " [5977.6025 4892.695 ]]\n",
      "Offside IDS:  []\n"
     ]
    },
    {
     "name": "stderr",
     "output_type": "stream",
     "text": [
      "Embedding extraction: 1it [00:02,  2.22s/it]\n"
     ]
    },
    {
     "name": "stdout",
     "output_type": "stream",
     "text": [
      "[[6188.089  5903.405 ]\n",
      " [7873.026  4769.2744]\n",
      " [5634.432  3563.9011]\n",
      " [5089.0947 5458.728 ]\n",
      " [6642.2993 4781.087 ]\n",
      " [7123.877  5133.3994]\n",
      " [4783.6865 2444.134 ]\n",
      " [6609.8555  786.4975]\n",
      " [5981.5425 4889.2744]]\n",
      "Offside IDS:  []\n"
     ]
    },
    {
     "name": "stderr",
     "output_type": "stream",
     "text": [
      "Embedding extraction: 1it [00:02,  2.12s/it]\n"
     ]
    },
    {
     "name": "stdout",
     "output_type": "stream",
     "text": [
      "[[6188.802  5903.5605]\n",
      " [7873.2417 4770.248 ]\n",
      " [5633.4873 3563.696 ]\n",
      " [5089.84   5458.065 ]\n",
      " [6642.1333 4781.379 ]\n",
      " [7124.0664 5134.06  ]\n",
      " [4782.3794 2443.9746]\n",
      " [6606.5776  786.3771]\n",
      " [5979.7007 4888.9805]]\n",
      "Offside IDS:  []\n"
     ]
    },
    {
     "name": "stderr",
     "output_type": "stream",
     "text": [
      "Embedding extraction: 1it [00:02,  2.11s/it]\n"
     ]
    },
    {
     "name": "stdout",
     "output_type": "stream",
     "text": [
      "[[6191.7266 5903.703 ]\n",
      " [5095.519  5450.1   ]\n",
      " [5645.4814 3583.7244]\n",
      " [7870.2856 4782.559 ]\n",
      " [7131.7124 5146.3657]\n",
      " [6659.378  4768.8384]\n",
      " [4802.4277 2446.045 ]\n",
      " [4987.8584 4583.894 ]\n",
      " [6615.807   786.8323]\n",
      " [5994.357  4942.5635]]\n",
      "Offside IDS:  []\n"
     ]
    },
    {
     "name": "stderr",
     "output_type": "stream",
     "text": [
      "Embedding extraction: 1it [00:02,  2.45s/it]\n"
     ]
    },
    {
     "name": "stdout",
     "output_type": "stream",
     "text": [
      "[[7315.5513  4554.221  ]\n",
      " [5097.4736  5439.1665 ]\n",
      " [6187.862   5903.207  ]\n",
      " [7124.6987  5159.105  ]\n",
      " [5648.032   3602.437  ]\n",
      " [6659.3535  4769.368  ]\n",
      " [4806.085   2423.068  ]\n",
      " [4986.14    4555.959  ]\n",
      " [6613.204    786.57965]\n",
      " [6006.769   4759.815  ]]\n",
      "Offside IDS:  []\n"
     ]
    },
    {
     "name": "stderr",
     "output_type": "stream",
     "text": [
      "Embedding extraction: 1it [00:02,  2.28s/it]\n"
     ]
    },
    {
     "name": "stdout",
     "output_type": "stream",
     "text": [
      "[[7852.54   4779.5903]\n",
      " [5104.998  5441.768 ]\n",
      " [7126.1074 5183.137 ]\n",
      " [6188.748  5903.129 ]\n",
      " [5659.756  3603.8965]\n",
      " [6668.701  4769.7227]\n",
      " [4986.583  4502.2485]\n",
      " [4822.1206 2448.084 ]\n",
      " [6619.0127  786.8575]\n",
      " [6021.4653 4920.308 ]]\n",
      "Offside IDS:  []\n"
     ]
    },
    {
     "name": "stderr",
     "output_type": "stream",
     "text": [
      "Embedding extraction: 1it [00:02,  2.25s/it]\n"
     ]
    },
    {
     "name": "stdout",
     "output_type": "stream",
     "text": [
      "[[8027.9375  4553.0967 ]\n",
      " [7124.183   5202.156  ]\n",
      " [7835.319   4803.702  ]\n",
      " [6185.961   5904.5117 ]\n",
      " [6673.3022  4773.684  ]\n",
      " [5113.7354  5438.8726 ]\n",
      " [4993.44    4522.42   ]\n",
      " [5667.975   3596.6067 ]\n",
      " [4822.51    2400.2114 ]\n",
      " [6030.648   4933.9434 ]\n",
      " [6632.178    769.83093]]\n",
      "Offside IDS:  [1]\n",
      "Player 1 is offside\n"
     ]
    },
    {
     "name": "stderr",
     "output_type": "stream",
     "text": [
      "Embedding extraction: 1it [00:02,  2.20s/it]\n"
     ]
    },
    {
     "name": "stdout",
     "output_type": "stream",
     "text": [
      "[[8029.9453 4556.2993]\n",
      " [7130.6284 5204.9653]\n",
      " [7831.2676 4806.1255]\n",
      " [6187.4795 5904.346 ]\n",
      " [5003.494  4522.271 ]\n",
      " [6673.6123 4774.8706]\n",
      " [5136.0967 5438.004 ]\n",
      " [4842.115  2438.4985]\n",
      " [6041.1    4934.931 ]\n",
      " [5675.078  3601.187 ]\n",
      " [6626.3315  826.8759]]\n",
      "Offside IDS:  [1]\n",
      "Player 1 is offside\n"
     ]
    },
    {
     "name": "stderr",
     "output_type": "stream",
     "text": [
      "Embedding extraction: 1it [00:02,  2.14s/it]\n"
     ]
    },
    {
     "name": "stdout",
     "output_type": "stream",
     "text": [
      "[[8029.9453 4556.2993]\n",
      " [7831.2676 4806.1255]\n",
      " [7130.6284 5204.9653]\n",
      " [6187.4795 5904.346 ]\n",
      " [5003.494  4522.271 ]\n",
      " [6673.6123 4774.8706]\n",
      " [5136.0967 5438.004 ]\n",
      " [4842.115  2438.4985]\n",
      " [6041.1    4934.931 ]\n",
      " [5675.078  3601.187 ]\n",
      " [6626.3315  826.8759]]\n",
      "Offside IDS:  [1]\n",
      "Player 1 is offside\n"
     ]
    },
    {
     "name": "stderr",
     "output_type": "stream",
     "text": [
      "Embedding extraction: 1it [00:02,  2.15s/it]\n"
     ]
    },
    {
     "name": "stdout",
     "output_type": "stream",
     "text": [
      "[[7328.5703 4549.4175]\n",
      " [6181.2607 5894.0205]\n",
      " [6043.285  4948.1416]\n",
      " [6664.584  4774.0176]\n",
      " [7129.2446 5205.2407]\n",
      " [5005.0454 4535.9946]\n",
      " [5141.5776 5438.4087]\n",
      " [4851.707  2439.4756]\n",
      " [5675.961  3601.353 ]\n",
      " [6626.4155  826.8024]]\n",
      "Offside IDS:  []\n"
     ]
    },
    {
     "name": "stderr",
     "output_type": "stream",
     "text": [
      "Embedding extraction: 1it [00:02,  2.14s/it]\n"
     ]
    },
    {
     "name": "stdout",
     "output_type": "stream",
     "text": [
      "[[8021.1284  4562.5874 ]\n",
      " [6052.3945  4936.6997 ]\n",
      " [4858.248   2410.136  ]\n",
      " [6185.3984  5894.7812 ]\n",
      " [6669.858   4762.623  ]\n",
      " [7135.352   5208.512  ]\n",
      " [5007.8955  4520.028  ]\n",
      " [5145.383   5437.848  ]\n",
      " [5688.322   3601.6267 ]\n",
      " [6633.4785   833.28595]]\n",
      "Offside IDS:  [1]\n",
      "Player 1 is offside\n"
     ]
    },
    {
     "name": "stderr",
     "output_type": "stream",
     "text": [
      "Embedding extraction: 1it [00:02,  2.18s/it]\n"
     ]
    },
    {
     "name": "stdout",
     "output_type": "stream",
     "text": [
      "[[8016.9746 4570.287 ]\n",
      " [6184.7607 5897.8486]\n",
      " [6667.6113 4767.536 ]\n",
      " [6056.1235 4953.5103]\n",
      " [6631.147   834.1724]\n",
      " [5016.9355 4522.136 ]\n",
      " [5152.9624 5438.853 ]\n",
      " [4864.5063 2389.7896]\n",
      " [5693.6963 3605.468 ]]\n",
      "Offside IDS:  [1]\n",
      "Player 1 is offside\n"
     ]
    },
    {
     "name": "stderr",
     "output_type": "stream",
     "text": [
      "Embedding extraction: 1it [00:02,  2.20s/it]\n"
     ]
    },
    {
     "name": "stdout",
     "output_type": "stream",
     "text": [
      "[[6062.588   4961.4604 ]\n",
      " [7771.114   4832.959  ]\n",
      " [6185.646   5902.38   ]\n",
      " [5698.1934  3633.6565 ]\n",
      " [5162.0225  5435.9556 ]\n",
      " [6632.874    838.80347]\n",
      " [6666.2974  4788.32   ]\n",
      " [4882.357   2402.3508 ]\n",
      " [5027.1064  4545.93   ]]\n",
      "Offside IDS:  []\n"
     ]
    },
    {
     "name": "stderr",
     "output_type": "stream",
     "text": [
      "Embedding extraction: 1it [00:02,  2.19s/it]\n"
     ]
    },
    {
     "name": "stdout",
     "output_type": "stream",
     "text": [
      "[[6195.171   5903.5874 ]\n",
      " [5173.004   5438.71   ]\n",
      " [6678.1094  4789.3066 ]\n",
      " [7123.2173  5280.164  ]\n",
      " [6082.642   4964.189  ]\n",
      " [5711.493   3635.472  ]\n",
      " [6646.1826   839.70374]\n",
      " [4903.916   2428.384  ]\n",
      " [7769.0435  4831.0933 ]\n",
      " [5034.33    4547.9517 ]]\n",
      "Offside IDS:  []\n"
     ]
    },
    {
     "name": "stderr",
     "output_type": "stream",
     "text": [
      "Embedding extraction: 1it [00:02,  2.14s/it]\n"
     ]
    },
    {
     "name": "stdout",
     "output_type": "stream",
     "text": [
      "[[6195.171   5903.5874 ]\n",
      " [5174.142   5449.2603 ]\n",
      " [6678.1094  4789.3066 ]\n",
      " [7123.2173  5280.164  ]\n",
      " [6082.642   4964.189  ]\n",
      " [5711.493   3635.472  ]\n",
      " [6646.1826   839.70374]\n",
      " [4903.916   2428.384  ]\n",
      " [7769.0435  4831.0933 ]\n",
      " [5034.33    4547.9517 ]]\n",
      "Offside IDS:  []\n"
     ]
    },
    {
     "name": "stderr",
     "output_type": "stream",
     "text": [
      "Embedding extraction: 1it [00:02,  2.14s/it]\n"
     ]
    },
    {
     "name": "stdout",
     "output_type": "stream",
     "text": [
      "[[6211.505  5907.9663]\n",
      " [5183.03   5446.2236]\n",
      " [6691.4844 4779.6567]\n",
      " [7127.0356 5293.4062]\n",
      " [6651.7783  842.177 ]\n",
      " [5717.8125 3660.302 ]\n",
      " [5035.5044 4541.762 ]\n",
      " [4918.864  2436.8867]\n",
      " [7771.806  4831.0156]\n",
      " [6105.6177 4971.1934]]\n",
      "Offside IDS:  []\n"
     ]
    },
    {
     "name": "stderr",
     "output_type": "stream",
     "text": [
      "Embedding extraction: 1it [00:02,  2.16s/it]\n"
     ]
    },
    {
     "name": "stdout",
     "output_type": "stream",
     "text": [
      "[[7133.8926 5292.964 ]\n",
      " [6694.972  4778.4956]\n",
      " [5723.1553 3660.2312]\n",
      " [6220.261  5896.509 ]\n",
      " [6116.6353 4969.2344]\n",
      " [5186.0156 5441.018 ]\n",
      " [6648.6655  869.1236]\n",
      " [5039.853  4550.5815]\n",
      " [4923.1377 2441.0833]\n",
      " [7769.6426 4831.882 ]]\n",
      "Offside IDS:  []\n"
     ]
    },
    {
     "name": "stderr",
     "output_type": "stream",
     "text": [
      "Embedding extraction: 1it [00:02,  2.15s/it]\n"
     ]
    },
    {
     "name": "stdout",
     "output_type": "stream",
     "text": [
      "[[5729.5684  3660.4312 ]\n",
      " [7129.138   5329.329  ]\n",
      " [5194.3364  5441.501  ]\n",
      " [6692.624   4778.279  ]\n",
      " [4932.1855  2441.4873 ]\n",
      " [6218.221   5896.455  ]\n",
      " [6644.873    869.08344]\n",
      " [6117.76    4969.197  ]\n",
      " [7752.0737  4844.7407 ]\n",
      " [5046.8584  4564.2427 ]]\n",
      "Offside IDS:  []\n"
     ]
    },
    {
     "name": "stderr",
     "output_type": "stream",
     "text": [
      "Embedding extraction: 1it [00:02,  2.14s/it]\n"
     ]
    },
    {
     "name": "stdout",
     "output_type": "stream",
     "text": [
      "[[6226.186   5887.9326 ]\n",
      " [4944.0425  2443.0596 ]\n",
      " [5740.253   3680.075  ]\n",
      " [7132.8677  5341.396  ]\n",
      " [6694.1533  4792.261  ]\n",
      " [6653.9146   869.62933]\n",
      " [6126.4146  4970.468  ]\n",
      " [5211.5713  5444.4814 ]\n",
      " [5055.5786  4579.655  ]\n",
      " [7796.211   4702.6978 ]]\n",
      "Offside IDS:  []\n"
     ]
    },
    {
     "name": "stderr",
     "output_type": "stream",
     "text": [
      "Embedding extraction: 1it [00:02,  2.16s/it]\n"
     ]
    },
    {
     "name": "stdout",
     "output_type": "stream",
     "text": [
      "[[6232.209  5888.717 ]\n",
      " [6138.8516 4972.1045]\n",
      " [5749.928  3681.2832]\n",
      " [4954.898  2444.2214]\n",
      " [5223.5654 5446.595 ]\n",
      " [7142.6206 5354.2627]\n",
      " [5058.821  4580.4683]\n",
      " [6703.8438 4793.2896]\n",
      " [6664.191   904.4693]\n",
      " [7819.244  4659.6753]]\n",
      "Offside IDS:  []\n"
     ]
    },
    {
     "name": "stderr",
     "output_type": "stream",
     "text": [
      "Embedding extraction: 1it [00:02,  2.23s/it]\n"
     ]
    },
    {
     "name": "stdout",
     "output_type": "stream",
     "text": [
      "[[6232.209  5888.717 ]\n",
      " [6138.8516 4972.1045]\n",
      " [5749.928  3681.2832]\n",
      " [4954.898  2444.2214]\n",
      " [5223.5654 5446.595 ]\n",
      " [7142.6206 5354.2627]\n",
      " [5058.821  4580.4683]\n",
      " [6703.8438 4793.2896]\n",
      " [6664.191   904.4693]\n",
      " [7819.244  4659.6753]]\n",
      "Offside IDS:  []\n"
     ]
    },
    {
     "name": "stderr",
     "output_type": "stream",
     "text": [
      "Embedding extraction: 1it [00:02,  2.13s/it]\n"
     ]
    },
    {
     "name": "stdout",
     "output_type": "stream",
     "text": [
      "[[6236.5854 5883.1206]\n",
      " [5230.2065 5458.349 ]\n",
      " [5750.7256 3702.795 ]\n",
      " [5060.098  4581.933 ]\n",
      " [4965.099  2448.141 ]\n",
      " [7138.7227 5384.032 ]\n",
      " [6704.069  4784.6963]\n",
      " [6148.3174 4989.888 ]\n",
      " [6666.8755  905.762 ]\n",
      " [7806.501  4696.0664]]\n",
      "Offside IDS:  []\n"
     ]
    },
    {
     "name": "stderr",
     "output_type": "stream",
     "text": [
      "Embedding extraction: 1it [00:02,  2.08s/it]\n"
     ]
    },
    {
     "name": "stdout",
     "output_type": "stream",
     "text": [
      "[[5243.4624 5456.954 ]\n",
      " [6251.2007 5878.3965]\n",
      " [5764.523  3705.9329]\n",
      " [5072.927  4594.357 ]\n",
      " [6710.6606 4805.8794]\n",
      " [4982.5146 2447.6885]\n",
      " [6162.7954 4995.0117]\n",
      " [6681.665   940.4932]\n",
      " [7158.788  5407.631 ]]\n",
      "Offside IDS:  []\n"
     ]
    },
    {
     "name": "stderr",
     "output_type": "stream",
     "text": [
      "Embedding extraction: 1it [00:02,  2.16s/it]\n"
     ]
    },
    {
     "name": "stdout",
     "output_type": "stream",
     "text": [
      "[[5248.374   5470.049  ]\n",
      " [6725.5845  4796.479  ]\n",
      " [5773.0703  3701.715  ]\n",
      " [7191.6357  5397.571  ]\n",
      " [5071.2646  4594.855  ]\n",
      " [6274.8896  5875.9746 ]\n",
      " [4981.2925  2446.75   ]\n",
      " [7791.3457  4806.146  ]\n",
      " [6693.323    940.78296]\n",
      " [6182.756   4990.6963 ]]\n",
      "Offside IDS:  []\n"
     ]
    },
    {
     "name": "stderr",
     "output_type": "stream",
     "text": [
      "Embedding extraction: 1it [00:02,  2.16s/it]\n"
     ]
    },
    {
     "name": "stdout",
     "output_type": "stream",
     "text": [
      "[[5255.912  5472.969 ]\n",
      " [6722.724  4800.702 ]\n",
      " [7193.2085 5402.7065]\n",
      " [5071.2144 4584.016 ]\n",
      " [6197.2134 4996.447 ]\n",
      " [6285.332  5880.5215]\n",
      " [5777.2866 3723.9712]\n",
      " [7761.5195 4865.9673]\n",
      " [4994.853  2451.3743]\n",
      " [6698.194   942.149 ]]\n",
      "Offside IDS:  []\n"
     ]
    },
    {
     "name": "stderr",
     "output_type": "stream",
     "text": [
      "Embedding extraction: 1it [00:02,  2.15s/it]\n"
     ]
    },
    {
     "name": "stdout",
     "output_type": "stream",
     "text": [
      "[[5263.5366 5466.1616]\n",
      " [6290.9937 5889.7725]\n",
      " [7198.802  5407.1475]\n",
      " [5078.7524 4574.27  ]\n",
      " [6729.064  4801.8037]\n",
      " [5790.0293 3718.8135]\n",
      " [7759.673  4872.8774]\n",
      " [6215.091  5008.6714]\n",
      " [6719.018   914.565 ]\n",
      " [5016.947  2464.4863]]\n",
      "Offside IDS:  []\n"
     ]
    },
    {
     "name": "stderr",
     "output_type": "stream",
     "text": [
      "Embedding extraction: 1it [00:02,  2.20s/it]\n"
     ]
    },
    {
     "name": "stdout",
     "output_type": "stream",
     "text": [
      "[[5263.5366 5466.1616]\n",
      " [6290.9937 5889.7725]\n",
      " [7198.802  5407.1475]\n",
      " [5078.7524 4574.27  ]\n",
      " [6729.064  4801.8037]\n",
      " [5790.0293 3718.8135]\n",
      " [7759.673  4872.8774]\n",
      " [6215.091  5008.6714]\n",
      " [6719.018   914.565 ]\n",
      " [5016.947  2464.4863]]\n",
      "Offside IDS:  []\n"
     ]
    },
    {
     "name": "stderr",
     "output_type": "stream",
     "text": [
      "Embedding extraction: 1it [00:02,  2.20s/it]\n"
     ]
    },
    {
     "name": "stdout",
     "output_type": "stream",
     "text": [
      "[[5707.1313  5414.7646 ]\n",
      " [6297.2295  5900.9697 ]\n",
      " [5267.3613  5474.983  ]\n",
      " [7210.398   5412.7275 ]\n",
      " [6225.2427  4998.234  ]\n",
      " [5803.624   3719.7808 ]\n",
      " [6734.447   4805.4204 ]\n",
      " [7765.1904  4880.569  ]\n",
      " [5082.9546  4571.4497 ]\n",
      " [6728.9805   955.93384]\n",
      " [5028.4     2460.1653 ]]\n",
      "Offside IDS:  []\n"
     ]
    },
    {
     "name": "stderr",
     "output_type": "stream",
     "text": [
      "Embedding extraction: 1it [00:02,  2.13s/it]\n"
     ]
    },
    {
     "name": "stdout",
     "output_type": "stream",
     "text": [
      "[[7152.892  6067.5586]\n",
      " [7761.3657 4886.1953]\n",
      " [7216.1675 5418.912 ]\n",
      " [5809.354  3724.098 ]\n",
      " [6229.337  5002.5874]\n",
      " [6297.341  5904.19  ]\n",
      " [6733.0186 4809.86  ]\n",
      " [5275.0312 5477.633 ]\n",
      " [6732.099   957.4413]\n",
      " [5088.1494 4574.3516]\n",
      " [5033.552  2440.2173]]\n",
      "Offside IDS:  []\n"
     ]
    },
    {
     "name": "stderr",
     "output_type": "stream",
     "text": [
      "Embedding extraction: 1it [00:02,  2.19s/it]\n"
     ]
    },
    {
     "name": "stdout",
     "output_type": "stream",
     "text": [
      "[[6232.8193 5007.8867]\n",
      " [7758.9404 4896.8804]\n",
      " [7223.345  5439.3647]\n",
      " [6300.5674 5918.244 ]\n",
      " [5816.6064 3724.7417]\n",
      " [5088.8643 4587.9844]\n",
      " [6746.802   945.7328]\n",
      " [6737.412  4817.164 ]\n",
      " [5279.1177 5480.8174]\n",
      " [5032.3047 2425.0085]]\n",
      "Offside IDS:  []\n"
     ]
    },
    {
     "name": "stderr",
     "output_type": "stream",
     "text": [
      "Embedding extraction: 1it [00:02,  2.15s/it]\n"
     ]
    },
    {
     "name": "stdout",
     "output_type": "stream",
     "text": [
      "[[6246.2695  5009.968  ]\n",
      " [7241.965   5453.558  ]\n",
      " [7757.215   4910.4937 ]\n",
      " [6754.6274   946.44025]\n",
      " [6313.6147  5920.1304 ]\n",
      " [5826.316   3726.384  ]\n",
      " [5098.587   4603.478  ]\n",
      " [5297.4775  5484.031  ]\n",
      " [5047.648   2450.9294 ]\n",
      " [6749.7065  4805.0225 ]]\n",
      "Offside IDS:  []\n"
     ]
    },
    {
     "name": "stderr",
     "output_type": "stream",
     "text": [
      "Embedding extraction: 1it [00:02,  2.13s/it]\n"
     ]
    },
    {
     "name": "stdout",
     "output_type": "stream",
     "text": [
      "[[6260.0464  5013.679  ]\n",
      " [6329.0493  5926.078  ]\n",
      " [5830.8135  3726.8135 ]\n",
      " [6762.002    947.07996]\n",
      " [7273.866   5461.3423 ]\n",
      " [5056.358   2451.0066 ]\n",
      " [5304.3594  5487.1826 ]\n",
      " [6753.965   4821.069  ]\n",
      " [5100.9165  4604.3403 ]\n",
      " [7760.2886  4927.2397 ]]\n",
      "Offside IDS:  []\n"
     ]
    },
    {
     "name": "stderr",
     "output_type": "stream",
     "text": [
      "Embedding extraction: 1it [00:02,  2.11s/it]\n"
     ]
    },
    {
     "name": "stdout",
     "output_type": "stream",
     "text": [
      "[[6260.0464  5013.679  ]\n",
      " [6329.0493  5926.078  ]\n",
      " [6762.002    947.07996]\n",
      " [5830.8135  3726.8135 ]\n",
      " [7273.866   5461.3423 ]\n",
      " [5304.3594  5487.1826 ]\n",
      " [5056.358   2451.0066 ]\n",
      " [6753.965   4821.069  ]\n",
      " [5100.9165  4604.3403 ]\n",
      " [7760.2886  4927.2397 ]]\n",
      "Offside IDS:  []\n"
     ]
    },
    {
     "name": "stderr",
     "output_type": "stream",
     "text": [
      "Embedding extraction: 1it [00:02,  2.17s/it]\n"
     ]
    },
    {
     "name": "stdout",
     "output_type": "stream",
     "text": [
      "[[5310.1533  5479.4683 ]\n",
      " [5834.5444  3739.0247 ]\n",
      " [5108.751   4610.06   ]\n",
      " [6263.66    5021.6816 ]\n",
      " [6767.144    980.21704]\n",
      " [7293.84    5462.7896 ]\n",
      " [5066.6665  2469.4373 ]\n",
      " [7751.7837  4939.5146 ]\n",
      " [6758.343   4804.0605 ]\n",
      " [6344.61    5933.391  ]]\n",
      "Offside IDS:  []\n"
     ]
    },
    {
     "name": "stderr",
     "output_type": "stream",
     "text": [
      "Embedding extraction: 1it [00:02,  2.11s/it]\n"
     ]
    },
    {
     "name": "stdout",
     "output_type": "stream",
     "text": [
      "[[7295.8696 5478.1694]\n",
      " [5841.8135 3745.9995]\n",
      " [5119.988  4611.9507]\n",
      " [5319.66   5490.3896]\n",
      " [7745.048  4956.8276]\n",
      " [6354.1943 5941.4575]\n",
      " [6276.9194 5031.614 ]\n",
      " [6776.5903  982.3339]\n",
      " [5080.062  2472.5198]]\n",
      "Offside IDS:  []\n"
     ]
    },
    {
     "name": "stderr",
     "output_type": "stream",
     "text": [
      "Embedding extraction: 1it [00:02,  2.18s/it]\n"
     ]
    },
    {
     "name": "stdout",
     "output_type": "stream",
     "text": [
      "[[5781.978  5464.938 ]\n",
      " [5846.3403 3762.652 ]\n",
      " [5118.8403 4620.4   ]\n",
      " [5319.3853 5483.0615]\n",
      " [6752.651  4846.8345]\n",
      " [6347.3315 5922.2725]\n",
      " [7744.9175 5002.7764]\n",
      " [5089.151  2483.8198]\n",
      " [6825.1665 1002.8737]\n",
      " [6285.177  5040.6313]]\n",
      "Offside IDS:  []\n"
     ]
    },
    {
     "name": "stderr",
     "output_type": "stream",
     "text": [
      "Embedding extraction: 1it [00:02,  2.16s/it]\n"
     ]
    },
    {
     "name": "stdout",
     "output_type": "stream",
     "text": [
      "[[5795.2153 5458.367 ]\n",
      " [5120.8506 4611.104 ]\n",
      " [5856.8784 3781.6538]\n",
      " [5330.79   5498.9395]\n",
      " [6359.5747 5923.6885]\n",
      " [6764.9634 4845.604 ]\n",
      " [5096.7266 2485.8794]\n",
      " [6834.906   999.9606]\n",
      " [6311.694  5043.998 ]\n",
      " [7760.7026 4984.0356]]\n",
      "Offside IDS:  []\n"
     ]
    },
    {
     "name": "stderr",
     "output_type": "stream",
     "text": [
      "Embedding extraction: 1it [00:02,  2.15s/it]\n"
     ]
    },
    {
     "name": "stdout",
     "output_type": "stream",
     "text": [
      "[[5125.7993 4608.554 ]\n",
      " [6364.967  5922.663 ]\n",
      " [5862.2573 3772.4202]\n",
      " [5103.467  2474.8381]\n",
      " [6832.5405 1036.1593]\n",
      " [5336.9336 5506.0796]\n",
      " [6316.523  5039.5625]\n",
      " [6763.9014 4857.3613]\n",
      " [7759.8105 4991.013 ]]\n",
      "Offside IDS:  []\n"
     ]
    },
    {
     "name": "stderr",
     "output_type": "stream",
     "text": [
      "Embedding extraction: 1it [00:02,  2.18s/it]\n"
     ]
    },
    {
     "name": "stdout",
     "output_type": "stream",
     "text": [
      "[[5125.7993 4608.554 ]\n",
      " [6364.967  5922.663 ]\n",
      " [5862.2573 3772.4202]\n",
      " [5103.467  2474.8381]\n",
      " [6832.5405 1036.1593]\n",
      " [5336.9336 5506.0796]\n",
      " [6316.523  5039.5625]\n",
      " [6763.9014 4857.3613]\n",
      " [7759.8105 4991.013 ]]\n",
      "Offside IDS:  []\n"
     ]
    },
    {
     "name": "stderr",
     "output_type": "stream",
     "text": [
      "Embedding extraction: 1it [00:02,  2.19s/it]\n"
     ]
    },
    {
     "name": "stdout",
     "output_type": "stream",
     "text": [
      "[[6374.555  5941.6743]\n",
      " [5104.7754 2524.177 ]\n",
      " [6772.3467 4856.339 ]\n",
      " [5118.7227 4614.849 ]\n",
      " [5874.813  3776.9773]\n",
      " [7340.186  5541.3203]\n",
      " [6324.3555 5053.442 ]\n",
      " [6848.6855 1040.9453]\n",
      " [5335.8027 5513.355 ]\n",
      " [7774.3765 4985.194 ]]\n",
      "Offside IDS:  []\n"
     ]
    },
    {
     "name": "stderr",
     "output_type": "stream",
     "text": [
      "Embedding extraction: 1it [00:02,  2.16s/it]\n"
     ]
    },
    {
     "name": "stdout",
     "output_type": "stream",
     "text": [
      "[[6390.221  5942.2495]\n",
      " [5120.8945 4610.7563]\n",
      " [6334.905  5052.0137]\n",
      " [7782.289  4984.3193]\n",
      " [5114.5127 2545.3235]\n",
      " [5888.514  3775.2615]\n",
      " [7369.7607 5544.5967]\n",
      " [6855.7793 1041.3042]\n",
      " [5348.7046 5511.9385]]\n",
      "Offside IDS:  []\n"
     ]
    },
    {
     "name": "stderr",
     "output_type": "stream",
     "text": [
      "Embedding extraction: 1it [00:02,  2.29s/it]\n"
     ]
    },
    {
     "name": "stdout",
     "output_type": "stream",
     "text": [
      "[[7020.841  4313.2197]\n",
      " [5126.132  4611.099 ]\n",
      " [6857.1553 1041.7812]\n",
      " [5897.9546 3794.3188]\n",
      " [6780.417  4852.881 ]\n",
      " [5120.1606 2570.1099]\n",
      " [7781.895  4981.7603]\n",
      " [7399.9434 5546.614 ]\n",
      " [6408.789  5942.0986]\n",
      " [5367.1973 5523.1455]]\n",
      "Offside IDS:  []\n"
     ]
    },
    {
     "name": "stderr",
     "output_type": "stream",
     "text": [
      "Embedding extraction: 1it [00:02,  2.23s/it]\n"
     ]
    },
    {
     "name": "stdout",
     "output_type": "stream",
     "text": [
      "[[5901.4424 3796.2444]\n",
      " [6432.5425 5950.6475]\n",
      " [7410.6206 5558.1523]\n",
      " [5140.8237 4611.1245]\n",
      " [6354.6377 5069.386 ]\n",
      " [6859.0093 1039.5453]\n",
      " [5136.0996 2573.3755]\n",
      " [6780.033  4858.032 ]\n",
      " [5390.889  5524.746 ]\n",
      " [7777.763  4990.7744]]\n",
      "Offside IDS:  []\n"
     ]
    },
    {
     "name": "stderr",
     "output_type": "stream",
     "text": [
      "Embedding extraction: 1it [00:02,  2.25s/it]\n"
     ]
    },
    {
     "name": "stdout",
     "output_type": "stream",
     "text": [
      "[[6872.583  1074.1007]\n",
      " [5393.4565 5518.6973]\n",
      " [7433.932  5535.105 ]\n",
      " [6791.6743 4833.37  ]\n",
      " [6445.6343 5951.1387]\n",
      " [5143.338  2587.5593]\n",
      " [5908.782  3804.421 ]\n",
      " [7790.2437 4962.9043]\n",
      " [6369.4336 5060.3955]\n",
      " [5145.424  4604.142 ]]\n",
      "Offside IDS:  []\n"
     ]
    },
    {
     "name": "stderr",
     "output_type": "stream",
     "text": [
      "Embedding extraction: 1it [00:02,  2.38s/it]\n"
     ]
    },
    {
     "name": "stdout",
     "output_type": "stream",
     "text": [
      "[[6872.583  1074.1007]\n",
      " [5393.4565 5518.6973]\n",
      " [7433.932  5535.105 ]\n",
      " [6791.6743 4833.37  ]\n",
      " [6445.6343 5951.1387]\n",
      " [5143.338  2587.5593]\n",
      " [5908.782  3804.421 ]\n",
      " [7790.2437 4962.9043]\n",
      " [6369.4336 5060.3955]\n",
      " [5145.424  4604.142 ]]\n",
      "Offside IDS:  []\n"
     ]
    },
    {
     "name": "stderr",
     "output_type": "stream",
     "text": [
      "Embedding extraction: 1it [00:02,  2.23s/it]\n"
     ]
    },
    {
     "name": "stdout",
     "output_type": "stream",
     "text": [
      "[[7453.96   5530.168 ]\n",
      " [6454.311  5957.47  ]\n",
      " [6800.3223 4836.72  ]\n",
      " [5910.579  3801.321 ]\n",
      " [5395.047  5544.41  ]\n",
      " [7786.752  4978.5405]\n",
      " [5145.096  4605.6064]\n",
      " [6885.4194 1051.8018]\n",
      " [6380.5034 5065.0996]\n",
      " [5141.007  2572.5735]]\n",
      "Offside IDS:  []\n"
     ]
    },
    {
     "name": "stderr",
     "output_type": "stream",
     "text": [
      "Embedding extraction: 1it [00:02,  2.39s/it]\n"
     ]
    },
    {
     "name": "stdout",
     "output_type": "stream",
     "text": [
      "[[6459.7715 5957.702 ]\n",
      " [7466.421  5544.104 ]\n",
      " [6811.293  4854.1064]\n",
      " [5400.54   5555.722 ]\n",
      " [5916.4614 3805.5713]\n",
      " [7788.495  4980.2676]\n",
      " [6899.8394 1055.7306]\n",
      " [6397.89   5069.5493]\n",
      " [5148.4585 2577.4365]\n",
      " [5151.628  4622.4185]]\n",
      "Offside IDS:  []\n"
     ]
    },
    {
     "name": "stderr",
     "output_type": "stream",
     "text": [
      "Embedding extraction: 1it [00:02,  2.29s/it]\n"
     ]
    },
    {
     "name": "stdout",
     "output_type": "stream",
     "text": [
      "[[5342.464  4797.686 ]\n",
      " [7484.7593 5551.826 ]\n",
      " [6829.781  4862.2417]\n",
      " [7787.3643 4988.203 ]\n",
      " [5415.449  5556.2285]\n",
      " [6915.2246 1070.5679]\n",
      " [5930.702  3812.2742]\n",
      " [6415.549  5075.322 ]\n",
      " [5160.9536 4623.655 ]\n",
      " [5167.7227 2582.858 ]]\n",
      "Offside IDS:  []\n"
     ]
    },
    {
     "name": "stderr",
     "output_type": "stream",
     "text": [
      "Embedding extraction: 1it [00:02,  2.24s/it]\n"
     ]
    },
    {
     "name": "stdout",
     "output_type": "stream",
     "text": [
      "[[5434.1655 5566.883 ]\n",
      " [6492.47   6004.7505]\n",
      " [6919.799  1081.9543]\n",
      " [7810.323  4980.3013]\n",
      " [6434.4185 5072.8276]\n",
      " [5178.6455 4639.071 ]\n",
      " [7538.8696 5552.94  ]\n",
      " [6863.502  4860.357 ]\n",
      " [5945.8833 3830.6384]\n",
      " [5178.1147 2573.2654]]\n",
      "Offside IDS:  []\n"
     ]
    },
    {
     "name": "stderr",
     "output_type": "stream",
     "text": [
      "Embedding extraction: 1it [00:02,  2.15s/it]\n"
     ]
    },
    {
     "name": "stdout",
     "output_type": "stream",
     "text": [
      "[[5185.324  4647.752 ]\n",
      " [5443.4224 5584.23  ]\n",
      " [7814.9883 4978.4478]\n",
      " [6928.266  1059.955 ]\n",
      " [6439.4243 5082.104 ]\n",
      " [5181.839  2579.8152]\n",
      " [7569.187  5554.845 ]\n",
      " [6879.4663 4859.2974]\n",
      " [6508.994  6012.4756]\n",
      " [5962.5186 3825.6921]]\n",
      "Offside IDS:  []\n"
     ]
    },
    {
     "name": "stderr",
     "output_type": "stream",
     "text": [
      "Embedding extraction: 1it [00:02,  2.18s/it]\n"
     ]
    },
    {
     "name": "stdout",
     "output_type": "stream",
     "text": [
      "[[5185.324  4647.752 ]\n",
      " [5443.4224 5584.23  ]\n",
      " [7814.9883 4978.4478]\n",
      " [6439.4243 5082.104 ]\n",
      " [6928.266  1059.955 ]\n",
      " [5181.839  2579.8152]\n",
      " [7569.187  5554.845 ]\n",
      " [6879.4663 4859.2974]\n",
      " [6508.994  6012.4756]\n",
      " [5962.5186 3825.6921]]\n",
      "Offside IDS:  []\n"
     ]
    },
    {
     "name": "stderr",
     "output_type": "stream",
     "text": [
      "Embedding extraction: 1it [00:02,  2.17s/it]\n"
     ]
    },
    {
     "name": "stdout",
     "output_type": "stream",
     "text": [
      "[[6293.3857 3549.9993]\n",
      " [7834.865  4967.082 ]\n",
      " [7588.1904 5557.675 ]\n",
      " [6943.3647 1096.0468]\n",
      " [5196.5586 4649.876 ]\n",
      " [6453.9277 5084.4414]\n",
      " [5457.764  5587.3125]\n",
      " [6541.14   6018.525 ]\n",
      " [5194.4033 2604.5107]\n",
      " [5981.2637 3828.434 ]\n",
      " [6900.443  4876.095 ]]\n",
      "Offside IDS:  []\n"
     ]
    },
    {
     "name": "stderr",
     "output_type": "stream",
     "text": [
      "Embedding extraction: 1it [00:02,  2.18s/it]\n"
     ]
    },
    {
     "name": "stdout",
     "output_type": "stream",
     "text": [
      "[[5402.0977 4848.808 ]\n",
      " [7871.667  4954.888 ]\n",
      " [5218.4795 4694.6255]\n",
      " [7634.163  5551.3945]\n",
      " [6589.761  6010.6733]\n",
      " [6488.312  5078.9453]\n",
      " [6944.807  1140.8333]\n",
      " [6931.2886 4878.9873]\n",
      " [5206.2812 2695.8442]\n",
      " [6000.4717 3879.9578]\n",
      " [5496.47   5602.321 ]]\n",
      "Offside IDS:  []\n"
     ]
    },
    {
     "name": "stderr",
     "output_type": "stream",
     "text": [
      "Embedding extraction: 1it [00:02,  2.20s/it]\n"
     ]
    },
    {
     "name": "stdout",
     "output_type": "stream",
     "text": [
      "[[5210.5664 4662.1763]\n",
      " [7868.3877 4962.11  ]\n",
      " [6922.2407 4885.2466]\n",
      " [6577.9766 6014.7964]\n",
      " [6951.1675 1095.4673]\n",
      " [7622.3896 5596.9463]\n",
      " [6483.053  5069.5947]\n",
      " [5999.344  3845.0068]\n",
      " [5208.0293 2651.067 ]\n",
      " [5497.031  5598.276 ]]\n",
      "Offside IDS:  []\n"
     ]
    },
    {
     "name": "stderr",
     "output_type": "stream",
     "text": [
      "Embedding extraction: 1it [00:02,  2.17s/it]\n"
     ]
    },
    {
     "name": "stdout",
     "output_type": "stream",
     "text": [
      "[[5220.4224 4679.3315]\n",
      " [7662.2583 5586.12  ]\n",
      " [6941.4233 4882.669 ]\n",
      " [7901.267  4936.177 ]\n",
      " [6610.635  5995.49  ]\n",
      " [6947.769  1107.3237]\n",
      " [6009.612  3843.6333]\n",
      " [5518.986  5598.777 ]\n",
      " [6497.9854 5155.4146]\n",
      " [5223.3164 2692.8777]]\n",
      "Offside IDS:  []\n"
     ]
    },
    {
     "name": "stderr",
     "output_type": "stream",
     "text": [
      "Embedding extraction: 1it [00:02,  2.16s/it]\n"
     ]
    },
    {
     "name": "stdout",
     "output_type": "stream",
     "text": [
      "[[5211.73   4680.346 ]\n",
      " [6619.3647 6000.4414]\n",
      " [6941.4814 4901.0835]\n",
      " [7902.7383 4957.011 ]\n",
      " [6949.5254 1146.1674]\n",
      " [7683.5913 5605.8066]\n",
      " [5518.418  5601.8174]\n",
      " [5227.254  2715.3938]\n",
      " [6516.62   5089.738 ]\n",
      " [6025.901  3832.0933]]\n",
      "Offside IDS:  []\n"
     ]
    },
    {
     "name": "stderr",
     "output_type": "stream",
     "text": [
      "Embedding extraction: 1it [00:02,  2.18s/it]\n"
     ]
    },
    {
     "name": "stdout",
     "output_type": "stream",
     "text": [
      "[[5211.017  4680.1743]\n",
      " [6618.174  6000.2866]\n",
      " [6940.614  4900.9233]\n",
      " [7901.825  4956.86  ]\n",
      " [6949.7876 1146.2198]\n",
      " [7682.495  5605.659 ]\n",
      " [5517.391  5601.64  ]\n",
      " [5227.1772 2715.319 ]\n",
      " [6515.7114 5089.5728]\n",
      " [6023.2944 3831.6367]]\n",
      "Offside IDS:  []\n"
     ]
    },
    {
     "name": "stderr",
     "output_type": "stream",
     "text": [
      "Embedding extraction: 1it [00:02,  2.07s/it]\n"
     ]
    },
    {
     "name": "stdout",
     "output_type": "stream",
     "text": [
      "[[6925.71   4925.349 ]\n",
      " [5217.4004 4676.171 ]\n",
      " [6949.6606 1151.2742]\n",
      " [7889.389  4964.4175]\n",
      " [6619.516  6030.0093]\n",
      " [5521.249  5609.687 ]\n",
      " [5244.8613 2714.5205]\n",
      " [7700.975  5632.2173]\n",
      " [6033.8955 3853.9048]]\n",
      "Offside IDS:  []\n"
     ]
    },
    {
     "name": "stderr",
     "output_type": "stream",
     "text": [
      "Embedding extraction: 1it [00:02,  2.09s/it]\n"
     ]
    },
    {
     "name": "stdout",
     "output_type": "stream",
     "text": [
      "[[6898.848  1334.233 ]\n",
      " [7927.9805 5039.606 ]\n",
      " [5264.249  2812.5532]\n",
      " [6967.7085 4991.941 ]\n",
      " [5263.2383 4727.9097]\n",
      " [7766.179  5718.322 ]\n",
      " [5585.5786 5666.0913]\n",
      " [6699.435  6093.2866]\n",
      " [6049.8994 3941.9175]]\n",
      "Offside IDS:  []\n"
     ]
    },
    {
     "name": "stderr",
     "output_type": "stream",
     "text": [
      "Embedding extraction: 1it [00:02,  2.07s/it]\n"
     ]
    },
    {
     "name": "stdout",
     "output_type": "stream",
     "text": [
      "[[7597.715  6103.653 ]\n",
      " [7927.6606 4944.183 ]\n",
      " [5241.456  4709.652 ]\n",
      " [6958.7915 1256.4598]\n",
      " [7765.177  5619.268 ]\n",
      " [5261.354  2744.1504]\n",
      " [6981.753  4922.2124]\n",
      " [5558.5444 5626.4165]\n",
      " [6702.2603 6030.519 ]\n",
      " [6050.1377 3891.5598]]\n",
      "Offside IDS:  []\n"
     ]
    },
    {
     "name": "stderr",
     "output_type": "stream",
     "text": [
      "Embedding extraction: 1it [00:02,  2.13s/it]\n"
     ]
    },
    {
     "name": "stdout",
     "output_type": "stream",
     "text": [
      "[[7935.5454 4940.7964]\n",
      " [6947.4756 1285.0964]\n",
      " [6715.8613 6038.457 ]\n",
      " [5273.8403 2790.324 ]\n",
      " [7784.6987 5611.041 ]\n",
      " [5572.2246 5646.2383]\n",
      " [5254.536  4710.0073]\n",
      " [6999.8813 4930.7114]\n",
      " [6063.9653 3895.307 ]]\n",
      "Offside IDS:  []\n"
     ]
    },
    {
     "name": "stderr",
     "output_type": "stream",
     "text": [
      "Embedding extraction: 1it [00:02,  2.26s/it]\n"
     ]
    },
    {
     "name": "stdout",
     "output_type": "stream",
     "text": [
      "[[7835.7646 4692.555 ]\n",
      " [6913.481  1355.1908]\n",
      " [5291.2666 2869.9944]\n",
      " [7978.5913 5006.768 ]\n",
      " [7037.3257 4983.1865]\n",
      " [5618.318  5692.7715]\n",
      " [6087.5547 3932.7742]\n",
      " [6607.8696 5174.925 ]\n",
      " [5293.52   4737.4272]\n",
      " [7847.971  5707.111 ]]\n",
      "Offside IDS:  []\n"
     ]
    },
    {
     "name": "stderr",
     "output_type": "stream",
     "text": [
      "Embedding extraction: 1it [00:02,  2.20s/it]\n"
     ]
    },
    {
     "name": "stdout",
     "output_type": "stream",
     "text": [
      "[[7835.7646 4692.555 ]\n",
      " [6913.481  1355.1908]\n",
      " [5291.2666 2869.9944]\n",
      " [7978.5913 5006.768 ]\n",
      " [7037.3257 4983.1865]\n",
      " [5618.318  5692.7715]\n",
      " [6087.5547 3932.7742]\n",
      " [6609.6504 5175.235 ]\n",
      " [5293.52   4737.4272]\n",
      " [7847.971  5707.111 ]]\n",
      "Offside IDS:  []\n"
     ]
    },
    {
     "name": "stderr",
     "output_type": "stream",
     "text": [
      "Embedding extraction: 1it [00:02,  2.22s/it]\n"
     ]
    },
    {
     "name": "stdout",
     "output_type": "stream",
     "text": [
      "[[7849.334  4702.8735]\n",
      " [5289.8545 2860.3508]\n",
      " [6913.863  1358.1511]\n",
      " [7046.42   4984.62  ]\n",
      " [7984.6396 5030.429 ]\n",
      " [5301.1045 4734.998 ]\n",
      " [6616.5405 5159.3584]\n",
      " [5628.344  5676.864 ]\n",
      " [6095.185  3928.2036]\n",
      " [7873.1504 5739.729 ]]\n",
      "Offside IDS:  []\n"
     ]
    },
    {
     "name": "stderr",
     "output_type": "stream",
     "text": [
      "Embedding extraction: 1it [00:02,  2.20s/it]\n"
     ]
    },
    {
     "name": "stdout",
     "output_type": "stream",
     "text": [
      "[[6895.9517 1393.1357]\n",
      " [5272.7856 2850.532 ]\n",
      " [8060.5557 5021.2383]\n",
      " [7095.2524 4971.442 ]\n",
      " [5655.8496 5688.1304]\n",
      " [5304.222  4738.2617]\n",
      " [6651.997  5170.5376]\n",
      " [6101.847  3934.6807]\n",
      " [7978.6855 5757.014 ]]\n",
      "Offside IDS:  []\n"
     ]
    },
    {
     "name": "stderr",
     "output_type": "stream",
     "text": [
      "Embedding extraction: 1it [00:02,  2.19s/it]\n"
     ]
    },
    {
     "name": "stdout",
     "output_type": "stream",
     "text": [
      "[[6897.435  1424.0065]\n",
      " [6847.539  6148.5356]\n",
      " [5308.768  4746.8926]\n",
      " [5665.473  5686.826 ]\n",
      " [7092.5586 4988.55  ]\n",
      " [6104.7397 3934.32  ]\n",
      " [5282.753  2868.7856]\n",
      " [8061.257  5030.3325]\n",
      " [7999.8965 5781.9985]\n",
      " [6653.6284 5197.281 ]]\n",
      "Offside IDS:  []\n"
     ]
    },
    {
     "name": "stderr",
     "output_type": "stream",
     "text": [
      "Embedding extraction: 1it [00:02,  2.19s/it]\n"
     ]
    },
    {
     "name": "stdout",
     "output_type": "stream",
     "text": [
      "[[6912.93   1419.8514]\n",
      " [6111.337  3931.547 ]\n",
      " [5309.539  4742.505 ]\n",
      " [5667.7686 5685.3193]\n",
      " [8014.244  5788.6274]\n",
      " [7103.185  5004.3354]\n",
      " [5290.4434 2861.3853]\n",
      " [6863.1777 6162.096 ]\n",
      " [8081.3945 5037.2793]\n",
      " [6661.1426 5198.384 ]]\n",
      "Offside IDS:  []\n"
     ]
    },
    {
     "name": "stderr",
     "output_type": "stream",
     "text": [
      "Embedding extraction: 1it [00:02,  2.20s/it]\n"
     ]
    },
    {
     "name": "stdout",
     "output_type": "stream",
     "text": [
      "[[6125.4053 3935.7654]\n",
      " [5674.824  5703.748 ]\n",
      " [5318.8354 4740.353 ]\n",
      " [7112.884  5014.1313]\n",
      " [8079.9507 5051.255 ]\n",
      " [6675.1504 5206.1816]\n",
      " [5308.111  2861.8406]\n",
      " [6885.696  6173.5684]]\n",
      "Offside IDS:  []\n"
     ]
    },
    {
     "name": "stderr",
     "output_type": "stream",
     "text": [
      "Embedding extraction: 1it [00:02,  2.22s/it]\n"
     ]
    },
    {
     "name": "stdout",
     "output_type": "stream",
     "text": [
      "[[6126.3286 3935.6719]\n",
      " [5674.7534 5704.0425]\n",
      " [5317.943  4740.4917]\n",
      " [7114.8003 5013.8096]\n",
      " [8081.8184 5050.5703]\n",
      " [6676.7017 5205.9404]\n",
      " [5307.215  2860.6938]\n",
      " [6887.29   6172.6914]]\n",
      "Offside IDS:  []\n"
     ]
    },
    {
     "name": "stderr",
     "output_type": "stream",
     "text": [
      "Embedding extraction: 1it [00:02,  2.14s/it]\n"
     ]
    },
    {
     "name": "stdout",
     "output_type": "stream",
     "text": [
      "[[6141.464  3939.6436]\n",
      " [5328.537  4756.681 ]\n",
      " [8037.4043 5830.288 ]\n",
      " [8090.415  5057.158 ]\n",
      " [6940.918  1418.2334]\n",
      " [6915.241  6178.2046]\n",
      " [5317.353  2856.6807]\n",
      " [6691.9033 5211.621 ]\n",
      " [7137.2764 5034.9033]]\n",
      "Offside IDS:  []\n"
     ]
    },
    {
     "name": "stderr",
     "output_type": "stream",
     "text": [
      "Embedding extraction: 1it [00:02,  2.25s/it]\n"
     ]
    },
    {
     "name": "stdout",
     "output_type": "stream",
     "text": [
      "[[8112.953  5040.3965]\n",
      " [5324.2056 4756.5015]\n",
      " [6935.2373 6179.011 ]\n",
      " [8065.5107 5850.1514]\n",
      " [6950.5635 1421.3142]\n",
      " [6701.9893 5222.4253]\n",
      " [6152.0654 3956.0894]\n",
      " [5323.2485 2856.2385]\n",
      " [7172.5996 5037.147 ]]\n",
      "Offside IDS:  []\n"
     ]
    },
    {
     "name": "stderr",
     "output_type": "stream",
     "text": [
      "Embedding extraction: 1it [00:02,  2.17s/it]\n"
     ]
    },
    {
     "name": "stdout",
     "output_type": "stream",
     "text": [
      "[[8124.9507 5036.3887]\n",
      " [6948.8438 6168.622 ]\n",
      " [5337.9556 4765.6494]\n",
      " [6959.9644 1421.304 ]\n",
      " [6700.214  5271.3174]\n",
      " [7191.4785 5044.316 ]\n",
      " [5332.5215 2852.1277]\n",
      " [6164.3184 3955.8215]\n",
      " [8084.4834 5885.8794]]\n",
      "Offside IDS:  []\n"
     ]
    },
    {
     "name": "stderr",
     "output_type": "stream",
     "text": [
      "Embedding extraction: 1it [00:02,  2.18s/it]\n"
     ]
    },
    {
     "name": "stdout",
     "output_type": "stream",
     "text": [
      "[[6956.363  6174.574 ]\n",
      " [5713.7905 5744.188 ]\n",
      " [7192.5684 5049.4287]\n",
      " [6704.5317 5250.4863]\n",
      " [5349.039  4761.493 ]\n",
      " [6961.1475 1452.106 ]\n",
      " [8113.713  5892.4526]\n",
      " [5341.913  2888.982 ]\n",
      " [6175.628  3956.168 ]]\n",
      "Offside IDS:  []\n"
     ]
    },
    {
     "name": "stderr",
     "output_type": "stream",
     "text": [
      "Embedding extraction: 1it [00:02,  2.15s/it]\n"
     ]
    },
    {
     "name": "stdout",
     "output_type": "stream",
     "text": [
      "[[7210.5835 5039.828 ]\n",
      " [6979.876  6198.1123]\n",
      " [8148.8564 5037.384 ]\n",
      " [6719.11   5241.516 ]\n",
      " [5728.9585 5747.5356]\n",
      " [5367.543  4752.405 ]\n",
      " [6973.863  1453.9857]\n",
      " [8164.4    5914.7354]\n",
      " [5361.2275 2933.3638]\n",
      " [6195.8774 3959.6384]]\n",
      "Offside IDS:  []\n"
     ]
    },
    {
     "name": "stderr",
     "output_type": "stream",
     "text": [
      "Embedding extraction: 1it [00:02,  2.16s/it]\n"
     ]
    },
    {
     "name": "stdout",
     "output_type": "stream",
     "text": [
      "[[7210.5835 5039.828 ]\n",
      " [6979.876  6198.1123]\n",
      " [8148.8564 5037.384 ]\n",
      " [6719.11   5241.516 ]\n",
      " [5728.9585 5747.5356]\n",
      " [5367.543  4752.405 ]\n",
      " [6973.863  1453.9857]\n",
      " [8164.4    5914.7354]\n",
      " [5361.2275 2933.3638]\n",
      " [6195.8774 3959.6384]]\n",
      "Offside IDS:  []\n"
     ]
    },
    {
     "name": "stderr",
     "output_type": "stream",
     "text": [
      "Embedding extraction: 1it [00:02,  2.13s/it]\n"
     ]
    },
    {
     "name": "stdout",
     "output_type": "stream",
     "text": [
      "[[7223.728  5052.5073]\n",
      " [8174.3374 5907.45  ]\n",
      " [6728.007  5239.3994]\n",
      " [8164.1025 5039.3477]\n",
      " [6995.846  6219.146 ]\n",
      " [5370.8306 2944.781 ]\n",
      " [6205.72   3953.6074]\n",
      " [6980.6274 1447.3882]\n",
      " [5374.5723 4757.911 ]\n",
      " [5743.3833 5745.6787]]\n",
      "Offside IDS:  []\n"
     ]
    },
    {
     "name": "stderr",
     "output_type": "stream",
     "text": [
      "Embedding extraction: 1it [00:02,  2.15s/it]\n"
     ]
    },
    {
     "name": "stdout",
     "output_type": "stream",
     "text": [
      "[[7498.853  4443.6504]\n",
      " [7241.515  5060.808 ]\n",
      " [6984.049  1480.2235]\n",
      " [6746.9087 5247.3   ]\n",
      " [6218.976  3949.3772]\n",
      " [5382.979  4765.803 ]\n",
      " [8194.7    5036.1714]\n",
      " [5758.4116 5742.9517]\n",
      " [7035.3545 6219.7485]\n",
      " [5380.536  2961.6538]]\n",
      "Offside IDS:  []\n"
     ]
    },
    {
     "name": "stderr",
     "output_type": "stream",
     "text": [
      "Embedding extraction: 1it [00:02,  2.15s/it]\n"
     ]
    },
    {
     "name": "stdout",
     "output_type": "stream",
     "text": [
      "[[5539.5303 4968.1284]\n",
      " [7251.3975 5076.204 ]\n",
      " [8234.1455 5910.164 ]\n",
      " [8209.699  5040.0103]\n",
      " [7065.1704 6225.635 ]\n",
      " [6223.95   3950.9045]\n",
      " [6760.7334 5249.9165]\n",
      " [6980.0903 1513.7168]\n",
      " [5386.4077 4765.715 ]\n",
      " [5768.397  5753.042 ]\n",
      " [5385.9697 2963.8552]]\n",
      "Offside IDS:  []\n"
     ]
    },
    {
     "name": "stderr",
     "output_type": "stream",
     "text": [
      "Embedding extraction: 1it [00:02,  2.23s/it]\n"
     ]
    },
    {
     "name": "stdout",
     "output_type": "stream",
     "text": [
      "[[7270.878  5079.595 ]\n",
      " [6238.063  3950.5898]\n",
      " [7083.0425 6232.6494]\n",
      " [8224.503  5041.8975]\n",
      " [6994.801  1509.5312]\n",
      " [5388.2065 4777.911 ]\n",
      " [8257.493  5949.4546]\n",
      " [5774.334  5756.5767]\n",
      " [5403.032  2982.4885]\n",
      " [6783.4556 5254.789 ]]\n",
      "Offside IDS:  []\n"
     ]
    },
    {
     "name": "stderr",
     "output_type": "stream",
     "text": [
      "Embedding extraction: 1it [00:02,  2.29s/it]\n"
     ]
    },
    {
     "name": "stdout",
     "output_type": "stream",
     "text": [
      "[[8225.3955 5059.969 ]\n",
      " [6245.4565 3954.943 ]\n",
      " [5397.7124 4787.9277]\n",
      " [7001.35   1515.9878]\n",
      " [5415.8037 2982.2722]\n",
      " [7281.2266 5092.35  ]\n",
      " [5775.617  5763.4116]\n",
      " [6787.093  5274.1436]\n",
      " [8273.104  5971.618 ]]\n",
      "Offside IDS:  []\n"
     ]
    },
    {
     "name": "stderr",
     "output_type": "stream",
     "text": [
      "Embedding extraction: 1it [00:02,  2.14s/it]\n"
     ]
    },
    {
     "name": "stdout",
     "output_type": "stream",
     "text": [
      "[[8224.934  5059.8657]\n",
      " [6244.814  3954.7776]\n",
      " [5396.8906 4787.7505]\n",
      " [7000.9775 1515.8992]\n",
      " [5415.1445 2982.096 ]\n",
      " [7280.634  5092.2246]\n",
      " [5774.762  5763.2715]\n",
      " [6786.419  5274.0107]\n",
      " [8272.595  5971.547 ]]\n",
      "Offside IDS:  []\n"
     ]
    },
    {
     "name": "stderr",
     "output_type": "stream",
     "text": [
      "Embedding extraction: 1it [00:02,  2.15s/it]\n"
     ]
    },
    {
     "name": "stdout",
     "output_type": "stream",
     "text": [
      "[[8248.951  5046.4116]\n",
      " [5416.868  2973.3782]\n",
      " [5400.5205 4801.198 ]\n",
      " [6253.3228 3951.9648]\n",
      " [5789.145  5777.728 ]\n",
      " [7317.806  5084.239 ]\n",
      " [7006.836  1497.852 ]\n",
      " [6798.2305 5275.1245]\n",
      " [8318.517  5988.6646]]\n",
      "Offside IDS:  []\n"
     ]
    },
    {
     "name": "stderr",
     "output_type": "stream",
     "text": [
      "Embedding extraction: 1it [00:02,  2.16s/it]\n"
     ]
    },
    {
     "name": "stdout",
     "output_type": "stream",
     "text": [
      "[[8257.875  5039.751 ]\n",
      " [8343.685  5999.918 ]\n",
      " [6262.546  3953.9268]\n",
      " [5415.4883 2970.0793]\n",
      " [5397.5703 4798.896 ]\n",
      " [7010.1777 1502.5651]\n",
      " [6799.266  5289.3286]\n",
      " [7331.158  5090.3887]\n",
      " [5790.181  5787.505 ]]\n",
      "Offside IDS:  []\n"
     ]
    },
    {
     "name": "stderr",
     "output_type": "stream",
     "text": [
      "Embedding extraction: 1it [00:02,  2.20s/it]\n"
     ]
    },
    {
     "name": "stdout",
     "output_type": "stream",
     "text": [
      "[[5800.0107 5808.0664]\n",
      " [8368.491  5996.834 ]\n",
      " [8279.282  5018.009 ]\n",
      " [7142.7065 6275.208 ]\n",
      " [5424.1377 3012.2524]\n",
      " [7344.2266 5094.979 ]\n",
      " [5409.075  4813.7725]\n",
      " [6285.5195 3959.5105]\n",
      " [6808.0054 5292.397 ]\n",
      " [7009.642  1533.1803]]\n",
      "Offside IDS:  []\n"
     ]
    },
    {
     "name": "stderr",
     "output_type": "stream",
     "text": [
      "Embedding extraction: 1it [00:02,  2.16s/it]\n"
     ]
    },
    {
     "name": "stdout",
     "output_type": "stream",
     "text": [
      "[[7159.9937 6283.8013]\n",
      " [5422.988  3033.5625]\n",
      " [8386.964  5998.1147]\n",
      " [5801.73   5813.546 ]\n",
      " [6814.937  5291.6284]\n",
      " [7348.874  5107.6147]\n",
      " [5417.049  4813.432 ]\n",
      " [6296.8564 3961.8926]\n",
      " [8285.506  5018.3975]\n",
      " [7006.627  1567.0393]]\n",
      "Offside IDS:  []\n"
     ]
    },
    {
     "name": "stderr",
     "output_type": "stream",
     "text": [
      "Embedding extraction: 1it [00:02,  2.19s/it]\n"
     ]
    },
    {
     "name": "stdout",
     "output_type": "stream",
     "text": [
      "[[6820.861  5307.2773]\n",
      " [5435.39   4820.0566]\n",
      " [5442.536  3027.6125]\n",
      " [8406.171  6042.3555]\n",
      " [7015.9756 1566.2749]\n",
      " [7362.5703 5103.2637]\n",
      " [6304.078  3959.18  ]\n",
      " [5813.3823 5820.465 ]\n",
      " [8298.844  5033.4414]\n",
      " [7188.9873 6299.7886]]\n",
      "Offside IDS:  []\n"
     ]
    },
    {
     "name": "stderr",
     "output_type": "stream",
     "text": [
      "Embedding extraction: 1it [00:02,  2.22s/it]\n"
     ]
    },
    {
     "name": "stdout",
     "output_type": "stream",
     "text": [
      "[[6820.861  5307.2773]\n",
      " [5435.39   4820.0566]\n",
      " [5442.536  3027.6125]\n",
      " [8406.171  6042.3555]\n",
      " [7015.9756 1566.2749]\n",
      " [7362.5703 5103.2637]\n",
      " [6304.078  3959.18  ]\n",
      " [5813.3823 5820.465 ]\n",
      " [8298.844  5033.4414]\n",
      " [7188.9873 6299.7886]]\n",
      "Offside IDS:  []\n"
     ]
    },
    {
     "name": "stderr",
     "output_type": "stream",
     "text": [
      "Embedding extraction: 1it [00:02,  2.19s/it]\n"
     ]
    },
    {
     "name": "stdout",
     "output_type": "stream",
     "text": [
      "[[7372.6504 5118.1494]\n",
      " [6309.8247 3976.909 ]\n",
      " [5444.1216 4833.9297]\n",
      " [5829.8716 5823.788 ]\n",
      " [6832.0454 5320.9873]\n",
      " [7017.4185 1597.1447]\n",
      " [7214.0713 6304.237 ]\n",
      " [8423.144  6066.3354]\n",
      " [5454.9497 3049.351 ]\n",
      " [8325.254  5038.856 ]]\n",
      "Offside IDS:  []\n"
     ]
    },
    {
     "name": "stderr",
     "output_type": "stream",
     "text": [
      "Embedding extraction: 1it [00:02,  2.24s/it]\n"
     ]
    },
    {
     "name": "stdout",
     "output_type": "stream",
     "text": [
      "[[6312.4033 3997.2651]\n",
      " [7386.0454 5142.316 ]\n",
      " [5445.054  4844.1694]\n",
      " [7017.5054 1633.3928]\n",
      " [5839.7544 5833.9683]\n",
      " [7227.146  6313.1177]\n",
      " [5455.993  3068.535 ]\n",
      " [8346.423  5056.6406]\n",
      " [8453.023  6096.921 ]\n",
      " [6844.694  5328.7437]]\n",
      "Offside IDS:  []\n"
     ]
    },
    {
     "name": "stderr",
     "output_type": "stream",
     "text": [
      "Embedding extraction: 1it [00:02,  2.23s/it]\n"
     ]
    },
    {
     "name": "stdout",
     "output_type": "stream",
     "text": [
      "[[6329.642  3977.7913]\n",
      " [5449.9336 4862.498 ]\n",
      " [7404.4263 5154.3354]\n",
      " [8368.72   5035.786 ]\n",
      " [5851.308  5845.192 ]\n",
      " [7257.4336 6294.3457]\n",
      " [8507.719  6090.827 ]\n",
      " [7034.167  1637.6469]\n",
      " [5465.4077 3080.8628]\n",
      " [6875.945  5334.83  ]]\n",
      "Offside IDS:  []\n"
     ]
    },
    {
     "name": "stderr",
     "output_type": "stream",
     "text": [
      "Embedding extraction: 1it [00:02,  2.20s/it]\n"
     ]
    },
    {
     "name": "stdout",
     "output_type": "stream",
     "text": [
      "[[6338.1157 3976.9138]\n",
      " [5851.408  5857.8374]\n",
      " [7270.588  6291.0537]\n",
      " [5454.06   4861.8066]\n",
      " [8377.1045 5034.698 ]\n",
      " [8521.33   6100.1953]\n",
      " [7425.254  5140.8335]\n",
      " [6876.793  5341.734 ]\n",
      " [5477.9243 3070.9614]\n",
      " [7042.0938 1647.6571]]\n",
      "Offside IDS:  []\n"
     ]
    },
    {
     "name": "stderr",
     "output_type": "stream",
     "text": [
      "Embedding extraction: 1it [00:02,  2.33s/it]\n"
     ]
    },
    {
     "name": "stdout",
     "output_type": "stream",
     "text": [
      "[[7297.817  6305.1387]\n",
      " [8415.732  4985.8223]\n",
      " [8558.626  6092.6245]\n",
      " [6350.9346 3980.8767]\n",
      " [5463.8403 4868.196 ]\n",
      " [6891.244  5337.5254]\n",
      " [5861.7617 5867.6025]\n",
      " [7461.9546 5139.3013]\n",
      " [5489.434  3073.1118]\n",
      " [7061.7607 1619.3301]]\n",
      "Offside IDS:  []\n"
     ]
    },
    {
     "name": "stderr",
     "output_type": "stream",
     "text": [
      "Embedding extraction: 1it [00:02,  2.33s/it]\n"
     ]
    },
    {
     "name": "stdout",
     "output_type": "stream",
     "text": [
      "[[7297.817  6305.1387]\n",
      " [8415.732  4985.8223]\n",
      " [8558.626  6092.6245]\n",
      " [6350.9346 3980.8767]\n",
      " [5463.8403 4868.196 ]\n",
      " [6891.244  5337.5254]\n",
      " [5861.7617 5867.6025]\n",
      " [7461.9546 5139.3013]\n",
      " [5489.434  3073.1118]\n",
      " [7061.7607 1619.3301]]\n",
      "Offside IDS:  []\n"
     ]
    },
    {
     "name": "stderr",
     "output_type": "stream",
     "text": [
      "Embedding extraction: 1it [00:02,  2.29s/it]\n"
     ]
    },
    {
     "name": "stdout",
     "output_type": "stream",
     "text": [
      "[[5874.391  5883.763 ]\n",
      " [8598.553  6069.035 ]\n",
      " [6899.051  5346.0664]\n",
      " [5470.0605 4881.8965]\n",
      " [8440.602  4959.088 ]\n",
      " [6360.2583 3986.6138]\n",
      " [7320.5605 6326.3784]\n",
      " [7486.553  5148.2437]\n",
      " [5487.1963 3074.8303]\n",
      " [7053.143  1630.5463]]\n",
      "Offside IDS:  []\n"
     ]
    },
    {
     "name": "stderr",
     "output_type": "stream",
     "text": [
      "Embedding extraction: 1it [00:02,  2.23s/it]\n"
     ]
    },
    {
     "name": "stdout",
     "output_type": "stream",
     "text": [
      "[[5862.262  5881.1772]\n",
      " [6896.358  5334.29  ]\n",
      " [5459.3896 4862.487 ]\n",
      " [7490.4478 5138.2715]\n",
      " [5489.075  3058.53  ]\n",
      " [8454.901  4953.748 ]\n",
      " [8613.205  6121.4766]\n",
      " [7334.823  6340.874 ]\n",
      " [7057.301  1650.9279]\n",
      " [6365.1187 3983.881 ]]\n",
      "Offside IDS:  []\n"
     ]
    },
    {
     "name": "stderr",
     "output_type": "stream",
     "text": [
      "Embedding extraction: 1it [00:02,  2.24s/it]\n"
     ]
    },
    {
     "name": "stdout",
     "output_type": "stream",
     "text": [
      "[[7047.7026 5431.147 ]\n",
      " [5876.4375 5902.6416]\n",
      " [6915.9453 5336.8716]\n",
      " [5476.9604 4869.58  ]\n",
      " [7373.6895 6346.391 ]\n",
      " [5501.1665 3045.847 ]\n",
      " [8483.252  4958.9424]\n",
      " [6389.9297 3970.8462]\n",
      " [8642.774  6147.6196]\n",
      " [7071.0596 1621.6372]]\n",
      "Offside IDS:  []\n"
     ]
    },
    {
     "name": "stderr",
     "output_type": "stream",
     "text": [
      "Embedding extraction: 1it [00:02,  2.23s/it]\n"
     ]
    },
    {
     "name": "stdout",
     "output_type": "stream",
     "text": [
      "[[6922.254  5358.4756]\n",
      " [7511.3745 5182.4233]\n",
      " [7382.7744 6318.398 ]\n",
      " [5486.1895 3098.4585]\n",
      " [8505.323  4952.2085]\n",
      " [6395.1665 3998.8455]\n",
      " [5469.209  4907.3833]\n",
      " [8661.041  6102.41  ]\n",
      " [7084.9683 1647.8799]\n",
      " [5877.93   5912.3037]]\n",
      "Offside IDS:  []\n"
     ]
    },
    {
     "name": "stderr",
     "output_type": "stream",
     "text": [
      "Embedding extraction: 1it [00:02,  2.25s/it]\n"
     ]
    },
    {
     "name": "stdout",
     "output_type": "stream",
     "text": [
      "[[7423.1714 6305.053 ]\n",
      " [7546.8003 5165.928 ]\n",
      " [6405.214  3989.9695]\n",
      " [6949.727  5346.421 ]\n",
      " [5490.935  3128.5305]\n",
      " [8720.175  6101.5864]\n",
      " [8542.12   4926.785 ]\n",
      " [5481.0645 4923.832 ]\n",
      " [7097.7944 1651.134 ]\n",
      " [5898.842  5922.0815]]\n",
      "Offside IDS:  []\n"
     ]
    },
    {
     "name": "stderr",
     "output_type": "stream",
     "text": [
      "Embedding extraction: 1it [00:02,  2.23s/it]\n"
     ]
    },
    {
     "name": "stdout",
     "output_type": "stream",
     "text": [
      "[[7424.292  6305.6943]\n",
      " [7547.4443 5166.0073]\n",
      " [6405.4272 3989.661 ]\n",
      " [6950.4214 5346.556 ]\n",
      " [5490.9966 3128.0925]\n",
      " [8721.365  6102.1597]\n",
      " [8542.685  4926.802 ]\n",
      " [5481.5996 4923.7573]\n",
      " [7097.0337 1650.8029]\n",
      " [5899.67   5922.4526]]\n",
      "Offside IDS:  []\n"
     ]
    },
    {
     "name": "stderr",
     "output_type": "stream",
     "text": [
      "Embedding extraction: 1it [00:02,  2.15s/it]\n"
     ]
    },
    {
     "name": "stdout",
     "output_type": "stream",
     "text": [
      "[[7423.9688 6310.816 ]\n",
      " [6411.7524 4002.7441]\n",
      " [8528.28   4937.998 ]\n",
      " [7545.37   5174.764 ]\n",
      " [5506.6025 3135.6768]\n",
      " [6954.875  5353.214 ]\n",
      " [7095.0596 1691.1322]\n",
      " [5491.323  4892.3564]\n",
      " [5906.7036 5913.4336]]\n",
      "Offside IDS:  []\n"
     ]
    },
    {
     "name": "stderr",
     "output_type": "stream",
     "text": [
      "Embedding extraction: 1it [00:02,  2.23s/it]\n"
     ]
    },
    {
     "name": "stdout",
     "output_type": "stream",
     "text": [
      "[[6439.5303 3971.5747]\n",
      " [7462.0903 6311.1743]\n",
      " [8579.173  4883.243 ]\n",
      " [8777.252  6069.3086]\n",
      " [7571.8276 5179.4077]\n",
      " [5504.905  4896.7646]\n",
      " [5529.65   3137.8008]\n",
      " [6991.526  5348.9253]\n",
      " [5921.769  5911.6377]\n",
      " [7113.8574 1727.2993]]\n",
      "Offside IDS:  []\n"
     ]
    },
    {
     "name": "stderr",
     "output_type": "stream",
     "text": [
      "Embedding extraction: 1it [00:02,  2.15s/it]\n"
     ]
    },
    {
     "name": "stdout",
     "output_type": "stream",
     "text": [
      "[[6458.1167 3961.7515]\n",
      " [8598.04   4867.535 ]\n",
      " [7479.328  6325.444 ]\n",
      " [8789.575  6087.817 ]\n",
      " [5519.7837 4900.904 ]\n",
      " [5551.3174 3122.128 ]\n",
      " [7003.0186 5346.2783]\n",
      " [5933.1914 5907.5254]\n",
      " [7593.3374 5166.036 ]\n",
      " [7135.835  1734.5464]]\n",
      "Offside IDS:  []\n"
     ]
    },
    {
     "name": "stderr",
     "output_type": "stream",
     "text": [
      "Embedding extraction: 1it [00:02,  2.10s/it]\n"
     ]
    },
    {
     "name": "stdout",
     "output_type": "stream",
     "text": [
      "[[7182.7085 5430.9575]\n",
      " [5948.434  5906.935 ]\n",
      " [7505.022  6332.0737]\n",
      " [6475.712  3975.4958]\n",
      " [7021.554  5342.6743]\n",
      " [5535.2744 4916.4624]\n",
      " [5571.9463 3127.63  ]\n",
      " [7632.0244 5179.6074]\n",
      " [8823.129  6107.8438]\n",
      " [7162.024  1727.72  ]]\n",
      "Offside IDS:  []\n"
     ]
    },
    {
     "name": "stderr",
     "output_type": "stream",
     "text": [
      "Embedding extraction: 1it [00:02,  2.15s/it]\n"
     ]
    },
    {
     "name": "stdout",
     "output_type": "stream",
     "text": [
      "[[7034.4883 5344.8276]\n",
      " [6490.552  3957.719 ]\n",
      " [7552.2075 6338.0605]\n",
      " [8876.327  6124.3496]\n",
      " [5956.33   5899.1094]\n",
      " [5576.622  3127.0115]\n",
      " [7658.0806 5170.627 ]\n",
      " [8664.685  4851.8535]\n",
      " [5539.357  4888.3667]\n",
      " [7176.8774 1702.3041]]\n",
      "Offside IDS:  []\n"
     ]
    },
    {
     "name": "stderr",
     "output_type": "stream",
     "text": [
      "Embedding extraction: 1it [00:02,  2.15s/it]\n"
     ]
    },
    {
     "name": "stdout",
     "output_type": "stream",
     "text": [
      "[[7033.9727 5344.6387]\n",
      " [6490.3115 3957.6665]\n",
      " [8875.405  6124.1655]\n",
      " [7551.465  6337.7676]\n",
      " [5955.993  5898.788 ]\n",
      " [5576.669  3127.0334]\n",
      " [7657.474  5170.4834]\n",
      " [8663.9795 4851.7734]\n",
      " [5539.2324 4888.182 ]\n",
      " [7176.795  1702.3644]]\n",
      "Offside IDS:  []\n"
     ]
    },
    {
     "name": "stderr",
     "output_type": "stream",
     "text": [
      "Embedding extraction: 1it [00:02,  2.17s/it]\n"
     ]
    },
    {
     "name": "stdout",
     "output_type": "stream",
     "text": [
      "[[7047.407  5350.745 ]\n",
      " [7676.177  5162.742 ]\n",
      " [5966.4824 5927.0903]\n",
      " [6509.554  3960.7852]\n",
      " [5589.0303 3156.0535]\n",
      " [7575.5396 6358.6045]\n",
      " [7193.386  1700.171 ]\n",
      " [5548.1143 4896.7036]\n",
      " [8686.574  4873.996 ]\n",
      " [8892.018  6156.4546]]\n",
      "Offside IDS:  []\n"
     ]
    },
    {
     "name": "stderr",
     "output_type": "stream",
     "text": [
      "Embedding extraction: 1it [00:02,  2.18s/it]\n"
     ]
    },
    {
     "name": "stdout",
     "output_type": "stream",
     "text": [
      "[[5657.541  5078.0137]\n",
      " [5976.984  5935.2407]\n",
      " [7605.0503 6351.04  ]\n",
      " [7066.925  5355.809 ]\n",
      " [5605.1406 3170.2793]\n",
      " [8943.983  6158.2827]\n",
      " [6536.301  3959.8093]\n",
      " [5564.3755 4901.5806]\n",
      " [7205.6895 1740.0325]\n",
      " [8722.907  4876.4463]]\n",
      "Offside IDS:  []\n"
     ]
    },
    {
     "name": "stderr",
     "output_type": "stream",
     "text": [
      "Embedding extraction: 1it [00:02,  2.19s/it]\n"
     ]
    },
    {
     "name": "stdout",
     "output_type": "stream",
     "text": [
      "[[7890.025  4439.2256]\n",
      " [5979.4673 5950.4585]\n",
      " [5607.778  3171.1677]\n",
      " [7628.1177 6319.452 ]\n",
      " [8959.309  6166.386 ]\n",
      " [7068.919  5375.0107]\n",
      " [8728.911  4886.293 ]\n",
      " [5574.984  4915.1377]\n",
      " [7200.488  1731.2517]\n",
      " [6546.9697 3972.944 ]]\n",
      "Offside IDS:  []\n"
     ]
    },
    {
     "name": "stderr",
     "output_type": "stream",
     "text": [
      "Embedding extraction: 1it [00:02,  2.12s/it]\n"
     ]
    },
    {
     "name": "stdout",
     "output_type": "stream",
     "text": [
      "[[8750.6455 4873.683 ]\n",
      " [7715.1396 5189.6265]\n",
      " [8997.304  6144.78  ]\n",
      " [7651.6646 6316.7397]\n",
      " [5993.46   5939.743 ]\n",
      " [5591.954  4911.4434]\n",
      " [5628.2144 3183.2356]\n",
      " [6560.0874 3967.1274]\n",
      " [7218.495  1746.121 ]\n",
      " [7085.7944 5376.5293]]\n",
      "Offside IDS:  []\n"
     ]
    },
    {
     "name": "stderr",
     "output_type": "stream",
     "text": [
      "Embedding extraction: 1it [00:02,  2.32s/it]\n"
     ]
    },
    {
     "name": "stdout",
     "output_type": "stream",
     "text": [
      "[[7666.442  6342.6484]\n",
      " [6564.3604 3957.942 ]\n",
      " [8781.624  4835.3335]\n",
      " [7215.4756 1790.5723]\n",
      " [7725.5947 5200.583 ]\n",
      " [5594.033  4933.9355]\n",
      " [7104.618  5364.2095]\n",
      " [5632.26   3195.4573]\n",
      " [5999.174  5931.964 ]]\n",
      "Offside IDS:  []\n"
     ]
    },
    {
     "name": "stderr",
     "output_type": "stream",
     "text": [
      "Embedding extraction: 1it [00:02,  2.20s/it]\n"
     ]
    },
    {
     "name": "stdout",
     "output_type": "stream",
     "text": [
      "[[7666.442  6342.6484]\n",
      " [6564.3604 3957.942 ]\n",
      " [8781.624  4835.3335]\n",
      " [7215.4756 1790.5723]\n",
      " [7725.5947 5200.583 ]\n",
      " [5594.033  4933.9355]\n",
      " [7104.618  5364.2095]\n",
      " [5632.26   3195.4573]\n",
      " [5999.174  5931.964 ]]\n",
      "Offside IDS:  []\n"
     ]
    },
    {
     "name": "stderr",
     "output_type": "stream",
     "text": [
      "Embedding extraction: 1it [00:02,  2.23s/it]\n"
     ]
    },
    {
     "name": "stdout",
     "output_type": "stream",
     "text": [
      "[[6570.562  3947.2766]\n",
      " [7697.521  6346.6123]\n",
      " [7128.406  5370.587 ]\n",
      " [6013.796  5940.8223]\n",
      " [5596.767  4919.6562]\n",
      " [8824.799  4787.3135]\n",
      " [7742.501  5203.481 ]\n",
      " [5632.936  3196.7725]\n",
      " [7220.7837 1813.6814]\n",
      " [9055.231  6162.5195]]\n",
      "Offside IDS:  []\n"
     ]
    },
    {
     "name": "stderr",
     "output_type": "stream",
     "text": [
      "Embedding extraction: 1it [00:02,  2.17s/it]\n"
     ]
    },
    {
     "name": "stdout",
     "output_type": "stream",
     "text": [
      "[[6586.2725 3933.7764]\n",
      " [5605.3223 4908.364 ]\n",
      " [7141.4424 5355.682 ]\n",
      " [7720.9624 6346.485 ]\n",
      " [6030.1772 5928.937 ]\n",
      " [9079.537  6189.1167]\n",
      " [8850.915  4770.639 ]\n",
      " [5648.873  3196.933 ]\n",
      " [7772.7017 5192.248 ]\n",
      " [7234.3853 1810.5646]]\n",
      "Offside IDS:  []\n"
     ]
    },
    {
     "name": "stderr",
     "output_type": "stream",
     "text": [
      "Embedding extraction: 1it [00:02,  2.19s/it]\n"
     ]
    },
    {
     "name": "stdout",
     "output_type": "stream",
     "text": [
      "[[7362.837  5467.1694]\n",
      " [7169.3345 5350.4126]\n",
      " [6620.596  3918.3384]\n",
      " [5626.7007 4898.2207]\n",
      " [6050.7393 5926.706 ]\n",
      " [7825.6943 5192.636 ]\n",
      " [8906.804  4770.958 ]\n",
      " [5672.844  3169.5464]\n",
      " [7773.9795 6353.1855]\n",
      " [7275.5566 1810.1489]\n",
      " [9131.446  6194.55  ]]\n",
      "Offside IDS:  []\n"
     ]
    },
    {
     "name": "stderr",
     "output_type": "stream",
     "text": [
      "Embedding extraction: 1it [00:02,  2.20s/it]\n"
     ]
    },
    {
     "name": "stdout",
     "output_type": "stream",
     "text": [
      "[[5635.573  4892.325 ]\n",
      " [6049.672  5923.651 ]\n",
      " [7833.5664 5194.545 ]\n",
      " [7791.9443 6344.4062]\n",
      " [9172.608  6191.4937]\n",
      " [6630.1895 3909.2393]\n",
      " [8930.78   4775.064 ]\n",
      " [7273.3794 1810.3185]\n",
      " [5679.536  3153.551 ]]\n",
      "Offside IDS:  []\n"
     ]
    },
    {
     "name": "stderr",
     "output_type": "stream",
     "text": [
      "Embedding extraction: 1it [00:02,  2.19s/it]\n"
     ]
    },
    {
     "name": "stdout",
     "output_type": "stream",
     "text": [
      "[[7178.3467 5335.7007]\n",
      " [6055.9966 5915.784 ]\n",
      " [7840.8066 5177.0996]\n",
      " [9202.669  6173.676 ]\n",
      " [5636.759  4903.223 ]\n",
      " [8942.078  4769.3955]\n",
      " [7800.1626 6347.7964]\n",
      " [6637.733  3921.0396]\n",
      " [5681.0845 3163.451 ]\n",
      " [7280.9463 1783.6168]]\n",
      "Offside IDS:  []\n"
     ]
    },
    {
     "name": "stderr",
     "output_type": "stream",
     "text": [
      "Embedding extraction: 1it [00:02,  2.20s/it]\n"
     ]
    },
    {
     "name": "stdout",
     "output_type": "stream",
     "text": [
      "[[7178.514  5333.7007]\n",
      " [6056.9873 5912.7837]\n",
      " [7840.6675 5175.456 ]\n",
      " [9202.21   6171.5938]\n",
      " [5637.6733 4901.167 ]\n",
      " [8941.614  4768.4023]\n",
      " [7800.2324 6344.98  ]\n",
      " [6637.782  3920.0745]\n",
      " [5681.3174 3162.818 ]\n",
      " [7280.2944 1783.7688]]\n",
      "Offside IDS:  []\n"
     ]
    },
    {
     "name": "stderr",
     "output_type": "stream",
     "text": [
      "Embedding extraction: 1it [00:02,  2.24s/it]\n"
     ]
    },
    {
     "name": "stdout",
     "output_type": "stream",
     "text": [
      "[[7170.419  5378.319 ]\n",
      " [7817.6577 5230.81  ]\n",
      " [6060.858  5948.087 ]\n",
      " [8929.019  4789.9556]\n",
      " [9202.169  6163.09  ]\n",
      " [5642.8174 4938.4424]\n",
      " [6645.5815 3969.517 ]\n",
      " [7273.654  1841.8402]\n",
      " [5691.5156 3234.9155]]\n",
      "Offside IDS:  []\n"
     ]
    },
    {
     "name": "stderr",
     "output_type": "stream",
     "text": [
      "Embedding extraction: 1it [00:02,  2.32s/it]\n"
     ]
    },
    {
     "name": "stdout",
     "output_type": "stream",
     "text": [
      "[[7803.9277 6365.493 ]\n",
      " [7165.384  5392.099 ]\n",
      " [8940.308  4793.9644]\n",
      " [6055.8813 5956.832 ]\n",
      " [7824.7373 5235.0454]\n",
      " [9180.003  6221.3896]\n",
      " [5685.732  3254.7478]\n",
      " [7269.756  1862.8269]\n",
      " [5642.9116 4945.7036]]\n",
      "Offside IDS:  []\n"
     ]
    },
    {
     "name": "stderr",
     "output_type": "stream",
     "text": [
      "Embedding extraction: 1it [00:02,  2.30s/it]\n"
     ]
    },
    {
     "name": "stdout",
     "output_type": "stream",
     "text": [
      "[[7833.81   6379.291 ]\n",
      " [7847.646  5238.489 ]\n",
      " [8979.797  4774.013 ]\n",
      " [6063.1436 5969.62  ]\n",
      " [5679.463  3255.9114]\n",
      " [7180.28   5397.5054]\n",
      " [6647.7075 3964.7798]\n",
      " [9221.701  6232.189 ]\n",
      " [7265.295  1844.3291]\n",
      " [5642.111  4949.2026]]\n",
      "Offside IDS:  []\n"
     ]
    },
    {
     "name": "stderr",
     "output_type": "stream",
     "text": [
      "Embedding extraction: 1it [00:02,  2.29s/it]\n"
     ]
    },
    {
     "name": "stdout",
     "output_type": "stream",
     "text": [
      "[[6654.8823 3961.4756]\n",
      " [9000.837  4775.777 ]\n",
      " [7853.343  6391.134 ]\n",
      " [7198.983  5391.511 ]\n",
      " [7860.0215 5243.082 ]\n",
      " [5683.418  3293.1594]\n",
      " [9251.256  6245.2515]\n",
      " [7276.2505 1853.0298]\n",
      " [5648.3887 4953.0596]\n",
      " [6078.2236 5969.2354]]\n",
      "Offside IDS:  []\n"
     ]
    },
    {
     "name": "stderr",
     "output_type": "stream",
     "text": [
      "Embedding extraction: 1it [00:02,  2.19s/it]\n"
     ]
    },
    {
     "name": "stdout",
     "output_type": "stream",
     "text": [
      "[[6647.5176 3989.1558]\n",
      " [7176.5215 5447.8994]\n",
      " [5701.2026 3304.2722]\n",
      " [6082.278  6015.735 ]\n",
      " [8950.69   4843.0225]\n",
      " [7807.156  6442.804 ]\n",
      " [7268.217  1835.0339]\n",
      " [9162.882  6316.0225]\n",
      " [5674.46   5000.968 ]\n",
      " [7824.4873 5300.5264]]\n",
      "Offside IDS:  []\n"
     ]
    },
    {
     "name": "stderr",
     "output_type": "stream",
     "text": [
      "Embedding extraction: 1it [00:02,  2.20s/it]\n"
     ]
    },
    {
     "name": "stdout",
     "output_type": "stream",
     "text": [
      "[[6647.5845 3988.427 ]\n",
      " [7176.8433 5445.917 ]\n",
      " [5701.305  3303.8923]\n",
      " [6083.4194 6012.81  ]\n",
      " [8950.309  4841.996 ]\n",
      " [7807.4053 6439.768 ]\n",
      " [7267.505  1835.3372]\n",
      " [9162.5    6313.5137]\n",
      " [5675.3896 4999.1543]\n",
      " [7824.497  5298.842 ]]\n",
      "Offside IDS:  []\n"
     ]
    },
    {
     "name": "stderr",
     "output_type": "stream",
     "text": [
      "Embedding extraction: 1it [00:02,  2.13s/it]\n"
     ]
    },
    {
     "name": "stdout",
     "output_type": "stream",
     "text": [
      "[[6671.092  3980.3613]\n",
      " [7203.9644 5454.0796]\n",
      " [6103.26   6016.706 ]\n",
      " [5716.411  3286.115 ]\n",
      " [7852.8784 6447.996 ]\n",
      " [9007.206  4847.1855]\n",
      " [7293.294  1824.4156]\n",
      " [5691.134  5004.5513]\n",
      " [9216.788  6317.445 ]\n",
      " [7864.162  5291.316 ]]\n",
      "Offside IDS:  []\n"
     ]
    },
    {
     "name": "stderr",
     "output_type": "stream",
     "text": [
      "Embedding extraction: 1it [00:02,  2.29s/it]\n"
     ]
    },
    {
     "name": "stdout",
     "output_type": "stream",
     "text": [
      "[[6675.091  3982.596 ]\n",
      " [7206.6953 5452.658 ]\n",
      " [7858.5806 6457.039 ]\n",
      " [6109.5913 6015.595 ]\n",
      " [9028.002  4849.542 ]\n",
      " [5717.094  3301.6094]\n",
      " [9240.771  6336.691 ]\n",
      " [7876.215  5309.3345]\n",
      " [5688.9    5006.512 ]\n",
      " [7307.1855 1843.3229]]\n",
      "Offside IDS:  []\n"
     ]
    },
    {
     "name": "stderr",
     "output_type": "stream",
     "text": [
      "Embedding extraction: 1it [00:02,  2.24s/it]\n"
     ]
    },
    {
     "name": "stdout",
     "output_type": "stream",
     "text": [
      "[[7227.046  5454.39  ]\n",
      " [9305.13   6303.413 ]\n",
      " [7898.263  6444.766 ]\n",
      " [6689.9536 3976.5447]\n",
      " [6122.6357 6016.3296]\n",
      " [7907.625  5293.099 ]\n",
      " [9070.028  4823.276 ]\n",
      " [5721.4106 3316.713 ]\n",
      " [7323.923  1860.7325]\n",
      " [5700.0884 5012.25  ]]\n",
      "Offside IDS:  []\n"
     ]
    },
    {
     "name": "stderr",
     "output_type": "stream",
     "text": [
      "Embedding extraction: 1it [00:02,  2.04s/it]\n"
     ]
    },
    {
     "name": "stdout",
     "output_type": "stream",
     "text": [
      "[[7234.9688 5450.961 ]\n",
      " [9324.861  6308.6226]\n",
      " [6122.415  6024.7964]\n",
      " [7909.36   5302.1997]\n",
      " [7923.038  6419.768 ]\n",
      " [9099.193  4795.61  ]\n",
      " [6698.986  3980.655 ]\n",
      " [5722.4067 3314.69  ]\n",
      " [7332.2744 1844.1483]\n",
      " [5707.967  5049.011 ]]\n",
      "Offside IDS:  []\n"
     ]
    },
    {
     "name": "stderr",
     "output_type": "stream",
     "text": [
      "Embedding extraction: 1it [00:02,  2.14s/it]\n"
     ]
    },
    {
     "name": "stdout",
     "output_type": "stream",
     "text": [
      "[[8390.1    6719.115 ]\n",
      " [7951.318  6419.303 ]\n",
      " [6116.9136 6000.1406]\n",
      " [7934.8945 5272.693 ]\n",
      " [7242.996  5445.7847]\n",
      " [9354.828  6326.789 ]\n",
      " [6709.674  3982.8142]\n",
      " [9146.78   4792.2305]\n",
      " [5716.9766 3359.7683]\n",
      " [5687.163  5045.9756]\n",
      " [7339.422  1872.0791]]\n",
      "Offside IDS:  []\n"
     ]
    },
    {
     "name": "stderr",
     "output_type": "stream",
     "text": [
      "Embedding extraction: 1it [00:02,  2.17s/it]\n"
     ]
    },
    {
     "name": "stdout",
     "output_type": "stream",
     "text": [
      "[[8390.1    6719.115 ]\n",
      " [7951.318  6419.303 ]\n",
      " [6116.9136 6000.1406]\n",
      " [7934.8945 5272.693 ]\n",
      " [7242.996  5445.7847]\n",
      " [9354.828  6326.789 ]\n",
      " [6709.674  3982.8142]\n",
      " [9146.78   4792.2305]\n",
      " [5716.9766 3359.7683]\n",
      " [5687.163  5045.9756]\n",
      " [7339.422  1872.0791]]\n",
      "Offside IDS:  []\n"
     ]
    },
    {
     "name": "stderr",
     "output_type": "stream",
     "text": [
      "Embedding extraction: 1it [00:02,  2.32s/it]\n"
     ]
    },
    {
     "name": "stdout",
     "output_type": "stream",
     "text": [
      "[[6127.1167 5997.515 ]\n",
      " [7954.9375 5263.367 ]\n",
      " [7965.528  6433.111 ]\n",
      " [7250.514  5450.397 ]\n",
      " [5735.8936 3349.7466]\n",
      " [9380.95   6344.707 ]\n",
      " [7352.4697 1916.137 ]\n",
      " [5688.0586 5002.1865]\n",
      " [6728.8486 3999.913 ]\n",
      " [9167.202  4795.2505]]\n",
      "Offside IDS:  []\n"
     ]
    },
    {
     "name": "stderr",
     "output_type": "stream",
     "text": [
      "Embedding extraction: 1it [00:02,  2.38s/it]\n"
     ]
    },
    {
     "name": "stdout",
     "output_type": "stream",
     "text": [
      "[[6132.074  6011.3384]\n",
      " [7959.63   5274.5186]\n",
      " [5737.751  3374.6018]\n",
      " [7346.696  1932.5096]\n",
      " [7976.585  6448.909 ]\n",
      " [6730.957  4004.669 ]\n",
      " [7254.6797 5462.6035]\n",
      " [9399.357  6362.237 ]\n",
      " [9177.121  4825.2827]\n",
      " [5695.305  5014.879 ]]\n",
      "Offside IDS:  []\n"
     ]
    },
    {
     "name": "stderr",
     "output_type": "stream",
     "text": [
      "Embedding extraction: 1it [00:02,  2.28s/it]\n"
     ]
    },
    {
     "name": "stdout",
     "output_type": "stream",
     "text": [
      "[[6136.443  6025.9033]\n",
      " [6740.5713 4011.0955]\n",
      " [9412.504  6372.1826]\n",
      " [5737.645  3399.5972]\n",
      " [7357.0664 1955.3099]\n",
      " [7970.328  5284.822 ]\n",
      " [7279.261  5479.0176]\n",
      " [8005.3916 6455.223 ]\n",
      " [9224.48   4820.2007]\n",
      " [5700.839  5013.879 ]]\n",
      "Offside IDS:  []\n"
     ]
    },
    {
     "name": "stderr",
     "output_type": "stream",
     "text": [
      "Embedding extraction: 1it [00:02,  2.23s/it]\n"
     ]
    },
    {
     "name": "stdout",
     "output_type": "stream",
     "text": [
      "[[6748.522  4011.301 ]\n",
      " [6145.1733 6023.013 ]\n",
      " [7364.0884 1980.5006]\n",
      " [9246.494  4820.3237]\n",
      " [7300.859  5472.8643]\n",
      " [9439.742  6383.094 ]\n",
      " [5743.6772 3423.8223]\n",
      " [8034.9346 6458.0874]\n",
      " [8006.8735 5295.345 ]\n",
      " [5711.8125 5005.589 ]]\n",
      "Offside IDS:  []\n"
     ]
    },
    {
     "name": "stderr",
     "output_type": "stream",
     "text": [
      "Embedding extraction: 1it [00:02,  2.30s/it]\n"
     ]
    },
    {
     "name": "stdout",
     "output_type": "stream",
     "text": [
      "[[6763.6406 4003.2444]\n",
      " [6154.1094 6023.425 ]\n",
      " [9265.472  4827.5835]\n",
      " [9463.45   6392.1313]\n",
      " [7317.8857 5467.938 ]\n",
      " [7383.3403 1979.5015]\n",
      " [5721.924  4992.193 ]\n",
      " [8054.0264 6466.3037]\n",
      " [5753.932  3404.6177]\n",
      " [8015.292  5302.228 ]]\n",
      "Offside IDS:  []\n"
     ]
    },
    {
     "name": "stderr",
     "output_type": "stream",
     "text": [
      "Embedding extraction: 1it [00:02,  2.22s/it]\n"
     ]
    },
    {
     "name": "stdout",
     "output_type": "stream",
     "text": [
      "[[6764.4805 4003.4692]\n",
      " [6155.1914 6023.63  ]\n",
      " [9265.783  4827.761 ]\n",
      " [9463.782  6392.37  ]\n",
      " [7318.635  5468.1484]\n",
      " [7383.9497 1979.7008]\n",
      " [5723.098  4992.424 ]\n",
      " [8054.637  6466.5264]\n",
      " [5755.041  3404.89  ]\n",
      " [8015.8706 5302.433 ]]\n",
      "Offside IDS:  []\n"
     ]
    },
    {
     "name": "stderr",
     "output_type": "stream",
     "text": [
      "Embedding extraction: 1it [00:02,  2.07s/it]\n"
     ]
    },
    {
     "name": "stdout",
     "output_type": "stream",
     "text": [
      "[[6777.246  3981.7146]\n",
      " [7325.553  5475.1826]\n",
      " [8068.402  6469.0083]\n",
      " [9307.603  4798.523 ]\n",
      " [5771.1333 3402.195 ]\n",
      " [9503.572  6388.8667]\n",
      " [6171.881  6021.6616]\n",
      " [8030.3716 5311.944 ]\n",
      " [7391.0264 1997.9719]]\n",
      "Offside IDS:  []\n"
     ]
    },
    {
     "name": "stderr",
     "output_type": "stream",
     "text": [
      "Embedding extraction: 1it [00:02,  2.20s/it]\n"
     ]
    },
    {
     "name": "stdout",
     "output_type": "stream",
     "text": [
      "[[7606.6387 5593.3857]\n",
      " [7326.628  5481.386 ]\n",
      " [8088.4907 6461.1113]\n",
      " [6780.7188 3983.6729]\n",
      " [9517.512  6401.743 ]\n",
      " [8041.243  5303.237 ]\n",
      " [6175.6426 6030.689 ]\n",
      " [5771.5234 3401.4705]\n",
      " [5737.1055 5030.9575]\n",
      " [9327.529  4807.605 ]\n",
      " [7405.8887 1958.6133]]\n",
      "Offside IDS:  []\n"
     ]
    },
    {
     "name": "stderr",
     "output_type": "stream",
     "text": [
      "Embedding extraction: 1it [00:02,  2.24s/it]\n"
     ]
    },
    {
     "name": "stdout",
     "output_type": "stream",
     "text": [
      "[[7345.807  5467.109 ]\n",
      " [9553.267  6388.7915]\n",
      " [8116.8584 6461.2104]\n",
      " [8060.2974 5286.561 ]\n",
      " [6188.215  6040.25  ]\n",
      " [6794.5503 3986.1746]\n",
      " [5774.626  3402.446 ]\n",
      " [5743.516  5015.9263]\n",
      " [9346.344  4830.5127]]\n",
      "Offside IDS:  []\n"
     ]
    },
    {
     "name": "stderr",
     "output_type": "stream",
     "text": [
      "Embedding extraction: 1it [00:02,  2.23s/it]\n"
     ]
    },
    {
     "name": "stdout",
     "output_type": "stream",
     "text": [
      "[[7362.5913 5469.008 ]\n",
      " [8131.0166 6483.818 ]\n",
      " [9566.963  6408.919 ]\n",
      " [8066.703  5306.1084]\n",
      " [6211.191  6048.1562]\n",
      " [5775.478  5039.406 ]\n",
      " [6815.673  4023.9165]\n",
      " [5809.3975 3415.8914]\n",
      " [9366.942  4862.359 ]]\n",
      "Offside IDS:  []\n"
     ]
    },
    {
     "name": "stderr",
     "output_type": "stream",
     "text": [
      "Embedding extraction: 1it [00:02,  2.22s/it]\n"
     ]
    },
    {
     "name": "stdout",
     "output_type": "stream",
     "text": [
      "[[8090.067  5295.0576]\n",
      " [6226.5903 6049.1777]\n",
      " [8145.503  6500.0728]\n",
      " [9588.093  6417.9727]\n",
      " [7371.2324 5484.8765]\n",
      " [5823.8955 3439.6128]\n",
      " [5788.3696 5038.3813]\n",
      " [7451.7676 1984.9205]\n",
      " [6835.1636 4026.6106]\n",
      " [9400.     4873.1113]]\n",
      "Offside IDS:  []\n"
     ]
    },
    {
     "name": "stderr",
     "output_type": "stream",
     "text": [
      "Embedding extraction: 1it [00:02,  2.13s/it]\n"
     ]
    },
    {
     "name": "stdout",
     "output_type": "stream",
     "text": [
      "[[8090.067  5295.0576]\n",
      " [6226.5903 6049.1777]\n",
      " [8145.503  6500.0728]\n",
      " [9588.093  6417.9727]\n",
      " [7371.2324 5484.8765]\n",
      " [5823.8955 3439.6128]\n",
      " [5788.3696 5038.3813]\n",
      " [7451.7676 1984.9205]\n",
      " [6835.1636 4026.6106]\n",
      " [9400.     4873.1113]]\n",
      "Offside IDS:  []\n"
     ]
    },
    {
     "name": "stderr",
     "output_type": "stream",
     "text": [
      "Embedding extraction: 1it [00:02,  2.05s/it]\n"
     ]
    },
    {
     "name": "stdout",
     "output_type": "stream",
     "text": [
      "[[6231.9976 6047.629 ]\n",
      " [8105.9814 5295.731 ]\n",
      " [7379.703  5483.2573]\n",
      " [9606.386  6424.917 ]\n",
      " [5829.375  3430.2717]\n",
      " [8158.9053 6516.2573]\n",
      " [9432.689  4878.6104]\n",
      " [5789.9043 5046.237 ]\n",
      " [6851.726  4022.71  ]]\n",
      "Offside IDS:  []\n"
     ]
    },
    {
     "name": "stderr",
     "output_type": "stream",
     "text": [
      "Embedding extraction: 1it [00:02,  2.14s/it]\n"
     ]
    },
    {
     "name": "stdout",
     "output_type": "stream",
     "text": [
      "[[6244.311  6045.1104]\n",
      " [8136.634  5279.572 ]\n",
      " [7410.8994 5485.4663]\n",
      " [9474.973  4860.0405]\n",
      " [5798.1284 5030.6445]\n",
      " [5834.9517 3454.984 ]\n",
      " [8192.563  6515.3955]\n",
      " [9645.198  6423.2866]\n",
      " [7467.4224 1979.3151]\n",
      " [6862.3184 4022.6357]]\n",
      "Offside IDS:  []\n"
     ]
    },
    {
     "name": "stderr",
     "output_type": "stream",
     "text": [
      "Embedding extraction: 1it [00:02,  2.11s/it]\n"
     ]
    },
    {
     "name": "stdout",
     "output_type": "stream",
     "text": [
      "[[6242.566  6063.1606]\n",
      " [9699.406  6401.6406]\n",
      " [7478.3994 1983.0261]\n",
      " [8156.3306 5294.7124]\n",
      " [7428.8794 5488.284 ]\n",
      " [5789.3867 5040.0166]\n",
      " [8223.046  6513.105 ]\n",
      " [5819.244  3460.9448]\n",
      " [6874.331  4006.8782]\n",
      " [9542.159  4795.5234]]\n",
      "Offside IDS:  []\n"
     ]
    },
    {
     "name": "stderr",
     "output_type": "stream",
     "text": [
      "Embedding extraction: 1it [00:02,  2.11s/it]\n"
     ]
    },
    {
     "name": "stdout",
     "output_type": "stream",
     "text": [
      "[[6249.6235 6065.9834]\n",
      " [5797.6675 5042.617 ]\n",
      " [8239.472  6518.561 ]\n",
      " [9724.545  6409.2305]\n",
      " [7441.66   5492.1445]\n",
      " [7479.837  2020.7665]\n",
      " [8176.1865 5300.368 ]\n",
      " [5831.6353 3487.609 ]\n",
      " [6887.3945 4010.1748]]\n",
      "Offside IDS:  []\n"
     ]
    },
    {
     "name": "stderr",
     "output_type": "stream",
     "text": [
      "Embedding extraction: 1it [00:02,  2.23s/it]\n"
     ]
    },
    {
     "name": "stdout",
     "output_type": "stream",
     "text": [
      "[[6250.3213 6068.031 ]\n",
      " [5800.152  5045.3325]\n",
      " [7453.4976 5498.631 ]\n",
      " [8268.427  6506.13  ]\n",
      " [9760.209  6394.96  ]\n",
      " [7482.4565 2029.0653]\n",
      " [6892.8125 4037.8745]\n",
      " [5836.53   3491.1372]\n",
      " [8196.5625 5310.5073]\n",
      " [9624.664  4826.4556]]\n",
      "Offside IDS:  []\n"
     ]
    },
    {
     "name": "stderr",
     "output_type": "stream",
     "text": [
      "Embedding extraction: 1it [00:02,  2.25s/it]\n"
     ]
    },
    {
     "name": "stdout",
     "output_type": "stream",
     "text": [
      "[[6250.076  6068.0063]\n",
      " [5800.039  5045.587 ]\n",
      " [7453.1626 5498.524 ]\n",
      " [8267.707  6505.55  ]\n",
      " [9758.998  6394.107 ]\n",
      " [7482.7183 2029.2059]\n",
      " [6892.7734 4038.0847]\n",
      " [5836.558  3491.475 ]\n",
      " [8196.114  5310.3203]\n",
      " [9623.948  4826.1685]]\n",
      "Offside IDS:  []\n"
     ]
    },
    {
     "name": "stderr",
     "output_type": "stream",
     "text": [
      "Embedding extraction: 1it [00:02,  2.24s/it]\n"
     ]
    },
    {
     "name": "stdout",
     "output_type": "stream",
     "text": [
      "[[6249.9434 6071.0654]\n",
      " [8282.083  6506.551 ]\n",
      " [7462.048  5491.0195]\n",
      " [8213.193  5304.0435]\n",
      " [9783.151  6397.9443]\n",
      " [5808.848  5063.957 ]\n",
      " [5840.9473 3492.4275]\n",
      " [7488.7764 2030.7394]\n",
      " [6892.8315 4040.131 ]\n",
      " [9644.385  4839.3755]]\n",
      "Offside IDS:  []\n"
     ]
    },
    {
     "name": "stderr",
     "output_type": "stream",
     "text": [
      "Embedding extraction: 1it [00:02,  2.20s/it]\n"
     ]
    },
    {
     "name": "stdout",
     "output_type": "stream",
     "text": [
      "[[6261.0767 6071.389 ]\n",
      " [7486.049  5477.79  ]\n",
      " [8320.878  6487.164 ]\n",
      " [8244.9795 5272.122 ]\n",
      " [5848.57   3517.6077]\n",
      " [5819.986  5065.6284]\n",
      " [9673.726  4840.1377]\n",
      " [6903.1123 4040.47  ]]\n",
      "Offside IDS:  []\n"
     ]
    },
    {
     "name": "stderr",
     "output_type": "stream",
     "text": [
      "Embedding extraction: 1it [00:02,  2.25s/it]\n"
     ]
    },
    {
     "name": "stdout",
     "output_type": "stream",
     "text": [
      "[[6266.146  6072.6475]\n",
      " [7496.248  5483.2183]\n",
      " [9820.23   6404.34  ]\n",
      " [8330.937  6493.168 ]\n",
      " [8252.301  5260.451 ]\n",
      " [9679.151  4847.9277]\n",
      " [5852.926  3519.1946]\n",
      " [5832.3003 5054.462 ]\n",
      " [6914.4277 4023.3616]]\n",
      "Offside IDS:  []\n"
     ]
    },
    {
     "name": "stderr",
     "output_type": "stream",
     "text": [
      "Embedding extraction: 1it [00:02,  2.22s/it]\n"
     ]
    },
    {
     "name": "stdout",
     "output_type": "stream",
     "text": [
      "[[7508.525  5478.5215]\n",
      " [6271.832  6068.4175]\n",
      " [8348.173  6501.563 ]\n",
      " [8272.324  5239.847 ]\n",
      " [9840.907  6399.556 ]\n",
      " [9727.989  4808.2383]\n",
      " [5862.2773 3543.3767]\n",
      " [7512.7505 2088.579 ]\n",
      " [6936.1274 4025.2932]\n",
      " [5841.89   5065.5273]]\n",
      "Offside IDS:  []\n"
     ]
    },
    {
     "name": "stderr",
     "output_type": "stream",
     "text": [
      "Embedding extraction: 1it [00:02,  2.28s/it]\n"
     ]
    },
    {
     "name": "stdout",
     "output_type": "stream",
     "text": [
      "[[6281.868  6068.273 ]\n",
      " [8364.088  6502.362 ]\n",
      " [8298.968  5226.2197]\n",
      " [9855.106  6400.615 ]\n",
      " [9769.349  4795.7534]\n",
      " [7524.732  5479.3247]\n",
      " [5864.555  3534.663 ]\n",
      " [7521.538  2079.5813]\n",
      " [6942.846  4064.9446]\n",
      " [5847.662  5062.5444]]\n",
      "Offside IDS:  []\n"
     ]
    },
    {
     "name": "stderr",
     "output_type": "stream",
     "text": [
      "Embedding extraction: 1it [00:02,  2.26s/it]\n"
     ]
    },
    {
     "name": "stdout",
     "output_type": "stream",
     "text": [
      "[[6282.0034 6070.194 ]\n",
      " [8364.284  6504.192 ]\n",
      " [8299.733  5226.699 ]\n",
      " [9855.153  6401.9414]\n",
      " [9770.33   4795.4575]\n",
      " [7525.3086 5480.2637]\n",
      " [5865.171  3533.1196]\n",
      " [7523.4    2075.4905]\n",
      " [6943.78   4064.1047]\n",
      " [5847.9106 5063.2886]]\n",
      "Offside IDS:  []\n"
     ]
    },
    {
     "name": "stderr",
     "output_type": "stream",
     "text": [
      "Embedding extraction: 1it [00:02,  2.27s/it]\n"
     ]
    },
    {
     "name": "stdout",
     "output_type": "stream",
     "text": [
      "[[7532.4644 5497.4487]\n",
      " [9812.476  4785.5728]\n",
      " [8376.434  6508.361 ]\n",
      " [9893.384  6400.817 ]\n",
      " [8309.226  5230.4727]\n",
      " [6282.294  6066.493 ]\n",
      " [5866.012  3540.2952]\n",
      " [7514.6445 2126.478 ]\n",
      " [6945.1157 4068.7446]\n",
      " [5845.2734 5060.8325]]\n",
      "Offside IDS:  []\n"
     ]
    },
    {
     "name": "stderr",
     "output_type": "stream",
     "text": [
      "Embedding extraction: 1it [00:02,  2.22s/it]\n"
     ]
    },
    {
     "name": "stdout",
     "output_type": "stream",
     "text": [
      "[[6282.399  6059.0396]\n",
      " [7551.9585 5483.258 ]\n",
      " [9927.482  6397.1626]\n",
      " [5870.4146 3534.4844]\n",
      " [8392.368  6511.0166]\n",
      " [9839.185  4791.9473]\n",
      " [8315.436  5246.746 ]\n",
      " [7523.8135 2126.2908]\n",
      " [6953.696  4065.5422]\n",
      " [5855.979  5055.542 ]]\n",
      "Offside IDS:  []\n"
     ]
    },
    {
     "name": "stderr",
     "output_type": "stream",
     "text": [
      "Embedding extraction: 1it [00:02,  2.18s/it]\n"
     ]
    },
    {
     "name": "stdout",
     "output_type": "stream",
     "text": [
      "[[8413.109  6517.974 ]\n",
      " [9959.751  6392.7075]\n",
      " [7536.417  2129.1863]\n",
      " [7566.6235 5487.714 ]\n",
      " [6284.505  6060.1255]\n",
      " [5871.761  3557.354 ]\n",
      " [5862.0425 5071.855 ]\n",
      " [8338.379  5235.637 ]\n",
      " [6967.291  4046.974 ]\n",
      " [9894.127  4807.366 ]]\n",
      "Offside IDS:  []\n"
     ]
    },
    {
     "name": "stderr",
     "output_type": "stream",
     "text": [
      "Embedding extraction: 1it [00:02,  2.33s/it]\n"
     ]
    },
    {
     "name": "stdout",
     "output_type": "stream",
     "text": [
      "[[8436.222  6513.2393]\n",
      " [9996.66   6374.59  ]\n",
      " [7577.6553 5490.9614]\n",
      " [7545.5015 2131.8406]\n",
      " [5874.2734 5075.185 ]\n",
      " [6287.465  6060.5747]\n",
      " [8352.202  5239.812 ]\n",
      " [5880.704  3559.9194]\n",
      " [6977.4595 4071.993 ]\n",
      " [9908.244  4834.7876]]\n",
      "Offside IDS:  []\n"
     ]
    },
    {
     "name": "stderr",
     "output_type": "stream",
     "text": [
      "Embedding extraction: 1it [00:02,  2.25s/it]\n"
     ]
    },
    {
     "name": "stdout",
     "output_type": "stream",
     "text": [
      "[[ 7586.075   5478.148 ]\n",
      " [ 8443.238   6515.08  ]\n",
      " [10017.704   6366.731 ]\n",
      " [ 6284.9062  6069.7188]\n",
      " [ 7540.2974  2167.191 ]\n",
      " [ 8359.948   5242.6333]\n",
      " [ 6980.913   4072.973 ]\n",
      " [ 5876.4053  3557.906 ]\n",
      " [ 9942.254   4823.4004]\n",
      " [ 5868.8755  5072.9204]]\n",
      "Offside IDS:  []\n"
     ]
    },
    {
     "name": "stderr",
     "output_type": "stream",
     "text": [
      "Embedding extraction: 1it [00:02,  2.21s/it]\n"
     ]
    },
    {
     "name": "stdout",
     "output_type": "stream",
     "text": [
      "[[ 7586.075   5478.148 ]\n",
      " [ 8443.238   6515.08  ]\n",
      " [10017.704   6366.731 ]\n",
      " [ 6284.9062  6069.7188]\n",
      " [ 7540.2974  2167.191 ]\n",
      " [ 8359.948   5242.6333]\n",
      " [ 6980.913   4072.973 ]\n",
      " [ 5876.4053  3557.906 ]\n",
      " [ 9942.254   4823.4004]\n",
      " [ 5868.8755  5072.9204]]\n",
      "Offside IDS:  []\n"
     ]
    },
    {
     "name": "stderr",
     "output_type": "stream",
     "text": [
      "Embedding extraction: 1it [00:02,  2.23s/it]\n"
     ]
    },
    {
     "name": "stdout",
     "output_type": "stream",
     "text": [
      "[[ 7597.1587  5481.4814]\n",
      " [ 8458.084   6507.7173]\n",
      " [10039.642   6357.985 ]\n",
      " [ 8382.477   5213.1943]\n",
      " [ 9960.182   4828.1885]\n",
      " [ 6287.1562  6070.8735]\n",
      " [ 6988.99    4075.2625]\n",
      " [ 7546.707   2168.6792]\n",
      " [ 5885.164   3560.4424]\n",
      " [ 5875.923   5060.7905]]\n",
      "Offside IDS:  []\n"
     ]
    },
    {
     "name": "stderr",
     "output_type": "stream",
     "text": [
      "Embedding extraction: 1it [00:02,  2.20s/it]\n"
     ]
    },
    {
     "name": "stdout",
     "output_type": "stream",
     "text": [
      "[[ 7605.4     5483.9937]\n",
      " [ 8459.768   6509.1465]\n",
      " [10048.053   6364.2163]\n",
      " [ 8396.774   5200.714 ]\n",
      " [10030.125   4757.9243]\n",
      " [ 6999.207   4077.7585]\n",
      " [ 6292.1045  6058.9824]\n",
      " [ 5896.0356  3561.606 ]\n",
      " [ 5880.2207  5059.458 ]\n",
      " [ 7552.8057  2170.015 ]]\n",
      "Offside IDS:  []\n"
     ]
    },
    {
     "name": "stderr",
     "output_type": "stream",
     "text": [
      "Embedding extraction: 1it [00:02,  2.23s/it]\n"
     ]
    },
    {
     "name": "stdout",
     "output_type": "stream",
     "text": [
      "[[ 7622.9976  5488.428 ]\n",
      " [ 8403.846   5219.849 ]\n",
      " [10050.923   6362.92  ]\n",
      " [ 8467.055   6509.279 ]\n",
      " [ 6300.019   6062.3467]\n",
      " [ 7013.178   4078.5542]\n",
      " [ 7557.4863  2160.1492]\n",
      " [ 5904.9165  3558.7522]\n",
      " [ 5892.803   5063.3076]\n",
      " [10049.943   4763.8076]]\n",
      "Offside IDS:  []\n"
     ]
    },
    {
     "name": "stderr",
     "output_type": "stream",
     "text": [
      "Embedding extraction: 1it [00:02,  2.18s/it]\n"
     ]
    },
    {
     "name": "stdout",
     "output_type": "stream",
     "text": [
      "[[ 7631.3857  5475.1978]\n",
      " [ 8415.43    5208.5576]\n",
      " [ 8469.972   6506.3086]\n",
      " [10071.698   6371.0195]\n",
      " [ 7019.6216  4074.2815]\n",
      " [ 6294.5566  6063.323 ]\n",
      " [ 7560.5776  2156.1448]\n",
      " [ 5902.3706  5054.226 ]\n",
      " [ 5914.0303  3549.2163]\n",
      " [10097.635   4787.438 ]]\n",
      "Offside IDS:  []\n"
     ]
    },
    {
     "name": "stderr",
     "output_type": "stream",
     "text": [
      "Embedding extraction: 1it [00:02,  2.27s/it]\n"
     ]
    },
    {
     "name": "stdout",
     "output_type": "stream",
     "text": [
      "[[ 8480.846   6504.1113]\n",
      " [ 8435.109   5214.173 ]\n",
      " [ 7650.9897  5480.4683]\n",
      " [ 7568.318   2132.9707]\n",
      " [ 6295.13    6053.8394]\n",
      " [ 7026.797   4080.0977]\n",
      " [ 5905.05    5058.0166]\n",
      " [10113.956   4795.3115]\n",
      " [ 5911.486   3553.119 ]]\n",
      "Offside IDS:  []\n"
     ]
    },
    {
     "name": "stderr",
     "output_type": "stream",
     "text": [
      "Embedding extraction: 1it [00:02,  2.23s/it]\n"
     ]
    },
    {
     "name": "stdout",
     "output_type": "stream",
     "text": [
      "[[ 8480.846   6504.1113]\n",
      " [ 8435.109   5214.173 ]\n",
      " [ 7650.9897  5480.4683]\n",
      " [ 7568.318   2132.9707]\n",
      " [ 6295.13    6053.8394]\n",
      " [ 7026.797   4080.0977]\n",
      " [ 5905.05    5058.0166]\n",
      " [10110.982   4794.4487]\n",
      " [ 5911.486   3553.119 ]]\n",
      "Offside IDS:  []\n"
     ]
    },
    {
     "name": "stderr",
     "output_type": "stream",
     "text": [
      "Embedding extraction: 1it [00:02,  2.23s/it]\n"
     ]
    },
    {
     "name": "stdout",
     "output_type": "stream",
     "text": [
      "[[ 8725.363   6786.9927]\n",
      " [ 8488.749   6507.2393]\n",
      " [ 7035.011   4077.2268]\n",
      " [ 8461.216   5201.9893]\n",
      " [ 7663.1426  5481.6978]\n",
      " [ 5913.1074  5054.786 ]\n",
      " [ 6296.298   6050.8296]\n",
      " [ 7564.72    2126.314 ]\n",
      " [10146.541   4804.7085]\n",
      " [ 5913.823   3546.387 ]]\n",
      "Offside IDS:  []\n"
     ]
    },
    {
     "name": "stderr",
     "output_type": "stream",
     "text": [
      "Embedding extraction: 1it [00:02,  2.21s/it]\n"
     ]
    },
    {
     "name": "stdout",
     "output_type": "stream",
     "text": [
      "[[10119.456   6373.853 ]\n",
      " [ 7050.0923  4104.1323]\n",
      " [ 8496.445   6502.1333]\n",
      " [ 8479.409   5211.3945]\n",
      " [ 7682.664   5474.6826]\n",
      " [10191.286   4801.145 ]\n",
      " [ 5922.465   5071.2607]\n",
      " [ 7570.239   2127.617 ]\n",
      " [ 5924.965   3547.5178]\n",
      " [ 6299.3936  6041.2046]]\n",
      "Offside IDS:  []\n"
     ]
    },
    {
     "name": "stderr",
     "output_type": "stream",
     "text": [
      "Embedding extraction: 1it [00:02,  2.19s/it]\n"
     ]
    },
    {
     "name": "stdout",
     "output_type": "stream",
     "text": [
      "[[10157.223   6337.3936]\n",
      " [ 7060.8564  4106.471 ]\n",
      " [ 8499.182   6499.775 ]\n",
      " [10209.823   4805.764 ]\n",
      " [ 6302.68    6028.282 ]\n",
      " [ 7692.691   5475.6685]\n",
      " [ 8497.013   5215.107 ]\n",
      " [ 5932.5967  5086.9097]\n",
      " [ 7567.0527  2163.4355]\n",
      " [ 5934.7     3572.759 ]]\n",
      "Offside IDS:  []\n"
     ]
    },
    {
     "name": "stderr",
     "output_type": "stream",
     "text": [
      "Embedding extraction: 1it [00:02,  2.17s/it]\n"
     ]
    },
    {
     "name": "stdout",
     "output_type": "stream",
     "text": [
      "[[ 8355.528   4550.362 ]\n",
      " [ 7050.0044  4091.809 ]\n",
      " [ 7564.366   2112.902 ]\n",
      " [ 7694.8794  5458.994 ]\n",
      " [ 8493.828   6495.276 ]\n",
      " [10285.075   4733.4956]\n",
      " [ 8514.052   5182.8296]\n",
      " [ 6282.7935  6008.0786]\n",
      " [ 5918.2104  5056.814 ]\n",
      " [ 5923.7236  3528.9375]]\n",
      "Offside IDS:  []\n"
     ]
    },
    {
     "name": "stderr",
     "output_type": "stream",
     "text": [
      "Embedding extraction: 1it [00:02,  2.16s/it]\n"
     ]
    },
    {
     "name": "stdout",
     "output_type": "stream",
     "text": [
      "[[ 8489.093   6496.96  ]\n",
      " [10196.56    6335.5195]\n",
      " [ 7705.8125  5463.371 ]\n",
      " [10304.232   4738.8994]\n",
      " [ 8516.104   5184.718 ]\n",
      " [ 7051.9014  4094.9612]\n",
      " [ 6282.0103  6006.6533]\n",
      " [ 5925.1104  5058.077 ]\n",
      " [ 7569.579   2088.9626]\n",
      " [ 5932.0127  3535.9146]]\n",
      "Offside IDS:  []\n"
     ]
    },
    {
     "name": "stderr",
     "output_type": "stream",
     "text": [
      "Embedding extraction: 1it [00:02,  2.19s/it]\n"
     ]
    },
    {
     "name": "stdout",
     "output_type": "stream",
     "text": [
      "[[10196.56    6335.5195]\n",
      " [ 8489.093   6496.96  ]\n",
      " [ 7705.8125  5463.371 ]\n",
      " [10304.232   4738.8994]\n",
      " [ 8516.104   5184.718 ]\n",
      " [ 7051.9014  4094.9612]\n",
      " [ 6282.0103  6006.6533]\n",
      " [ 5925.1104  5058.077 ]\n",
      " [ 7569.579   2088.9626]\n",
      " [ 5932.0127  3535.9146]]\n",
      "Offside IDS:  []\n"
     ]
    },
    {
     "name": "stderr",
     "output_type": "stream",
     "text": [
      "Embedding extraction: 1it [00:02,  2.16s/it]\n"
     ]
    },
    {
     "name": "stdout",
     "output_type": "stream",
     "text": [
      "[[ 8530.472   5189.463 ]\n",
      " [ 7719.373   5468.67  ]\n",
      " [ 8503.726   6485.4263]\n",
      " [10195.319   6343.0913]\n",
      " [ 7053.05    4101.9077]\n",
      " [10349.476   4727.995 ]\n",
      " [ 5927.116   5065.447 ]\n",
      " [ 7552.25    2134.962 ]\n",
      " [ 5928.146   3544.6956]\n",
      " [ 6283.7837  6011.385 ]]\n",
      "Offside IDS:  []\n"
     ]
    },
    {
     "name": "stderr",
     "output_type": "stream",
     "text": [
      "Embedding extraction: 1it [00:02,  2.18s/it]\n"
     ]
    },
    {
     "name": "stdout",
     "output_type": "stream",
     "text": [
      "[[ 8563.181   5166.716 ]\n",
      " [10228.001   6320.1255]\n",
      " [ 5931.2646  5075.509 ]\n",
      " [ 7738.9897  5463.639 ]\n",
      " [ 8516.322   6478.125 ]\n",
      " [ 7064.9165  4094.395 ]\n",
      " [ 7557.8477  2126.1135]\n",
      " [ 5932.8564  3537.5103]\n",
      " [ 6287.847   6008.6094]\n",
      " [10380.349   4742.992 ]]\n",
      "Offside IDS:  []\n"
     ]
    },
    {
     "name": "stderr",
     "output_type": "stream",
     "text": [
      "Embedding extraction: 1it [00:02,  2.19s/it]\n"
     ]
    },
    {
     "name": "stdout",
     "output_type": "stream",
     "text": [
      "[[ 8574.723   5188.0986]\n",
      " [ 8516.273   6482.769 ]\n",
      " [ 7564.3584  2153.8184]\n",
      " [10204.497   6340.8438]\n",
      " [ 5960.137   5109.6826]\n",
      " [ 7084.255   4120.7163]\n",
      " [ 7751.4907  5480.2495]\n",
      " [ 6316.5654  6020.39  ]\n",
      " [ 5958.7764  3565.2998]\n",
      " [10386.774   4771.5957]]\n",
      "Offside IDS:  []\n"
     ]
    },
    {
     "name": "stderr",
     "output_type": "stream",
     "text": [
      "Embedding extraction: 1it [00:02,  2.22s/it]\n"
     ]
    },
    {
     "name": "stdout",
     "output_type": "stream",
     "text": [
      "[[10222.773   6336.0845]\n",
      " [ 7760.829   5469.097 ]\n",
      " [ 7083.115   4141.521 ]\n",
      " [ 6309.5034  6020.0913]\n",
      " [ 5956.513   5122.4673]\n",
      " [ 8595.485   5178.19  ]\n",
      " [ 7551.4185  2187.8618]\n",
      " [ 5962.1465  3563.3777]\n",
      " [10435.709   4767.6787]]\n",
      "Offside IDS:  []\n"
     ]
    },
    {
     "name": "stderr",
     "output_type": "stream",
     "text": [
      "Embedding extraction: 1it [00:02,  2.24s/it]\n"
     ]
    },
    {
     "name": "stdout",
     "output_type": "stream",
     "text": [
      "[[ 7079.162   4169.6733]\n",
      " [ 8505.598   6484.825 ]\n",
      " [ 7772.234   5475.8228]\n",
      " [ 7542.3345  2204.7266]\n",
      " [ 5961.899   5126.9473]\n",
      " [10466.407   4757.179 ]\n",
      " [ 5969.698   3598.8135]\n",
      " [ 6311.5825  6031.948 ]\n",
      " [ 8601.735   5184.41  ]]\n",
      "Offside IDS:  [12]\n",
      "Player 12 is offside\n"
     ]
    },
    {
     "name": "stderr",
     "output_type": "stream",
     "text": [
      "Embedding extraction: 1it [00:02,  2.25s/it]\n"
     ]
    },
    {
     "name": "stdout",
     "output_type": "stream",
     "text": [
      "[[ 7079.162   4169.6733]\n",
      " [ 8505.598   6484.825 ]\n",
      " [ 7772.234   5475.8228]\n",
      " [ 7542.3345  2204.7266]\n",
      " [ 5961.899   5126.9473]\n",
      " [10466.407   4757.179 ]\n",
      " [ 5969.698   3598.8135]\n",
      " [ 6311.5825  6031.948 ]\n",
      " [ 8601.735   5184.41  ]]\n",
      "Offside IDS:  [12]\n",
      "Player 12 is offside\n"
     ]
    },
    {
     "name": "stderr",
     "output_type": "stream",
     "text": [
      "Embedding extraction: 1it [00:02,  2.21s/it]\n"
     ]
    },
    {
     "name": "stdout",
     "output_type": "stream",
     "text": [
      "[[ 8512.346   6475.4805]\n",
      " [10262.217   6305.661 ]\n",
      " [ 7780.888   5478.4917]\n",
      " [ 7539.1406  2204.1997]\n",
      " [ 5961.653   5125.811 ]\n",
      " [10505.794   4744.7793]\n",
      " [ 6307.9727  6029.8135]\n",
      " [ 7085.0254  4171.1885]\n",
      " [ 5969.234   3575.4788]\n",
      " [ 8622.604   5191.091 ]]\n",
      "Offside IDS:  [9]\n",
      "Player 9 is offside\n"
     ]
    },
    {
     "name": "stderr",
     "output_type": "stream",
     "text": [
      "Embedding extraction: 1it [00:02,  2.34s/it]\n"
     ]
    },
    {
     "name": "stdout",
     "output_type": "stream",
     "text": [
      "[[ 8506.033   6473.7485]\n",
      " [10564.78    4722.2734]\n",
      " [ 7774.805   5485.926 ]\n",
      " [ 7067.861   4150.436 ]\n",
      " [10286.306   6294.9756]\n",
      " [ 5933.334   5109.5425]\n",
      " [ 7512.8916  2164.36  ]\n",
      " [ 8642.786   5169.2036]\n",
      " [ 6286.5576  6021.613 ]\n",
      " [ 5940.438   3547.8276]\n",
      " [11735.973   4831.9575]]\n",
      "Offside IDS:  [20]\n",
      "Player 20 is offside\n"
     ]
    },
    {
     "name": "stderr",
     "output_type": "stream",
     "text": [
      "Embedding extraction: 1it [00:02,  2.17s/it]\n"
     ]
    },
    {
     "name": "stdout",
     "output_type": "stream",
     "text": [
      "[[ 8506.911   6471.861 ]\n",
      " [ 7508.2793  2159.7495]\n",
      " [ 7783.826   5484.478 ]\n",
      " [ 7079.033   4169.8193]\n",
      " [ 5942.2397  5132.957 ]\n",
      " [ 8661.517   5172.102 ]\n",
      " [ 5953.1064  3590.1548]\n",
      " [ 6295.8623  6017.271 ]\n",
      " [10588.123   4728.781 ]]\n",
      "Offside IDS:  [17]\n",
      "Player 17 is offside\n"
     ]
    },
    {
     "name": "stderr",
     "output_type": "stream",
     "text": [
      "Embedding extraction: 1it [00:02,  2.22s/it]\n"
     ]
    },
    {
     "name": "stdout",
     "output_type": "stream",
     "text": [
      "[[ 8800.359   6696.113 ]\n",
      " [ 8503.828   6469.2456]\n",
      " [10301.232   6290.0703]\n",
      " [ 8666.798   5190.557 ]\n",
      " [ 5952.034   5109.784 ]\n",
      " [ 5961.598   3528.7622]\n",
      " [ 6298.1104  6009.3306]\n",
      " [ 7516.17    2143.8838]\n",
      " [ 7087.4893  4182.73  ]\n",
      " [ 7787.0093  5496.1094]\n",
      " [10615.723   4744.096 ]]\n",
      "Offside IDS:  [19]\n",
      "Player 19 is offside\n"
     ]
    },
    {
     "name": "stderr",
     "output_type": "stream",
     "text": [
      "Embedding extraction: 1it [00:02,  2.18s/it]\n"
     ]
    },
    {
     "name": "stdout",
     "output_type": "stream",
     "text": [
      "[[ 7095.089   4182.758 ]\n",
      " [ 7517.2793  2144.6597]\n",
      " [ 8671.254   5212.816 ]\n",
      " [10302.194   6297.1157]\n",
      " [ 8506.291   6461.0957]\n",
      " [ 5955.6724  5107.069 ]\n",
      " [ 7783.397   5510.9346]\n",
      " [ 6296.4336  6007.439 ]\n",
      " [10650.019   4762.211 ]]\n",
      "Offside IDS:  [19]\n",
      "Player 19 is offside\n"
     ]
    },
    {
     "name": "stderr",
     "output_type": "stream",
     "text": [
      "Embedding extraction: 1it [00:02,  2.18s/it]\n"
     ]
    },
    {
     "name": "stdout",
     "output_type": "stream",
     "text": [
      "[[ 7096.8594  4183.226 ]\n",
      " [ 7518.7163  2144.7324]\n",
      " [ 8674.627   5211.7217]\n",
      " [10305.586   6293.3164]\n",
      " [ 8510.111   6459.8555]\n",
      " [ 5955.961   5108.9233]\n",
      " [ 7786.408   5510.8115]\n",
      " [ 6297.714   6009.3203]\n",
      " [10652.48    4759.3564]]\n",
      "Offside IDS:  [19]\n",
      "Player 19 is offside\n"
     ]
    },
    {
     "name": "stderr",
     "output_type": "stream",
     "text": [
      "Embedding extraction: 1it [00:02,  2.17s/it]\n"
     ]
    },
    {
     "name": "stdout",
     "output_type": "stream",
     "text": [
      "[[ 8689.507   5209.9556]\n",
      " [ 8511.056   6454.28  ]\n",
      " [ 7511.344   2142.4194]\n",
      " [ 7796.6064  5509.3535]\n",
      " [10311.851   6285.5273]\n",
      " [ 7105.9004  4183.1265]\n",
      " [ 6307.109   6022.004 ]\n",
      " [ 5977.911   3551.949 ]\n",
      " [ 5965.5195  5125.3896]\n",
      " [10675.586   4756.721 ]]\n",
      "Offside IDS:  [19]\n",
      "Player 19 is offside\n"
     ]
    },
    {
     "name": "stderr",
     "output_type": "stream",
     "text": [
      "Embedding extraction: 1it [00:02,  2.19s/it]\n"
     ]
    },
    {
     "name": "stdout",
     "output_type": "stream",
     "text": [
      "[[ 8685.125   5224.475 ]\n",
      " [ 8494.1     6443.399 ]\n",
      " [ 7778.0444  5515.076 ]\n",
      " [ 7498.2188  2135.8394]\n",
      " [ 6297.233   6019.1143]\n",
      " [10289.104   6308.5537]\n",
      " [10683.712   4779.602 ]\n",
      " [ 7100.624   4185.7456]\n",
      " [ 5967.6724  5138.3926]\n",
      " [ 5983.0073  3551.052 ]]\n",
      "Offside IDS:  [12]\n",
      "Player 12 is offside\n"
     ]
    },
    {
     "name": "stderr",
     "output_type": "stream",
     "text": [
      "Embedding extraction: 1it [00:02,  2.19s/it]\n"
     ]
    },
    {
     "name": "stdout",
     "output_type": "stream",
     "text": [
      "[[ 8495.167   6438.056 ]\n",
      " [ 7498.3105  2135.5854]\n",
      " [ 8698.712   5221.928 ]\n",
      " [ 7783.6245  5511.371 ]\n",
      " [ 5984.5522  3547.092 ]\n",
      " [10303.876   6288.085 ]\n",
      " [ 7104.6177  4181.793 ]\n",
      " [10727.272   4761.3706]\n",
      " [ 5963.4346  5134.68  ]\n",
      " [ 6299.0864  6008.321 ]]\n",
      "Offside IDS:  [13]\n",
      "Player 13 is offside\n"
     ]
    },
    {
     "name": "stderr",
     "output_type": "stream",
     "text": [
      "Embedding extraction: 1it [00:02,  2.24s/it]\n"
     ]
    },
    {
     "name": "stdout",
     "output_type": "stream",
     "text": [
      "[[ 8500.836   6424.267 ]\n",
      " [ 7787.1333  5510.3735]\n",
      " [10306.8     6287.866 ]\n",
      " [ 7493.425   2135.4446]\n",
      " [ 7109.678   4182.2495]\n",
      " [ 5987.2754  3545.9976]\n",
      " [10754.39    4773.016 ]\n",
      " [ 8712.8955  5225.6963]\n",
      " [ 5966.2715  5132.679 ]\n",
      " [ 6300.82    6005.299 ]]\n",
      "Offside IDS:  [9]\n",
      "Player 9 is offside\n"
     ]
    },
    {
     "name": "stderr",
     "output_type": "stream",
     "text": [
      "Embedding extraction: 1it [00:02,  2.36s/it]\n"
     ]
    },
    {
     "name": "stdout",
     "output_type": "stream",
     "text": [
      "[[ 8493.089   6433.647 ]\n",
      " [10304.51    6290.096 ]\n",
      " [ 7781.025   5506.18  ]\n",
      " [ 7477.492   2161.995 ]\n",
      " [10755.195   4802.3687]\n",
      " [ 7111.388   4178.558 ]\n",
      " [ 6298.1997  6010.7104]\n",
      " [ 5969.4917  5127.9023]\n",
      " [ 8721.814   5228.0366]\n",
      " [ 5981.681   3537.3367]]\n",
      "Offside IDS:  [6]\n",
      "Player 6 is offside\n"
     ]
    },
    {
     "name": "stderr",
     "output_type": "stream",
     "text": [
      "Embedding extraction: 1it [00:02,  2.31s/it]\n"
     ]
    },
    {
     "name": "stdout",
     "output_type": "stream",
     "text": [
      "[[ 8493.089   6433.647 ]\n",
      " [10304.51    6290.096 ]\n",
      " [ 7781.025   5506.18  ]\n",
      " [ 7477.492   2161.995 ]\n",
      " [10755.195   4802.3687]\n",
      " [ 7111.388   4178.558 ]\n",
      " [ 6298.1997  6010.7104]\n",
      " [ 5969.4917  5127.9023]\n",
      " [ 8721.814   5228.0366]\n",
      " [ 5981.681   3537.3367]]\n",
      "Offside IDS:  [6]\n",
      "Player 6 is offside\n"
     ]
    },
    {
     "name": "stderr",
     "output_type": "stream",
     "text": [
      "Embedding extraction: 1it [00:02,  2.30s/it]\n"
     ]
    },
    {
     "name": "stdout",
     "output_type": "stream",
     "text": [
      "[[ 8475.903   6442.7495]\n",
      " [10293.986   6293.3965]\n",
      " [ 7466.537   2161.5247]\n",
      " [ 7112.377   4185.271 ]\n",
      " [10770.862   4828.252 ]\n",
      " [ 6288.5327  6011.1763]\n",
      " [ 7762.625   5510.966 ]\n",
      " [ 5970.6523  5144.746 ]\n",
      " [ 8735.3     5228.1245]\n",
      " [ 5981.187   3561.1238]]\n",
      "Offside IDS:  [5]\n",
      "Player 5 is offside\n"
     ]
    },
    {
     "name": "stderr",
     "output_type": "stream",
     "text": [
      "Embedding extraction: 1it [00:02,  2.29s/it]\n"
     ]
    },
    {
     "name": "stdout",
     "output_type": "stream",
     "text": [
      "[[ 8457.075   6448.566 ]\n",
      " [10794.479   4839.3936]\n",
      " [ 7103.811   4200.557 ]\n",
      " [10283.652   6294.6006]\n",
      " [ 7452.197   2157.6504]\n",
      " [ 7751.5356  5504.755 ]\n",
      " [ 8742.468   5230.5205]\n",
      " [ 6279.3228  6000.2534]\n",
      " [ 5966.6353  5149.628 ]\n",
      " [ 5976.3066  3554.3997]]\n",
      "Offside IDS:  [1]\n",
      "Player 1 is offside\n"
     ]
    },
    {
     "name": "stderr",
     "output_type": "stream",
     "text": [
      "Embedding extraction: 1it [00:02,  2.43s/it]\n"
     ]
    },
    {
     "name": "stdout",
     "output_type": "stream",
     "text": [
      "[[ 8465.38    6447.2915]\n",
      " [10819.996   4844.7866]\n",
      " [10283.621   6290.301 ]\n",
      " [ 7122.6523  4197.806 ]\n",
      " [ 7763.0005  5503.701 ]\n",
      " [ 8765.566   5232.7075]\n",
      " [ 7455.9185  2140.515 ]\n",
      " [ 5985.7383  3545.1719]\n",
      " [ 6289.198   6001.9966]\n",
      " [ 5977.118   5134.6797]\n",
      " [11630.057   4946.2017]]\n",
      "Offside IDS:  [20]\n",
      "Player 20 is offside\n"
     ]
    },
    {
     "name": "stderr",
     "output_type": "stream",
     "text": [
      "Embedding extraction: 1it [00:02,  2.18s/it]\n"
     ]
    },
    {
     "name": "stdout",
     "output_type": "stream",
     "text": [
      "[[ 8475.6455  6441.1353]\n",
      " [ 7767.5854  5497.87  ]\n",
      " [ 7455.5024  2148.3193]\n",
      " [10307.354   6265.4434]\n",
      " [10855.429   4837.889 ]\n",
      " [ 8779.276   5226.628 ]\n",
      " [ 5995.06    3529.2866]\n",
      " [ 5984.809   5135.804 ]\n",
      " [ 6300.255   6002.608 ]\n",
      " [ 7124.214   4217.228 ]]\n",
      "Offside IDS:  [7]\n",
      "Player 7 is offside\n"
     ]
    },
    {
     "name": "stderr",
     "output_type": "stream",
     "text": [
      "Embedding extraction: 1it [00:02,  2.32s/it]\n"
     ]
    },
    {
     "name": "stdout",
     "output_type": "stream",
     "text": [
      "[[ 8467.848   6439.0913]\n",
      " [ 8779.895   5245.9165]\n",
      " [ 7764.5186  5496.907 ]\n",
      " [ 6294.853   6011.157 ]\n",
      " [10301.951   6264.7397]\n",
      " [ 7120.8037  4237.042 ]\n",
      " [ 5984.1777  5149.1226]\n",
      " [ 7448.2676  2146.2915]\n",
      " [10867.471   4842.1626]\n",
      " [ 5999.46    3553.0498]]\n",
      "Offside IDS:  [16]\n",
      "Player 16 is offside\n"
     ]
    },
    {
     "name": "stderr",
     "output_type": "stream",
     "text": [
      "Embedding extraction: 1it [00:02,  2.28s/it]\n"
     ]
    },
    {
     "name": "stdout",
     "output_type": "stream",
     "text": [
      "[[ 8467.848   6439.0913]\n",
      " [ 8779.895   5245.9165]\n",
      " [ 7764.5186  5496.907 ]\n",
      " [ 6294.853   6011.157 ]\n",
      " [10301.951   6264.7397]\n",
      " [ 7120.8037  4237.042 ]\n",
      " [ 5984.1777  5149.1226]\n",
      " [ 7448.2676  2146.2915]\n",
      " [10867.471   4842.1626]\n",
      " [ 5999.46    3553.0498]]\n",
      "Offside IDS:  [16]\n",
      "Player 16 is offside\n"
     ]
    },
    {
     "name": "stderr",
     "output_type": "stream",
     "text": [
      "Embedding extraction: 1it [00:02,  2.59s/it]\n"
     ]
    },
    {
     "name": "stdout",
     "output_type": "stream",
     "text": [
      "[[10389.383   6685.1836]\n",
      " [ 8465.586   6434.9385]\n",
      " [ 7758.528   5492.576 ]\n",
      " [ 8790.322   5245.643 ]\n",
      " [ 5984.8564  5163.6377]\n",
      " [10299.337   6257.986 ]\n",
      " [ 7434.2617  2177.7012]\n",
      " [10891.329   4843.883 ]\n",
      " [ 6295.155   6011.0728]\n",
      " [ 7115.0854  4255.0415]\n",
      " [ 5996.778   3552.626 ]\n",
      " [11672.706   4905.2656]]\n",
      "Offside IDS:  [21, 20]\n",
      "Player 21 is offside\n",
      "Player 20 is offside\n"
     ]
    },
    {
     "name": "stderr",
     "output_type": "stream",
     "text": [
      "Embedding extraction: 1it [00:02,  2.60s/it]\n"
     ]
    },
    {
     "name": "stdout",
     "output_type": "stream",
     "text": [
      "[[ 7739.635   5504.2603]\n",
      " [ 7423.2383  2174.0215]\n",
      " [ 5979.763   5190.6963]\n",
      " [ 8793.154   5249.839 ]\n",
      " [10915.07    4831.0786]\n",
      " [ 7109.675   4275.5737]\n",
      " [ 8461.619   6424.117 ]\n",
      " [10274.562   6270.9604]\n",
      " [ 5997.8525  3530.0186]\n",
      " [ 6294.252   6011.6045]\n",
      " [11670.88    4910.6387]]\n",
      "Offside IDS:  [21, 20]\n",
      "Player 21 is offside\n",
      "Player 20 is offside\n"
     ]
    },
    {
     "name": "stderr",
     "output_type": "stream",
     "text": [
      "Embedding extraction: 1it [00:02,  2.46s/it]\n"
     ]
    },
    {
     "name": "stdout",
     "output_type": "stream",
     "text": [
      "[[ 7418.9507  2137.5193]\n",
      " [ 8451.6455  6426.0454]\n",
      " [ 7102.065   4295.162 ]\n",
      " [ 5980.362   5205.341 ]\n",
      " [10254.099   6287.403 ]\n",
      " [ 8790.481   5271.572 ]\n",
      " [ 7722.841   5517.322 ]\n",
      " [10954.374   4796.6206]\n",
      " [ 6000.785   3553.548 ]\n",
      " [ 6291.643   6012.304 ]\n",
      " [11669.304   4915.1562]]\n",
      "Offside IDS:  [20, 19]\n",
      "Player 20 is offside\n",
      "Player 19 is offside\n"
     ]
    },
    {
     "name": "stderr",
     "output_type": "stream",
     "text": [
      "Embedding extraction: 1it [00:02,  2.41s/it]\n"
     ]
    },
    {
     "name": "stdout",
     "output_type": "stream",
     "text": [
      "[[10238.043   6290.2183]\n",
      " [ 8437.184   6442.4766]\n",
      " [ 7102.149   4307.77  ]\n",
      " [10954.126   4831.6787]\n",
      " [ 5976.9814  5245.265 ]\n",
      " [ 7397.9907  2175.188 ]\n",
      " [ 7711.775   5524.959 ]\n",
      " [ 6002.1895  3567.2524]\n",
      " [ 8797.733   5284.606 ]\n",
      " [ 6290.149   6023.3965]\n",
      " [11659.068   4920.8696]]\n",
      "Offside IDS:  [19]\n",
      "Player 19 is offside\n"
     ]
    },
    {
     "name": "stderr",
     "output_type": "stream",
     "text": [
      "Embedding extraction: 1it [00:02,  2.29s/it]\n"
     ]
    },
    {
     "name": "stdout",
     "output_type": "stream",
     "text": [
      "[[ 8805.311   6615.062 ]\n",
      " [ 8427.196   6439.3784]\n",
      " [ 7694.708   5550.4863]\n",
      " [ 7103.5557  4308.8013]\n",
      " [ 5981.487   5260.3413]\n",
      " [ 6009.6265  3569.712 ]\n",
      " [10982.622   4817.7266]\n",
      " [ 7391.5376  2174.3406]\n",
      " [ 8813.054   5290.689 ]\n",
      " [ 6292.7544  6023.933 ]\n",
      " [11650.776   4921.6475]]\n",
      "Offside IDS:  [19]\n",
      "Player 19 is offside\n"
     ]
    },
    {
     "name": "stderr",
     "output_type": "stream",
     "text": [
      "Embedding extraction: 1it [00:02,  2.37s/it]\n"
     ]
    },
    {
     "name": "stdout",
     "output_type": "stream",
     "text": [
      "[[ 8805.311   6615.062 ]\n",
      " [ 8427.196   6439.3784]\n",
      " [ 7694.708   5550.4863]\n",
      " [ 7103.5557  4308.8013]\n",
      " [ 5981.487   5260.3413]\n",
      " [ 6009.6265  3569.712 ]\n",
      " [10982.622   4817.7266]\n",
      " [ 7391.5376  2174.3406]\n",
      " [ 8813.054   5290.689 ]\n",
      " [ 6292.7544  6023.933 ]\n",
      " [11650.776   4921.6475]]\n",
      "Offside IDS:  [19]\n",
      "Player 19 is offside\n"
     ]
    },
    {
     "name": "stderr",
     "output_type": "stream",
     "text": [
      "Embedding extraction: 1it [00:02,  2.31s/it]\n"
     ]
    },
    {
     "name": "stdout",
     "output_type": "stream",
     "text": [
      "[[ 8420.2705  6436.2246]\n",
      " [10227.559   6301.591 ]\n",
      " [ 7686.1216  5562.4575]\n",
      " [ 6007.456   3592.208 ]\n",
      " [ 7105.652   4309.1533]\n",
      " [ 5982.2344  5275.3247]\n",
      " [11001.2295  4819.973 ]\n",
      " [ 7383.328   2170.6667]\n",
      " [ 6290.2236  6024.0903]\n",
      " [ 8819.562   5291.246 ]]\n",
      "Offside IDS:  []\n"
     ]
    },
    {
     "name": "stderr",
     "output_type": "stream",
     "text": [
      "Embedding extraction: 1it [00:02,  2.45s/it]\n"
     ]
    },
    {
     "name": "stdout",
     "output_type": "stream",
     "text": [
      "[[10220.439   6301.867 ]\n",
      " [ 8412.748   6434.339 ]\n",
      " [ 7670.005   5572.6978]\n",
      " [ 6006.6543  3591.7214]\n",
      " [11029.099   4806.687 ]\n",
      " [ 7374.553   2169.5278]\n",
      " [ 7106.477   4309.8984]\n",
      " [ 5985.6255  5275.1914]\n",
      " [ 6287.066   6021.5674]\n",
      " [ 8818.754   5292.6777]]\n",
      "Offside IDS:  []\n"
     ]
    },
    {
     "name": "stderr",
     "output_type": "stream",
     "text": [
      "Embedding extraction: 1it [00:02,  2.31s/it]\n"
     ]
    },
    {
     "name": "stdout",
     "output_type": "stream",
     "text": [
      "[[ 8390.765   4640.292 ]\n",
      " [ 7667.663   5560.326 ]\n",
      " [10216.154   6301.3555]\n",
      " [ 7366.0386  2175.9355]\n",
      " [ 6006.0835  3600.0693]\n",
      " [ 7106.1323  4316.2773]\n",
      " [11040.39    4812.8696]\n",
      " [ 6292.2017  6025.8193]\n",
      " [ 5984.6157  5265.9126]\n",
      " [ 8821.442   5297.1562]]\n",
      "Offside IDS:  []\n"
     ]
    },
    {
     "name": "stderr",
     "output_type": "stream",
     "text": [
      "Embedding extraction: 1it [00:02,  2.10s/it]\n"
     ]
    },
    {
     "name": "stdout",
     "output_type": "stream",
     "text": [
      "[[ 8378.627   4660.6743]\n",
      " [ 8404.962   6436.8423]\n",
      " [ 7352.9214  2207.886 ]\n",
      " [10207.394   6303.646 ]\n",
      " [ 7107.7617  4339.4185]\n",
      " [ 6281.5786  6024.174 ]\n",
      " [ 6005.976   3601.0361]\n",
      " [ 8816.331   5317.64  ]\n",
      " [11054.916   4821.4624]\n",
      " [ 5980.2983  5266.002 ]]\n",
      "Offside IDS:  []\n"
     ]
    },
    {
     "name": "stderr",
     "output_type": "stream",
     "text": [
      "Embedding extraction: 1it [00:02,  2.12s/it]\n"
     ]
    },
    {
     "name": "stdout",
     "output_type": "stream",
     "text": [
      "[[ 8383.348   4652.853 ]\n",
      " [ 7362.0366  2199.8276]\n",
      " [ 8417.865   6423.5625]\n",
      " [ 7117.438   4353.924 ]\n",
      " [ 6289.2896  6023.045 ]\n",
      " [10209.379   6296.845 ]\n",
      " [ 6017.058   3594.74  ]\n",
      " [11065.72    4814.8228]\n",
      " [ 5990.8867  5263.608 ]\n",
      " [ 8833.938   5314.8867]]\n",
      "Offside IDS:  []\n"
     ]
    },
    {
     "name": "stderr",
     "output_type": "stream",
     "text": [
      "Embedding extraction: 1it [00:02,  2.20s/it]\n"
     ]
    },
    {
     "name": "stdout",
     "output_type": "stream",
     "text": [
      "[[ 8383.348   4652.853 ]\n",
      " [ 7362.0366  2199.8276]\n",
      " [ 8417.865   6423.5625]\n",
      " [ 7117.438   4353.924 ]\n",
      " [ 6289.2896  6023.045 ]\n",
      " [10209.379   6296.845 ]\n",
      " [ 6017.058   3594.74  ]\n",
      " [11065.72    4814.8228]\n",
      " [ 5990.8867  5263.608 ]\n",
      " [ 8833.938   5314.8867]]\n",
      "Offside IDS:  []\n"
     ]
    },
    {
     "name": "stderr",
     "output_type": "stream",
     "text": [
      "Embedding extraction: 1it [00:02,  2.25s/it]\n"
     ]
    },
    {
     "name": "stdout",
     "output_type": "stream",
     "text": [
      "[[ 6120.1055  5308.212 ]\n",
      " [ 7668.698   5542.3984]\n",
      " [ 7117.3228  4373.47  ]\n",
      " [ 7350.688   2185.1948]\n",
      " [ 6289.549   6025.263 ]\n",
      " [11094.598   4796.2056]\n",
      " [ 6014.1274  3591.1484]\n",
      " [10200.129   6293.8555]\n",
      " [ 5993.4404  5266.355 ]\n",
      " [ 8838.9795  5316.537 ]\n",
      " [11615.118   4932.456 ]]\n",
      "Offside IDS:  [19]\n",
      "Player 19 is offside\n"
     ]
    },
    {
     "name": "stderr",
     "output_type": "stream",
     "text": [
      "Embedding extraction: 1it [00:02,  2.22s/it]\n"
     ]
    },
    {
     "name": "stdout",
     "output_type": "stream",
     "text": [
      "[[ 7655.955   5543.817 ]\n",
      " [ 8394.26    6422.749 ]\n",
      " [ 6284.9717  6002.9155]\n",
      " [ 7332.5967  2180.3499]\n",
      " [ 6008.8335  3593.5254]\n",
      " [11098.556   4803.4224]\n",
      " [ 8827.996   5338.848 ]\n",
      " [ 5989.997   5253.572 ]\n",
      " [10170.069   6309.8774]\n",
      " [11634.841   4917.935 ]]\n",
      "Offside IDS:  [19]\n",
      "Player 19 is offside\n"
     ]
    },
    {
     "name": "stderr",
     "output_type": "stream",
     "text": [
      "Embedding extraction: 1it [00:02,  2.20s/it]\n"
     ]
    },
    {
     "name": "stdout",
     "output_type": "stream",
     "text": [
      "[[ 7491.921   3721.018 ]\n",
      " [ 7666.2773  5541.725 ]\n",
      " [ 6288.082   5994.258 ]\n",
      " [ 7129.0273  4377.488 ]\n",
      " [ 7336.5425  2216.2366]\n",
      " [ 6016.6406  3591.534 ]\n",
      " [ 8836.12    5352.443 ]\n",
      " [11118.443   4780.853 ]\n",
      " [10183.604   6286.621 ]\n",
      " [ 5993.1685  5212.5635]\n",
      " [11641.392   4891.437 ]]\n",
      "Offside IDS:  [19]\n",
      "Player 19 is offside\n"
     ]
    },
    {
     "name": "stderr",
     "output_type": "stream",
     "text": [
      "Embedding extraction: 1it [00:02,  2.24s/it]\n"
     ]
    },
    {
     "name": "stdout",
     "output_type": "stream",
     "text": [
      "[[ 7328.8486  2212.528 ]\n",
      " [ 7656.0996  5541.4624]\n",
      " [ 6286.4136  5983.2847]\n",
      " [ 8836.338   5354.933 ]\n",
      " [ 7124.8667  4378.523 ]\n",
      " [ 6022.859   3597.0674]\n",
      " [11155.07    4759.2354]\n",
      " [10176.33    6288.8887]\n",
      " [ 6002.7773  5231.115 ]\n",
      " [11675.81    4867.1865]]\n",
      "Offside IDS:  [19]\n",
      "Player 19 is offside\n"
     ]
    },
    {
     "name": "stderr",
     "output_type": "stream",
     "text": [
      "Embedding extraction: 1it [00:02,  2.21s/it]\n"
     ]
    },
    {
     "name": "stdout",
     "output_type": "stream",
     "text": [
      "[[ 8392.934   6405.712 ]\n",
      " [ 7336.2817  2190.1377]\n",
      " [ 7136.6504  4354.948 ]\n",
      " [ 7653.337   5529.0713]\n",
      " [ 6287.8325  5965.4624]\n",
      " [ 8844.847   5343.1953]\n",
      " [ 6029.072   3621.212 ]\n",
      " [ 6010.034   5240.969 ]\n",
      " [11163.173   4744.1177]\n",
      " [10183.918   6271.6333]\n",
      " [11700.981   4828.429 ]]\n",
      "Offside IDS:  [19]\n",
      "Player 19 is offside\n"
     ]
    },
    {
     "name": "stderr",
     "output_type": "stream",
     "text": [
      "Embedding extraction: 1it [00:02,  2.25s/it]\n"
     ]
    },
    {
     "name": "stdout",
     "output_type": "stream",
     "text": [
      "[[ 8392.934   6405.712 ]\n",
      " [ 7336.2817  2190.1377]\n",
      " [ 7136.6504  4354.948 ]\n",
      " [ 7653.337   5529.0713]\n",
      " [ 6287.8325  5965.4624]\n",
      " [ 8844.847   5343.1953]\n",
      " [ 6029.072   3621.212 ]\n",
      " [ 6010.034   5240.969 ]\n",
      " [11163.173   4744.1177]\n",
      " [10183.918   6271.6333]\n",
      " [11700.981   4828.429 ]]\n",
      "Offside IDS:  [19]\n",
      "Player 19 is offside\n"
     ]
    },
    {
     "name": "stderr",
     "output_type": "stream",
     "text": [
      "Embedding extraction: 1it [00:02,  2.24s/it]\n"
     ]
    },
    {
     "name": "stdout",
     "output_type": "stream",
     "text": [
      "[[ 8389.9     6405.533 ]\n",
      " [ 7132.3877  4375.796 ]\n",
      " [ 7643.74    5512.177 ]\n",
      " [ 8844.857   5343.9775]\n",
      " [ 6283.7593  5955.6304]\n",
      " [ 7313.811   2219.0598]\n",
      " [11172.645   4746.9585]\n",
      " [ 6020.969   3620.818 ]\n",
      " [10180.835   6270.3506]\n",
      " [ 6009.2515  5243.5117]\n",
      " [11701.668   4828.408 ]]\n",
      "Offside IDS:  [19]\n",
      "Player 19 is offside\n"
     ]
    },
    {
     "name": "stderr",
     "output_type": "stream",
     "text": [
      "Embedding extraction: 1it [00:02,  2.13s/it]\n"
     ]
    },
    {
     "name": "stdout",
     "output_type": "stream",
     "text": [
      "[[ 8391.367   6396.5303]\n",
      " [10167.751   6264.722 ]\n",
      " [ 7141.6587  4367.8413]\n",
      " [ 6024.0186  3634.682 ]\n",
      " [ 6289.777   5967.6846]\n",
      " [ 6016.996   5244.1206]\n",
      " [ 7626.1763  5513.3936]\n",
      " [ 8842.908   5347.2485]\n",
      " [ 7304.231   2225.124 ]\n",
      " [11166.423   4744.354 ]\n",
      " [11686.956   4821.9746]]\n",
      "Offside IDS:  [19]\n",
      "Player 19 is offside\n"
     ]
    },
    {
     "name": "stderr",
     "output_type": "stream",
     "text": [
      "Embedding extraction: 1it [00:02,  2.11s/it]\n"
     ]
    },
    {
     "name": "stdout",
     "output_type": "stream",
     "text": [
      "[[ 8387.7295  6389.879 ]\n",
      " [10163.141   6261.6294]\n",
      " [ 7152.89    4360.1987]\n",
      " [ 6031.3833  3622.3389]\n",
      " [ 6017.912   5231.522 ]\n",
      " [ 6287.452   5956.2373]\n",
      " [ 7303.9487  2215.8464]\n",
      " [ 8852.473   5325.9873]\n",
      " [ 7622.216   5472.502 ]\n",
      " [11182.542   4723.7534]\n",
      " [11703.956   4802.6597]]\n",
      "Offside IDS:  [19]\n",
      "Player 19 is offside\n"
     ]
    },
    {
     "name": "stderr",
     "output_type": "stream",
     "text": [
      "Embedding extraction: 1it [00:02,  2.29s/it]\n"
     ]
    },
    {
     "name": "stdout",
     "output_type": "stream",
     "text": [
      "[[ 6424.294   5954.187 ]\n",
      " [ 6286.681   5942.402 ]\n",
      " [10158.819   6258.2886]\n",
      " [ 6018.859   5229.7935]\n",
      " [ 6031.7007  3644.0046]\n",
      " [ 7608.105   5450.548 ]\n",
      " [ 7162.016   4361.3857]\n",
      " [ 8844.56    5321.26  ]\n",
      " [ 7291.5024  2210.5518]\n",
      " [11179.086   4717.6   ]\n",
      " [11698.429   4795.2607]]\n",
      "Offside IDS:  [20]\n",
      "Player 20 is offside\n"
     ]
    },
    {
     "name": "stderr",
     "output_type": "stream",
     "text": [
      "Embedding extraction: 1it [00:02,  2.35s/it]\n"
     ]
    },
    {
     "name": "stdout",
     "output_type": "stream",
     "text": [
      "[[ 6422.196   5952.769 ]\n",
      " [10151.364   6255.842 ]\n",
      " [ 6280.302   5939.5957]\n",
      " [ 7606.136   5434.075 ]\n",
      " [ 6013.675   5227.686 ]\n",
      " [ 7167.7188  4363.573 ]\n",
      " [ 7279.111   2208.7202]\n",
      " [ 6026.9126  3619.9631]\n",
      " [ 8847.324   5304.2607]\n",
      " [11196.019   4700.493 ]\n",
      " [11710.052   4776.5327]]\n",
      "Offside IDS:  [20]\n",
      "Player 20 is offside\n"
     ]
    },
    {
     "name": "stderr",
     "output_type": "stream",
     "text": [
      "Embedding extraction: 1it [00:02,  2.44s/it]\n"
     ]
    },
    {
     "name": "stdout",
     "output_type": "stream",
     "text": [
      "[[ 6422.196   5952.769 ]\n",
      " [10151.364   6255.842 ]\n",
      " [ 6280.302   5939.5957]\n",
      " [ 7606.136   5434.075 ]\n",
      " [ 6013.675   5227.686 ]\n",
      " [ 7167.7188  4363.573 ]\n",
      " [ 7279.111   2208.7202]\n",
      " [ 6026.9126  3619.9631]\n",
      " [ 8847.324   5304.2607]\n",
      " [11196.019   4700.493 ]\n",
      " [11710.052   4776.5327]]\n",
      "Offside IDS:  [20]\n",
      "Player 20 is offside\n"
     ]
    },
    {
     "name": "stderr",
     "output_type": "stream",
     "text": [
      "Embedding extraction: 1it [00:02,  2.30s/it]\n"
     ]
    },
    {
     "name": "stdout",
     "output_type": "stream",
     "text": [
      "[[ 7592.2593  5444.5645]\n",
      " [10136.023   6270.4346]\n",
      " [ 6278.031   5925.034 ]\n",
      " [ 7275.091   2203.8323]\n",
      " [ 6025.68    3616.2559]\n",
      " [11222.587   4681.2026]\n",
      " [ 8857.568   5289.4316]\n",
      " [ 7173.625   4363.3936]\n",
      " [ 6009.6885  5195.156 ]\n",
      " [11734.7705  4756.0205]]\n",
      "Offside IDS:  [20]\n",
      "Player 20 is offside\n"
     ]
    },
    {
     "name": "stderr",
     "output_type": "stream",
     "text": [
      "Embedding extraction: 1it [00:02,  2.24s/it]\n"
     ]
    },
    {
     "name": "stdout",
     "output_type": "stream",
     "text": [
      "[[ 8355.516   6367.8076]\n",
      " [10137.221   6260.6055]\n",
      " [ 6280.7275  5923.8594]\n",
      " [ 7275.525   2188.673 ]\n",
      " [11246.431   4664.9824]\n",
      " [ 7592.1357  5444.711 ]\n",
      " [ 7189.3413  4344.7456]\n",
      " [ 8865.415   5275.298 ]\n",
      " [ 6013.377   5165.1636]\n",
      " [ 6028.78    3632.385 ]]\n",
      "Offside IDS:  [8]\n",
      "Player 8 is offside\n"
     ]
    },
    {
     "name": "stderr",
     "output_type": "stream",
     "text": [
      "Embedding extraction: 1it [00:02,  2.31s/it]\n"
     ]
    },
    {
     "name": "stdout",
     "output_type": "stream",
     "text": [
      "[[ 6425.3887  5954.563 ]\n",
      " [ 7274.584   2187.1409]\n",
      " [ 8872.953   5260.437 ]\n",
      " [ 7595.346   5448.8774]\n",
      " [ 6281.581   5917.8823]\n",
      " [10134.018   6243.8213]\n",
      " [11260.103   4640.822 ]\n",
      " [ 6016.1143  5142.5093]\n",
      " [ 7192.6807  4369.235 ]\n",
      " [ 6030.9805  3636.2615]\n",
      " [11744.817   4734.6455]]\n",
      "Offside IDS:  [20]\n",
      "Player 20 is offside\n"
     ]
    },
    {
     "name": "stderr",
     "output_type": "stream",
     "text": [
      "Embedding extraction: 1it [00:02,  2.11s/it]\n"
     ]
    },
    {
     "name": "stdout",
     "output_type": "stream",
     "text": [
      "[[ 8878.333   5262.9985]\n",
      " [ 7279.262   2188.0503]\n",
      " [ 8349.83    6345.1934]\n",
      " [ 7610.378   5440.2515]\n",
      " [10127.548   6242.0977]\n",
      " [ 6284.192   5911.711 ]\n",
      " [11273.775   4616.804 ]\n",
      " [ 6026.9224  5135.1445]\n",
      " [ 6038.1543  3640.0347]\n",
      " [ 7204.844   4374.5073]]\n",
      "Offside IDS:  [10]\n",
      "Player 10 is offside\n"
     ]
    },
    {
     "name": "stderr",
     "output_type": "stream",
     "text": [
      "Embedding extraction: 1it [00:02,  2.06s/it]\n"
     ]
    },
    {
     "name": "stdout",
     "output_type": "stream",
     "text": [
      "[[ 7272.113   2197.156 ]\n",
      " [ 8882.684   5246.73  ]\n",
      " [ 6281.543   5898.366 ]\n",
      " [ 8347.411   6334.269 ]\n",
      " [ 6043.751   3645.9187]\n",
      " [10118.096   6241.98  ]\n",
      " [ 7211.3794  4378.5986]\n",
      " [11272.487   4614.1646]\n",
      " [ 6034.618   5122.4683]]\n",
      "Offside IDS:  [14]\n",
      "Player 14 is offside\n"
     ]
    },
    {
     "name": "stderr",
     "output_type": "stream",
     "text": [
      "Embedding extraction: 1it [00:02,  2.06s/it]\n"
     ]
    },
    {
     "name": "stdout",
     "output_type": "stream",
     "text": [
      "[[ 7272.113   2197.156 ]\n",
      " [ 8882.684   5246.73  ]\n",
      " [ 6281.543   5898.366 ]\n",
      " [ 8347.411   6334.269 ]\n",
      " [ 6043.751   3645.9187]\n",
      " [10118.096   6241.98  ]\n",
      " [ 7211.3794  4378.5986]\n",
      " [11272.487   4614.1646]\n",
      " [ 6034.618   5122.4683]]\n",
      "Offside IDS:  [14]\n",
      "Player 14 is offside\n"
     ]
    },
    {
     "name": "stderr",
     "output_type": "stream",
     "text": [
      "Embedding extraction: 1it [00:02,  2.07s/it]\n"
     ]
    },
    {
     "name": "stdout",
     "output_type": "stream",
     "text": [
      "[[ 7638.219   5410.431 ]\n",
      " [ 6287.946   5901.5483]\n",
      " [ 7271.175   2210.5857]\n",
      " [ 8898.525   5236.3486]\n",
      " [ 8365.689   6321.549 ]\n",
      " [ 6049.9272  5118.1655]\n",
      " [11256.181   4617.33  ]\n",
      " [ 6048.2617  3657.611 ]\n",
      " [ 7229.589   4384.1934]\n",
      " [10117.319   6227.188 ]]\n",
      "Offside IDS:  [12]\n",
      "Player 12 is offside\n"
     ]
    },
    {
     "name": "stderr",
     "output_type": "stream",
     "text": [
      "Embedding extraction: 1it [00:02,  2.05s/it]\n"
     ]
    },
    {
     "name": "stdout",
     "output_type": "stream",
     "text": [
      "[[ 7646.638   5380.088 ]\n",
      " [ 6284.0186  5887.1685]\n",
      " [ 7273.7     2220.9246]\n",
      " [ 8902.233   5216.4307]\n",
      " [ 6065.024   5121.831 ]\n",
      " [11253.19    4610.0874]\n",
      " [ 6058.5654  3664.0425]\n",
      " [10117.831   6209.1963]\n",
      " [ 7248.105   4390.1167]]\n",
      "Offside IDS:  [11]\n",
      "Player 11 is offside\n"
     ]
    },
    {
     "name": "stderr",
     "output_type": "stream",
     "text": [
      "Embedding extraction: 1it [00:02,  2.10s/it]\n"
     ]
    },
    {
     "name": "stdout",
     "output_type": "stream",
     "text": [
      "[[ 7260.21    2207.8455]\n",
      " [ 8358.535   6318.8438]\n",
      " [ 6280.7876  5887.0474]\n",
      " [ 7654.7207  5367.7407]\n",
      " [ 7261.2163  4393.9507]\n",
      " [ 8897.105   5235.914 ]\n",
      " [ 6066.2896  5093.6865]\n",
      " [ 6056.4414  3637.7405]\n",
      " [11240.959   4612.9956]\n",
      " [10109.169   6208.601 ]]\n",
      "Offside IDS:  [15]\n",
      "Player 15 is offside\n"
     ]
    },
    {
     "name": "stderr",
     "output_type": "stream",
     "text": [
      "Embedding extraction: 1it [00:02,  2.06s/it]\n"
     ]
    },
    {
     "name": "stdout",
     "output_type": "stream",
     "text": [
      "[[ 8344.121   6329.4424]\n",
      " [ 6275.056   5889.717 ]\n",
      " [ 7247.319   2207.055 ]\n",
      " [ 6063.994   5069.241 ]\n",
      " [ 7654.0195  5372.1646]\n",
      " [ 7262.396   4399.8022]\n",
      " [ 8900.187   5222.3975]\n",
      " [ 6051.438   3664.4072]\n",
      " [10087.636   6220.298 ]\n",
      " [11228.763   4614.372 ]]\n",
      "Offside IDS:  [18]\n",
      "Player 18 is offside\n"
     ]
    },
    {
     "name": "stderr",
     "output_type": "stream",
     "text": [
      "Embedding extraction: 1it [00:02,  2.07s/it]\n"
     ]
    },
    {
     "name": "stdout",
     "output_type": "stream",
     "text": [
      "[[ 6264.6367  5889.3916]\n",
      " [ 7658.997   5362.919 ]\n",
      " [ 7260.495   4402.3535]\n",
      " [ 7232.9526  2202.817 ]\n",
      " [ 8910.605   5194.4956]\n",
      " [ 6057.7456  5039.251 ]\n",
      " [ 6049.3037  3664.0251]\n",
      " [11219.571   4620.329 ]\n",
      " [10078.666   6212.458 ]]\n",
      "Offside IDS:  [15]\n",
      "Player 15 is offside\n"
     ]
    },
    {
     "name": "stderr",
     "output_type": "stream",
     "text": [
      "Embedding extraction: 1it [00:02,  2.07s/it]\n"
     ]
    },
    {
     "name": "stdout",
     "output_type": "stream",
     "text": [
      "[[ 6264.6367  5889.3916]\n",
      " [ 7658.997   5362.919 ]\n",
      " [ 7260.495   4402.3535]\n",
      " [ 7232.9526  2202.817 ]\n",
      " [ 8910.605   5194.4956]\n",
      " [ 6057.7456  5039.251 ]\n",
      " [ 6049.3037  3664.0251]\n",
      " [11219.571   4620.329 ]\n",
      " [10078.666   6212.458 ]]\n",
      "Offside IDS:  [15]\n",
      "Player 15 is offside\n"
     ]
    },
    {
     "name": "stderr",
     "output_type": "stream",
     "text": [
      "Embedding extraction: 1it [00:02,  2.10s/it]\n"
     ]
    },
    {
     "name": "stdout",
     "output_type": "stream",
     "text": [
      "[[ 6264.287   5890.0728]\n",
      " [ 7654.794   5367.0947]\n",
      " [ 7256.438   4406.0234]\n",
      " [ 8302.23    6330.3193]\n",
      " [ 6059.368   5027.036 ]\n",
      " [ 8930.13    5149.636 ]\n",
      " [ 6056.481   3669.914 ]\n",
      " [ 7229.426   2167.5964]\n",
      " [10044.63    6227.652 ]\n",
      " [11210.56    4622.8457]]\n",
      "Offside IDS:  [14]\n",
      "Player 14 is offside\n"
     ]
    },
    {
     "name": "stderr",
     "output_type": "stream",
     "text": [
      "Embedding extraction: 1it [00:02,  2.08s/it]\n"
     ]
    },
    {
     "name": "stdout",
     "output_type": "stream",
     "text": [
      "[[ 8283.762   6327.551 ]\n",
      " [ 6259.4785  5891.5127]\n",
      " [ 7261.6157  4408.616 ]\n",
      " [ 6056.0654  3670.2893]\n",
      " [ 6058.574   5028.63  ]\n",
      " [10031.995   6226.2783]\n",
      " [ 8936.88    5133.5796]\n",
      " [ 7225.928   2166.335 ]\n",
      " [11227.379   4600.861 ]]\n",
      "Offside IDS:  [16]\n",
      "Player 16 is offside\n"
     ]
    },
    {
     "name": "stderr",
     "output_type": "stream",
     "text": [
      "Embedding extraction: 1it [00:02,  2.11s/it]\n"
     ]
    },
    {
     "name": "stdout",
     "output_type": "stream",
     "text": [
      "[[ 6260.018   5877.6943]\n",
      " [ 8284.244   6316.1587]\n",
      " [ 7691.95    5308.4067]\n",
      " [ 7274.466   4387.601 ]\n",
      " [ 8943.117   5124.4116]\n",
      " [ 6061.686   5028.5996]\n",
      " [10042.295   6212.024 ]\n",
      " [ 6056.466   3670.844 ]\n",
      " [ 7216.8115  2163.89  ]\n",
      " [11242.9     4562.8936]]\n",
      "Offside IDS:  [17]\n",
      "Player 17 is offside\n"
     ]
    },
    {
     "name": "stderr",
     "output_type": "stream",
     "text": [
      "Embedding extraction: 1it [00:02,  2.10s/it]\n"
     ]
    },
    {
     "name": "stdout",
     "output_type": "stream",
     "text": [
      "[[ 7701.979   5290.9385]\n",
      " [ 6255.7935  5872.676 ]\n",
      " [ 8273.611   6306.2812]\n",
      " [ 6064.043   5011.964 ]\n",
      " [ 7282.0195  4366.6147]\n",
      " [10033.712   6201.766 ]\n",
      " [ 7215.2393  2162.418 ]\n",
      " [ 6053.805   3668.8574]\n",
      " [11246.915   4531.8296]]\n",
      "Offside IDS:  [17]\n",
      "Player 17 is offside\n"
     ]
    },
    {
     "name": "stderr",
     "output_type": "stream",
     "text": [
      "Embedding extraction: 1it [00:02,  2.36s/it]\n"
     ]
    },
    {
     "name": "stdout",
     "output_type": "stream",
     "text": [
      "[[ 8919.775   5126.626 ]\n",
      " [ 7697.4263  5282.621 ]\n",
      " [ 8253.454   6300.9883]\n",
      " [ 6242.521   5871.355 ]\n",
      " [ 6063.732   4998.611 ]\n",
      " [ 7278.6313  4372.0215]\n",
      " [ 7195.3276  2193.1074]\n",
      " [10010.491   6215.818 ]\n",
      " [11224.432   4543.8403]\n",
      " [ 6053.8506  3647.2903]\n",
      " [11737.175   4584.4053]]\n",
      "Offside IDS:  [20]\n",
      "Player 20 is offside\n"
     ]
    },
    {
     "name": "stderr",
     "output_type": "stream",
     "text": [
      "Embedding extraction: 1it [00:02,  2.36s/it]\n"
     ]
    },
    {
     "name": "stdout",
     "output_type": "stream",
     "text": [
      "[[ 8919.775   5126.626 ]\n",
      " [ 7697.4263  5282.621 ]\n",
      " [ 8253.454   6300.9883]\n",
      " [ 6242.521   5871.355 ]\n",
      " [ 6063.732   4998.611 ]\n",
      " [ 7278.6313  4372.0215]\n",
      " [ 7195.3276  2193.1074]\n",
      " [10010.491   6215.818 ]\n",
      " [11224.432   4543.8403]\n",
      " [ 6053.8506  3647.2903]\n",
      " [11737.175   4584.4053]]\n",
      "Offside IDS:  [20]\n",
      "Player 20 is offside\n"
     ]
    },
    {
     "name": "stderr",
     "output_type": "stream",
     "text": [
      "Embedding extraction: 1it [00:02,  2.22s/it]\n"
     ]
    },
    {
     "name": "stdout",
     "output_type": "stream",
     "text": [
      "[[ 8244.02    6285.1426]\n",
      " [ 6061.1934  4998.1445]\n",
      " [ 8911.097   5123.691 ]\n",
      " [ 6229.      5855.9146]\n",
      " [ 7707.634   5269.2373]\n",
      " [ 7186.031   2155.1465]\n",
      " [ 7282.1533  4352.329 ]\n",
      " [ 6041.1     3643.4944]\n",
      " [10003.688   6213.1665]\n",
      " [11216.763   4541.2075]\n",
      " [11730.6     4582.1006]]\n",
      "Offside IDS:  [19]\n",
      "Player 19 is offside\n"
     ]
    },
    {
     "name": "stderr",
     "output_type": "stream",
     "text": [
      "Embedding extraction: 1it [00:02,  2.10s/it]\n"
     ]
    },
    {
     "name": "stdout",
     "output_type": "stream",
     "text": [
      "[[ 7178.629   2164.182 ]\n",
      " [ 8901.725   5119.2563]\n",
      " [ 6067.621   5002.5547]\n",
      " [ 6230.13    5847.0645]\n",
      " [ 7720.681   5257.208 ]\n",
      " [ 6050.3945  3651.9465]\n",
      " [ 7283.8774  4354.729 ]\n",
      " [11205.883   4530.2886]\n",
      " [ 9982.117   6220.477 ]]\n",
      "Offside IDS:  [17]\n",
      "Player 17 is offside\n"
     ]
    },
    {
     "name": "stderr",
     "output_type": "stream",
     "text": [
      "Embedding extraction: 1it [00:02,  2.06s/it]\n"
     ]
    },
    {
     "name": "stdout",
     "output_type": "stream",
     "text": [
      "[[ 6072.0244  4998.641 ]\n",
      " [ 8224.956   6258.6543]\n",
      " [ 6227.828   5853.668 ]\n",
      " [ 7173.6245  2170.5928]\n",
      " [ 7727.9443  5250.146 ]\n",
      " [ 6046.79    3662.0427]\n",
      " [ 7291.2783  4345.4907]\n",
      " [ 9966.555   6218.159 ]\n",
      " [11187.196   4530.197 ]]\n",
      "Offside IDS:  [18]\n",
      "Player 18 is offside\n"
     ]
    },
    {
     "name": "stderr",
     "output_type": "stream",
     "text": [
      "Embedding extraction: 1it [00:01,  1.97s/it]\n"
     ]
    },
    {
     "name": "stdout",
     "output_type": "stream",
     "text": [
      "[[ 8899.207   5087.9077]\n",
      " [ 7739.25    5241.3467]\n",
      " [ 6077.134   4993.345 ]\n",
      " [ 8202.849   6266.4424]\n",
      " [ 6225.229   5860.004 ]\n",
      " [ 7168.5444  2175.3806]\n",
      " [ 6045.2803  3670.3738]\n",
      " [ 7290.507   4372.2075]\n",
      " [11177.442   4526.4604]]\n",
      "Offside IDS:  [17]\n",
      "Player 17 is offside\n"
     ]
    },
    {
     "name": "stderr",
     "output_type": "stream",
     "text": [
      "Embedding extraction: 1it [00:02,  2.09s/it]\n"
     ]
    },
    {
     "name": "stdout",
     "output_type": "stream",
     "text": [
      "[[ 8896.0205  5067.0586]\n",
      " [ 7152.7617  2170.9238]\n",
      " [ 6215.363   5856.728 ]\n",
      " [ 8187.95    6274.3564]\n",
      " [ 6076.959   4993.205 ]\n",
      " [ 7744.148   5242.8633]\n",
      " [ 7289.581   4371.903 ]\n",
      " [ 6036.882   3667.792 ]\n",
      " [11166.079   4523.152 ]\n",
      " [ 9949.824   6211.6904]]\n",
      "Offside IDS:  [15]\n",
      "Player 15 is offside\n"
     ]
    },
    {
     "name": "stderr",
     "output_type": "stream",
     "text": [
      "Embedding extraction: 1it [00:02,  2.11s/it]\n"
     ]
    },
    {
     "name": "stdout",
     "output_type": "stream",
     "text": [
      "[[ 8896.0205  5067.0586]\n",
      " [ 7152.7617  2170.9238]\n",
      " [ 6215.363   5856.728 ]\n",
      " [ 8187.95    6274.3564]\n",
      " [ 6076.959   4993.205 ]\n",
      " [ 7744.148   5242.8633]\n",
      " [ 7289.581   4371.903 ]\n",
      " [ 6036.882   3667.792 ]\n",
      " [11166.079   4523.152 ]\n",
      " [ 9949.824   6211.6904]]\n",
      "Offside IDS:  [15]\n",
      "Player 15 is offside\n"
     ]
    },
    {
     "name": "stderr",
     "output_type": "stream",
     "text": [
      "Embedding extraction: 1it [00:02,  2.02s/it]\n"
     ]
    },
    {
     "name": "stdout",
     "output_type": "stream",
     "text": [
      "[[ 6086.939   4887.774 ]\n",
      " [ 8182.491   6259.951 ]\n",
      " [ 6213.368   5856.095 ]\n",
      " [ 8888.389   5044.7095]\n",
      " [ 7149.2705  2169.923 ]\n",
      " [ 7768.6416  5233.578 ]\n",
      " [11159.477   4521.1978]\n",
      " [ 6039.6313  3668.612 ]\n",
      " [ 7294.973   4373.542 ]]\n",
      "Offside IDS:  [12]\n",
      "Player 12 is offside\n"
     ]
    },
    {
     "name": "stderr",
     "output_type": "stream",
     "text": [
      "Embedding extraction: 1it [00:01,  1.98s/it]\n"
     ]
    },
    {
     "name": "stdout",
     "output_type": "stream",
     "text": [
      "[[ 7790.8247  5211.613 ]\n",
      " [ 8181.373   6244.1797]\n",
      " [ 7141.377   2167.6091]\n",
      " [ 6098.7285  4870.4033]\n",
      " [ 6216.915   5849.637 ]\n",
      " [ 8880.67    5027.2637]\n",
      " [ 6040.0513  3666.8303]\n",
      " [11173.964   4476.6636]\n",
      " [ 7308.6455  4369.638 ]\n",
      " [ 9942.465   6187.8594]]\n",
      "Offside IDS:  [15]\n",
      "Player 15 is offside\n"
     ]
    },
    {
     "name": "stderr",
     "output_type": "stream",
     "text": [
      "Embedding extraction: 1it [00:02,  2.04s/it]\n"
     ]
    },
    {
     "name": "stdout",
     "output_type": "stream",
     "text": [
      "[[ 7122.714   2162.119 ]\n",
      " [ 6213.929   5841.0903]\n",
      " [ 8166.558   6241.733 ]\n",
      " [ 8870.221   5004.8896]\n",
      " [ 6031.6895  3665.9065]\n",
      " [ 6098.781   4873.275 ]\n",
      " [ 7305.99    4370.236 ]\n",
      " [ 7802.018   5199.706 ]\n",
      " [11140.441   4494.5664]]\n",
      "Offside IDS:  [15]\n",
      "Player 15 is offside\n"
     ]
    },
    {
     "name": "stderr",
     "output_type": "stream",
     "text": [
      "Embedding extraction: 1it [00:02,  2.08s/it]\n"
     ]
    },
    {
     "name": "stdout",
     "output_type": "stream",
     "text": [
      "[[ 6213.448   5829.2026]\n",
      " [ 8154.53    6227.884 ]\n",
      " [ 8856.68    5025.0186]\n",
      " [ 7110.073   2159.786 ]\n",
      " [ 6033.5576  3666.533 ]\n",
      " [ 7808.4067  5204.1885]\n",
      " [ 6114.086   4878.0303]\n",
      " [11125.867   4497.8325]\n",
      " [ 7311.456   4373.8022]]\n",
      "Offside IDS:  [13]\n",
      "Player 13 is offside\n"
     ]
    },
    {
     "name": "stderr",
     "output_type": "stream",
     "text": [
      "Embedding extraction: 1it [00:02,  2.10s/it]\n"
     ]
    },
    {
     "name": "stdout",
     "output_type": "stream",
     "text": [
      "[[ 6207.014   5826.082 ]\n",
      " [ 8854.531   5009.765 ]\n",
      " [ 7806.109   5210.551 ]\n",
      " [ 7093.4355  2157.6184]\n",
      " [ 8128.472   6227.028 ]\n",
      " [ 6119.9766  4889.184 ]\n",
      " [ 6035.2656  3674.2173]\n",
      " [ 7313.136   4360.155 ]\n",
      " [11128.965   4473.763 ]]\n",
      "Offside IDS:  [16]\n",
      "Player 16 is offside\n"
     ]
    },
    {
     "name": "stderr",
     "output_type": "stream",
     "text": [
      "Embedding extraction: 1it [00:02,  2.06s/it]\n"
     ]
    },
    {
     "name": "stdout",
     "output_type": "stream",
     "text": [
      "[[ 6206.5425  5825.6543]\n",
      " [ 8854.332   5009.7876]\n",
      " [ 7805.7695  5210.4487]\n",
      " [ 7093.5825  2157.9348]\n",
      " [ 8127.928   6226.6016]\n",
      " [ 6119.6206  4889.0684]\n",
      " [ 6035.0513  3674.3796]\n",
      " [ 7312.9253  4360.2417]\n",
      " [11129.319   4474.0293]]\n",
      "Offside IDS:  [16]\n",
      "Player 16 is offside\n"
     ]
    },
    {
     "name": "stderr",
     "output_type": "stream",
     "text": [
      "Embedding extraction: 1it [00:02,  2.12s/it]\n"
     ]
    },
    {
     "name": "stdout",
     "output_type": "stream",
     "text": [
      "[[ 6221.726   5836.54  ]\n",
      " [ 8838.053   5020.129 ]\n",
      " [ 7094.4424  2165.7285]\n",
      " [ 7811.4136  5225.155 ]\n",
      " [ 6141.485   4911.0537]\n",
      " [ 8105.868   6223.207 ]\n",
      " [ 6052.5386  3684.5522]\n",
      " [ 7319.5835  4383.2007]\n",
      " [11086.191   4481.8027]]\n",
      "Offside IDS:  [17]\n",
      "Player 17 is offside\n"
     ]
    },
    {
     "name": "stderr",
     "output_type": "stream",
     "text": [
      "Embedding extraction: 1it [00:01,  1.97s/it]\n"
     ]
    },
    {
     "name": "stdout",
     "output_type": "stream",
     "text": [
      "[[ 6195.878   5822.972 ]\n",
      " [ 8825.694   5000.0347]\n",
      " [ 6121.9473  4874.3276]\n",
      " [ 7069.762   2116.2366]\n",
      " [ 7803.484   5209.4785]\n",
      " [ 8077.072   6210.8867]\n",
      " [ 6026.808   3649.9568]\n",
      " [ 7311.428   4338.5244]\n",
      " [11070.454   4481.0874]]\n",
      "Offside IDS:  [16]\n",
      "Player 16 is offside\n"
     ]
    },
    {
     "name": "stderr",
     "output_type": "stream",
     "text": [
      "Embedding extraction: 1it [00:01,  1.96s/it]\n"
     ]
    },
    {
     "name": "stdout",
     "output_type": "stream",
     "text": [
      "[[ 7507.1855  3859.2368]\n",
      " [ 8061.3496  6205.527 ]\n",
      " [ 8821.89    4980.615 ]\n",
      " [ 6126.329   4865.135 ]\n",
      " [ 7057.723   2120.1465]\n",
      " [ 6023.499   3656.7766]\n",
      " [ 7796.297   5209.922 ]\n",
      " [11058.652   4477.6475]\n",
      " [ 7305.2075  4362.6367]]\n",
      "Offside IDS:  [15]\n",
      "Player 15 is offside\n"
     ]
    },
    {
     "name": "stderr",
     "output_type": "stream",
     "text": [
      "Embedding extraction: 1it [00:01,  1.97s/it]\n"
     ]
    },
    {
     "name": "stdout",
     "output_type": "stream",
     "text": [
      "[[ 8062.68    6192.913 ]\n",
      " [ 6139.3374  4847.676 ]\n",
      " [ 6030.823   3651.64  ]\n",
      " [ 7062.4404  2114.671 ]\n",
      " [ 7310.4194  4359.4688]\n",
      " [ 7805.2812  5192.7646]\n",
      " [ 8811.73    4975.671 ]\n",
      " [11075.124   4454.735 ]]\n",
      "Offside IDS:  [16]\n",
      "Player 16 is offside\n"
     ]
    },
    {
     "name": "stderr",
     "output_type": "stream",
     "text": [
      "Embedding extraction: 1it [00:01,  1.99s/it]\n"
     ]
    },
    {
     "name": "stdout",
     "output_type": "stream",
     "text": [
      "[[ 6199.173   5824.1343]\n",
      " [ 8046.545   6195.116 ]\n",
      " [ 6149.5654  4835.9756]\n",
      " [ 7063.603   2115.6843]\n",
      " [ 6035.902   3653.667 ]\n",
      " [ 8788.617   4979.354 ]\n",
      " [ 7308.9546  4364.3486]\n",
      " [11051.862   4465.832 ]\n",
      " [ 7799.5474  5198.15  ]]\n",
      "Offside IDS:  [14]\n",
      "Player 14 is offside\n"
     ]
    },
    {
     "name": "stderr",
     "output_type": "stream",
     "text": [
      "Embedding extraction: 1it [00:01,  2.00s/it]\n"
     ]
    },
    {
     "name": "stdout",
     "output_type": "stream",
     "text": [
      "[[ 6199.021   5824.1387]\n",
      " [ 8048.5557  6194.0254]\n",
      " [ 6149.5264  4835.287 ]\n",
      " [ 7064.723   2114.3655]\n",
      " [ 6035.956   3652.5535]\n",
      " [ 8790.9795  4977.141 ]\n",
      " [ 7310.1997  4362.8115]\n",
      " [11054.449   4462.311 ]\n",
      " [ 7801.245   5196.635 ]]\n",
      "Offside IDS:  [14]\n",
      "Player 14 is offside\n"
     ]
    },
    {
     "name": "stderr",
     "output_type": "stream",
     "text": [
      "Embedding extraction: 1it [00:01,  1.94s/it]\n"
     ]
    },
    {
     "name": "stdout",
     "output_type": "stream",
     "text": [
      "[[ 6193.934   5810.9434]\n",
      " [ 8047.91    6156.97  ]\n",
      " [ 7062.053   2115.2197]\n",
      " [ 6165.0234  4808.3223]\n",
      " [ 6041.5522  3655.4224]\n",
      " [ 8773.6     4974.7397]\n",
      " [11022.633   4485.127 ]\n",
      " [ 7792.0894  5195.843 ]\n",
      " [ 7312.5605  4365.4663]]\n",
      "Offside IDS:  [14]\n",
      "Player 14 is offside\n"
     ]
    },
    {
     "name": "stderr",
     "output_type": "stream",
     "text": [
      "Embedding extraction: 1it [00:01,  1.94s/it]\n"
     ]
    },
    {
     "name": "stdout",
     "output_type": "stream",
     "text": [
      "[[ 6199.8315  5820.2466]\n",
      " [ 7062.5864  2158.0361]\n",
      " [ 6190.375   4816.5938]\n",
      " [ 8037.815   6136.0396]\n",
      " [ 6056.716   3687.066 ]\n",
      " [11001.943   4478.7554]\n",
      " [ 8766.319   4972.2427]\n",
      " [ 7315.657   4389.2026]\n",
      " [ 7785.412   5192.841 ]]\n",
      "Offside IDS:  [12]\n",
      "Player 12 is offside\n"
     ]
    },
    {
     "name": "stderr",
     "output_type": "stream",
     "text": [
      "Embedding extraction: 1it [00:01,  1.98s/it]\n"
     ]
    },
    {
     "name": "stdout",
     "output_type": "stream",
     "text": [
      "[[ 6198.602   5821.329 ]\n",
      " [ 7058.4927  2161.0818]\n",
      " [ 8025.276   6125.941 ]\n",
      " [ 8769.785   4968.4287]\n",
      " [ 6210.862   4826.302 ]\n",
      " [ 6060.399   3693.5376]\n",
      " [10999.877   4469.927 ]\n",
      " [ 7787.342   5190.813 ]\n",
      " [ 7320.4487  4391.267 ]]\n",
      "Offside IDS:  [12]\n",
      "Player 12 is offside\n"
     ]
    },
    {
     "name": "stderr",
     "output_type": "stream",
     "text": [
      "Embedding extraction: 1it [00:02,  2.02s/it]\n"
     ]
    },
    {
     "name": "stdout",
     "output_type": "stream",
     "text": [
      "[[ 8303.375   5637.9546]\n",
      " [ 8748.543   4971.449 ]\n",
      " [ 7056.653   2128.5605]\n",
      " [ 6179.1196  5824.623 ]\n",
      " [ 8006.8364  6130.7075]\n",
      " [ 7775.126   5213.6357]\n",
      " [ 6062.776   3701.0151]\n",
      " [ 6223.743   4838.758 ]\n",
      " [ 7316.445   4398.2544]\n",
      " [10978.79    4472.5684]]\n",
      "Offside IDS:  [16]\n",
      "Player 16 is offside\n"
     ]
    },
    {
     "name": "stderr",
     "output_type": "stream",
     "text": [
      "Embedding extraction: 1it [00:02,  2.03s/it]\n"
     ]
    },
    {
     "name": "stdout",
     "output_type": "stream",
     "text": [
      "[[ 6038.931   3678.5618]\n",
      " [ 7035.9834  2099.3826]\n",
      " [ 8739.492   4945.0684]\n",
      " [ 7765.694   5193.717 ]\n",
      " [ 6143.361   5819.341 ]\n",
      " [ 6216.7456  4808.521 ]\n",
      " [ 7984.6245  6112.1094]\n",
      " [ 7301.5     4374.673 ]\n",
      " [10984.55    4434.254 ]]\n",
      "Offside IDS:  [15]\n",
      "Player 15 is offside\n"
     ]
    },
    {
     "name": "stderr",
     "output_type": "stream",
     "text": [
      "Embedding extraction: 1it [00:01,  1.95s/it]\n"
     ]
    },
    {
     "name": "stdout",
     "output_type": "stream",
     "text": [
      "[[ 6038.931   3678.5618]\n",
      " [ 7035.9834  2099.3826]\n",
      " [ 8739.492   4945.0684]\n",
      " [ 7765.694   5193.717 ]\n",
      " [ 6143.361   5819.341 ]\n",
      " [ 6216.7456  4808.521 ]\n",
      " [ 7984.6245  6112.1094]\n",
      " [ 7301.5     4374.673 ]\n",
      " [10984.55    4434.254 ]]\n",
      "Offside IDS:  [15]\n",
      "Player 15 is offside\n"
     ]
    },
    {
     "name": "stderr",
     "output_type": "stream",
     "text": [
      "Embedding extraction: 1it [00:01,  1.99s/it]\n"
     ]
    },
    {
     "name": "stdout",
     "output_type": "stream",
     "text": [
      "[[ 8292.374   5625.872 ]\n",
      " [ 7757.019   5197.4526]\n",
      " [ 8718.451   4946.4673]\n",
      " [ 7031.222   2097.0134]\n",
      " [ 6040.622   3679.5518]\n",
      " [ 6133.381   5831.6978]\n",
      " [ 7968.283   6115.4106]\n",
      " [ 6228.2393  4814.7153]\n",
      " [ 7297.116   4377.3804]\n",
      " [10965.56    4438.909 ]]\n",
      "Offside IDS:  [16]\n",
      "Player 16 is offside\n"
     ]
    },
    {
     "name": "stderr",
     "output_type": "stream",
     "text": [
      "Embedding extraction: 1it [00:02,  2.03s/it]\n"
     ]
    },
    {
     "name": "stdout",
     "output_type": "stream",
     "text": [
      "[[ 7025.1577  2129.4456]\n",
      " [ 6139.6177  5858.5435]\n",
      " [ 7969.104   6109.902 ]\n",
      " [ 7767.515   5218.3203]\n",
      " [ 6254.5693  4845.148 ]\n",
      " [ 6054.6294  3713.053 ]\n",
      " [ 7304.968   4404.6685]\n",
      " [ 8709.031   4963.905 ]\n",
      " [10939.1045  4432.4976]]\n",
      "Offside IDS:  [15]\n",
      "Player 15 is offside\n"
     ]
    },
    {
     "name": "stderr",
     "output_type": "stream",
     "text": [
      "Embedding extraction: 1it [00:02,  2.10s/it]\n"
     ]
    },
    {
     "name": "stdout",
     "output_type": "stream",
     "text": [
      "[[ 8278.215   5621.799 ]\n",
      " [ 6987.2656  2102.6865]\n",
      " [ 6248.0244  4831.5615]\n",
      " [ 7752.46    5183.195 ]\n",
      " [ 6114.9893  5842.903 ]\n",
      " [ 6030.3037  3692.8982]\n",
      " [10932.845   4428.999 ]\n",
      " [ 8679.04    4957.7886]\n",
      " [ 7284.284   4404.0034]]\n",
      "Offside IDS:  [10]\n",
      "Player 10 is offside\n"
     ]
    },
    {
     "name": "stderr",
     "output_type": "stream",
     "text": [
      "Embedding extraction: 1it [00:02,  2.16s/it]\n"
     ]
    },
    {
     "name": "stdout",
     "output_type": "stream",
     "text": [
      "[[ 6980.085   2133.693 ]\n",
      " [ 7936.499   6089.439 ]\n",
      " [ 6050.2197  3721.956 ]\n",
      " [10887.321   4467.7695]\n",
      " [ 7750.6045  5182.0557]\n",
      " [ 6123.9673  5857.969 ]\n",
      " [ 6273.5464  4856.7188]\n",
      " [ 7290.5586  4446.7847]\n",
      " [ 8662.055   4951.2817]]\n",
      "Offside IDS:  [7]\n",
      "Player 7 is offside\n"
     ]
    },
    {
     "name": "stderr",
     "output_type": "stream",
     "text": [
      "Embedding extraction: 1it [00:02,  2.26s/it]\n"
     ]
    },
    {
     "name": "stdout",
     "output_type": "stream",
     "text": [
      "[[ 6053.44    3723.4412]\n",
      " [ 7745.323   5177.803 ]\n",
      " [ 7928.0933  6082.5474]\n",
      " [ 6974.3506  2096.8037]\n",
      " [ 6129.7383  5858.776 ]\n",
      " [10875.4375  4460.406 ]\n",
      " [ 7297.678   4447.5674]\n",
      " [ 6296.069   4863.1255]\n",
      " [ 8655.515   4945.995 ]\n",
      " [ 9711.482   6140.5874]]\n",
      "Offside IDS:  [10]\n",
      "Player 10 is offside\n"
     ]
    },
    {
     "name": "stderr",
     "output_type": "stream",
     "text": [
      "Embedding extraction: 1it [00:02,  2.21s/it]\n"
     ]
    },
    {
     "name": "stdout",
     "output_type": "stream",
     "text": [
      "[[ 6053.238   3723.0146]\n",
      " [ 7744.9214  5177.6675]\n",
      " [ 7927.9395  6082.6426]\n",
      " [ 6973.3193  2096.6582]\n",
      " [ 6129.97    5858.262 ]\n",
      " [10875.281   4460.715 ]\n",
      " [ 7297.1597  4447.2695]\n",
      " [ 6293.6587  4861.9424]\n",
      " [ 8654.995   4946.0254]\n",
      " [ 9711.557   6141.299 ]]\n",
      "Offside IDS:  [10]\n",
      "Player 10 is offside\n"
     ]
    },
    {
     "name": "stderr",
     "output_type": "stream",
     "text": [
      "Embedding extraction: 1it [00:02,  2.21s/it]\n"
     ]
    },
    {
     "name": "stdout",
     "output_type": "stream",
     "text": [
      "[[ 6028.9453  3700.7468]\n",
      " [ 6105.548   5819.131 ]\n",
      " [ 7725.6147  5157.8022]\n",
      " [ 7277.634   4425.129 ]\n",
      " [ 7898.038   6064.823 ]\n",
      " [ 8638.584   4923.5337]\n",
      " [ 6933.6123  2102.8577]\n",
      " [ 6293.0576  4832.215 ]\n",
      " [10889.431   4435.121 ]\n",
      " [ 9707.497   6128.4277]]\n",
      "Offside IDS:  [16]\n",
      "Player 16 is offside\n"
     ]
    },
    {
     "name": "stderr",
     "output_type": "stream",
     "text": [
      "Embedding extraction: 1it [00:02,  2.23s/it]\n"
     ]
    },
    {
     "name": "stdout",
     "output_type": "stream",
     "text": [
      "[[ 6122.3857  5833.632 ]\n",
      " [ 6048.028   3722.743 ]\n",
      " [ 7888.3257  6067.9062]\n",
      " [ 8637.305   4936.715 ]\n",
      " [ 6946.795   2125.98  ]\n",
      " [ 7733.924   5171.9434]\n",
      " [ 7289.416   4463.871 ]\n",
      " [10856.872   4447.0415]\n",
      " [ 6339.5874  4842.9814]\n",
      " [ 9687.703   6128.1284]]\n",
      "Offside IDS:  [13]\n",
      "Player 13 is offside\n"
     ]
    },
    {
     "name": "stderr",
     "output_type": "stream",
     "text": [
      "Embedding extraction: 1it [00:02,  2.27s/it]\n"
     ]
    },
    {
     "name": "stdout",
     "output_type": "stream",
     "text": [
      "[[ 6123.323   5822.3613]\n",
      " [ 6046.5205  3720.9302]\n",
      " [ 8624.774   4930.4673]\n",
      " [ 6357.0386  4847.041 ]\n",
      " [ 6934.328   2121.0955]\n",
      " [ 7865.7456  6059.7144]\n",
      " [ 7283.821   4480.5317]\n",
      " [ 7729.922   5151.6694]\n",
      " [10847.136   4440.4106]\n",
      " [ 9681.637   6123.6216]]\n",
      "Offside IDS:  [16]\n",
      "Player 16 is offside\n"
     ]
    },
    {
     "name": "stderr",
     "output_type": "stream",
     "text": [
      "Embedding extraction: 1it [00:02,  2.21s/it]\n"
     ]
    },
    {
     "name": "stdout",
     "output_type": "stream",
     "text": [
      "[[6041.205  3714.785 ]\n",
      " [8618.715  4914.6396]\n",
      " [7856.331  6046.0957]\n",
      " [6916.886  2111.2737]\n",
      " [6105.03   5800.763 ]\n",
      " [6367.9697 4860.673 ]\n",
      " [7283.422  4471.1284]\n",
      " [9672.209  6118.83  ]\n",
      " [7725.176  5139.4126]]\n",
      "Offside IDS:  []\n"
     ]
    },
    {
     "name": "stderr",
     "output_type": "stream",
     "text": [
      "Embedding extraction: 1it [00:02,  2.24s/it]\n"
     ]
    },
    {
     "name": "stdout",
     "output_type": "stream",
     "text": [
      "[[8264.913  5615.629 ]\n",
      " [8601.24   4915.298 ]\n",
      " [6042.755  3738.8103]\n",
      " [6382.0684 4833.9463]\n",
      " [6096.4214 5799.426 ]\n",
      " [6902.0913 2142.852 ]\n",
      " [9666.471  6109.243 ]\n",
      " [7276.917  4472.786 ]\n",
      " [7714.729  5140.7217]]\n",
      "Offside IDS:  []\n"
     ]
    },
    {
     "name": "stderr",
     "output_type": "stream",
     "text": [
      "Embedding extraction: 1it [00:02,  2.18s/it]\n"
     ]
    },
    {
     "name": "stdout",
     "output_type": "stream",
     "text": [
      "[[8264.913  5615.629 ]\n",
      " [8601.24   4915.298 ]\n",
      " [6042.755  3738.8103]\n",
      " [6382.0684 4833.9463]\n",
      " [6096.4214 5799.426 ]\n",
      " [6902.0913 2142.852 ]\n",
      " [9666.471  6109.243 ]\n",
      " [7276.917  4472.786 ]\n",
      " [7714.729  5140.7217]]\n",
      "Offside IDS:  []\n"
     ]
    },
    {
     "name": "stderr",
     "output_type": "stream",
     "text": [
      "Embedding extraction: 1it [00:02,  2.08s/it]\n"
     ]
    },
    {
     "name": "stdout",
     "output_type": "stream",
     "text": [
      "[[ 7847.654   6020.368 ]\n",
      " [ 6047.9185  3738.0974]\n",
      " [ 6405.606   4839.02  ]\n",
      " [ 6098.7217  5798.6367]\n",
      " [ 6896.51    2141.3208]\n",
      " [ 8596.247   4913.6206]\n",
      " [ 7277.849   4471.856 ]\n",
      " [ 9653.595   6104.7207]\n",
      " [ 7714.8955  5139.593 ]\n",
      " [10783.406   4440.501 ]]\n",
      "Offside IDS:  [17]\n",
      "Player 17 is offside\n"
     ]
    },
    {
     "name": "stderr",
     "output_type": "stream",
     "text": [
      "Embedding extraction: 1it [00:02,  2.19s/it]\n"
     ]
    },
    {
     "name": "stdout",
     "output_type": "stream",
     "text": [
      "[[ 7835.405   6016.4897]\n",
      " [ 6430.673   4829.694 ]\n",
      " [ 6049.4375  3738.6067]\n",
      " [ 7269.751   4468.3584]\n",
      " [ 9637.66    6113.7124]\n",
      " [ 6092.5586  5785.7324]\n",
      " [10782.0205  4432.8364]\n",
      " [ 6881.425   2135.6477]\n",
      " [ 7690.0317  5182.5767]\n",
      " [ 8559.072   4920.4316]]\n",
      "Offside IDS:  [12]\n",
      "Player 12 is offside\n"
     ]
    },
    {
     "name": "stderr",
     "output_type": "stream",
     "text": [
      "Embedding extraction: 1it [00:02,  2.19s/it]\n"
     ]
    },
    {
     "name": "stdout",
     "output_type": "stream",
     "text": [
      "[[ 7821.1245  6008.435 ]\n",
      " [ 9612.583   6121.03  ]\n",
      " [ 6048.4307  3745.1948]\n",
      " [ 6448.3745  4858.8438]\n",
      " [ 7678.5376  5189.708 ]\n",
      " [ 6081.412   5786.859 ]\n",
      " [ 7259.8413  4475.5474]\n",
      " [10756.58    4446.0576]\n",
      " [ 6875.9756  2106.816 ]\n",
      " [ 8552.11    4911.899 ]]\n",
      "Offside IDS:  [13]\n",
      "Player 13 is offside\n"
     ]
    },
    {
     "name": "stderr",
     "output_type": "stream",
     "text": [
      "Embedding extraction: 1it [00:02,  2.10s/it]\n"
     ]
    },
    {
     "name": "stdout",
     "output_type": "stream",
     "text": [
      "[[ 6462.2466  4879.6616]\n",
      " [ 7792.688   5991.2183]\n",
      " [ 7658.7954  5187.368 ]\n",
      " [ 6042.6553  3739.3481]\n",
      " [ 7247.4473  4452.3706]\n",
      " [ 6864.9453  2088.0251]\n",
      " [ 6064.61    5769.3213]\n",
      " [ 9588.139   6123.36  ]\n",
      " [10736.966   4445.255 ]\n",
      " [ 8529.911   4909.9287]]\n",
      "Offside IDS:  [13]\n",
      "Player 13 is offside\n"
     ]
    },
    {
     "name": "stderr",
     "output_type": "stream",
     "text": [
      "Embedding extraction: 1it [00:02,  2.09s/it]\n"
     ]
    },
    {
     "name": "stdout",
     "output_type": "stream",
     "text": [
      "[[ 7777.339   5979.565 ]\n",
      " [ 6465.465   4884.2847]\n",
      " [ 7652.5474  5174.3833]\n",
      " [ 6034.548   3719.4917]\n",
      " [ 6851.2173  2064.302 ]\n",
      " [ 7234.447   4454.5146]\n",
      " [ 8508.214   4911.6304]\n",
      " [ 6043.7344  5766.093 ]\n",
      " [10729.882   4430.7505]\n",
      " [ 9549.865   6121.2104]]\n",
      "Offside IDS:  [13]\n",
      "Player 13 is offside\n"
     ]
    },
    {
     "name": "stderr",
     "output_type": "stream",
     "text": [
      "Embedding extraction: 1it [00:02,  2.09s/it]\n"
     ]
    },
    {
     "name": "stdout",
     "output_type": "stream",
     "text": [
      "[[ 7777.339   5979.565 ]\n",
      " [ 6465.465   4884.2847]\n",
      " [ 7652.5474  5174.3833]\n",
      " [ 6034.548   3719.4917]\n",
      " [ 6851.2173  2064.302 ]\n",
      " [ 7234.447   4454.5146]\n",
      " [ 8508.214   4911.6304]\n",
      " [ 6043.7344  5766.093 ]\n",
      " [10729.882   4430.7505]\n",
      " [ 9549.865   6121.2104]]\n",
      "Offside IDS:  [13]\n",
      "Player 13 is offside\n"
     ]
    },
    {
     "name": "stderr",
     "output_type": "stream",
     "text": [
      "Embedding extraction: 1it [00:02,  2.16s/it]\n"
     ]
    },
    {
     "name": "stdout",
     "output_type": "stream",
     "text": [
      "[[ 7767.2607  5974.5405]\n",
      " [ 6036.7896  5746.739 ]\n",
      " [ 6837.3433  2089.9612]\n",
      " [ 7664.3213  5180.5225]\n",
      " [ 7231.833   4462.5986]\n",
      " [ 6037.911   3739.7256]\n",
      " [ 8490.509   4926.683 ]\n",
      " [ 9544.372   6109.22  ]\n",
      " [ 6490.9917  4884.7524]\n",
      " [10719.431   4419.7515]]\n",
      "Offside IDS:  [17]\n",
      "Player 17 is offside\n"
     ]
    },
    {
     "name": "stderr",
     "output_type": "stream",
     "text": [
      "Embedding extraction: 1it [00:02,  2.09s/it]\n"
     ]
    },
    {
     "name": "stdout",
     "output_type": "stream",
     "text": [
      "[[ 6818.0156  2089.2302]\n",
      " [ 7759.679   5968.5625]\n",
      " [ 7673.6113  5180.2217]\n",
      " [ 6028.4414  3740.815 ]\n",
      " [ 7225.5024  4480.142 ]\n",
      " [ 6018.236   5747.6978]\n",
      " [ 8483.803   4938.6343]\n",
      " [ 6506.821   4891.802 ]\n",
      " [ 9551.456   6098.6514]\n",
      " [10675.383   4425.9995]]\n",
      "Offside IDS:  [18]\n",
      "Player 18 is offside\n"
     ]
    },
    {
     "name": "stderr",
     "output_type": "stream",
     "text": [
      "Embedding extraction: 1it [00:02,  2.07s/it]\n"
     ]
    },
    {
     "name": "stdout",
     "output_type": "stream",
     "text": [
      "[[ 7665.7246  5198.6865]\n",
      " [ 6800.423   2082.498 ]\n",
      " [ 7735.5933  5965.6123]\n",
      " [ 6030.6157  3743.2021]\n",
      " [ 6011.9487  5758.293 ]\n",
      " [ 7215.6963  4500.2007]\n",
      " [ 8453.83    4973.2617]\n",
      " [ 9526.304   6097.957 ]\n",
      " [ 6518.006   4897.5264]\n",
      " [10672.908   4399.586 ]]\n",
      "Offside IDS:  [17]\n",
      "Player 17 is offside\n"
     ]
    },
    {
     "name": "stderr",
     "output_type": "stream",
     "text": [
      "Embedding extraction: 1it [00:02,  2.10s/it]\n"
     ]
    },
    {
     "name": "stdout",
     "output_type": "stream",
     "text": [
      "[[ 6786.739   2074.2144]\n",
      " [ 7717.419   5971.7563]\n",
      " [ 7208.684   4514.236 ]\n",
      " [ 9509.941   6093.131 ]\n",
      " [ 8436.116   4985.2573]\n",
      " [ 6032.7124  3738.41  ]\n",
      " [ 6000.683   5751.519 ]\n",
      " [ 6532.5674  4864.4585]\n",
      " [10642.902   4417.3916]]\n",
      "Offside IDS:  [17]\n",
      "Player 17 is offside\n"
     ]
    },
    {
     "name": "stderr",
     "output_type": "stream",
     "text": [
      "Embedding extraction: 1it [00:02,  2.08s/it]\n"
     ]
    },
    {
     "name": "stdout",
     "output_type": "stream",
     "text": [
      "[[ 8215.859   4978.764 ]\n",
      " [ 7700.6807  5966.7695]\n",
      " [ 7648.005   5240.878 ]\n",
      " [ 6764.078   2069.0154]\n",
      " [ 7198.8174  4511.301 ]\n",
      " [ 6027.8257  3737.6553]\n",
      " [ 9492.272   6102.7773]\n",
      " [ 5990.1113  5760.0234]\n",
      " [ 8431.957   4963.965 ]\n",
      " [ 6546.8604  4868.7764]\n",
      " [10633.511   4411.9897]]\n",
      "Offside IDS:  [17]\n",
      "Player 17 is offside\n"
     ]
    },
    {
     "name": "stderr",
     "output_type": "stream",
     "text": [
      "Embedding extraction: 1it [00:02,  2.12s/it]\n"
     ]
    },
    {
     "name": "stdout",
     "output_type": "stream",
     "text": [
      "[[ 8216.546   4978.938 ]\n",
      " [ 7701.4805  5967.234 ]\n",
      " [ 7648.6445  5241.0967]\n",
      " [ 6764.05    2068.7742]\n",
      " [ 7199.24    4511.3076]\n",
      " [ 6027.9814  3737.4634]\n",
      " [ 9493.524   6103.389 ]\n",
      " [ 5990.5015  5760.3223]\n",
      " [ 8432.678   4964.146 ]\n",
      " [ 6547.2383  4868.8345]\n",
      " [10634.428   4412.152 ]]\n",
      "Offside IDS:  [17]\n",
      "Player 17 is offside\n"
     ]
    },
    {
     "name": "stderr",
     "output_type": "stream",
     "text": [
      "Embedding extraction: 1it [00:02,  2.12s/it]\n"
     ]
    },
    {
     "name": "stdout",
     "output_type": "stream",
     "text": [
      "[[ 7680.1045  5973.322 ]\n",
      " [ 6036.341   3739.7964]\n",
      " [ 9467.923   6111.026 ]\n",
      " [ 7198.4473  4511.4956]\n",
      " [ 5995.306   5761.025 ]\n",
      " [ 6753.6387  2065.8643]\n",
      " [ 7657.4863  5243.8164]\n",
      " [ 6569.085   4875.1772]\n",
      " [ 8421.967   4961.858 ]\n",
      " [10620.709   4411.5356]]\n",
      "Offside IDS:  [15]\n",
      "Player 15 is offside\n"
     ]
    },
    {
     "name": "stderr",
     "output_type": "stream",
     "text": [
      "Embedding extraction: 1it [00:02,  2.15s/it]\n"
     ]
    },
    {
     "name": "stdout",
     "output_type": "stream",
     "text": [
      "[[ 8215.193   4979.1885]\n",
      " [ 9455.541   6108.1865]\n",
      " [ 7657.102   5966.769 ]\n",
      " [ 7194.0474  4529.636 ]\n",
      " [ 6034.6895  3738.6287]\n",
      " [ 7665.6587  5246.1904]\n",
      " [ 6740.8154  2062.2126]\n",
      " [ 6588.4287  4897.1104]\n",
      " [ 8404.912   4976.393 ]\n",
      " [ 5997.2397  5761.3584]\n",
      " [10607.683   4407.983 ]]\n",
      "Offside IDS:  [18]\n",
      "Player 18 is offside\n"
     ]
    },
    {
     "name": "stderr",
     "output_type": "stream",
     "text": [
      "Embedding extraction: 1it [00:02,  2.27s/it]\n"
     ]
    },
    {
     "name": "stdout",
     "output_type": "stream",
     "text": [
      "[[ 7192.457   4537.001 ]\n",
      " [ 6720.291   2065.7654]\n",
      " [ 7679.06    5238.5596]\n",
      " [ 7632.81    5975.878 ]\n",
      " [ 6593.7583  4924.319 ]\n",
      " [ 9441.524   6116.8745]\n",
      " [ 8395.331   4996.4497]\n",
      " [ 6024.067   3747.754 ]\n",
      " [ 5990.1587  5756.634 ]\n",
      " [10586.054   4427.148 ]]\n",
      "Offside IDS:  [18]\n",
      "Player 18 is offside\n"
     ]
    },
    {
     "name": "stderr",
     "output_type": "stream",
     "text": [
      "Embedding extraction: 1it [00:02,  2.20s/it]\n"
     ]
    },
    {
     "name": "stdout",
     "output_type": "stream",
     "text": [
      "[[ 7185.9775  4534.9175]\n",
      " [ 6710.245   2058.6426]\n",
      " [ 6594.0796  4941.5205]\n",
      " [ 7670.802   5269.8135]\n",
      " [ 7611.7173  5983.77  ]\n",
      " [ 9406.061   6121.8813]\n",
      " [ 8387.317   4993.9546]\n",
      " [ 6015.9917  3744.571 ]\n",
      " [ 5983.782   5756.781 ]\n",
      " [10569.45    4421.133 ]]\n",
      "Offside IDS:  [19]\n",
      "Player 19 is offside\n"
     ]
    },
    {
     "name": "stderr",
     "output_type": "stream",
     "text": [
      "Embedding extraction: 1it [00:02,  2.37s/it]\n"
     ]
    },
    {
     "name": "stdout",
     "output_type": "stream",
     "text": [
      "[[ 7183.3696  4534.1753]\n",
      " [ 6703.318   2056.8186]\n",
      " [ 7607.1846  5969.4644]\n",
      " [ 6600.478   4992.3794]\n",
      " [ 7666.3257  5301.4165]\n",
      " [ 6018.3916  3767.378 ]\n",
      " [ 8389.182   4975.169 ]\n",
      " [ 9396.684   6119.131 ]\n",
      " [ 5977.729   5766.551 ]\n",
      " [10553.517   4416.746 ]\n",
      " [ 8172.605   3814.788 ]]\n",
      "Offside IDS:  [18]\n",
      "Player 18 is offside\n"
     ]
    },
    {
     "name": "stderr",
     "output_type": "stream",
     "text": [
      "Embedding extraction: 1it [00:02,  2.34s/it]\n"
     ]
    },
    {
     "name": "stdout",
     "output_type": "stream",
     "text": [
      "[[ 7183.3696  4534.1753]\n",
      " [ 6703.318   2056.8186]\n",
      " [ 7607.1846  5969.4644]\n",
      " [ 6600.478   4992.3794]\n",
      " [ 7666.3257  5301.4165]\n",
      " [ 6018.3916  3767.378 ]\n",
      " [ 8389.182   4975.169 ]\n",
      " [ 9396.684   6119.131 ]\n",
      " [ 5977.729   5766.551 ]\n",
      " [10550.329   4415.87  ]\n",
      " [ 8172.605   3814.788 ]]\n",
      "Offside IDS:  [18]\n",
      "Player 18 is offside\n"
     ]
    },
    {
     "name": "stderr",
     "output_type": "stream",
     "text": [
      "Embedding extraction: 1it [00:02,  2.26s/it]\n"
     ]
    },
    {
     "name": "stdout",
     "output_type": "stream",
     "text": [
      "[[ 7179.4565  4534.7217]\n",
      " [ 7597.9995  5981.161 ]\n",
      " [ 7663.189   5334.499 ]\n",
      " [ 6606.719   5011.805 ]\n",
      " [ 6691.621   2058.0269]\n",
      " [ 6017.2275  3769.142 ]\n",
      " [ 8375.871   4992.1943]\n",
      " [ 5960.7393  5739.637 ]\n",
      " [ 9389.763   6118.561 ]\n",
      " [10530.663   4412.1543]]\n",
      "Offside IDS:  [18]\n",
      "Player 18 is offside\n"
     ]
    },
    {
     "name": "stderr",
     "output_type": "stream",
     "text": [
      "Embedding extraction: 1it [00:02,  2.08s/it]\n"
     ]
    },
    {
     "name": "stdout",
     "output_type": "stream",
     "text": [
      "[[ 7582.8647  5999.457 ]\n",
      " [ 6612.2705  5011.552 ]\n",
      " [ 7174.9854  4532.3486]\n",
      " [ 8364.722   4987.7256]\n",
      " [ 7681.812   5337.959 ]\n",
      " [ 6670.9272  2088.1182]\n",
      " [ 9377.488   6112.5254]\n",
      " [ 6013.7046  3789.508 ]\n",
      " [10497.637   4429.619 ]]\n",
      "Offside IDS:  [16]\n",
      "Player 16 is offside\n"
     ]
    },
    {
     "name": "stderr",
     "output_type": "stream",
     "text": [
      "Embedding extraction: 1it [00:02,  2.23s/it]\n"
     ]
    },
    {
     "name": "stdout",
     "output_type": "stream",
     "text": [
      "[[ 7566.9824  6009.716 ]\n",
      " [ 7691.3096  5344.9756]\n",
      " [ 6620.6567  5003.1953]\n",
      " [ 8350.031   4988.6787]\n",
      " [ 6652.681   2092.5508]\n",
      " [ 7168.672   4517.223 ]\n",
      " [ 9359.3125  6108.96  ]\n",
      " [ 5947.7485  5793.2124]\n",
      " [ 6009.9956  3774.5227]\n",
      " [10472.145   4428.931 ]]\n",
      "Offside IDS:  [16]\n",
      "Player 16 is offside\n"
     ]
    },
    {
     "name": "stderr",
     "output_type": "stream",
     "text": [
      "Embedding extraction: 1it [00:02,  2.09s/it]\n"
     ]
    },
    {
     "name": "stdout",
     "output_type": "stream",
     "text": [
      "[[ 8333.828   5003.8164]\n",
      " [ 6619.0933  5005.228 ]\n",
      " [ 7549.5903  6007.5547]\n",
      " [ 7700.748   5349.5083]\n",
      " [ 9350.707   6107.6445]\n",
      " [ 7160.3013  4516.202 ]\n",
      " [ 6635.6104  2088.5925]\n",
      " [10465.03    4424.258 ]\n",
      " [ 6005.7827  3775.2776]\n",
      " [ 5937.08    5771.4595]]\n",
      "Offside IDS:  [10]\n",
      "Player 10 is offside\n"
     ]
    },
    {
     "name": "stderr",
     "output_type": "stream",
     "text": [
      "Embedding extraction: 1it [00:02,  2.11s/it]\n"
     ]
    },
    {
     "name": "stdout",
     "output_type": "stream",
     "text": [
      "[[ 8326.021   5001.593 ]\n",
      " [ 9336.68    6103.5356]\n",
      " [ 7534.8716  6003.2065]\n",
      " [ 7707.894   5351.5654]\n",
      " [ 6616.752   5004.5605]\n",
      " [10449.19    4419.914 ]\n",
      " [ 7149.866   4513.259 ]\n",
      " [ 5994.928   3772.2666]\n",
      " [ 6624.5615  2050.679 ]]\n",
      "Offside IDS:  [17, 8]\n",
      "Player 17 is offside\n",
      "Player 8 is offside\n"
     ]
    },
    {
     "name": "stderr",
     "output_type": "stream",
     "text": [
      "Embedding extraction: 1it [00:02,  2.11s/it]\n"
     ]
    },
    {
     "name": "stdout",
     "output_type": "stream",
     "text": [
      "[[ 8326.021   5001.593 ]\n",
      " [ 9336.68    6103.5356]\n",
      " [ 7534.8716  6003.2065]\n",
      " [ 7707.894   5351.5654]\n",
      " [ 6616.752   5004.5605]\n",
      " [10449.19    4419.914 ]\n",
      " [ 7149.866   4513.259 ]\n",
      " [ 5994.928   3772.2666]\n",
      " [ 6624.5615  2050.679 ]]\n",
      "Offside IDS:  [17, 8]\n",
      "Player 17 is offside\n",
      "Player 8 is offside\n"
     ]
    },
    {
     "name": "stderr",
     "output_type": "stream",
     "text": [
      "Embedding extraction: 1it [00:02,  2.11s/it]\n"
     ]
    },
    {
     "name": "stdout",
     "output_type": "stream",
     "text": [
      "[[ 8319.053   4999.7183]\n",
      " [ 9324.721   6084.859 ]\n",
      " [ 6618.844   5005.308 ]\n",
      " [10430.505   4414.951 ]\n",
      " [ 7513.581   5996.782 ]\n",
      " [ 6620.4297  2014.5383]\n",
      " [ 7149.792   4513.4565]\n",
      " [ 5988.587   3770.8445]\n",
      " [ 7713.3457  5353.1753]]\n",
      "Offside IDS:  [17, 5]\n",
      "Player 17 is offside\n",
      "Player 5 is offside\n"
     ]
    },
    {
     "name": "stderr",
     "output_type": "stream",
     "text": [
      "Embedding extraction: 1it [00:02,  2.16s/it]\n"
     ]
    },
    {
     "name": "stdout",
     "output_type": "stream",
     "text": [
      "[[ 9293.379   6096.7603]\n",
      " [ 7495.581   6007.3716]\n",
      " [ 8305.475   5018.534 ]\n",
      " [ 6619.4253  5006.5674]\n",
      " [ 7142.4927  4512.8936]\n",
      " [ 6607.2793  2009.9762]\n",
      " [ 5986.031   3769.338 ]\n",
      " [10420.557   4391.7314]\n",
      " [ 7731.2686  5328.8965]]\n",
      "Offside IDS:  [17, 13]\n",
      "Player 17 is offside\n",
      "Player 13 is offside\n"
     ]
    },
    {
     "name": "stderr",
     "output_type": "stream",
     "text": [
      "Embedding extraction: 1it [00:02,  2.22s/it]\n"
     ]
    },
    {
     "name": "stdout",
     "output_type": "stream",
     "text": [
      "[[ 7132.3154  4514.36  ]\n",
      " [ 8306.596   5001.91  ]\n",
      " [ 6586.971   2008.6414]\n",
      " [ 5977.472   3773.331 ]\n",
      " [ 6621.3857  5011.832 ]\n",
      " [ 9286.288   6093.1836]\n",
      " [10404.743   4387.887 ]\n",
      " [ 7742.1606  5366.925 ]]\n",
      "Offside IDS:  [19, 15]\n",
      "Player 19 is offside\n",
      "Player 15 is offside\n"
     ]
    },
    {
     "name": "stderr",
     "output_type": "stream",
     "text": [
      "Embedding extraction: 1it [00:02,  2.22s/it]\n"
     ]
    },
    {
     "name": "stdout",
     "output_type": "stream",
     "text": [
      "[[ 8156.703   4906.9443]\n",
      " [ 5991.767   3762.4634]\n",
      " [ 6585.2456  1996.8188]\n",
      " [ 8289.534   5003.852 ]\n",
      " [ 7129.3423  4489.0312]\n",
      " [ 6624.186   5021.3213]\n",
      " [ 9237.285   6117.4824]\n",
      " [ 7746.2134  5388.963 ]\n",
      " [10351.3545  4412.4663]]\n",
      "Offside IDS:  [19, 17]\n",
      "Player 19 is offside\n",
      "Player 17 is offside\n"
     ]
    },
    {
     "name": "stderr",
     "output_type": "stream",
     "text": [
      "Embedding extraction: 1it [00:02,  2.08s/it]\n"
     ]
    },
    {
     "name": "stdout",
     "output_type": "stream",
     "text": [
      "[[ 6634.8955  5034.269 ]\n",
      " [ 8289.404   4991.45  ]\n",
      " [ 6567.823   1994.1626]\n",
      " [ 7448.322   6015.7344]\n",
      " [ 7133.877   4482.7144]\n",
      " [ 5988.9434  3758.77  ]\n",
      " [ 7772.3647  5401.7354]\n",
      " [ 9235.642   6099.1353]\n",
      " [10353.19    4371.2256]]\n",
      "Offside IDS:  [11, 17]\n",
      "Player 11 is offside\n",
      "Player 17 is offside\n"
     ]
    },
    {
     "name": "stderr",
     "output_type": "stream",
     "text": [
      "Embedding extraction: 1it [00:02,  2.10s/it]\n"
     ]
    },
    {
     "name": "stdout",
     "output_type": "stream",
     "text": [
      "[[ 6632.803   5035.3247]\n",
      " [ 8286.512   4993.5625]\n",
      " [ 6567.9766  1993.9731]\n",
      " [ 7445.055   6018.288 ]\n",
      " [ 7131.7793  4483.6836]\n",
      " [ 5988.48    3758.8308]\n",
      " [ 7769.3584  5403.9097]\n",
      " [ 9232.29    6103.3774]\n",
      " [10351.12    4373.805 ]]\n",
      "Offside IDS:  [11, 17]\n",
      "Player 11 is offside\n",
      "Player 17 is offside\n"
     ]
    },
    {
     "name": "stderr",
     "output_type": "stream",
     "text": [
      "Embedding extraction: 1it [00:02,  2.09s/it]\n"
     ]
    },
    {
     "name": "stdout",
     "output_type": "stream",
     "text": [
      "[[ 6637.325   5053.076 ]\n",
      " [ 8277.332   4987.516 ]\n",
      " [ 6542.951   2039.7274]\n",
      " [ 7126.6084  4483.5635]\n",
      " [ 9219.149   6091.321 ]\n",
      " [ 5981.6714  3764.4866]\n",
      " [ 7429.264   6022.252 ]\n",
      " [10313.562   4408.948 ]\n",
      " [ 7778.945   5419.5083]]\n",
      "Offside IDS:  [10, 15]\n",
      "Player 10 is offside\n",
      "Player 15 is offside\n"
     ]
    },
    {
     "name": "stderr",
     "output_type": "stream",
     "text": [
      "Embedding extraction: 1it [00:02,  2.21s/it]\n"
     ]
    },
    {
     "name": "stdout",
     "output_type": "stream",
     "text": [
      "[[ 6635.9136  5055.7935]\n",
      " [ 6517.1694  2004.0233]\n",
      " [ 7120.3955  4485.2485]\n",
      " [ 9213.332   6088.8   ]\n",
      " [ 7789.2207  5424.056 ]\n",
      " [ 8263.123   4985.1895]\n",
      " [ 5975.1797  3768.0217]\n",
      " [ 7413.274   6018.2817]\n",
      " [10314.683   4383.144 ]\n",
      " [ 8059.7124  3795.6584]]\n",
      "Offside IDS:  [14, 16]\n",
      "Player 14 is offside\n",
      "Player 16 is offside\n"
     ]
    },
    {
     "name": "stderr",
     "output_type": "stream",
     "text": [
      "Embedding extraction: 1it [00:02,  2.10s/it]\n"
     ]
    },
    {
     "name": "stdout",
     "output_type": "stream",
     "text": [
      "[[ 9152.3545  5854.6978]\n",
      " [ 9190.152   6083.522 ]\n",
      " [ 7110.011   4495.879 ]\n",
      " [ 6492.9595  2039.2518]\n",
      " [ 7782.0425  5452.0547]\n",
      " [ 6630.624   5082.342 ]\n",
      " [ 5967.601   3778.1042]\n",
      " [ 8244.579   4975.851 ]\n",
      " [ 7377.087   6044.053 ]\n",
      " [10303.907   4367.1235]]\n",
      "Offside IDS:  [16, 17]\n",
      "Player 16 is offside\n",
      "Player 17 is offside\n"
     ]
    },
    {
     "name": "stderr",
     "output_type": "stream",
     "text": [
      "Embedding extraction: 1it [00:02,  2.16s/it]\n"
     ]
    },
    {
     "name": "stdout",
     "output_type": "stream",
     "text": [
      "[[ 6637.4585  5100.659 ]\n",
      " [ 7119.941   4497.5083]\n",
      " [ 7801.179   5457.158 ]\n",
      " [ 6486.069   1988.7144]\n",
      " [ 7372.783   6055.0337]\n",
      " [10274.403   4386.195 ]\n",
      " [ 5967.832   3797.0144]\n",
      " [ 8239.99    4992.728 ]]\n",
      "Offside IDS:  [16, 13]\n",
      "Player 16 is offside\n",
      "Player 13 is offside\n"
     ]
    },
    {
     "name": "stderr",
     "output_type": "stream",
     "text": [
      "Embedding extraction: 1it [00:02,  2.10s/it]\n"
     ]
    },
    {
     "name": "stdout",
     "output_type": "stream",
     "text": [
      "[[ 9127.475   5849.5015]\n",
      " [ 9163.683   6078.1006]\n",
      " [ 6472.6313  1998.4447]\n",
      " [ 6632.2534  5100.536 ]\n",
      " [ 7112.1323  4497.56  ]\n",
      " [ 7800.256   5443.5596]\n",
      " [ 7348.444   6063.0884]\n",
      " [ 8226.931   4991.261 ]\n",
      " [ 5964.7383  3777.9353]\n",
      " [10246.987   4378.7544]]\n",
      "Offside IDS:  [16, 17]\n",
      "Player 16 is offside\n",
      "Player 17 is offside\n"
     ]
    },
    {
     "name": "stderr",
     "output_type": "stream",
     "text": [
      "Embedding extraction: 1it [00:02,  2.08s/it]\n"
     ]
    },
    {
     "name": "stdout",
     "output_type": "stream",
     "text": [
      "[[ 9127.475   5849.5015]\n",
      " [ 9163.683   6078.1006]\n",
      " [ 6472.6313  1998.4447]\n",
      " [ 6632.2534  5100.536 ]\n",
      " [ 7112.1323  4497.56  ]\n",
      " [ 7800.256   5443.5596]\n",
      " [ 7348.444   6063.0884]\n",
      " [ 8226.931   4991.261 ]\n",
      " [ 5964.7383  3777.9353]\n",
      " [10246.987   4378.7544]]\n",
      "Offside IDS:  [16, 17]\n",
      "Player 16 is offside\n",
      "Player 17 is offside\n"
     ]
    },
    {
     "name": "stderr",
     "output_type": "stream",
     "text": [
      "Embedding extraction: 1it [00:02,  2.09s/it]\n"
     ]
    },
    {
     "name": "stdout",
     "output_type": "stream",
     "text": [
      "[[ 6457.3857  1983.3336]\n",
      " [ 6636.4766  5104.7686]\n",
      " [ 9134.172   6086.8735]\n",
      " [ 7111.4688  4499.9893]\n",
      " [ 7808.207   5464.9497]\n",
      " [ 8233.389   4958.565 ]\n",
      " [ 7332.706   6072.3213]\n",
      " [ 5960.7715  3776.6492]\n",
      " [10219.592   4378.6777]]\n",
      "Offside IDS:  [17, 16]\n",
      "Player 17 is offside\n",
      "Player 16 is offside\n"
     ]
    },
    {
     "name": "stderr",
     "output_type": "stream",
     "text": [
      "Embedding extraction: 1it [00:02,  2.10s/it]\n"
     ]
    },
    {
     "name": "stdout",
     "output_type": "stream",
     "text": [
      "[[ 6451.047   1945.0911]\n",
      " [ 7108.1294  4495.006 ]\n",
      " [ 7322.092   6054.2397]\n",
      " [ 6636.321   5117.714 ]\n",
      " [ 9117.498   6090.6274]\n",
      " [ 8216.609   4967.0293]\n",
      " [ 7818.025   5463.263 ]\n",
      " [ 5957.3594  3773.9143]\n",
      " [10191.399   4386.504 ]]\n",
      "Offside IDS:  [16, 17]\n",
      "Player 16 is offside\n",
      "Player 17 is offside\n"
     ]
    },
    {
     "name": "stderr",
     "output_type": "stream",
     "text": [
      "Embedding extraction: 1it [00:02,  2.09s/it]\n"
     ]
    },
    {
     "name": "stdout",
     "output_type": "stream",
     "text": [
      "[[6641.1226 5103.918 ]\n",
      " [7310.7476 6051.209 ]\n",
      " [6448.255  1942.8734]\n",
      " [7111.8022 4496.5645]\n",
      " [7828.0625 5482.6025]\n",
      " [5962.385  3774.8826]\n",
      " [8199.022  5001.2456]\n",
      " [9105.299  6087.396 ]]\n",
      "Offside IDS:  [16]\n",
      "Player 16 is offside\n"
     ]
    },
    {
     "name": "stderr",
     "output_type": "stream",
     "text": [
      "Embedding extraction: 1it [00:02,  2.21s/it]\n"
     ]
    },
    {
     "name": "stdout",
     "output_type": "stream",
     "text": [
      "[[ 7097.48    4495.6816]\n",
      " [ 6635.0327  5104.2197]\n",
      " [ 6425.9253  1990.6672]\n",
      " [ 8176.358   4994.5024]\n",
      " [ 5951.366   3780.0325]\n",
      " [ 7810.2715  5539.296 ]\n",
      " [ 9083.918   6077.899 ]\n",
      " [10139.974   4372.085 ]]\n",
      "Offside IDS:  [10, 18]\n",
      "Player 10 is offside\n",
      "Player 18 is offside\n"
     ]
    },
    {
     "name": "stderr",
     "output_type": "stream",
     "text": [
      "Embedding extraction: 1it [00:02,  2.14s/it]\n"
     ]
    },
    {
     "name": "stdout",
     "output_type": "stream",
     "text": [
      "[[ 7274.7686  6038.452 ]\n",
      " [ 7093.132   4494.1167]\n",
      " [ 6634.3813  5119.2046]\n",
      " [ 8176.8223  4974.331 ]\n",
      " [ 6404.354   1986.0037]\n",
      " [ 7818.629   5555.8325]\n",
      " [ 5951.943   3759.155 ]\n",
      " [ 9073.029   6072.5986]\n",
      " [10128.533   4365.611 ]]\n",
      "Offside IDS:  [6, 17]\n",
      "Player 6 is offside\n",
      "Player 17 is offside\n"
     ]
    },
    {
     "name": "stderr",
     "output_type": "stream",
     "text": [
      "Embedding extraction: 1it [00:02,  2.09s/it]\n"
     ]
    },
    {
     "name": "stdout",
     "output_type": "stream",
     "text": [
      "[[ 7274.7686  6038.452 ]\n",
      " [ 7093.132   4494.1167]\n",
      " [ 6634.3813  5119.2046]\n",
      " [ 8176.8223  4974.331 ]\n",
      " [ 6404.354   1986.0037]\n",
      " [ 7818.629   5555.8325]\n",
      " [ 5951.943   3759.155 ]\n",
      " [ 9073.029   6072.5986]\n",
      " [10128.533   4365.611 ]]\n",
      "Offside IDS:  [6, 17]\n",
      "Player 6 is offside\n",
      "Player 17 is offside\n"
     ]
    },
    {
     "name": "stderr",
     "output_type": "stream",
     "text": [
      "Embedding extraction: 1it [00:02,  2.09s/it]\n"
     ]
    },
    {
     "name": "stdout",
     "output_type": "stream",
     "text": [
      "[[ 7262.4272  6047.8325]\n",
      " [ 7088.8345  4492.652 ]\n",
      " [ 6635.367   5120.344 ]\n",
      " [ 8176.997   4972.893 ]\n",
      " [ 6388.1846  1982.6979]\n",
      " [10118.92    4359.055 ]\n",
      " [ 7833.7505  5544.2637]\n",
      " [ 5950.664   3759.7227]\n",
      " [ 9069.275   6069.5176]]\n",
      "Offside IDS:  [12, 8]\n",
      "Player 12 is offside\n",
      "Player 8 is offside\n"
     ]
    },
    {
     "name": "stderr",
     "output_type": "stream",
     "text": [
      "Embedding extraction: 1it [00:02,  2.10s/it]\n"
     ]
    },
    {
     "name": "stdout",
     "output_type": "stream",
     "text": [
      "[[ 7259.178   6054.691 ]\n",
      " [ 7086.4336  4493.2974]\n",
      " [ 6640.921   5123.497 ]\n",
      " [ 6370.2114  1986.5009]\n",
      " [ 9073.004   6058.0327]\n",
      " [ 8183.828   4970.257 ]\n",
      " [10130.289   4326.637 ]\n",
      " [ 5949.468   3766.8906]\n",
      " [ 7855.552   5545.339 ]]\n",
      "Offside IDS:  [6, 11]\n",
      "Player 6 is offside\n",
      "Player 11 is offside\n"
     ]
    },
    {
     "name": "stderr",
     "output_type": "stream",
     "text": [
      "Embedding extraction: 1it [00:02,  2.19s/it]\n"
     ]
    },
    {
     "name": "stdout",
     "output_type": "stream",
     "text": [
      "[[ 7234.3887  6054.3945]\n",
      " [ 6631.7354  5140.621 ]\n",
      " [ 7071.954   4494.111 ]\n",
      " [ 8169.868   4974.601 ]\n",
      " [ 9042.043   6076.5034]\n",
      " [10123.525   4308.5605]\n",
      " [ 5949.3335  3790.15  ]\n",
      " [ 6353.2783  1982.7762]\n",
      " [ 7854.89    5553.438 ]]\n",
      "Offside IDS:  [7, 9]\n",
      "Player 7 is offside\n",
      "Player 9 is offside\n"
     ]
    },
    {
     "name": "stderr",
     "output_type": "stream",
     "text": [
      "Embedding extraction: 1it [00:02,  2.16s/it]\n"
     ]
    },
    {
     "name": "stdout",
     "output_type": "stream",
     "text": [
      "[[ 7207.721   6076.354 ]\n",
      " [ 6627.2515  5161.3774]\n",
      " [ 7854.38    5588.1587]\n",
      " [ 8156.483   4993.0615]\n",
      " [ 9033.022   6060.946 ]\n",
      " [10099.026   4301.599 ]\n",
      " [ 7062.1104  4496.1616]\n",
      " [ 6345.106   1944.8684]\n",
      " [ 5940.0522  3815.1428]]\n",
      "Offside IDS:  [10, 9]\n",
      "Player 10 is offside\n",
      "Player 9 is offside\n"
     ]
    },
    {
     "name": "stderr",
     "output_type": "stream",
     "text": [
      "Embedding extraction: 1it [00:02,  2.10s/it]\n"
     ]
    },
    {
     "name": "stdout",
     "output_type": "stream",
     "text": [
      "[[ 8148.849   4992.9717]\n",
      " [ 6630.8823  5164.033 ]\n",
      " [ 7178.207   6102.9355]\n",
      " [ 9011.597   6069.508 ]\n",
      " [ 7060.0425  4498.6694]\n",
      " [ 6335.9116  1915.3792]\n",
      " [ 7848.935   5647.7646]\n",
      " [ 5938.4424  3840.9536]\n",
      " [10071.262   4323.8843]]\n",
      "Offside IDS:  [18, 17]\n",
      "Player 18 is offside\n",
      "Player 17 is offside\n"
     ]
    },
    {
     "name": "stderr",
     "output_type": "stream",
     "text": [
      "Embedding extraction: 1it [00:02,  2.12s/it]\n"
     ]
    },
    {
     "name": "stdout",
     "output_type": "stream",
     "text": [
      "[[ 8148.849   4992.9717]\n",
      " [ 6630.8823  5164.033 ]\n",
      " [ 9011.597   6069.508 ]\n",
      " [ 7178.207   6102.9355]\n",
      " [ 7060.0425  4498.6694]\n",
      " [ 6335.9116  1915.3792]\n",
      " [ 7848.935   5647.7646]\n",
      " [ 5938.4424  3840.9536]\n",
      " [10071.262   4323.8843]]\n",
      "Offside IDS:  [18, 17]\n",
      "Player 18 is offside\n",
      "Player 17 is offside\n"
     ]
    },
    {
     "name": "stderr",
     "output_type": "stream",
     "text": [
      "Embedding extraction: 1it [00:02,  2.17s/it]\n"
     ]
    },
    {
     "name": "stdout",
     "output_type": "stream",
     "text": [
      "[[ 8130.1543  4995.161 ]\n",
      " [ 7155.493   6114.109 ]\n",
      " [ 6628.8833  5186.467 ]\n",
      " [ 8991.002   6070.675 ]\n",
      " [ 7831.6123  5694.5386]\n",
      " [ 6325.282   1946.8757]\n",
      " [ 7054.895   4504.744 ]\n",
      " [ 5933.708   3847.021 ]\n",
      " [10042.49    4320.1143]]\n",
      "Offside IDS:  [18]\n",
      "Player 18 is offside\n"
     ]
    },
    {
     "name": "stderr",
     "output_type": "stream",
     "text": [
      "Embedding extraction: 1it [00:02,  2.13s/it]\n"
     ]
    },
    {
     "name": "stdout",
     "output_type": "stream",
     "text": [
      "[[ 6635.7534  5184.294 ]\n",
      " [ 7153.84    6109.382 ]\n",
      " [ 7853.1855  5665.1616]\n",
      " [ 8132.4946  4971.0557]\n",
      " [ 6325.8984  1950.6713]\n",
      " [ 7051.4907  4519.181 ]\n",
      " [ 8994.509   6063.766 ]\n",
      " [ 5939.3916  3845.7266]\n",
      " [10030.497   4313.424 ]]\n",
      "Offside IDS:  [18]\n",
      "Player 18 is offside\n"
     ]
    },
    {
     "name": "stderr",
     "output_type": "stream",
     "text": [
      "Embedding extraction: 1it [00:02,  2.12s/it]\n"
     ]
    },
    {
     "name": "stdout",
     "output_type": "stream",
     "text": [
      "[[ 7041.68    4523.492 ]\n",
      " [ 7146.829   6115.106 ]\n",
      " [ 6628.3384  5205.89  ]\n",
      " [ 6300.6973  1945.8279]\n",
      " [ 8120.4814  4973.163 ]\n",
      " [ 7844.2686  5684.3716]\n",
      " [ 5935.1104  3853.0688]\n",
      " [ 8955.695   6072.9976]\n",
      " [10002.458   4303.676 ]]\n",
      "Offside IDS:  [17]\n",
      "Player 17 is offside\n"
     ]
    },
    {
     "name": "stderr",
     "output_type": "stream",
     "text": [
      "Embedding extraction: 1it [00:02,  2.10s/it]\n"
     ]
    },
    {
     "name": "stdout",
     "output_type": "stream",
     "text": [
      "[[7031.231  4524.2104]\n",
      " [7825.9717 5724.2275]\n",
      " [7139.1084 6113.9614]\n",
      " [6617.5005 5236.2607]\n",
      " [8096.0293 5006.13  ]\n",
      " [5922.709  3833.5369]\n",
      " [6269.875  1979.866 ]\n",
      " [8939.097  6067.606 ]\n",
      " [9972.704  4323.261 ]]\n",
      "Offside IDS:  [14]\n",
      "Player 14 is offside\n"
     ]
    },
    {
     "name": "stderr",
     "output_type": "stream",
     "text": [
      "Embedding extraction: 1it [00:02,  2.07s/it]\n"
     ]
    },
    {
     "name": "stdout",
     "output_type": "stream",
     "text": [
      "[[7823.6675 5754.424 ]\n",
      " [8089.051  5004.6284]\n",
      " [7021.6694 4542.0156]\n",
      " [8932.71   6067.13  ]\n",
      " [7131.7607 6126.86  ]\n",
      " [5919.8774 3833.742 ]\n",
      " [9963.506  4318.506 ]\n",
      " [6612.244  5267.1084]\n",
      " [6250.236  1974.2692]]\n",
      "Offside IDS:  [12]\n",
      "Player 12 is offside\n"
     ]
    },
    {
     "name": "stderr",
     "output_type": "stream",
     "text": [
      "Embedding extraction: 1it [00:02,  2.23s/it]\n"
     ]
    },
    {
     "name": "stdout",
     "output_type": "stream",
     "text": [
      "[[7823.6675 5754.424 ]\n",
      " [8089.051  5004.6284]\n",
      " [7021.6694 4542.0156]\n",
      " [8932.71   6067.13  ]\n",
      " [7131.7607 6126.86  ]\n",
      " [5919.8774 3833.742 ]\n",
      " [9963.506  4318.506 ]\n",
      " [6612.244  5267.1084]\n",
      " [6250.236  1974.2692]\n",
      " [5916.373  5877.481 ]]\n",
      "Offside IDS:  [12]\n",
      "Player 12 is offside\n"
     ]
    },
    {
     "name": "stderr",
     "output_type": "stream",
     "text": [
      "Embedding extraction: 1it [00:02,  2.20s/it]\n"
     ]
    },
    {
     "name": "stdout",
     "output_type": "stream",
     "text": [
      "[[8081.01   5011.401 ]\n",
      " [8931.671  6053.3477]\n",
      " [7829.273  5761.002 ]\n",
      " [7024.728  4536.6   ]\n",
      " [9957.447  4303.625 ]\n",
      " [7126.3667 6141.876 ]\n",
      " [6614.635  5277.794 ]\n",
      " [5918.805  3830.7192]\n",
      " [6232.891  1967.961 ]\n",
      " [5917.3525 5887.1714]]\n",
      "Offside IDS:  [10]\n",
      "Player 10 is offside\n"
     ]
    },
    {
     "name": "stderr",
     "output_type": "stream",
     "text": [
      "Embedding extraction: 1it [00:02,  2.35s/it]\n"
     ]
    },
    {
     "name": "stdout",
     "output_type": "stream",
     "text": [
      "[[9236.491  4981.0825]\n",
      " [7016.487  4539.7163]\n",
      " [8072.0366 5009.546 ]\n",
      " [7833.632  5762.3423]\n",
      " [6612.055  5283.0327]\n",
      " [5904.3633 3837.1594]\n",
      " [9958.353  4271.3774]\n",
      " [6202.688  1968.3318]\n",
      " [7112.6924 6185.6836]\n",
      " [5916.183  5905.323 ]\n",
      " [7857.16   3792.792 ]]\n",
      "Offside IDS:  [12]\n",
      "Player 12 is offside\n"
     ]
    },
    {
     "name": "stderr",
     "output_type": "stream",
     "text": [
      "Embedding extraction: 1it [00:02,  2.11s/it]\n"
     ]
    },
    {
     "name": "stdout",
     "output_type": "stream",
     "text": [
      "[[8062.3853 5007.368 ]\n",
      " [6611.7964 5312.142 ]\n",
      " [7017.483  4540.828 ]\n",
      " [6196.02   1980.0876]\n",
      " [7835.908  5763.5615]\n",
      " [7105.53   6206.6387]\n",
      " [5912.1665 3841.927 ]\n",
      " [9941.005  4266.193 ]]\n",
      "Offside IDS:  [17]\n",
      "Player 17 is offside\n"
     ]
    },
    {
     "name": "stderr",
     "output_type": "stream",
     "text": [
      "Embedding extraction: 1it [00:02,  2.14s/it]\n"
     ]
    },
    {
     "name": "stdout",
     "output_type": "stream",
     "text": [
      "[[7958.828  4788.13  ]\n",
      " [7839.6406 5765.8125]\n",
      " [6184.4736 1928.6387]\n",
      " [5908.464  3862.0334]\n",
      " [7016.6157 4541.1494]\n",
      " [8060.6943 5007.0615]\n",
      " [7104.62   6220.6934]\n",
      " [6612.9297 5301.019 ]\n",
      " [9929.519  4261.3906]]\n",
      "Offside IDS:  [18]\n",
      "Player 18 is offside\n"
     ]
    },
    {
     "name": "stderr",
     "output_type": "stream",
     "text": [
      "Embedding extraction: 1it [00:02,  2.27s/it]\n"
     ]
    },
    {
     "name": "stdout",
     "output_type": "stream",
     "text": [
      "[[8870.384  6084.037 ]\n",
      " [6176.8525 1978.3585]\n",
      " [7005.355  4535.93  ]\n",
      " [5904.553  3862.9387]\n",
      " [6598.373  5307.6045]\n",
      " [5920.3076 5927.77  ]\n",
      " [7092.9204 6212.1934]\n",
      " [8050.8135 4999.7744]\n",
      " [9914.003  4250.8325]]\n",
      "Offside IDS:  [19]\n",
      "Player 19 is offside\n"
     ]
    },
    {
     "name": "stderr",
     "output_type": "stream",
     "text": [
      "Embedding extraction: 1it [00:02,  2.23s/it]\n"
     ]
    },
    {
     "name": "stdout",
     "output_type": "stream",
     "text": [
      "[[7950.7637 4762.1064]\n",
      " [8866.597  6082.4727]\n",
      " [7004.5815 4535.945 ]\n",
      " [6176.0435 1977.8027]\n",
      " [5903.6187 3863.1147]\n",
      " [6597.5454 5307.844 ]\n",
      " [5919.354  5928.3984]\n",
      " [8049.8354 4999.424 ]\n",
      " [7090.065  6211.653 ]\n",
      " [9912.086  4250.0024]]\n",
      "Offside IDS:  [19]\n",
      "Player 19 is offside\n"
     ]
    },
    {
     "name": "stderr",
     "output_type": "stream",
     "text": [
      "Embedding extraction: 1it [00:02,  2.25s/it]\n"
     ]
    },
    {
     "name": "stdout",
     "output_type": "stream",
     "text": [
      "[[7829.964  5754.2246]\n",
      " [6996.1377 4533.56  ]\n",
      " [7091.066  6211.6753]\n",
      " [8047.15   4994.5537]\n",
      " [6158.7534 1976.6946]\n",
      " [6587.8076 5321.4365]\n",
      " [5898.335  3886.9387]\n",
      " [8850.039  6084.416 ]\n",
      " [5925.969  5913.4385]\n",
      " [9879.3545 4258.9907]]\n",
      "Offside IDS:  [19]\n",
      "Player 19 is offside\n"
     ]
    },
    {
     "name": "stderr",
     "output_type": "stream",
     "text": [
      "Embedding extraction: 1it [00:02,  2.30s/it]\n"
     ]
    },
    {
     "name": "stdout",
     "output_type": "stream",
     "text": [
      "[[6980.965  4547.494 ]\n",
      " [6576.816  5348.73  ]\n",
      " [7808.637  5793.809 ]\n",
      " [7083.602  6222.653 ]\n",
      " [6142.4297 2018.7302]\n",
      " [8824.426  6095.5645]\n",
      " [8028.494  5008.313 ]\n",
      " [5894.5166 3903.139 ]\n",
      " [5935.0503 5927.0215]\n",
      " [9844.53   4267.8384]]\n",
      "Offside IDS:  [18]\n",
      "Player 18 is offside\n"
     ]
    },
    {
     "name": "stderr",
     "output_type": "stream",
     "text": [
      "Embedding extraction: 1it [00:02,  2.30s/it]\n"
     ]
    },
    {
     "name": "stdout",
     "output_type": "stream",
     "text": [
      "[[7073.355  6245.31  ]\n",
      " [6560.433  5392.5645]\n",
      " [6968.386  4546.509 ]\n",
      " [7793.698  5817.5596]\n",
      " [8024.051  5004.918 ]\n",
      " [8821.344  6089.7886]\n",
      " [5883.7563 3907.0415]\n",
      " [6118.8584 2015.7637]\n",
      " [5934.085  5935.2236]\n",
      " [9843.111  4255.62  ]]\n",
      "Offside IDS:  [16]\n",
      "Player 16 is offside\n"
     ]
    },
    {
     "name": "stderr",
     "output_type": "stream",
     "text": [
      "Embedding extraction: 1it [00:02,  2.33s/it]\n"
     ]
    },
    {
     "name": "stdout",
     "output_type": "stream",
     "text": [
      "[[7064.966  6259.3555]\n",
      " [6965.014  4536.579 ]\n",
      " [6549.7617 5397.572 ]\n",
      " [5880.953  3899.5442]\n",
      " [8019.599  5011.001 ]\n",
      " [9856.3    4216.1895]\n",
      " [5937.717  5922.3984]\n",
      " [8823.619  6078.5728]\n",
      " [7779.48   5832.4775]\n",
      " [6100.9575 2005.9886]]\n",
      "Offside IDS:  [10]\n",
      "Player 10 is offside\n"
     ]
    },
    {
     "name": "stderr",
     "output_type": "stream",
     "text": [
      "Embedding extraction: 1it [00:02,  2.30s/it]\n"
     ]
    },
    {
     "name": "stdout",
     "output_type": "stream",
     "text": [
      "[[5882.805  3903.2834]\n",
      " [7043.2905 6299.8447]\n",
      " [6954.0264 4557.539 ]\n",
      " [9820.931  4238.3877]\n",
      " [8002.1714 5030.532 ]\n",
      " [8804.846  6080.483 ]\n",
      " [6548.3604 5400.4585]\n",
      " [5951.182  5893.823 ]\n",
      " [7763.969  5819.5938]\n",
      " [6087.882  2003.348 ]]\n",
      "Offside IDS:  [5]\n",
      "Player 5 is offside\n"
     ]
    },
    {
     "name": "stderr",
     "output_type": "stream",
     "text": [
      "Embedding extraction: 1it [00:02,  2.28s/it]\n"
     ]
    },
    {
     "name": "stdout",
     "output_type": "stream",
     "text": [
      "[[5882.805  3903.2834]\n",
      " [7043.2905 6299.8447]\n",
      " [6954.0264 4557.539 ]\n",
      " [9820.931  4238.3877]\n",
      " [8002.1714 5030.532 ]\n",
      " [8804.846  6080.483 ]\n",
      " [6548.3604 5400.4585]\n",
      " [5951.182  5893.823 ]\n",
      " [7763.969  5819.5938]\n",
      " [6087.882  2003.348 ]]\n",
      "Offside IDS:  [5]\n",
      "Player 5 is offside\n"
     ]
    },
    {
     "name": "stderr",
     "output_type": "stream",
     "text": [
      "Embedding extraction: 1it [00:02,  2.28s/it]\n"
     ]
    },
    {
     "name": "stdout",
     "output_type": "stream",
     "text": [
      "[[5885.9165 3881.9082]\n",
      " [7765.2544 5813.8613]\n",
      " [8803.206  6071.1533]\n",
      " [6551.421  5398.5615]\n",
      " [8003.6973 5025.1523]\n",
      " [6955.551  4554.771 ]\n",
      " [9797.646  4251.7246]\n",
      " [6082.7153 2002.0067]\n",
      " [7030.1865 6302.513 ]\n",
      " [5972.467  5864.8926]]\n",
      "Offside IDS:  [11]\n",
      "Player 11 is offside\n"
     ]
    },
    {
     "name": "stderr",
     "output_type": "stream",
     "text": [
      "Embedding extraction: 1it [00:02,  2.24s/it]\n"
     ]
    },
    {
     "name": "stdout",
     "output_type": "stream",
     "text": [
      "[[8788.967  6079.4873]\n",
      " [5876.4326 3875.1633]\n",
      " [7748.2197 5821.2007]\n",
      " [6946.7607 4567.4062]\n",
      " [9807.038  4217.4536]\n",
      " [7986.5547 5034.658 ]\n",
      " [6071.766  1992.9419]\n",
      " [7007.952  6296.0757]\n",
      " [5980.0156 5865.6465]\n",
      " [6541.1064 5393.443 ]]\n",
      "Offside IDS:  [10]\n",
      "Player 10 is offside\n"
     ]
    },
    {
     "name": "stderr",
     "output_type": "stream",
     "text": [
      "Embedding extraction: 1it [00:02,  2.27s/it]\n"
     ]
    },
    {
     "name": "stdout",
     "output_type": "stream",
     "text": [
      "[[9178.792  4939.225 ]\n",
      " [7741.74   5806.6743]\n",
      " [5864.9204 3877.754 ]\n",
      " [6939.8745 4569.161 ]\n",
      " [5983.345  5858.786 ]\n",
      " [6994.8945 6294.1016]\n",
      " [6052.196  1994.6292]\n",
      " [9786.786  4213.006 ]\n",
      " [7973.6855 5014.6885]\n",
      " [6529.8906 5407.9604]]\n",
      "Offside IDS:  [16]\n",
      "Player 16 is offside\n"
     ]
    },
    {
     "name": "stderr",
     "output_type": "stream",
     "text": [
      "Embedding extraction: 1it [00:02,  2.21s/it]\n"
     ]
    },
    {
     "name": "stdout",
     "output_type": "stream",
     "text": [
      "[[6928.408  4594.176 ]\n",
      " [5854.447  3886.706 ]\n",
      " [7733.9165 5809.289 ]\n",
      " [6984.751  6297.1978]\n",
      " [6516.9307 5469.663 ]\n",
      " [6042.201  1964.8223]\n",
      " [7954.4844 5015.354 ]\n",
      " [9761.297  4209.3115]\n",
      " [5992.501  5871.267 ]]\n",
      "Offside IDS:  [17]\n",
      "Player 17 is offside\n"
     ]
    },
    {
     "name": "stderr",
     "output_type": "stream",
     "text": [
      "Embedding extraction: 1it [00:02,  2.12s/it]\n"
     ]
    },
    {
     "name": "stdout",
     "output_type": "stream",
     "text": [
      "[[5845.503  3884.0728]\n",
      " [6919.949  4591.8364]\n",
      " [8731.862  6093.76  ]\n",
      " [6503.051  5506.9316]\n",
      " [7720.091  5805.833 ]\n",
      " [6031.0493 1997.9677]\n",
      " [7941.417  5012.1943]\n",
      " [6972.2017 6293.6934]]\n",
      "Offside IDS:  []\n"
     ]
    },
    {
     "name": "stderr",
     "output_type": "stream",
     "text": [
      "Embedding extraction: 1it [00:02,  2.13s/it]\n"
     ]
    },
    {
     "name": "stdout",
     "output_type": "stream",
     "text": [
      "[[5845.735  3884.4104]\n",
      " [6920.1416 4592.031 ]\n",
      " [8731.323  6093.253 ]\n",
      " [6503.1987 5507.357 ]\n",
      " [7720.0034 5805.786 ]\n",
      " [6031.4307 1997.7761]\n",
      " [7941.3423 5012.0913]\n",
      " [6972.2393 6293.97  ]]\n",
      "Offside IDS:  []\n"
     ]
    },
    {
     "name": "stderr",
     "output_type": "stream",
     "text": [
      "Embedding extraction: 1it [00:02,  2.14s/it]\n"
     ]
    },
    {
     "name": "stdout",
     "output_type": "stream",
     "text": [
      "[[6491.603  5529.084 ]\n",
      " [6022.017  1995.0717]\n",
      " [5846.2764 3906.2585]\n",
      " [6921.027  4586.919 ]\n",
      " [6958.2007 6338.904 ]\n",
      " [7940.4316 5001.35  ]\n",
      " [7712.099  5809.0903]\n",
      " [8740.486  6081.96  ]\n",
      " [9721.571  4205.3755]]\n",
      "Offside IDS:  [16]\n",
      "Player 16 is offside\n"
     ]
    },
    {
     "name": "stderr",
     "output_type": "stream",
     "text": [
      "Embedding extraction: 1it [00:02,  2.13s/it]\n"
     ]
    },
    {
     "name": "stdout",
     "output_type": "stream",
     "text": [
      "[[8081.536  5762.5576]\n",
      " [7913.119  5050.874 ]\n",
      " [6468.7314 5538.213 ]\n",
      " [6909.7007 4602.424 ]\n",
      " [6937.065  6366.632 ]\n",
      " [5842.284  3943.6692]\n",
      " [6010.383  2041.4797]\n",
      " [8700.154  6090.1313]\n",
      " [7682.388  5832.232 ]\n",
      " [9689.456  4247.018 ]]\n",
      "Offside IDS:  [13]\n",
      "Player 13 is offside\n"
     ]
    },
    {
     "name": "stderr",
     "output_type": "stream",
     "text": [
      "Embedding extraction: 1it [00:02,  2.13s/it]\n"
     ]
    },
    {
     "name": "stdout",
     "output_type": "stream",
     "text": [
      "[[7906.9946 5052.195 ]\n",
      " [9679.318  4249.0063]\n",
      " [5837.9004 3942.7783]\n",
      " [6898.773  4601.15  ]\n",
      " [6458.6025 5535.856 ]\n",
      " [6909.23   6380.621 ]\n",
      " [8673.325  6101.5283]\n",
      " [7660.259  5829.0635]\n",
      " [5999.6646 2040.5145]]\n",
      "Offside IDS:  [2]\n",
      "Player 2 is offside\n"
     ]
    },
    {
     "name": "stderr",
     "output_type": "stream",
     "text": [
      "Embedding extraction: 1it [00:02,  2.09s/it]\n"
     ]
    },
    {
     "name": "stdout",
     "output_type": "stream",
     "text": [
      "[[5835.839  3967.808 ]\n",
      " [7909.135  5044.388 ]\n",
      " [9667.004  4208.708 ]\n",
      " [6463.1606 5534.216 ]\n",
      " [6900.186  4599.412 ]\n",
      " [7649.796  5815.9575]\n",
      " [8663.0205 6095.5684]\n",
      " [6899.698  6389.7856]\n",
      " [5979.921  2041.9708]]\n",
      "Offside IDS:  [3]\n",
      "Player 3 is offside\n"
     ]
    },
    {
     "name": "stderr",
     "output_type": "stream",
     "text": [
      "Embedding extraction: 1it [00:02,  2.12s/it]\n"
     ]
    },
    {
     "name": "stdout",
     "output_type": "stream",
     "text": [
      "[[6903.1323 4596.6787]\n",
      " [8663.159  6077.0435]\n",
      " [7906.766  5039.426 ]\n",
      " [6456.1836 5606.5625]\n",
      " [7634.5923 5807.105 ]\n",
      " [5855.096  3971.2014]\n",
      " [9636.372  4227.166 ]\n",
      " [6885.607  6382.068 ]\n",
      " [5994.138  2061.8047]]\n",
      "Offside IDS:  [8]\n",
      "Player 8 is offside\n"
     ]
    },
    {
     "name": "stderr",
     "output_type": "stream",
     "text": [
      "Embedding extraction: 1it [00:02,  2.09s/it]\n"
     ]
    },
    {
     "name": "stdout",
     "output_type": "stream",
     "text": [
      "[[6903.521  4596.6636]\n",
      " [8664.366  6077.656 ]\n",
      " [7907.458  5039.6   ]\n",
      " [6456.6973 5606.789 ]\n",
      " [7635.4272 5807.5107]\n",
      " [5855.236  3971.0076]\n",
      " [9637.186  4227.262 ]\n",
      " [6886.3823 6382.6333]\n",
      " [5993.9775 2061.597 ]]\n",
      "Offside IDS:  [8]\n",
      "Player 8 is offside\n"
     ]
    },
    {
     "name": "stderr",
     "output_type": "stream",
     "text": [
      "Embedding extraction: 1it [00:02,  2.09s/it]\n"
     ]
    },
    {
     "name": "stdout",
     "output_type": "stream",
     "text": [
      "[[6892.9604 4599.325 ]\n",
      " [6871.068  6391.9673]\n",
      " [8645.236  6088.645 ]\n",
      " [9619.535  4210.2085]\n",
      " [7891.231  5037.667 ]\n",
      " [6431.4976 5613.935 ]\n",
      " [5840.037  3974.309 ]\n",
      " [5965.275  2041.1456]]\n",
      "Offside IDS:  [7]\n",
      "Player 7 is offside\n"
     ]
    },
    {
     "name": "stderr",
     "output_type": "stream",
     "text": [
      "Embedding extraction: 1it [00:02,  2.10s/it]\n"
     ]
    },
    {
     "name": "stdout",
     "output_type": "stream",
     "text": [
      "[[6892.0835 4616.4   ]\n",
      " [8635.703  6080.3247]\n",
      " [5844.077  3976.5789]\n",
      " [6863.3633 6388.5913]\n",
      " [6408.934  5608.364 ]\n",
      " [7886.639  5031.8154]\n",
      " [9615.357  4195.91  ]]\n",
      "Offside IDS:  [16]\n",
      "Player 16 is offside\n"
     ]
    },
    {
     "name": "stderr",
     "output_type": "stream",
     "text": [
      "Embedding extraction: 1it [00:02,  2.17s/it]\n"
     ]
    },
    {
     "name": "stdout",
     "output_type": "stream",
     "text": [
      "[[5845.5195 3983.708 ]\n",
      " [6850.99   6380.341 ]\n",
      " [8626.612  6069.066 ]\n",
      " [6881.898  4632.8403]\n",
      " [7862.7886 5039.432 ]\n",
      " [9594.2    4181.1855]\n",
      " [6393.554  5628.116 ]]\n",
      "Offside IDS:  [15]\n",
      "Player 15 is offside\n"
     ]
    },
    {
     "name": "stderr",
     "output_type": "stream",
     "text": [
      "Embedding extraction: 1it [00:02,  2.13s/it]\n"
     ]
    },
    {
     "name": "stdout",
     "output_type": "stream",
     "text": [
      "[[7579.954  5804.287 ]\n",
      " [6829.185  6391.4355]\n",
      " [6875.6396 4604.1694]\n",
      " [8604.786  6073.173 ]\n",
      " [5823.4883 3924.8284]\n",
      " [6379.3613 5601.835 ]\n",
      " [9595.639  4133.6655]\n",
      " [5932.525  1979.8136]\n",
      " [7849.7886 5009.801 ]]\n",
      "Offside IDS:  [14]\n",
      "Player 14 is offside\n"
     ]
    },
    {
     "name": "stderr",
     "output_type": "stream",
     "text": [
      "Embedding extraction: 1it [00:02,  2.22s/it]\n"
     ]
    },
    {
     "name": "stdout",
     "output_type": "stream",
     "text": [
      "[[6871.523  4619.0327]\n",
      " [8593.176  6076.5684]\n",
      " [6371.458  5664.918 ]\n",
      " [5823.2144 3925.0989]\n",
      " [7568.298  5811.006 ]\n",
      " [6811.1763 6406.8867]\n",
      " [5928.03   2049.3462]\n",
      " [9592.581  4117.46  ]\n",
      " [7853.2534 4985.4385]]\n",
      "Offside IDS:  [14]\n",
      "Player 14 is offside\n"
     ]
    },
    {
     "name": "stderr",
     "output_type": "stream",
     "text": [
      "Embedding extraction: 1it [00:02,  2.14s/it]\n"
     ]
    },
    {
     "name": "stdout",
     "output_type": "stream",
     "text": [
      "[[6872.2905 4619.2783]\n",
      " [8593.744  6076.587 ]\n",
      " [6372.1504 5665.308 ]\n",
      " [5823.941  3925.3782]\n",
      " [7568.988  5811.2056]\n",
      " [6811.847  6407.245 ]\n",
      " [5928.8594 2049.3713]\n",
      " [9593.087  4117.4316]\n",
      " [7853.973  4985.581 ]]\n",
      "Offside IDS:  [14]\n",
      "Player 14 is offside\n"
     ]
    },
    {
     "name": "stderr",
     "output_type": "stream",
     "text": [
      "Embedding extraction: 1it [00:02,  2.19s/it]\n"
     ]
    },
    {
     "name": "stdout",
     "output_type": "stream",
     "text": [
      "[[8687.016  5588.1562]\n",
      " [9580.584  4101.617 ]\n",
      " [6360.13   5671.3696]\n",
      " [6862.529  4613.5454]\n",
      " [8593.173  6057.9375]\n",
      " [5816.342  3927.0022]\n",
      " [7846.213  4992.4243]\n",
      " [7557.059  5796.943 ]\n",
      " [5906.5605 2051.0293]\n",
      " [6800.4297 6395.3667]\n",
      " [6121.2456 5789.6226]]\n",
      "Offside IDS:  [2]\n",
      "Player 2 is offside\n"
     ]
    },
    {
     "name": "stderr",
     "output_type": "stream",
     "text": [
      "Embedding extraction: 1it [00:02,  2.43s/it]\n"
     ]
    },
    {
     "name": "stdout",
     "output_type": "stream",
     "text": [
      "[[5824.4463 3961.0535]\n",
      " [7822.774  5017.472 ]\n",
      " [8563.674  6077.672 ]\n",
      " [6342.5913 5680.8276]\n",
      " [9538.81   4140.099 ]\n",
      " [6846.619  4638.7764]\n",
      " [6766.489  6388.2695]\n",
      " [7518.3135 5809.2695]\n",
      " [5906.3843 2119.121 ]\n",
      " [6126.9443 5789.616 ]]\n",
      "Offside IDS:  [8]\n",
      "Player 8 is offside\n"
     ]
    },
    {
     "name": "stderr",
     "output_type": "stream",
     "text": [
      "Embedding extraction: 1it [00:02,  2.36s/it]\n"
     ]
    },
    {
     "name": "stdout",
     "output_type": "stream",
     "text": [
      "[[7836.578  5014.0977]\n",
      " [8589.117  6078.1343]\n",
      " [5825.81   3967.1514]\n",
      " [9542.962  4158.678 ]\n",
      " [7528.5825 5800.1665]\n",
      " [6853.5015 4647.1934]\n",
      " [6772.22   6374.823 ]\n",
      " [6342.6255 5737.333 ]\n",
      " [6134.4307 5772.029 ]]\n",
      "Offside IDS:  [8]\n",
      "Player 8 is offside\n"
     ]
    },
    {
     "name": "stderr",
     "output_type": "stream",
     "text": [
      "Embedding extraction: 1it [00:02,  2.58s/it]\n"
     ]
    },
    {
     "name": "stdout",
     "output_type": "stream",
     "text": [
      "[[7822.526  5008.912 ]\n",
      " [6756.083  6360.5312]\n",
      " [5815.498  3992.0405]\n",
      " [6842.566  4627.527 ]\n",
      " [8576.405  6070.663 ]\n",
      " [7514.2163 5794.7935]\n",
      " [6316.3984 5731.692 ]\n",
      " [9525.942  4149.742 ]\n",
      " [5889.783  2143.9368]\n",
      " [6138.791  5774.0254]]\n",
      "Offside IDS:  [13]\n",
      "Player 13 is offside\n"
     ]
    },
    {
     "name": "stderr",
     "output_type": "stream",
     "text": [
      "Embedding extraction: 1it [00:02,  2.44s/it]\n"
     ]
    },
    {
     "name": "stdout",
     "output_type": "stream",
     "text": [
      "[[6732.974  6380.898 ]\n",
      " [7494.3794 5800.3193]\n",
      " [6830.083  4613.1753]\n",
      " [5810.7607 3993.0996]\n",
      " [8552.213  6078.4795]\n",
      " [6307.005  5784.1895]\n",
      " [6159.536  5784.4795]\n",
      " [5871.2075 2093.5408]\n",
      " [9503.94   4156.7905]]\n",
      "Offside IDS:  [17]\n",
      "Player 17 is offside\n"
     ]
    },
    {
     "name": "stderr",
     "output_type": "stream",
     "text": [
      "Embedding extraction: 1it [00:02,  2.75s/it]\n"
     ]
    },
    {
     "name": "stdout",
     "output_type": "stream",
     "text": [
      "[[6732.974  6380.898 ]\n",
      " [7494.3794 5800.3193]\n",
      " [6830.083  4613.1753]\n",
      " [5810.7607 3993.0996]\n",
      " [8552.213  6078.4795]\n",
      " [6307.005  5784.1895]\n",
      " [6159.536  5784.4795]\n",
      " [5871.2075 2093.5408]\n",
      " [9503.94   4156.7905]]\n",
      "Offside IDS:  [17]\n",
      "Player 17 is offside\n"
     ]
    },
    {
     "name": "stderr",
     "output_type": "stream",
     "text": [
      "Embedding extraction: 1it [00:02,  2.32s/it]\n"
     ]
    },
    {
     "name": "stdout",
     "output_type": "stream",
     "text": [
      "[[5816.184  3983.5603]\n",
      " [8521.403  6090.2827]\n",
      " [6706.517  6380.0596]\n",
      " [7789.5044 5011.495 ]\n",
      " [6819.0723 4642.0913]\n",
      " [5882.8516 2088.0808]\n",
      " [6153.9023 5762.6284]\n",
      " [6292.0576 5772.829 ]\n",
      " [9480.085  4155.9814]]\n",
      "Offside IDS:  []\n"
     ]
    },
    {
     "name": "stderr",
     "output_type": "stream",
     "text": [
      "Embedding extraction: 1it [00:02,  2.16s/it]\n"
     ]
    },
    {
     "name": "stdout",
     "output_type": "stream",
     "text": [
      "[[6819.777  4661.8804]\n",
      " [7463.751  5825.675 ]\n",
      " [5808.551  3991.8633]\n",
      " [6694.7495 6407.646 ]\n",
      " [7788.2725 5003.0254]\n",
      " [5865.8105 2090.9185]\n",
      " [6294.1616 5767.3438]\n",
      " [6158.719  5759.4785]\n",
      " [9473.039  4135.6216]]\n",
      "Offside IDS:  [17]\n",
      "Player 17 is offside\n"
     ]
    },
    {
     "name": "stderr",
     "output_type": "stream",
     "text": [
      "Embedding extraction: 1it [00:02,  2.09s/it]\n"
     ]
    },
    {
     "name": "stdout",
     "output_type": "stream",
     "text": [
      "[[8594.396  5597.99  ]\n",
      " [8499.473  6102.426 ]\n",
      " [5797.2783 3989.8481]\n",
      " [6800.0103 4678.781 ]\n",
      " [6657.5234 6412.6934]\n",
      " [7434.888  5837.9116]\n",
      " [5847.736  2121.2063]\n",
      " [7763.0303 5002.6367]\n",
      " [6281.9272 5779.1504]\n",
      " [9449.544  4137.0337]\n",
      " [6157.0693 5773.3013]]\n",
      "Offside IDS:  [15]\n",
      "Player 15 is offside\n"
     ]
    },
    {
     "name": "stderr",
     "output_type": "stream",
     "text": [
      "Embedding extraction: 1it [00:02,  2.12s/it]\n"
     ]
    },
    {
     "name": "stdout",
     "output_type": "stream",
     "text": [
      "[[6627.388  6405.197 ]\n",
      " [5794.794  3998.658 ]\n",
      " [8485.699  6110.841 ]\n",
      " [6789.4204 4681.7866]\n",
      " [7752.03   4984.3237]\n",
      " [5834.612  2126.6606]\n",
      " [9425.839  4153.535 ]\n",
      " [7410.2993 5833.305 ]\n",
      " [6157.383  5764.944 ]\n",
      " [6273.3647 5780.3916]]\n",
      "Offside IDS:  [12]\n",
      "Player 12 is offside\n"
     ]
    },
    {
     "name": "stderr",
     "output_type": "stream",
     "text": [
      "Embedding extraction: 1it [00:02,  2.07s/it]\n"
     ]
    },
    {
     "name": "stdout",
     "output_type": "stream",
     "text": [
      "[[5791.3027 4002.1355]\n",
      " [6609.347  6397.0796]\n",
      " [7745.4146 4988.706 ]\n",
      " [5826.506  2146.1956]\n",
      " [6783.3457 4675.3584]\n",
      " [7389.0757 5818.3643]\n",
      " [8477.322  6105.5015]\n",
      " [9411.094  4154.9775]\n",
      " [6149.232  5724.7466]\n",
      " [6268.0996 5788.2   ]]\n",
      "Offside IDS:  [14]\n",
      "Player 14 is offside\n"
     ]
    },
    {
     "name": "stderr",
     "output_type": "stream",
     "text": [
      "Embedding extraction: 1it [00:02,  2.18s/it]\n"
     ]
    },
    {
     "name": "stdout",
     "output_type": "stream",
     "text": [
      "[[5791.66   4002.4978]\n",
      " [6610.0913 6398.2534]\n",
      " [7747.139  4989.0264]\n",
      " [5827.22   2145.7441]\n",
      " [6784.5073 4675.826 ]\n",
      " [7390.4814 5818.9995]\n",
      " [8479.176  6105.7456]\n",
      " [9413.318  4154.909 ]\n",
      " [6149.6636 5725.8223]\n",
      " [6268.6357 5789.26  ]]\n",
      "Offside IDS:  [14]\n",
      "Player 14 is offside\n"
     ]
    },
    {
     "name": "stderr",
     "output_type": "stream",
     "text": [
      "Embedding extraction: 1it [00:02,  2.11s/it]\n"
     ]
    },
    {
     "name": "stdout",
     "output_type": "stream",
     "text": [
      "[[6604.5615 6397.9487]\n",
      " [7375.3076 5816.935 ]\n",
      " [6778.0557 4691.3916]\n",
      " [5824.467  2158.0596]\n",
      " [5783.934  3994.9792]\n",
      " [7740.7256 5006.51  ]\n",
      " [8467.517  6105.3496]\n",
      " [9400.717  4155.3994]\n",
      " [6158.7505 5752.7007]\n",
      " [6252.987  5810.2583]]\n",
      "Offside IDS:  [12]\n",
      "Player 12 is offside\n"
     ]
    },
    {
     "name": "stderr",
     "output_type": "stream",
     "text": [
      "Embedding extraction: 1it [00:02,  2.19s/it]\n"
     ]
    },
    {
     "name": "stdout",
     "output_type": "stream",
     "text": [
      "[[6588.233  6384.8594]\n",
      " [7358.844  5813.6206]\n",
      " [7724.4453 5019.7935]\n",
      " [8456.997  6091.6904]\n",
      " [5777.939  3990.293 ]\n",
      " [6772.136  4669.744 ]\n",
      " [5817.303  2150.9355]\n",
      " [9382.335  4148.2896]\n",
      " [6147.916  5749.272 ]\n",
      " [6239.926  5806.4966]]\n",
      "Offside IDS:  [11]\n",
      "Player 11 is offside\n"
     ]
    },
    {
     "name": "stderr",
     "output_type": "stream",
     "text": [
      "Embedding extraction: 1it [00:02,  2.07s/it]\n"
     ]
    },
    {
     "name": "stdout",
     "output_type": "stream",
     "text": [
      "[[7595.736  4669.6743]\n",
      " [7344.9585 5817.0884]\n",
      " [8440.869  6092.1675]\n",
      " [7712.9546 5011.253 ]\n",
      " [5777.9277 3970.731 ]\n",
      " [6770.131  4666.3447]\n",
      " [9370.784  4134.4507]\n",
      " [5807.3853 2153.4858]\n",
      " [6162.4478 5748.1626]\n",
      " [6233.3716 5812.047 ]]\n",
      "Offside IDS:  [11]\n",
      "Player 11 is offside\n"
     ]
    },
    {
     "name": "stderr",
     "output_type": "stream",
     "text": [
      "Embedding extraction: 1it [00:02,  2.08s/it]\n"
     ]
    },
    {
     "name": "stdout",
     "output_type": "stream",
     "text": [
      "[[6565.236  6392.3125]\n",
      " [7330.164  5823.346 ]\n",
      " [8443.772  6084.3774]\n",
      " [7713.627  5006.479 ]\n",
      " [5770.7964 3992.9155]\n",
      " [6762.577  4681.944 ]\n",
      " [5789.848  2154.6006]\n",
      " [9347.333  4146.083 ]\n",
      " [6155.3047 5748.382 ]\n",
      " [6228.196  5824.198 ]]\n",
      "Offside IDS:  [15]\n",
      "Player 15 is offside\n"
     ]
    },
    {
     "name": "stderr",
     "output_type": "stream",
     "text": [
      "Embedding extraction: 1it [00:02,  2.10s/it]\n"
     ]
    },
    {
     "name": "stdout",
     "output_type": "stream",
     "text": [
      "[[5772.694  3994.3447]\n",
      " [7309.627  5836.7036]\n",
      " [6757.4854 4683.697 ]\n",
      " [7707.462  5009.3906]\n",
      " [6548.7344 6402.7363]\n",
      " [5791.1084 2153.974 ]\n",
      " [9334.748  4147.998 ]\n",
      " [6228.9155 5827.89  ]\n",
      " [6152.156  5751.019 ]]\n",
      "Offside IDS:  [15]\n",
      "Player 15 is offside\n"
     ]
    },
    {
     "name": "stderr",
     "output_type": "stream",
     "text": [
      "Embedding extraction: 1it [00:02,  2.05s/it]\n"
     ]
    },
    {
     "name": "stdout",
     "output_type": "stream",
     "text": [
      "[[5772.694  3994.3447]\n",
      " [7309.627  5836.7036]\n",
      " [6757.4854 4683.697 ]\n",
      " [7707.462  5009.3906]\n",
      " [6548.7344 6402.7363]\n",
      " [5791.1084 2153.974 ]\n",
      " [9334.748  4147.998 ]\n",
      " [6228.9155 5827.89  ]\n",
      " [6152.156  5751.019 ]]\n",
      "Offside IDS:  [15]\n",
      "Player 15 is offside\n"
     ]
    },
    {
     "name": "stderr",
     "output_type": "stream",
     "text": [
      "Embedding extraction: 1it [00:02,  2.08s/it]\n"
     ]
    },
    {
     "name": "stdout",
     "output_type": "stream",
     "text": [
      "[[6082.0845 1547.6586]\n",
      " [6747.5835 4708.873 ]\n",
      " [5765.9414 4009.2915]\n",
      " [6520.176  6408.739 ]\n",
      " [7280.288  5845.6523]\n",
      " [5778.3564 2145.297 ]\n",
      " [6140.712  5743.2373]\n",
      " [7684.003  5008.5815]\n",
      " [9335.475  4097.573 ]\n",
      " [6213.138  5830.558 ]]\n",
      "Offside IDS:  [17]\n",
      "Player 17 is offside\n"
     ]
    },
    {
     "name": "stderr",
     "output_type": "stream",
     "text": [
      "Embedding extraction: 1it [00:02,  2.08s/it]\n"
     ]
    },
    {
     "name": "stdout",
     "output_type": "stream",
     "text": [
      "[[6729.555  4723.367 ]\n",
      " [5757.569  4007.9841]\n",
      " [7248.263  5838.4478]\n",
      " [6484.979  6400.346 ]\n",
      " [5767.5654 2209.9004]\n",
      " [7660.05   5003.674 ]\n",
      " [6130.871  5741.077 ]\n",
      " [6201.316  5827.9077]]\n",
      "Offside IDS:  []\n"
     ]
    },
    {
     "name": "stderr",
     "output_type": "stream",
     "text": [
      "Embedding extraction: 1it [00:02,  2.13s/it]\n"
     ]
    },
    {
     "name": "stdout",
     "output_type": "stream",
     "text": [
      "[[6471.5527 6392.7324]\n",
      " [7227.7046 5830.0103]\n",
      " [5758.9355 4004.9138]\n",
      " [5766.248  2208.1145]\n",
      " [6717.092  4734.8926]\n",
      " [7653.939  4998.583 ]\n",
      " [9300.452  4086.345 ]\n",
      " [6132.9907 5737.0625]\n",
      " [6190.76   5832.7305]]\n",
      "Offside IDS:  [15]\n",
      "Player 15 is offside\n"
     ]
    },
    {
     "name": "stderr",
     "output_type": "stream",
     "text": [
      "Embedding extraction: 1it [00:02,  2.06s/it]\n"
     ]
    },
    {
     "name": "stdout",
     "output_type": "stream",
     "text": [
      "[[6461.76   6380.979 ]\n",
      " [5761.142  2207.2117]\n",
      " [8355.817  6143.004 ]\n",
      " [5752.053  3983.1738]\n",
      " [7650.6904 4997.9004]\n",
      " [7215.9087 5840.2583]\n",
      " [6706.4575 4732.9   ]\n",
      " [6137.6816 5714.258 ]\n",
      " [9276.161  4132.6416]\n",
      " [6181.695  5911.1846]]\n",
      "Offside IDS:  [15]\n",
      "Player 15 is offside\n"
     ]
    },
    {
     "name": "stderr",
     "output_type": "stream",
     "text": [
      "Embedding extraction: 1it [00:02,  2.08s/it]\n"
     ]
    },
    {
     "name": "stdout",
     "output_type": "stream",
     "text": [
      "[[6452.74   6375.9727]\n",
      " [7213.43   5833.4556]\n",
      " [7650.6514 5008.28  ]\n",
      " [8359.667  6132.8086]\n",
      " [5753.525  4003.6626]\n",
      " [5756.326  2239.6897]\n",
      " [6698.766  4727.4805]\n",
      " [6142.8716 5713.61  ]\n",
      " [9265.332  4120.45  ]\n",
      " [6186.1895 5943.9272]]\n",
      "Offside IDS:  [14]\n",
      "Player 14 is offside\n"
     ]
    },
    {
     "name": "stderr",
     "output_type": "stream",
     "text": [
      "Embedding extraction: 1it [00:02,  2.09s/it]\n"
     ]
    },
    {
     "name": "stdout",
     "output_type": "stream",
     "text": [
      "[[6454.1055 6376.028 ]\n",
      " [7214.5327 5833.55  ]\n",
      " [7651.484  5008.4663]\n",
      " [8360.64   6132.724 ]\n",
      " [5754.164  4004.0237]\n",
      " [5756.3623 2239.858 ]\n",
      " [6699.611  4727.764 ]\n",
      " [6144.0635 5713.8247]\n",
      " [9265.765  4120.6123]\n",
      " [6187.451  5944.099 ]]\n",
      "Offside IDS:  [14]\n",
      "Player 14 is offside\n"
     ]
    },
    {
     "name": "stderr",
     "output_type": "stream",
     "text": [
      "Embedding extraction: 1it [00:02,  2.04s/it]\n"
     ]
    },
    {
     "name": "stdout",
     "output_type": "stream",
     "text": [
      "[[6450.477  6382.76  ]\n",
      " [7668.2104 4992.463 ]\n",
      " [7229.8145 5810.2114]\n",
      " [5765.445  4030.5479]\n",
      " [6712.47   4704.2935]\n",
      " [8383.999  6110.583 ]\n",
      " [5767.756  2255.9712]\n",
      " [9280.66   4089.2478]\n",
      " [6154.867  5715.3613]]\n",
      "Offside IDS:  [14]\n",
      "Player 14 is offside\n"
     ]
    },
    {
     "name": "stderr",
     "output_type": "stream",
     "text": [
      "Embedding extraction: 1it [00:02,  2.14s/it]\n"
     ]
    },
    {
     "name": "stdout",
     "output_type": "stream",
     "text": [
      "[[6427.045  6376.753 ]\n",
      " [7657.2266 4992.445 ]\n",
      " [6695.3755 4704.1284]\n",
      " [5751.68   4033.1792]\n",
      " [8377.002  6108.6826]\n",
      " [7207.578  5818.8926]\n",
      " [6188.673  5943.9287]\n",
      " [5747.5635 2230.4822]\n",
      " [9258.344  4088.5117]]\n",
      "Offside IDS:  [18]\n",
      "Player 18 is offside\n"
     ]
    },
    {
     "name": "stderr",
     "output_type": "stream",
     "text": [
      "Embedding extraction: 1it [00:02,  2.44s/it]\n"
     ]
    },
    {
     "name": "stdout",
     "output_type": "stream",
     "text": [
      "[[6688.6226 4747.908 ]\n",
      " [6405.511  6381.0894]\n",
      " [7647.0645 5015.364 ]\n",
      " [5757.3115 4045.3657]\n",
      " [8370.587  6111.428 ]\n",
      " [5746.599  2238.0999]\n",
      " [6153.448  5714.0127]\n",
      " [7190.098  5835.6655]\n",
      " [9245.951  4091.7773]\n",
      " [6191.5835 5954.6562]]\n",
      "Offside IDS:  [17]\n",
      "Player 17 is offside\n"
     ]
    },
    {
     "name": "stderr",
     "output_type": "stream",
     "text": [
      "Embedding extraction: 1it [00:02,  2.29s/it]\n"
     ]
    },
    {
     "name": "stdout",
     "output_type": "stream",
     "text": [
      "[[6678.321  4741.9146]\n",
      " [8355.929  6120.0166]\n",
      " [5753.5225 4040.283 ]\n",
      " [6372.865  6373.885 ]\n",
      " [7153.2373 5839.1846]\n",
      " [7636.8    5009.3633]\n",
      " [5741.7544 2232.754 ]\n",
      " [9233.859  4082.0562]\n",
      " [6147.9404 5686.3833]\n",
      " [6183.2227 5951.4893]]\n",
      "Offside IDS:  [16]\n",
      "Player 16 is offside\n"
     ]
    },
    {
     "name": "stderr",
     "output_type": "stream",
     "text": [
      "Embedding extraction: 1it [00:02,  2.36s/it]\n"
     ]
    },
    {
     "name": "stdout",
     "output_type": "stream",
     "text": [
      "[[5749.2676 4042.4153]\n",
      " [6359.339  6366.755 ]\n",
      " [6665.8457 4757.345 ]\n",
      " [8337.544  6125.1494]\n",
      " [5732.3994 2235.3926]\n",
      " [7118.453  5829.6045]\n",
      " [7618.703  4986.847 ]\n",
      " [6184.2793 5949.013 ]\n",
      " [6146.493  5684.3364]\n",
      " [9208.94   4097.2905]]\n",
      "Offside IDS:  [19]\n",
      "Player 19 is offside\n"
     ]
    },
    {
     "name": "stderr",
     "output_type": "stream",
     "text": [
      "Embedding extraction: 1it [00:02,  2.36s/it]\n"
     ]
    },
    {
     "name": "stdout",
     "output_type": "stream",
     "text": [
      "[[5748.086  4042.5364]\n",
      " [6358.7227 6366.9556]\n",
      " [6665.268  4757.4517]\n",
      " [8337.6    6124.8525]\n",
      " [5731.0317 2235.0955]\n",
      " [7118.1455 5829.6323]\n",
      " [7618.54   4986.816 ]\n",
      " [6183.537  5949.257 ]\n",
      " [6145.7075 5684.5796]\n",
      " [9209.107  4097.143 ]]\n",
      "Offside IDS:  [19]\n",
      "Player 19 is offside\n"
     ]
    },
    {
     "name": "stderr",
     "output_type": "stream",
     "text": [
      "Embedding extraction: 1it [00:02,  2.31s/it]\n"
     ]
    },
    {
     "name": "stdout",
     "output_type": "stream",
     "text": [
      "[[6339.7305 6368.986 ]\n",
      " [5737.0454 4045.1458]\n",
      " [5722.151  2235.686 ]\n",
      " [8312.18   6141.332 ]\n",
      " [7594.9683 4989.7393]\n",
      " [9189.909  4101.3965]\n",
      " [6637.698  4775.9414]\n",
      " [6140.8643 5677.132 ]\n",
      " [6168.3154 5951.991 ]]\n",
      "Offside IDS:  [13]\n",
      "Player 13 is offside\n"
     ]
    },
    {
     "name": "stderr",
     "output_type": "stream",
     "text": [
      "Embedding extraction: 1it [00:02,  2.23s/it]\n"
     ]
    },
    {
     "name": "stdout",
     "output_type": "stream",
     "text": [
      "[[7074.4985 5822.341 ]\n",
      " [5732.4385 4028.8518]\n",
      " [6615.1323 4778.984 ]\n",
      " [9146.739  4128.2134]\n",
      " [8281.825  6154.4385]\n",
      " [7569.7715 5010.55  ]\n",
      " [5721.009  2263.1309]\n",
      " [6133.3276 5707.123 ]\n",
      " [6167.048  5947.2095]]\n",
      "Offside IDS:  [9]\n",
      "Player 9 is offside\n"
     ]
    },
    {
     "name": "stderr",
     "output_type": "stream",
     "text": [
      "Embedding extraction: 1it [00:02,  2.07s/it]\n"
     ]
    },
    {
     "name": "stdout",
     "output_type": "stream",
     "text": [
      "[[6312.411  6309.238 ]\n",
      " [7061.9297 5815.53  ]\n",
      " [5731.5483 4028.9333]\n",
      " [9146.044  4118.396 ]\n",
      " [7565.0273 5021.328 ]\n",
      " [6610.8706 4775.3994]\n",
      " [5722.2188 2265.8965]\n",
      " [8278.928  6158.399 ]\n",
      " [6138.023  5718.774 ]]\n",
      "Offside IDS:  [8]\n",
      "Player 8 is offside\n"
     ]
    },
    {
     "name": "stderr",
     "output_type": "stream",
     "text": [
      "Embedding extraction: 1it [00:02,  2.21s/it]\n"
     ]
    },
    {
     "name": "stdout",
     "output_type": "stream",
     "text": [
      "[[6284.537  6301.8647]\n",
      " [7033.805  5833.72  ]\n",
      " [7558.9053 5001.2007]\n",
      " [6602.1646 4773.115 ]\n",
      " [5730.359  4049.902 ]\n",
      " [9126.244  4111.457 ]\n",
      " [8257.992  6151.9214]\n",
      " [5712.4585 2266.2927]\n",
      " [6160.283  5943.102 ]]\n",
      "Offside IDS:  [10]\n",
      "Player 10 is offside\n"
     ]
    },
    {
     "name": "stderr",
     "output_type": "stream",
     "text": [
      "Embedding extraction: 1it [00:01,  1.98s/it]\n"
     ]
    },
    {
     "name": "stdout",
     "output_type": "stream",
     "text": [
      "[[7555.4873 4997.677 ]\n",
      " [6596.693  4773.545 ]\n",
      " [7012.5093 5839.513 ]\n",
      " [6259.8037 6306.605 ]\n",
      " [5722.205  4094.8577]\n",
      " [5700.7666 2270.792 ]\n",
      " [8246.614  6140.5186]\n",
      " [9124.762  4080.3733]\n",
      " [6158.815  5944.1943]]\n",
      "Offside IDS:  [15]\n",
      "Player 15 is offside\n"
     ]
    },
    {
     "name": "stderr",
     "output_type": "stream",
     "text": [
      "Embedding extraction: 1it [00:02,  2.27s/it]\n"
     ]
    },
    {
     "name": "stdout",
     "output_type": "stream",
     "text": [
      "[[7555.4873 4997.677 ]\n",
      " [6596.693  4773.545 ]\n",
      " [7012.5093 5839.513 ]\n",
      " [6259.8037 6306.605 ]\n",
      " [5722.205  4094.8577]\n",
      " [5700.7666 2270.792 ]\n",
      " [8246.614  6140.5186]\n",
      " [9124.762  4080.3733]\n",
      " [6158.815  5944.1943]]\n",
      "Offside IDS:  [15]\n",
      "Player 15 is offside\n"
     ]
    },
    {
     "name": "stderr",
     "output_type": "stream",
     "text": [
      "Embedding extraction: 1it [00:01,  1.85s/it]\n"
     ]
    },
    {
     "name": "stdout",
     "output_type": "stream",
     "text": [
      "[[6583.495  4778.272 ]\n",
      " [7543.801  5002.5513]\n",
      " [5722.4854 4102.9653]\n",
      " [6242.205  6315.029 ]\n",
      " [5695.7905 2277.955 ]\n",
      " [8228.851  6142.924 ]\n",
      " [6980.2695 5838.435 ]\n",
      " [9097.447  4106.2305]\n",
      " [6162.3247 5948.537 ]]\n",
      "Offside IDS:  [16]\n",
      "Player 16 is offside\n"
     ]
    },
    {
     "name": "stderr",
     "output_type": "stream",
     "text": [
      "Embedding extraction: 1it [00:01,  1.96s/it]\n"
     ]
    },
    {
     "name": "stdout",
     "output_type": "stream",
     "text": [
      "[[6226.4717 6307.954 ]\n",
      " [6567.2524 4798.0146]\n",
      " [5712.7705 4107.4204]\n",
      " [5677.471  2311.656 ]\n",
      " [8210.501  6154.1826]\n",
      " [7532.5947 5004.503 ]\n",
      " [6951.7866 5825.1074]\n",
      " [6133.7485 5705.0283]\n",
      " [9081.302  4105.735 ]]\n",
      "Offside IDS:  [18]\n",
      "Player 18 is offside\n"
     ]
    },
    {
     "name": "stderr",
     "output_type": "stream",
     "text": [
      "Embedding extraction: 1it [00:02,  2.01s/it]\n"
     ]
    },
    {
     "name": "stdout",
     "output_type": "stream",
     "text": [
      "[[6208.5083 6295.032 ]\n",
      " [5701.7954 4109.6304]\n",
      " [5663.0815 2292.7676]\n",
      " [8207.095  6142.2217]\n",
      " [6936.2363 5817.3794]\n",
      " [6542.574  4808.228 ]\n",
      " [6124.5317 5702.894 ]\n",
      " [7516.1704 4992.9424]]\n",
      "Offside IDS:  []\n"
     ]
    },
    {
     "name": "stderr",
     "output_type": "stream",
     "text": [
      "Embedding extraction: 1it [00:02,  2.05s/it]\n"
     ]
    },
    {
     "name": "stdout",
     "output_type": "stream",
     "text": [
      "[[6194.4717 6282.622 ]\n",
      " [5697.8467 4110.559 ]\n",
      " [8189.878  6164.668 ]\n",
      " [5654.6064 2325.7551]\n",
      " [6916.3784 5826.923 ]\n",
      " [6526.326  4806.5513]\n",
      " [7499.422  4991.018 ]\n",
      " [9048.447  4083.    ]\n",
      " [6149.6885 5929.9507]\n",
      " [6126.4487 5474.9873]]\n",
      "Offside IDS:  [17]\n",
      "Player 17 is offside\n"
     ]
    },
    {
     "name": "stderr",
     "output_type": "stream",
     "text": [
      "Embedding extraction: 1it [00:01,  1.92s/it]\n"
     ]
    },
    {
     "name": "stdout",
     "output_type": "stream",
     "text": [
      "[[5688.4854 4126.3877]\n",
      " [6175.694  6271.5913]\n",
      " [8175.     6176.672 ]\n",
      " [6890.405  5856.535 ]\n",
      " [5638.373  2339.2993]\n",
      " [7480.917  4996.767 ]\n",
      " [6497.5176 4815.0728]\n",
      " [6116.9624 5691.3696]\n",
      " [9037.91   4085.872 ]]\n",
      "Offside IDS:  [15]\n",
      "Player 15 is offside\n"
     ]
    },
    {
     "name": "stderr",
     "output_type": "stream",
     "text": [
      "Embedding extraction: 1it [00:01,  1.90s/it]\n"
     ]
    },
    {
     "name": "stdout",
     "output_type": "stream",
     "text": [
      "[[5688.295  4126.303 ]\n",
      " [6175.3174 6270.94  ]\n",
      " [8174.5737 6176.5264]\n",
      " [6889.985  5856.183 ]\n",
      " [5638.2656 2339.5413]\n",
      " [7480.5796 4996.7354]\n",
      " [6497.203  4814.9263]\n",
      " [6116.63   5690.906 ]\n",
      " [9037.949  4086.1538]]\n",
      "Offside IDS:  [15]\n",
      "Player 15 is offside\n"
     ]
    },
    {
     "name": "stderr",
     "output_type": "stream",
     "text": [
      "Embedding extraction: 1it [00:01,  1.90s/it]\n"
     ]
    },
    {
     "name": "stdout",
     "output_type": "stream",
     "text": [
      "[[6227.7305 5543.629 ]\n",
      " [5688.4395 4125.668 ]\n",
      " [6875.5786 5872.0957]\n",
      " [6163.074  6276.8384]\n",
      " [6485.952  4808.7285]\n",
      " [5632.88   2340.1604]\n",
      " [7484.1016 4988.3364]\n",
      " [9036.255  4071.9463]\n",
      " [6116.494  5664.183 ]]\n",
      "Offside IDS:  [12]\n",
      "Player 12 is offside\n"
     ]
    },
    {
     "name": "stderr",
     "output_type": "stream",
     "text": [
      "Embedding extraction: 1it [00:01,  1.95s/it]\n"
     ]
    },
    {
     "name": "stdout",
     "output_type": "stream",
     "text": [
      "[[8170.914  6180.3794]\n",
      " [6477.7383 4805.902 ]\n",
      " [5684.171  4125.649 ]\n",
      " [5627.1436 2340.7178]\n",
      " [7478.809  5000.6943]\n",
      " [6859.5986 5878.312 ]\n",
      " [6143.113  6281.6035]\n",
      " [6114.9966 5675.3335]]\n",
      "Offside IDS:  []\n"
     ]
    },
    {
     "name": "stderr",
     "output_type": "stream",
     "text": [
      "Embedding extraction: 1it [00:02,  2.04s/it]\n"
     ]
    },
    {
     "name": "stdout",
     "output_type": "stream",
     "text": [
      "[[9018.359  4066.559 ]\n",
      " [5673.313  4104.1406]\n",
      " [5615.3623 2339.3206]\n",
      " [7467.3003 5000.2163]\n",
      " [8152.409  6177.733 ]\n",
      " [6465.1753 4804.4893]\n",
      " [6830.997  5873.1006]\n",
      " [6127.844  6267.6406]\n",
      " [6110.658  5661.608 ]\n",
      " [6137.8667 5902.8174]]\n",
      "Offside IDS:  [0]\n",
      "Player 0 is offside\n"
     ]
    },
    {
     "name": "stderr",
     "output_type": "stream",
     "text": [
      "Embedding extraction: 1it [00:02,  2.06s/it]\n"
     ]
    },
    {
     "name": "stdout",
     "output_type": "stream",
     "text": [
      "[[5667.1533 4102.394 ]\n",
      " [7452.258  5000.4565]\n",
      " [6449.3745 4836.936 ]\n",
      " [8128.4062 6191.6035]\n",
      " [6795.6646 5870.009 ]\n",
      " [5609.9336 2337.3818]\n",
      " [6107.866  6266.4644]\n",
      " [6109.344  5548.9917]\n",
      " [6146.448  5790.5684]]\n",
      "Offside IDS:  []\n"
     ]
    },
    {
     "name": "stderr",
     "output_type": "stream",
     "text": [
      "Embedding extraction: 1it [00:02,  2.17s/it]\n"
     ]
    },
    {
     "name": "stdout",
     "output_type": "stream",
     "text": [
      "[[5656.812  4104.2515]\n",
      " [7443.7075 5000.89  ]\n",
      " [6436.419  4853.815 ]\n",
      " [5594.9316 2338.3801]\n",
      " [8121.578  6189.6914]\n",
      " [6780.7817 5866.8076]\n",
      " [8982.656  4089.9712]\n",
      " [6094.3867 6261.125 ]\n",
      " [6147.157  5927.6465]\n",
      " [6107.0083 5817.9004]]\n",
      "Offside IDS:  [13]\n",
      "Player 13 is offside\n"
     ]
    },
    {
     "name": "stderr",
     "output_type": "stream",
     "text": [
      "Embedding extraction: 1it [00:02,  2.11s/it]\n"
     ]
    },
    {
     "name": "stdout",
     "output_type": "stream",
     "text": [
      "[[5656.812  4104.2515]\n",
      " [7443.7075 5000.89  ]\n",
      " [6436.419  4853.815 ]\n",
      " [5594.9316 2338.3801]\n",
      " [8121.578  6189.6914]\n",
      " [6780.7817 5866.8076]\n",
      " [8982.656  4089.9712]\n",
      " [6096.219  6261.465 ]\n",
      " [6147.157  5927.6465]\n",
      " [6107.0083 5817.9004]]\n",
      "Offside IDS:  [13]\n",
      "Player 13 is offside\n"
     ]
    },
    {
     "name": "stderr",
     "output_type": "stream",
     "text": [
      "Embedding extraction: 1it [00:02,  2.07s/it]\n"
     ]
    },
    {
     "name": "stdout",
     "output_type": "stream",
     "text": [
      "[[7432.5933 4994.4023]\n",
      " [5639.636  4080.29  ]\n",
      " [6754.301  5897.0283]\n",
      " [5591.328  2337.9602]\n",
      " [8968.911  4077.525 ]\n",
      " [8119.334  6174.042 ]\n",
      " [6409.4263 4863.8413]\n",
      " [6141.816  5927.056 ]\n",
      " [6069.094  6168.836 ]\n",
      " [6102.693  5585.976 ]]\n",
      "Offside IDS:  [10]\n",
      "Player 10 is offside\n"
     ]
    },
    {
     "name": "stderr",
     "output_type": "stream",
     "text": [
      "Embedding extraction: 1it [00:02,  2.14s/it]\n"
     ]
    },
    {
     "name": "stdout",
     "output_type": "stream",
     "text": [
      "[[6721.852  5956.6943]\n",
      " [6040.5615 6207.624 ]\n",
      " [5596.6216 2328.918 ]\n",
      " [5629.2437 4073.6626]\n",
      " [7406.084  5023.156 ]\n",
      " [6382.4663 4874.6484]\n",
      " [8099.7524 6256.8657]\n",
      " [8933.323  4105.418 ]\n",
      " [6131.133  5966.908 ]\n",
      " [6095.258  5594.4775]]\n",
      "Offside IDS:  [13]\n",
      "Player 13 is offside\n"
     ]
    }
   ],
   "source": [
    "crops = extract_crops(SOURCE_VIDEO_PATH)\n",
    "team_classifier = TeamClassifier()\n",
    "team_classifier.fit(crops)\n",
    "\n",
    "# Track newly detected instances of players/balls\n",
    "tracker = sv.ByteTrack()\n",
    "tracker.reset()\n",
    "\n",
    "# Create video source and where to store completed video\n",
    "video_info = sv.VideoInfo.from_video_path(SOURCE_VIDEO_PATH)\n",
    "video_sink = sv.VideoSink(TARGET_VIDEO_PATH, video_info=video_info)\n",
    "\n",
    "# For testing only grab a single frame and draw on it for results\n",
    "frame_generator = sv.get_video_frames_generator(source_path=SOURCE_VIDEO_PATH)\n",
    "\n",
    "# Only difference between offside and offside-video is the loop to run logic on every frame of video\n",
    "with video_sink:\n",
    "    for frame in frame_generator:\n",
    "\n",
    "        # Run player detection model\n",
    "        player_result = PLAYER_DETECTION_MODEL.infer(frame, confidence=0.3)[0]\n",
    "        player_detections = sv.Detections.from_inference(player_result)\n",
    "\n",
    "        # Run pitch detection model\n",
    "        pitch_result = PITCH_DETECTION_MODEL.infer(frame, confidence=0.3)[0]\n",
    "        key_points = sv.KeyPoints.from_inference(pitch_result)\n",
    "\n",
    "        # Get detections for ball from each frame\n",
    "        ball_detections = player_detections[player_detections.class_id == BALL_ID]\n",
    "        ball_detections.xyxy = sv.pad_boxes(xyxy=ball_detections.xyxy, px=10)\n",
    "\n",
    "        # Set all detections to not include ball\n",
    "        # Remove overlapping detections\n",
    "        # Adjust class id of all remaining detections by 1\n",
    "        # Add tracker to all detections besides ball \n",
    "        all_detections = player_detections[player_detections.class_id != BALL_ID]\n",
    "        all_detections = all_detections.with_nmm(threshold=0.5, class_agnostic=True)\n",
    "        all_detections = tracker.update_with_detections(all_detections)\n",
    "\n",
    "        \n",
    "        # Define player, goalkeeper and referees from within all_detections\n",
    "        players_detections = all_detections[all_detections.class_id == PLAYER_ID]\n",
    "        goalkeepers_detections = all_detections[all_detections.class_id == GOALKEEPER_ID]\n",
    "        referee_detections = all_detections[all_detections.class_id == REFEREE_ID]\n",
    "\n",
    "        referee_detections.class_id -= 1\n",
    "\n",
    "        # Crop images of each player and predict their team\n",
    "        player_crops = [sv.crop_image(frame, xyxy) for xyxy in players_detections.xyxy]\n",
    "        players_detections.class_id = team_classifier.predict(player_crops)\n",
    "\n",
    "        # Resolve goalkeeper teams by finding closest distance from average team position\n",
    "        goalkeepers_detections.class_id = resolve_goalkeepers_team_id(players_detections, goalkeepers_detections)\n",
    "\n",
    "        \n",
    "        # Filter out keypoints with confidence less than 0.5\n",
    "        # Create new object with filtered key points\n",
    "        # Create new KeyPoints object with new key point positions\n",
    "        # Filter out low confidence pitch reference points\n",
    "        filter = key_points.confidence[0] > 0.5\n",
    "        frame_reference_points = key_points.xy[0][filter]\n",
    "        frame_reference_key_points = sv.KeyPoints(xy=frame_reference_points[np.newaxis, ...])\n",
    "        pitch_reference_points = np.array(CONFIG.vertices)[filter]\n",
    "\n",
    "        # Pass pitch_reference_Points and frame_reference_points to do transformation\n",
    "        view_transformer = ViewTransformer(\n",
    "            source=pitch_reference_points,\n",
    "            target=frame_reference_points,    \n",
    "        )\n",
    "\n",
    "        # Gather all the points together\n",
    "        # Create new KeyPoints object\n",
    "        pitch_all_points = np.array(CONFIG.vertices)\n",
    "        frame_all_points = view_transformer.transform_points(pitch_all_points)\n",
    "        frame_all_key_points = sv.KeyPoints(xy=frame_all_points[np.newaxis, ...])\n",
    "\n",
    "        # 2D Plane X is from 0 - 12000\n",
    "        # Pass pitch_reference_Points and frame_reference_points to do transformation\n",
    "        view_transformer = ViewTransformer(\n",
    "            source=frame_reference_points,\n",
    "            target=pitch_reference_points,    \n",
    "        )\n",
    "\n",
    "        # Get position of ball on a frame\n",
    "        # Frame (x,y) is captured image\n",
    "        # Pitch (x,y) is position of ball on 2D plane\n",
    "        # Transform position to 2D plane\n",
    "        # Same for players and referees\n",
    "        frame_ball_xy = ball_detections.get_anchors_coordinates(sv.Position.BOTTOM_CENTER)\n",
    "        pitch_ball_xy = view_transformer.transform_points(frame_ball_xy)\n",
    "\n",
    "        frame_player_xy = players_detections.get_anchors_coordinates(sv.Position.BOTTOM_CENTER)\n",
    "        pitch_players_xy = view_transformer.transform_points(frame_player_xy)\n",
    "\n",
    "        frame_referee_xy = referee_detections.get_anchors_coordinates(sv.Position.BOTTOM_CENTER)\n",
    "        pitch_referee_xy = view_transformer.transform_points(frame_referee_xy)\n",
    "\n",
    "        # Detect Offside Players\n",
    "        # Get list of ids -- index of offside player will be 4\n",
    "        # Store new list of ids in players_detections class ids\n",
    "        player_detections.class_id = resolve_offside_player(players_detections, pitch_players_xy)\n",
    "\n",
    "        # Redefine all_detections to merge players and goalkeepers\n",
    "        all_detections = sv.Detections.merge([players_detections, goalkeepers_detections, referee_detections])\n",
    "\n",
    "        # Ensure class_id values are integers\n",
    "        all_detections.class_id = np.array(all_detections.class_id, dtype=int)\n",
    "\n",
    "        # Update tracker label\n",
    "        # Add id to each object being tracked\n",
    "        labels = [\n",
    "            \"Offsides\" if class_id == 4 else f\"#{tracker_id}\"\n",
    "            for tracker_id, class_id in zip(all_detections.tracker_id, all_detections.class_id)\n",
    "        ]\n",
    "\n",
    "        # Set annotated frame to current frame\n",
    "        # Add ellipise & label annotator to all detections (contains players & goalkeepers)\n",
    "        # Add triangle annotator to ball detections\n",
    "        annotated_frame = frame.copy()\n",
    "        annotated_frame = ellipse_annotator.annotate(annotated_frame, all_detections)\n",
    "        annotated_frame = label_annotator.annotate(annotated_frame, all_detections, labels=labels)\n",
    "        annotated_frame = triangle_annotator.annotate(annotated_frame, ball_detections)\n",
    "\n",
    "        # Plot single frame image for testing results\n",
    "        video_sink.write_frame(annotated_frame)\n",
    "\n"
   ]
  }
 ],
 "metadata": {
  "kernelspec": {
   "display_name": "Python 3",
   "language": "python",
   "name": "python3"
  },
  "language_info": {
   "codemirror_mode": {
    "name": "ipython",
    "version": 3
   },
   "file_extension": ".py",
   "mimetype": "text/x-python",
   "name": "python",
   "nbconvert_exporter": "python",
   "pygments_lexer": "ipython3",
   "version": "3.9.13"
  }
 },
 "nbformat": 4,
 "nbformat_minor": 2
}
